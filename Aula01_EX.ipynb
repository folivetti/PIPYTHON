{
 "metadata": {
  "name": "",
  "signature": "sha256:360f10998b6c95b6398000de960910726807f939510f4d9474b6eb8d73dc302c"
 },
 "nbformat": 3,
 "nbformat_minor": 0,
 "worksheets": [
  {
   "cells": [
    {
     "cell_type": "markdown",
     "metadata": {},
     "source": [
      "**Exerc\u00edcio 1:** Dadas as seguintes vari\u00e1veis\n",
      "\n",
      "```python\n",
      "segundos = 19\n",
      "media = 2.1\n",
      "letraO = 'o'\n",
      "```\n",
      "\n",
      "Qual ser\u00e1 o resultado das seguintes opera\u00e7\u00f5es:\n",
      "\n",
      "```python\n",
      "segundos/2\n",
      "segundos/2.0\n",
      "media/3\n",
      "(segundos + media)/2\n",
      "letraO*10+'la'\n",
      "```\n",
      "\n",
      "Utilize o interpretador do Notebook para verificar as respostas"
     ]
    },
    {
     "cell_type": "code",
     "collapsed": false,
     "input": [
      "segundos = 19\n",
      "media = 2.1\n",
      "letraO = 'o'"
     ],
     "language": "python",
     "metadata": {},
     "outputs": [],
     "prompt_number": 6
    },
    {
     "cell_type": "markdown",
     "metadata": {},
     "source": [
      "**Exerc\u00edcio 2:** Fa\u00e7a um algoritmo para calcular o volume de uma esfera dado por\n",
      "\n",
      "$$\\frac{4}{3} \\cdot \\pi \\cdot r^{3}$$\n",
      "\n",
      "Pegue o valor de *r* do usu\u00e1rio."
     ]
    },
    {
     "cell_type": "code",
     "collapsed": false,
     "input": [
      "# EX02"
     ],
     "language": "python",
     "metadata": {},
     "outputs": [],
     "prompt_number": 1
    },
    {
     "cell_type": "markdown",
     "metadata": {},
     "source": [
      "**Exerc\u00edcio 3:** Supondo que o pre\u00e7o do rod\u00edzio de uma churrascaria est\u00e1 R\\$ 48,50 por pessoa. Eles oferecem um desconto de 25\\% para grupos maiores que 20 e o cobrado pelo couvert \u00e9 R\\$ 4,00 para a primeira pessoa e R\\$ 1,00 para as pessoas seguintes.\n",
      "Calcule quantos reais um grupo de 35 pessoas economizar\u00e1 ao se juntarem."
     ]
    },
    {
     "cell_type": "code",
     "collapsed": false,
     "input": [
      "# EX03"
     ],
     "language": "python",
     "metadata": {},
     "outputs": [],
     "prompt_number": 2
    },
    {
     "cell_type": "markdown",
     "metadata": {},
     "source": [
      "**Exerc\u00edcio 4:** Se eu sair de minha casa as 06:30, correr 1 km na velocidade 10 m/s, 2 km na velocidade de 20 m/s e mais 1,5 km em 15 m/s, retornando em casa. Que horas eu chegarei para o caf\u00e9 da manh\u00e3?"
     ]
    },
    {
     "cell_type": "code",
     "collapsed": false,
     "input": [
      "# EX04"
     ],
     "language": "python",
     "metadata": {},
     "outputs": [],
     "prompt_number": 3
    },
    {
     "cell_type": "markdown",
     "metadata": {},
     "source": [
      "**Exerc\u00edcio 5:** Fa\u00e7a um algoritmo que obtenha valores de a, b, c do usu\u00e1rio e calcule as ra\u00edzes da equa\u00e7\u00e3o do segundo grau $a \\cdot x^{2} + b \\cdot x + c$.\n",
      "\n",
      "Em seguida, utilize a biblioteca sympy para obter as ra\u00edzes. Verifique como fazer isso atrav\u00e9s do [tutorial](http://nbviewer.ipython.org/github/jrjohansson/scientific-python-lectures/blob/master/Lecture-5-Sympy.ipynb)."
     ]
    },
    {
     "cell_type": "code",
     "collapsed": false,
     "input": [
      "# EX05\n"
     ],
     "language": "python",
     "metadata": {},
     "outputs": [],
     "prompt_number": 4
    },
    {
     "cell_type": "markdown",
     "metadata": {},
     "source": [
      "**Exerc\u00edcio 6:** Dado os valores de *x* e *y* e um valor de $0 \\leq w \\leq 1$, todos eles digitado pelo usu\u00e1rio, determine a m\u00e9dia ponderada dada por $w \\cdot x + (1.0 - w) \\cdot y$."
     ]
    },
    {
     "cell_type": "code",
     "collapsed": false,
     "input": [
      "# EX06\n"
     ],
     "language": "python",
     "metadata": {},
     "outputs": [],
     "prompt_number": 5
    },
    {
     "cell_type": "markdown",
     "metadata": {},
     "source": [
      "**Exerc\u00edcio 7:** Dado o c\u00f3digo abaixo que utiliza as bibliotecas *requests* e *json* para obter a temperatura atual em Fahrenheit de uma dada coordenada, converta e imprima a temperatura em Celsius."
     ]
    },
    {
     "cell_type": "code",
     "collapsed": false,
     "input": [
      "# EX07\n",
      "# Conforme especificado na documenta\u00e7\u00e3o da seguinte API:\n",
      "# https://developer.forecast.io/docs/v2\n",
      "# Ao acessar a url https://api.forecast.io/forecast/APIKEY/LATITUDE,LONGITUDE\n",
      "# obtemos informa\u00e7\u00f5es de previs\u00e3o do tempo para as coordenadas especificadas\n",
      "# O formato de sa\u00edda \u00e9 similar ao do exerc\u00edcio de tradu\u00e7\u00e3o de textos, \n",
      "# \u00e9 conhecido como JSON.\n",
      "# Utilizando a biblioteca json, \u00e9 poss\u00edvel converter esses textos para \n",
      "# o tipo de vari\u00e1vel conhecida como dicion\u00e1rio, em que especificamos\n",
      "# um campo que queremos consultar atrav\u00e9s de colchetes.\n",
      "\n",
      "# No c\u00f3digo abaixo, logo ap\u00f3s obter a temperatura atual\n",
      "# converta para grau Celsius e imprima o resultado\n",
      "\n",
      "import requests\n",
      "import json\n",
      "\n",
      "APIKEY = '64f1cb760542cc081014a27410cf1bf1'  # chave obtida no site, 1000 requisi\u00e7\u00f5es por dia\n",
      "\n",
      "# coordenadas de Santo Andr\u00e9\n",
      "LAT = '23.6572'\n",
      "LONG = '46.5333'\n",
      "\n",
      "# Obtendo informa\u00e7\u00f5es do site\n",
      "url = 'https://api.forecast.io/forecast/'+APIKEY+'/'+LAT+','+LONG\n",
      "saida = requests.get(url)\n",
      "\n",
      "# pegando a temperatura em Fahrenheit\n",
      "# a vari\u00e1vel t cont\u00e9m a temperatura em F, como um valor decimal\n",
      "t = json.loads(saida.text)['currently']['temperature']\n",
      "\n",
      "# O exerc\u00edcio come\u00e7a aqui!\n",
      "# converta para Celsius e imprima"
     ],
     "language": "python",
     "metadata": {},
     "outputs": [],
     "prompt_number": 22
    },
    {
     "cell_type": "markdown",
     "metadata": {},
     "source": [
      "**Exerc\u00edcio 8:** Converta a idade do usu\u00e1rio para segundos. Fa\u00e7a a mesma convers\u00e3o levando em conta os anos bissextos."
     ]
    },
    {
     "cell_type": "code",
     "collapsed": false,
     "input": [
      "#EX08\n",
      "\n",
      "# Converta a idade digitada pelo usu\u00e1rio em segundos\n",
      "\n",
      "\n",
      "# Fa\u00e7a a mesma convers\u00e3o levando em conta os anos bissextos\n",
      "\n"
     ],
     "language": "python",
     "metadata": {},
     "outputs": [],
     "prompt_number": 23
    },
    {
     "cell_type": "markdown",
     "metadata": {},
     "source": [
      "**Exerc\u00edcio 9:** Calcule a \u00e1rea ou volume das seguintes formas utilizando as dimens\u00f5es dadas pelo usu\u00e1rio."
     ]
    },
    {
     "cell_type": "code",
     "collapsed": false,
     "input": [
      "#EX09\n",
      "\n",
      "# Para as formas abaixo, calcule a \u00e1rea ou volume conforme apropriado\n",
      "# Pegue as dimens\u00f5es do usu\u00e1rio.\n",
      "\n",
      "# Ret\u00e2ngulo: base * altura\n",
      "\n",
      "# Tri\u00e2ngulo: base * altura / 2\n",
      "\n",
      "# Circunfer\u00eancia: pi * raio^2\n",
      "\n",
      "# Cub\u00f3ide: base * altura * profundidade\n",
      "\n",
      "# Esfera: (4/3)pi*r^3\n",
      "\n",
      "# Pir\u00e2mide: base * largura * altura / 3"
     ],
     "language": "python",
     "metadata": {},
     "outputs": [],
     "prompt_number": 24
    }
   ],
   "metadata": {}
  }
 ]
}