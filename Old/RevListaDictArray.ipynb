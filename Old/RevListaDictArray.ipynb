{
 "cells": [
  {
   "cell_type": "markdown",
   "metadata": {},
   "source": [
    "# Revisão: Listas, Dicionários, Arrays\n",
    "\n",
    "### Este notebook tem o objetivo de revisar os conceitos básicos dos tipos `list`, `dict` e `numpy.array` da linguagem de programação Python, assim como destacar as principais diferenças entre eles."
   ]
  },
  {
   "cell_type": "markdown",
   "metadata": {},
   "source": [
    "## Tipo `list`:\n",
    "\n",
    "### O tipo `list` é definido como um *recipiente* de valores de diversos tipos, ele pode conter qualquer tipo de dados do Python e, inclusive, mistura de tipos:"
   ]
  },
  {
   "cell_type": "code",
   "execution_count": 1,
   "metadata": {
    "collapsed": false
   },
   "outputs": [
    {
     "name": "stdout",
     "output_type": "stream",
     "text": [
      "lista1 é uma lista apenas do tipo int:  [1, 2, 3, 4, 5]\n",
      "lista2 é uma lista apenas do tipo str:  ['um', 'dois', 'três', 'quatro', 'cinco']\n",
      "lista3 é uma lista apenas contendo variáveis de tipos int, str e float:  [1, 'dois', 3.0, 4, 'cinco']\n"
     ]
    }
   ],
   "source": [
    "lista1 = [1, 2, 3, 4, 5]\n",
    "lista2 = ['um', 'dois', 'três', 'quatro', 'cinco']\n",
    "lista3 = [1, 'dois', 3.0, 4, 'cinco']\n",
    "\n",
    "print('lista1 é uma lista apenas do tipo int: ', lista1)\n",
    "print('lista2 é uma lista apenas do tipo str: ', lista2)\n",
    "print('lista3 é uma lista apenas contendo variáveis de tipos int, str e float: ', lista3)"
   ]
  },
  {
   "cell_type": "markdown",
   "metadata": {},
   "source": [
    "### Para acessar elementos de uma lista utilizamos `[indice]`, com `indice` sendo um inteiro representando a posição que se encontra o elemento.\n",
    "\n",
    "### Nota: o primeiro índice de uma lista é `0`."
   ]
  },
  {
   "cell_type": "code",
   "execution_count": 2,
   "metadata": {
    "collapsed": false
   },
   "outputs": [
    {
     "name": "stdout",
     "output_type": "stream",
     "text": [
      "O primeiro elemento de lista1 é :  1\n",
      "O quarto elemento de lista1 é :  4\n"
     ]
    }
   ],
   "source": [
    "print('O primeiro elemento de lista1 é : ', lista1[0])\n",
    "print('O quarto elemento de lista1 é : ', lista1[3])"
   ]
  },
  {
   "cell_type": "markdown",
   "metadata": {},
   "source": [
    "### Também podemos especificar índices negativos para acessar elementos da lista, só que contando de trás para frente:"
   ]
  },
  {
   "cell_type": "code",
   "execution_count": 3,
   "metadata": {
    "collapsed": false
   },
   "outputs": [
    {
     "name": "stdout",
     "output_type": "stream",
     "text": [
      "O último elemento da lista1 é:  5\n",
      "O penúltimo elemento da lista1 é:  4\n"
     ]
    }
   ],
   "source": [
    "print('O último elemento da lista1 é: ', lista1[-1])\n",
    "print('O penúltimo elemento da lista1 é: ', lista1[-2])"
   ]
  },
  {
   "cell_type": "markdown",
   "metadata": {},
   "source": [
    "### Podemos também acessar um pedaço da lista especificando faixas de valores no seguinte formato:\n",
    "\n",
    "```Python\n",
    "lista[ pos_inicial : pos_final : passo ]\n",
    "```\n",
    "\n",
    "### onde, `pos_inicial` é a primeira posição da faixa, `pos_final` é um elemento após a última posição da faixa e `passo` representa de quanto em quanto queremos pegar os elementos.\n",
    "\n",
    "### Se omitirmos um desses valores o valor padrão é *primeiro elemento*, *último elemento*, *passo 1*, respectivamente."
   ]
  },
  {
   "cell_type": "code",
   "execution_count": 7,
   "metadata": {
    "collapsed": false
   },
   "outputs": [
    {
     "name": "stdout",
     "output_type": "stream",
     "text": [
      "Do segundo ao quarto elemento de 1 em 1:  [2, 3, 4]\n",
      "Do segundo até o final de 2 em 2:  [2, 4]\n",
      "Do primeiro elemento até o final de 3 em 3:  [1, 4]\n",
      "Do primeiro elemento até o final de trás para frente:  [5, 4, 3, 2, 1]\n"
     ]
    }
   ],
   "source": [
    "print('Do segundo ao quarto elemento de 1 em 1: ', lista1[1:4:1])\n",
    "print('Do segundo até o final de 2 em 2: ', lista1[1::2])\n",
    "print('Do primeiro elemento até o final de 3 em 3: ', lista1[::3])\n",
    "print('Do primeiro elemento até o final de trás para frente: ', lista1[::-1])"
   ]
  },
  {
   "cell_type": "markdown",
   "metadata": {},
   "source": [
    "### Para alterar o conteúdo de um elemento da lista basta utilizarmos o operador `=`:\n",
    "\n",
    "```Python\n",
    "lista[ indice ] = novo_valor\n",
    "```\n",
    "### onde `indice` é a posição que queremos alterar e `novo_valor` é o novo valor a ser atribuído nessa posição da lista.\n",
    "\n",
    "### Também podemos calcular o novo valor baseado no valor original:\n",
    "\n",
    "```Python\n",
    "lista[ indice ] = lista[ indice ] + var\n",
    "lista[ indice ] = lista[ indice ] * var\n",
    "```\n",
    "\n",
    "### onde `var` pode ser um valor numérico ou uma variável contendo um valor numérico."
   ]
  },
  {
   "cell_type": "code",
   "execution_count": 10,
   "metadata": {
    "collapsed": false
   },
   "outputs": [
    {
     "name": "stdout",
     "output_type": "stream",
     "text": [
      "O novo valor da segunda posição é:  5\n",
      "A segunda posição teve seu valor dobrado:  10\n",
      "A segunda posição agora é a soma da posição anterior e da posterior:  4\n"
     ]
    }
   ],
   "source": [
    "lista1[1] = 5\n",
    "print('O novo valor da segunda posição é: ', lista1[1])\n",
    "\n",
    "lista1[1] = lista1[1]*2\n",
    "print('A segunda posição teve seu valor dobrado: ', lista1[1])\n",
    "\n",
    "lista1[1] = lista1[0] + lista1[2]\n",
    "print('A segunda posição agora é a soma da posição anterior e da posterior: ', lista1[1])"
   ]
  },
  {
   "cell_type": "markdown",
   "metadata": {},
   "source": [
    "### Para criar uma lista podemos utilizar o comando `for` em conjunto com o comando `append`:\n",
    "\n",
    "```Python\n",
    "lista = []\n",
    "for i in range(1,101):\n",
    "    lista.append(i)\n",
    "```\n",
    "\n",
    "### lê-se: inicia uma lista vazia; para *i* na faixa de $1$ até $101$ (não-inclusivo), adiciona o valor de *i* ao final da lista."
   ]
  },
  {
   "cell_type": "code",
   "execution_count": 11,
   "metadata": {
    "collapsed": false
   },
   "outputs": [
    {
     "name": "stdout",
     "output_type": "stream",
     "text": [
      "[1, 2, 3, 4, 5, 6, 7, 8, 9, 10, 11, 12, 13, 14, 15, 16, 17, 18, 19, 20, 21, 22, 23, 24, 25, 26, 27, 28, 29, 30, 31, 32, 33, 34, 35, 36, 37, 38, 39, 40, 41, 42, 43, 44, 45, 46, 47, 48, 49, 50, 51, 52, 53, 54, 55, 56, 57, 58, 59, 60, 61, 62, 63, 64, 65, 66, 67, 68, 69, 70, 71, 72, 73, 74, 75, 76, 77, 78, 79, 80, 81, 82, 83, 84, 85, 86, 87, 88, 89, 90, 91, 92, 93, 94, 95, 96, 97, 98, 99, 100]\n"
     ]
    }
   ],
   "source": [
    "lista = []\n",
    "for i in range(1,101):\n",
    "    lista.append(i)\n",
    "\n",
    "print(lista)"
   ]
  },
  {
   "cell_type": "markdown",
   "metadata": {},
   "source": [
    "### Podemos combinar o `append` com expressões matemáticas ou funções para criar listas como:\n",
    "\n",
    "### $$\\{ x^2 \\mid \\forall x \\in [1,101[ \\}$$\n",
    "\n",
    "### $$\\{ f(x) \\mid \\forall x \\in [1,101[ \\}$$"
   ]
  },
  {
   "cell_type": "code",
   "execution_count": 14,
   "metadata": {
    "collapsed": false
   },
   "outputs": [
    {
     "name": "stdout",
     "output_type": "stream",
     "text": [
      "[1, 4, 9, 16, 25, 36, 49, 64, 81, 100, 121, 144, 169, 196, 225, 256, 289, 324, 361, 400, 441, 484, 529, 576, 625, 676, 729, 784, 841, 900, 961, 1024, 1089, 1156, 1225, 1296, 1369, 1444, 1521, 1600, 1681, 1764, 1849, 1936, 2025, 2116, 2209, 2304, 2401, 2500, 2601, 2704, 2809, 2916, 3025, 3136, 3249, 3364, 3481, 3600, 3721, 3844, 3969, 4096, 4225, 4356, 4489, 4624, 4761, 4900, 5041, 5184, 5329, 5476, 5625, 5776, 5929, 6084, 6241, 6400, 6561, 6724, 6889, 7056, 7225, 7396, 7569, 7744, 7921, 8100, 8281, 8464, 8649, 8836, 9025, 9216, 9409, 9604, 9801, 10000]\n",
      "\n",
      "[-2, -2, 0, 4, 10, 18, 28, 40, 54, 70, 88, 108, 130, 154, 180, 208, 238, 270, 304, 340, 378, 418, 460, 504, 550, 598, 648, 700, 754, 810, 868, 928, 990, 1054, 1120, 1188, 1258, 1330, 1404, 1480, 1558, 1638, 1720, 1804, 1890, 1978, 2068, 2160, 2254, 2350, 2448, 2548, 2650, 2754, 2860, 2968, 3078, 3190, 3304, 3420, 3538, 3658, 3780, 3904, 4030, 4158, 4288, 4420, 4554, 4690, 4828, 4968, 5110, 5254, 5400, 5548, 5698, 5850, 6004, 6160, 6318, 6478, 6640, 6804, 6970, 7138, 7308, 7480, 7654, 7830, 8008, 8188, 8370, 8554, 8740, 8928, 9118, 9310, 9504, 9700]\n"
     ]
    }
   ],
   "source": [
    "def f(x):\n",
    "    return x**2 - 3*x\n",
    "\n",
    "lista1 = []\n",
    "lista2 = []\n",
    "for x in range(1,101):\n",
    "    lista1.append( x**2 ) # lista1 é composta de i elevado ao quadrado\n",
    "    lista2.append( f(x) ) # lista2 é composta de f(i) para todo i pertencente a \n",
    "\n",
    "print(lista1)\n",
    "print()\n",
    "print(lista2)"
   ]
  },
  {
   "cell_type": "markdown",
   "metadata": {},
   "source": [
    "### Também podemos criar uma lista utilizando uma notação mais próxima da matemática:\n",
    "\n",
    "```python\n",
    "lista = [ f(x) for x in range(1,101) ]\n",
    "```\n",
    "\n",
    "### lê-se: lista é composta pelos valores retornados da função f() com parâmetro x sendo que x assume valores de 1 até 101 (exclusivo)."
   ]
  },
  {
   "cell_type": "code",
   "execution_count": 15,
   "metadata": {
    "collapsed": false
   },
   "outputs": [
    {
     "name": "stdout",
     "output_type": "stream",
     "text": [
      "[-2, -2, 0, 4, 10, 18, 28, 40, 54, 70, 88, 108, 130, 154, 180, 208, 238, 270, 304, 340, 378, 418, 460, 504, 550, 598, 648, 700, 754, 810, 868, 928, 990, 1054, 1120, 1188, 1258, 1330, 1404, 1480, 1558, 1638, 1720, 1804, 1890, 1978, 2068, 2160, 2254, 2350, 2448, 2548, 2650, 2754, 2860, 2968, 3078, 3190, 3304, 3420, 3538, 3658, 3780, 3904, 4030, 4158, 4288, 4420, 4554, 4690, 4828, 4968, 5110, 5254, 5400, 5548, 5698, 5850, 6004, 6160, 6318, 6478, 6640, 6804, 6970, 7138, 7308, 7480, 7654, 7830, 8008, 8188, 8370, 8554, 8740, 8928, 9118, 9310, 9504, 9700]\n"
     ]
    }
   ],
   "source": [
    "lista = [f(x) for x in range(1,101)]\n",
    "print(lista)"
   ]
  },
  {
   "cell_type": "markdown",
   "metadata": {},
   "source": [
    "### E podemos adicionar condicionais para expressar funções mais interessantes:\n",
    "\n",
    "### $$\n",
    "f(x) =\n",
    "\\begin{cases}\n",
    "2*x, & \\text{se } x \\text{ for par} \\\\\n",
    "x^2, & \\text{caso contrário}\n",
    "\\end{cases}\n",
    "$$\n",
    "\n",
    "### $$ lista = \\{f(x) \\mid \\forall x \\in [1,101[ \\} $$"
   ]
  },
  {
   "cell_type": "code",
   "execution_count": 17,
   "metadata": {
    "collapsed": false,
    "scrolled": true
   },
   "outputs": [
    {
     "name": "stdout",
     "output_type": "stream",
     "text": [
      "[1, 4, 9, 8, 25, 12, 49, 16, 81, 20, 121, 24, 169, 28, 225, 32, 289, 36, 361, 40, 441, 44, 529, 48, 625, 52, 729, 56, 841, 60, 961, 64, 1089, 68, 1225, 72, 1369, 76, 1521, 80, 1681, 84, 1849, 88, 2025, 92, 2209, 96, 2401, 100, 2601, 104, 2809, 108, 3025, 112, 3249, 116, 3481, 120, 3721, 124, 3969, 128, 4225, 132, 4489, 136, 4761, 140, 5041, 144, 5329, 148, 5625, 152, 5929, 156, 6241, 160, 6561, 164, 6889, 168, 7225, 172, 7569, 176, 7921, 180, 8281, 184, 8649, 188, 9025, 192, 9409, 196, 9801, 200]\n"
     ]
    }
   ],
   "source": [
    "lista = [ 2*x if x%2==0 else x**2 for x in range(1,101)]\n",
    "print(lista)"
   ]
  },
  {
   "cell_type": "markdown",
   "metadata": {},
   "source": [
    "### que é equivalente a:"
   ]
  },
  {
   "cell_type": "code",
   "execution_count": 18,
   "metadata": {
    "collapsed": false
   },
   "outputs": [
    {
     "name": "stdout",
     "output_type": "stream",
     "text": [
      "[1, 4, 9, 8, 25, 12, 49, 16, 81, 20, 121, 24, 169, 28, 225, 32, 289, 36, 361, 40, 441, 44, 529, 48, 625, 52, 729, 56, 841, 60, 961, 64, 1089, 68, 1225, 72, 1369, 76, 1521, 80, 1681, 84, 1849, 88, 2025, 92, 2209, 96, 2401, 100, 2601, 104, 2809, 108, 3025, 112, 3249, 116, 3481, 120, 3721, 124, 3969, 128, 4225, 132, 4489, 136, 4761, 140, 5041, 144, 5329, 148, 5625, 152, 5929, 156, 6241, 160, 6561, 164, 6889, 168, 7225, 172, 7569, 176, 7921, 180, 8281, 184, 8649, 188, 9025, 192, 9409, 196, 9801, 200]\n"
     ]
    }
   ],
   "source": [
    "lista = []\n",
    "for x in range(1,101):\n",
    "    if x%2==0:\n",
    "        lista.append(2*x)\n",
    "    else:\n",
    "        lista.append(x**2)\n",
    "print(lista)"
   ]
  },
  {
   "cell_type": "markdown",
   "metadata": {},
   "source": [
    "### *Exercício 01:* Faça uma função GeraLista(var) que retorne a seguinte lista:\n",
    "\n",
    "### $$ lista = \\{ x^3 - 3x \\mid \\forall x \\in [1,var] \\}, $$\n",
    "\n",
    "### onde $var$ é uma variável a ser definida pelo usuário."
   ]
  },
  {
   "cell_type": "code",
   "execution_count": 20,
   "metadata": {
    "collapsed": true
   },
   "outputs": [],
   "source": []
  },
  {
   "cell_type": "markdown",
   "metadata": {},
   "source": [
    "### O comando `for` permite percorrer uma lista atribuindo cada valor em uma variável:\n",
    "\n",
    "```python\n",
    "lista = [1,2,3]\n",
    "for x in lista:\n",
    "    print(x)\n",
    "```\n"
   ]
  },
  {
   "cell_type": "code",
   "execution_count": 21,
   "metadata": {
    "collapsed": false
   },
   "outputs": [
    {
     "name": "stdout",
     "output_type": "stream",
     "text": [
      "1\n",
      "2\n",
      "3\n"
     ]
    }
   ],
   "source": [
    "lista = [1,2,3]\n",
    "for x in lista:\n",
    "    print(x)"
   ]
  },
  {
   "cell_type": "markdown",
   "metadata": {},
   "source": [
    "### Se quisermos calcular a somatória de uma lista precisamos seguir os seguintes passos:\n",
    "\n",
    "* ### Criar um acumulador que armazenará o resultado final, quando não existe elementos em uma lista o resultado deverá ser 0\n",
    "* ### Percorrer cada elemento da lista somando esse elemento ao acumulador"
   ]
  },
  {
   "cell_type": "markdown",
   "metadata": {},
   "source": [
    "### *Exercício 02:* Agora faça uma função que retorne a somatória dos elementos de uma lista."
   ]
  },
  {
   "cell_type": "code",
   "execution_count": null,
   "metadata": {
    "collapsed": true
   },
   "outputs": [],
   "source": []
  },
  {
   "cell_type": "markdown",
   "metadata": {},
   "source": [
    "### Com esses dois exercícios você poderia resolver o Ex. A3 da prova prática simplesmente fazendo:\n",
    "\n",
    "```python\n",
    "Soma(GeraLista(varA))\n",
    "```"
   ]
  },
  {
   "cell_type": "markdown",
   "metadata": {},
   "source": [
    "### *Exercício 03:* Sequência de Fibonacci.\n",
    "\n",
    "### Sabendo que o $n$-ésimo termo da sequência de Fibonacci é definido por:\n",
    "\n",
    "###$$ F_n = F_{n-1} + F_{n-2} $$\n",
    "\n",
    "### e sabendo que:\n",
    "\n",
    "### $$ F_0 = F_1 = 1 $$\n",
    "\n",
    "### Crie uma função, utilizando listas, para gerar a sequência de Fibonacci até o termo $n$.\n",
    "\n",
    "### Dica: você pode criar uma lista inicial contendo os dois primeiros termos. Em seguida, basta adicionar a lista os próximos valores na sequência, baseado nos valores anteriores."
   ]
  },
  {
   "cell_type": "code",
   "execution_count": 22,
   "metadata": {
    "collapsed": false
   },
   "outputs": [
    {
     "name": "stdout",
     "output_type": "stream",
     "text": [
      "[1, 1, 2, 3, 5, 8, 13, 21, 34, 55, 89]\n"
     ]
    }
   ],
   "source": [
    "def Fibonacci(n):\n",
    "    F = [1,1]\n",
    "    for i in range(2,n+1):\n",
    "        F.append(F[i-1] + F[i-2])\n",
    "    return F\n",
    "\n",
    "print(Fibonacci(10))"
   ]
  },
  {
   "cell_type": "markdown",
   "metadata": {},
   "source": [
    "### *Exercício 04:* Complete a função abaixo, substituindo '???', para que ela retorne o maior e o menor valor de uma lista:"
   ]
  },
  {
   "cell_type": "code",
   "execution_count": null,
   "metadata": {
    "collapsed": true
   },
   "outputs": [],
   "source": [
    "def MaiorMenor(lista):\n",
    "    maior = ??? \n",
    "    menor = ???\n",
    "    for x in lista:\n",
    "        if x > maior:\n",
    "            maior = ???\n",
    "        if ???:\n",
    "            menor = x\n",
    "    return maior, menor"
   ]
  },
  {
   "cell_type": "markdown",
   "metadata": {},
   "source": [
    "## Tipo `dict`\n",
    "\n",
    "### Um dicionário, ou tipo `dict`, no Python representa um mapa de associações entre dois conceitos.\n",
    "\n",
    "### Digamos que queremos armazenar informações sobre os estados brasileiros. Para isso queremos guardar a associação Nome completo => Abreviação, Abreviação => Qtd. de cidades no estado,.\n",
    "\n",
    "### Em outras palavras queremos armazenar:\n",
    "\n",
    "* ### 'São Paulo' => 'SP'\n",
    "* ### 'Rio de Janeiro' => 'RJ'\n",
    "* ### 'SP' => 645\n",
    "* ### ...\n",
    "\n",
    "\n",
    "### Para isso utilizamos os dicionários do Python, seguindo a sintaxe:\n",
    "\n",
    "```python\n",
    "dicionario = { chave1 : valor, chave2 : valor, ... }\n",
    "```\n",
    "\n",
    "### onde chave1, chave2, etc. são as chaves do dicionário e `valor` é um valor associado a essa chave."
   ]
  },
  {
   "cell_type": "code",
   "execution_count": 24,
   "metadata": {
    "collapsed": true
   },
   "outputs": [],
   "source": [
    "estados = {'São Paulo' : 'SP', 'Rio de Janeiro' : 'RJ', 'Minas Gerais' : 'MG'}\n",
    "cidades = {'SP' : 645, 'RJ' : 92, 'MG' : 853}"
   ]
  },
  {
   "cell_type": "markdown",
   "metadata": {},
   "source": [
    "### Para acessarmos um valor de um dicionário utilizamos a sintaxe:\n",
    "\n",
    "```python\n",
    "dicionario[ chave ]\n",
    "```"
   ]
  },
  {
   "cell_type": "code",
   "execution_count": 29,
   "metadata": {
    "collapsed": false
   },
   "outputs": [
    {
     "name": "stdout",
     "output_type": "stream",
     "text": [
      "A abreviação de \"São Paulo\" é SP\n",
      "A abreviação de \"Minas Gerais\" é MG\n",
      "Rio de Janeiro tem 92 cidades\n"
     ]
    }
   ],
   "source": [
    "print('A abreviação de \"São Paulo\" é', estados['São Paulo'])\n",
    "print('A abreviação de \"Minas Gerais\" é', estados['Minas Gerais'])\n",
    "print('Rio de Janeiro tem', cidades[estados['Rio de Janeiro']], 'cidades')"
   ]
  },
  {
   "cell_type": "markdown",
   "metadata": {},
   "source": [
    "### Podemos inserir uma nova associação ou alterar uma já existente:\n",
    "\n",
    "```python\n",
    "dicionario[ chave ] = valor\n",
    "```\n",
    "\n",
    "### ou\n",
    "\n",
    "```python\n",
    "dicionario[ chave ] = dicionario[chave] + valor\n",
    "```"
   ]
  },
  {
   "cell_type": "code",
   "execution_count": 31,
   "metadata": {
    "collapsed": false
   },
   "outputs": [
    {
     "name": "stdout",
     "output_type": "stream",
     "text": [
      "Rio de Janeiro perdeu uma cidade e agora ele tem:  91 cidades\n"
     ]
    }
   ],
   "source": [
    "cidades['RJ'] = cidades['RJ'] - 1\n",
    "print('Rio de Janeiro perdeu uma cidade e agora ele tem: ', cidades['RJ'],'cidades')"
   ]
  },
  {
   "cell_type": "markdown",
   "metadata": {},
   "source": [
    "### Se tentarmos acessar um elemento que não existe, o Python retorna uma mensagem de erro:"
   ]
  },
  {
   "cell_type": "code",
   "execution_count": 32,
   "metadata": {
    "collapsed": false
   },
   "outputs": [
    {
     "ename": "KeyError",
     "evalue": "'RS'",
     "output_type": "error",
     "traceback": [
      "\u001b[1;31m---------------------------------------------------------------------------\u001b[0m",
      "\u001b[1;31mKeyError\u001b[0m                                  Traceback (most recent call last)",
      "\u001b[1;32m<ipython-input-32-d3bdfe6fdcd6>\u001b[0m in \u001b[0;36m<module>\u001b[1;34m()\u001b[0m\n\u001b[1;32m----> 1\u001b[1;33m \u001b[0mprint\u001b[0m\u001b[1;33m(\u001b[0m\u001b[0mcidades\u001b[0m\u001b[1;33m[\u001b[0m\u001b[1;34m'RS'\u001b[0m\u001b[1;33m]\u001b[0m\u001b[1;33m)\u001b[0m\u001b[1;33m\u001b[0m\u001b[0m\n\u001b[0m",
      "\u001b[1;31mKeyError\u001b[0m: 'RS'"
     ]
    }
   ],
   "source": [
    "print(cidades['RS'])"
   ]
  },
  {
   "cell_type": "markdown",
   "metadata": {},
   "source": [
    "### Para verificar se uma chave existe em um dicionário utilizamos o operador `in`:"
   ]
  },
  {
   "cell_type": "code",
   "execution_count": 34,
   "metadata": {
    "collapsed": false
   },
   "outputs": [
    {
     "name": "stdout",
     "output_type": "stream",
     "text": [
      "Não consta esse estado!\n"
     ]
    }
   ],
   "source": [
    "if 'RS' in cidades:\n",
    "    print(cidades['RS'])\n",
    "else:\n",
    "    print('Não consta esse estado!')"
   ]
  },
  {
   "cell_type": "markdown",
   "metadata": {},
   "source": [
    "### Para os casos que queremos assumir um valor padrão quando a chave não existe, podemos utilizar o método `.get()`:\n",
    "\n",
    "```python\n",
    "dicionario.get( chave, valor_padrao )\n",
    "```"
   ]
  },
  {
   "cell_type": "code",
   "execution_count": 35,
   "metadata": {
    "collapsed": false
   },
   "outputs": [
    {
     "name": "stdout",
     "output_type": "stream",
     "text": [
      "O Rio Grande do Sul tem 0 cidades\n"
     ]
    }
   ],
   "source": [
    "print('O Rio Grande do Sul tem', cidades.get('RS', 0), 'cidades')"
   ]
  },
  {
   "cell_type": "markdown",
   "metadata": {},
   "source": [
    "### *Exercício 05:* Complete a função abaixo para contar a frequência de palavras da lista passada como parâmetro utilizando o método `.get()`."
   ]
  },
  {
   "cell_type": "code",
   "execution_count": null,
   "metadata": {
    "collapsed": true
   },
   "outputs": [],
   "source": [
    "def ContaPalavras(lista):\n",
    "    frequencia = {}\n",
    "    for palavra in lista:\n",
    "        frequencia[palavra] = ???\n",
    "    return frequencia\n",
    "\n",
    "print(ContaPalavras(['eu', 'vou', 'tirar', 'dez', 'nessa', 'prova', 'ou', 'eu', 'reprovo']))"
   ]
  },
  {
   "cell_type": "markdown",
   "metadata": {},
   "source": [
    "### *Exercício 06:* Complete a função `GeraCifra(n)` para que ela crie um dicionário que associe uma certa letra do alfabeto com a n-ésima letra seguinte. Ex.:\n",
    "\n",
    "### n = 2\n",
    "\n",
    "### 'a' => 'c'\n",
    "### 'b' => 'd'\n",
    "### ...\n",
    "### 'x' => 'z'\n",
    "### 'y' => 'a'\n",
    "### 'z' => 'b'\n",
    "\n",
    "### Sabendo que a variável `letras` contém todas as letras do alfabeto na sequência e que `letra[0] == 'a'`  e `letra[1] == 'b'`."
   ]
  },
  {
   "cell_type": "code",
   "execution_count": null,
   "metadata": {
    "collapsed": false
   },
   "outputs": [],
   "source": [
    "import string\n",
    "\n",
    "def GeraCifra(n):\n",
    "    letras = string.ascii_lowercase\n",
    "    cifra = {}\n",
    "    for i in range(len(letras)):\n",
    "        cifra[letras[i]] = ???\n",
    "    return cifra\n",
    "    \n",
    "print(GeraCifra(2))"
   ]
  },
  {
   "cell_type": "markdown",
   "metadata": {},
   "source": [
    "### *Exercício 07:* Complete a função Codifica(frase, n) para que ela troque cada letra da string `frase` pela letra correspondente do mapa gerado pela função `GeraCifra(n)`."
   ]
  },
  {
   "cell_type": "code",
   "execution_count": null,
   "metadata": {
    "collapsed": false
   },
   "outputs": [],
   "source": [
    "def Codifica(frase, n):\n",
    "    cifra = GeraCifra(n)\n",
    "    codificado = ''\n",
    "    for i in range(len(frase)):\n",
    "        codificado = codificado + ???\n",
    "    return codificado\n",
    "\n",
    "code = Codifica('eu vou tirar dez', 4)\n",
    "print('A frase codificada é:', code)\n",
    "print('Por que consigo decodificar com esse comando?', Codifica(code, -4))"
   ]
  },
  {
   "cell_type": "markdown",
   "metadata": {},
   "source": [
    "### Para percorrer todas as chaves e valores de um dicionário utilizamos o método `.items()`:"
   ]
  },
  {
   "cell_type": "code",
   "execution_count": 52,
   "metadata": {
    "collapsed": false
   },
   "outputs": [
    {
     "name": "stdout",
     "output_type": "stream",
     "text": [
      "c => 3\n",
      "a => 1\n",
      "b => 2\n"
     ]
    }
   ],
   "source": [
    "dicionario = { 'a':1, 'b':2, 'c':3 }\n",
    "for chave, valor in dicionario.items():\n",
    "    print(chave, '=>', valor)"
   ]
  },
  {
   "cell_type": "markdown",
   "metadata": {},
   "source": [
    "## Tipo `numpy.array`\n",
    "\n",
    "### O tipo `numpy.array`, proveniente da biblioteca `numpy`, especifica uma estrutura de vetores e matrizes para cálculos vetoriais, matriciais e de álgebra linear.\n",
    "\n",
    "### Essencialmente ele se comporta como uma lista, porém com os operadores matemáticos se comportando da mesma forma que se espera com vetores e matrizes na matemática."
   ]
  },
  {
   "cell_type": "code",
   "execution_count": 54,
   "metadata": {
    "collapsed": false
   },
   "outputs": [
    {
     "name": "stdout",
     "output_type": "stream",
     "text": [
      "[ 0  1  2  3  4  5  6  7  8  9 10 11 12 13 14 15 16 17 18 19]\n",
      "[100 101 102 103 104 105 106 107 108 109 110 111 112 113 114 115 116 117\n",
      " 118 119]\n"
     ]
    }
   ],
   "source": [
    "import numpy as np\n",
    "\n",
    "v1 = np.array( range(20) )\n",
    "v2 = np.array( range(100,120) )\n",
    "print(v1)\n",
    "print(v2)"
   ]
  },
  {
   "cell_type": "markdown",
   "metadata": {},
   "source": [
    "### Tente advinhar o que as seguintes operações estão fazendo:"
   ]
  },
  {
   "cell_type": "code",
   "execution_count": 56,
   "metadata": {
    "collapsed": false
   },
   "outputs": [
    {
     "name": "stdout",
     "output_type": "stream",
     "text": [
      "[ 1  2  3  4  5  6  7  8  9 10 11 12 13 14 15 16 17 18 19 20]\n",
      "\n",
      "[  0  10  20  30  40  50  60  70  80  90 100 110 120 130 140 150 160 170\n",
      " 180 190]\n",
      "\n",
      "[100 102 104 106 108 110 112 114 116 118 120 122 124 126 128 130 132 134\n",
      " 136 138]\n",
      "\n",
      "[   0  101  204  309  416  525  636  749  864  981 1100 1221 1344 1469 1596\n",
      " 1725 1856 1989 2124 2261]\n"
     ]
    }
   ],
   "source": [
    "print( v1 + 1 )\n",
    "print()\n",
    "print( v1 * 10 )\n",
    "print()\n",
    "print( v1 + v2 )\n",
    "print()\n",
    "print( v1 * v2 )"
   ]
  },
  {
   "cell_type": "markdown",
   "metadata": {},
   "source": [
    "### O acesso aos elementos do vetor é similar ao das listas:"
   ]
  },
  {
   "cell_type": "code",
   "execution_count": 58,
   "metadata": {
    "collapsed": false
   },
   "outputs": [
    {
     "name": "stdout",
     "output_type": "stream",
     "text": [
      "O primeiro elemento de v1 é 0\n",
      "O último elemento de v1 é 19\n",
      "Os elementos de 2 até 10 de 2 em 2 de v1 são [ 2  4  6  8 10]\n"
     ]
    }
   ],
   "source": [
    "print('O primeiro elemento de v1 é',v1[0])\n",
    "print('O último elemento de v1 é',v1[-1])\n",
    "print('Os elementos de 2 até 10 de 2 em 2 de v1 são', v1[2:11:2])"
   ]
  },
  {
   "cell_type": "markdown",
   "metadata": {},
   "source": [
    "### Também é possível acessar faixas de valores utilizando comparações:\n",
    "\n",
    "```python\n",
    "vetor[  vetor > 10 ] # apenas valores maiores do que 10\n",
    "vetor1[ vetor2 == 1 ] # apenas os índices em que o vetor2 tem valor 1\n",
    "```"
   ]
  },
  {
   "cell_type": "code",
   "execution_count": 84,
   "metadata": {
    "collapsed": false
   },
   "outputs": [
    {
     "name": "stdout",
     "output_type": "stream",
     "text": [
      "[    1   100 10000   500     5]\n"
     ]
    }
   ],
   "source": [
    "v1 = np.array([1,10,100,1000,10000,5000,500,50,5])\n",
    "v2 = np.array([1,0,1,0,1,0,1,0,1])\n",
    "print( v1[ v2==1 ] )"
   ]
  },
  {
   "cell_type": "markdown",
   "metadata": {},
   "source": [
    "### *Exercício 08:* Números primos usando o numpy.\n",
    "\n",
    "### Dada a função `VerificaPrimo(x)` que retorna `True` se o número x é primo e `False` caso contrário.\n",
    "\n",
    "### Faça uma função `Primos(n)` que retorna os números primos entre 1 e n. Para isso implemente o seguinte algoritmo:\n",
    "\n",
    "* ### Crie um vetor do numpy de tamanho n+1 com todos os valores iguais a 1\n",
    "\n",
    "### Esse vetor irá indicar quais elementos são primos (1) e quais não são (0).\n",
    "\n",
    "* ### Atribua o valor 0 para a posição 0 e 1, indicando que eles não são primos\n",
    "\n",
    "* ### Para todo número de 2 até n, faça:\n",
    "    - ### Se o número ainda estiver marcado como primo\n",
    "        - ### Se ele for realmente primo (verique com a função VerificaPrimo)\n",
    "        - ### marque todos os múltiplos dele como não primos\n",
    "* ### Retorna os números primos marcados"
   ]
  },
  {
   "cell_type": "code",
   "execution_count": 78,
   "metadata": {
    "collapsed": false
   },
   "outputs": [
    {
     "name": "stdout",
     "output_type": "stream",
     "text": [
      "[ 2  3  5  7 11 13 17 19 23]\n"
     ]
    }
   ],
   "source": [
    "def VerificaPrimo(x):\n",
    "    for i in range(2,x):\n",
    "        if x%i == 0:        # se encontrar um i que divide x, retorna falso\n",
    "            return False\n",
    "    return True             # se não encontrou nenhum divisível, retorna verdadeiro\n",
    "\n",
    "def Primos(n):\n",
    "    primos = np.ones(n+1)   # vetor de tamanho n+1 com tudo igual a 1\n",
    "    numeros = np.arange(n+1)\n",
    "    primos[???] = 0\n",
    "    for atual in range(2,n+1):\n",
    "        if primos[???] == 1:\n",
    "            if VerificaPrimo(???):\n",
    "                primos[???] = 0\n",
    "                \n",
    "    return numeros[???]\n",
    "\n",
    "print(Primos(25))"
   ]
  },
  {
   "cell_type": "markdown",
   "metadata": {},
   "source": [
    "### Matrizes podem ser criadas utilizando a mesma sintaxe:\n",
    "\n",
    "```python\n",
    "matriz = np.array( [[a11, a12, a13], [a21, a22, a23]] )\n",
    "```"
   ]
  },
  {
   "cell_type": "code",
   "execution_count": 59,
   "metadata": {
    "collapsed": false
   },
   "outputs": [
    {
     "name": "stdout",
     "output_type": "stream",
     "text": [
      "[[1 2 3]\n",
      " [4 5 6]\n",
      " [7 8 9]]\n"
     ]
    }
   ],
   "source": [
    "matriz = np.array( [[1, 2, 3], [4, 5, 6], [7, 8, 9]] )\n",
    "print(matriz)"
   ]
  },
  {
   "cell_type": "code",
   "execution_count": 60,
   "metadata": {
    "collapsed": false
   },
   "outputs": [
    {
     "name": "stdout",
     "output_type": "stream",
     "text": [
      "[[ 2  3  4]\n",
      " [ 5  6  7]\n",
      " [ 8  9 10]]\n",
      "\n",
      "[[ 2  4  6]\n",
      " [ 8 10 12]\n",
      " [14 16 18]]\n"
     ]
    }
   ],
   "source": [
    "print(matriz+1)\n",
    "print()\n",
    "print(matriz*2)"
   ]
  },
  {
   "cell_type": "markdown",
   "metadata": {},
   "source": [
    "### O `numpy` contém todas as funções da biblioteca `math` e mais algumas, e permite que elas sejam aplicadas elemento-a-elemento em um vetor ou matriz:"
   ]
  },
  {
   "cell_type": "code",
   "execution_count": 61,
   "metadata": {
    "collapsed": false
   },
   "outputs": [
    {
     "name": "stdout",
     "output_type": "stream",
     "text": [
      "[[ 1  4  9]\n",
      " [16 25 36]\n",
      " [49 64 81]]\n",
      "\n",
      "[[ 1.          1.41421356  1.73205081]\n",
      " [ 2.          2.23606798  2.44948974]\n",
      " [ 2.64575131  2.82842712  3.        ]]\n"
     ]
    }
   ],
   "source": [
    "matriz2 = np.power(matriz, 2)\n",
    "print(matriz2)\n",
    "print()\n",
    "\n",
    "matriz3 = np.sqrt(matriz)\n",
    "print(matriz3)"
   ]
  },
  {
   "cell_type": "code",
   "execution_count": 62,
   "metadata": {
    "collapsed": false
   },
   "outputs": [
    {
     "name": "stdout",
     "output_type": "stream",
     "text": [
      "[[ 2  6 12]\n",
      " [20 30 42]\n",
      " [56 72 90]]\n",
      "\n",
      "[[  1   8  27]\n",
      " [ 64 125 216]\n",
      " [343 512 729]]\n"
     ]
    }
   ],
   "source": [
    "print(matriz + matriz2)\n",
    "print()\n",
    "print(matriz * matriz2)"
   ]
  },
  {
   "cell_type": "markdown",
   "metadata": {},
   "source": [
    "### Temos também operadores específicos de algebra linear e cálculo vetorial:"
   ]
  },
  {
   "cell_type": "code",
   "execution_count": 69,
   "metadata": {
    "collapsed": false
   },
   "outputs": [
    {
     "name": "stdout",
     "output_type": "stream",
     "text": [
      "21470\n",
      "\n",
      "[[  0   0   0]\n",
      " [100 101 102]\n",
      " [200 202 204]]\n"
     ]
    }
   ],
   "source": [
    "print(np.dot(v1, v2)) # produto interno\n",
    "print()\n",
    "print(np.outer(v1[:3], v2[:3])) # produto externo entre os 3 primeiros elementos de cada vetor"
   ]
  },
  {
   "cell_type": "code",
   "execution_count": 71,
   "metadata": {
    "collapsed": false
   },
   "outputs": [
    {
     "name": "stdout",
     "output_type": "stream",
     "text": [
      "[[ 180  246  324]\n",
      " [ 378  525  702]\n",
      " [ 576  804 1080]]\n",
      "\n",
      "[[  3.15251974e+15  -6.30503948e+15   3.15251974e+15]\n",
      " [ -6.30503948e+15   1.26100790e+16  -6.30503948e+15]\n",
      " [  3.15251974e+15  -6.30503948e+15   3.15251974e+15]]\n",
      "\n",
      "[[1 4 7]\n",
      " [2 5 8]\n",
      " [3 6 9]]\n"
     ]
    }
   ],
   "source": [
    "print(matriz @ matriz2)  # multiplicação de matriz\n",
    "print()\n",
    "print(np.linalg.inv(matriz)) # inversa da matriz\n",
    "print()\n",
    "print(matriz.T) # transposta da matriz"
   ]
  },
  {
   "cell_type": "markdown",
   "metadata": {},
   "source": [
    "### Para acessar um elemento da matriz basta indicar as coordenadas separadas por vírgula no seguinte formato:\n",
    "\n",
    "```python\n",
    "matriz[ i,j ]\n",
    "```"
   ]
  },
  {
   "cell_type": "markdown",
   "metadata": {},
   "source": [
    "### *Exercício 09:* Vamos criar nosso próprio Facebook. Para isso vamos primeiro criar um dicionário contendo a relação Usuários e Número de Identificação. O número de identificação é um número sequencial iniciando em zero.\n",
    "\n",
    "### Faça uma função que receba uma lista de nomes e retorne um dicionário em que a chave é um nome o valor um número identificador."
   ]
  },
  {
   "cell_type": "code",
   "execution_count": 86,
   "metadata": {
    "collapsed": true
   },
   "outputs": [],
   "source": [
    "def GeraID(nomes):\n",
    "    id = 0\n",
    "    mapa = {}\n",
    "    for nome in nomes:\n",
    "        mapa[???] = ???\n",
    "        id = ???\n",
    "    return mapa\n"
   ]
  },
  {
   "cell_type": "markdown",
   "metadata": {},
   "source": [
    "### *Exercício 10:* Agora vamos criar uma função que recebe uma lista de relações de amizade no seguinte formato:\n",
    "\n",
    "### [ (nome1, nome2), (nome3, nome4), ... ], indicando que nome1 e nome2 são amigos\n",
    "\n",
    "### e a função deve retornar uma matriz n x n em que o elemento i,j contém o valor 1 caso exista a relação (nome1, nome2) dentro da lista."
   ]
  },
  {
   "cell_type": "code",
   "execution_count": 87,
   "metadata": {
    "collapsed": true
   },
   "outputs": [],
   "source": [
    "def MatrizAmizade( relacoes ):\n",
    "    n = len(relacoes)\n",
    "    Amizades = np.zeros( (n,n) )\n",
    "    for relacao in relacoes:\n",
    "        Amizades[ ??? ] = 1\n",
    "    return Amizades"
   ]
  },
  {
   "cell_type": "markdown",
   "metadata": {},
   "source": [
    "### *Exercício 11:* Uma relação interessante é que se você multiplicar essa matriz de amizade por ela mesma, você descobre quantos amigos em comum duas pessoas possuem. Crie uma lista de nomes, uma lista de relações e descubra quantos amigos em comum cada par de pessoas tem."
   ]
  },
  {
   "cell_type": "code",
   "execution_count": null,
   "metadata": {
    "collapsed": true
   },
   "outputs": [],
   "source": []
  }
 ],
 "metadata": {
  "kernelspec": {
   "display_name": "Python 3",
   "language": "python",
   "name": "python3"
  },
  "language_info": {
   "codemirror_mode": {
    "name": "ipython",
    "version": 3
   },
   "file_extension": ".py",
   "mimetype": "text/x-python",
   "name": "python",
   "nbconvert_exporter": "python",
   "pygments_lexer": "ipython3",
   "version": "3.5.1"
  }
 },
 "nbformat": 4,
 "nbformat_minor": 0
}
