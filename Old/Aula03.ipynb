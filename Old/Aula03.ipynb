{
 "cells": [
  {
   "cell_type": "code",
   "execution_count": 1,
   "metadata": {
    "collapsed": false,
    "slideshow": {
     "slide_type": "skip"
    }
   },
   "outputs": [
    {
     "data": {
      "text/html": [
       "<style>\n",
       "\n",
       "@font-face {\n",
       "    font-family: \"Computer Modern\";\n",
       "    src: url('http://mirrors.ctan.org/fonts/cm-unicode/fonts/otf/cmunss.otf');\n",
       "}\n",
       "\n",
       "#notebook_panel { /* main background */\n",
       "    background: #888;\n",
       "    color: #f6f6f6;\n",
       "}\n",
       "\n",
       "div.cell { /* set cell width to about 80 chars */\n",
       "    width: 900px;\n",
       "}\n",
       "\n",
       "div #notebook { /* centre the content */\n",
       "    background: #fff; /* white background for content */\n",
       "    width: 1000px;\n",
       "    margin: auto;\n",
       "    padding-left: 1em;\n",
       "}\n",
       "\n",
       "#notebook li { /* More space between bullet points */\n",
       "margin-top:0.8em;\n",
       "}\n",
       "/* draw border around running cells */\n",
       "div.cell.border-box-sizing.code_cell.running {\n",
       "    border: 3px solid #111;\n",
       "}\n",
       "/* Put a solid color box around each cell and its output, visually linking them together */\n",
       "div.cell.code_cell {\n",
       "    background-color: rgba(171,165,131,0.3); \n",
       "    border-radius: 10px; /* rounded borders */\n",
       "    padding: 1em;\n",
       "    margin-top: 1em;\n",
       "}\n",
       "div.text_cell_render{\n",
       "    font-family: 'Arvo' sans-serif;\n",
       "    line-height: 130%;\n",
       "    font-size: 115%;\n",
       "    width:700px;\n",
       "    margin-left:auto;\n",
       "    margin-right:auto;\n",
       "}\n",
       "/* Formatting for header cells */\n",
       ".text_cell_render h1 {\n",
       "    font-family: 'Philosopher', sans-serif;\n",
       "    font-weight: 400;\n",
       "    font-size: 40pt;\n",
       "    text-align: center;\n",
       "    line-height: 100%;\n",
       "    color: rgb(12,85,97);\n",
       "    margin-bottom: 0.1em;\n",
       "    margin-top: 0.1em;\n",
       "    display: block;\n",
       "}\n",
       "\n",
       ".text_cell_render h2 {\n",
       "    font-family: 'Philosopher', serif;\n",
       "    font-weight: 700;\n",
       "    font-size: 24pt;\n",
       "    line-height: 100%;\n",
       "    color: rgb(171,165,131);\n",
       "    margin-bottom: 0.1em;\n",
       "    margin-top: 0.1em;\n",
       "    display: block;\n",
       "}    \n",
       "\n",
       ".text_cell_render h3 {\n",
       "    font-family: 'Philosopher', serif;\n",
       "    margin-top:12px;\n",
       "    margin-bottom: 3px;\n",
       "    font-style: italic;\n",
       "    color: rgb(95,92,72);\n",
       "}\n",
       "\n",
       ".text_cell_render h4 {\n",
       "    font-family: 'Philosopher', serif;\n",
       "}\n",
       "\n",
       ".text_cell_render h5 {\n",
       "    font-family: 'Alegreya Sans', sans-serif;\n",
       "    font-weight: 300;\n",
       "    font-size: 16pt;\n",
       "    color: grey;\n",
       "    font-style: italic;\n",
       "    margin-bottom: .1em;\n",
       "    margin-top: 0.1em;\n",
       "    display: block;\n",
       "}\n",
       "\n",
       ".text_cell_render h6 {\n",
       "    font-family: 'PT Mono', sans-serif;\n",
       "    font-weight: 300;\n",
       "    font-size: 10pt;\n",
       "    color: grey;\n",
       "    margin-bottom: 1px;\n",
       "    margin-top: 1px;\n",
       "}\n",
       ".CodeMirror{\n",
       "        font-family: \"PT Mono\";\n",
       "        font-size: 100%;\n",
       "}\n",
       ".raw_input_prompt{\n",
       "\tcolor: black;\n",
       "}\n",
       "input.raw_input{\n",
       "\tcolor: black;\n",
       "}\n",
       "</style>\n"
      ],
      "text/plain": [
       "<IPython.core.display.HTML object>"
      ]
     },
     "execution_count": 1,
     "metadata": {},
     "output_type": "execute_result"
    }
   ],
   "source": [
    "# ignore esse código inicial, é apenas para preparar a página\n",
    "from IPython.display import YouTubeVideo, HTML, Image, display\n",
    "css_file = './modelo.css'\n",
    "HTML(open(css_file, \"r\").read())"
   ]
  },
  {
   "cell_type": "markdown",
   "metadata": {
    "slideshow": {
     "slide_type": "slide"
    }
   },
   "source": [
    "# Introdução à Programação em Python"
   ]
  },
  {
   "cell_type": "markdown",
   "metadata": {
    "slideshow": {
     "slide_type": "slide"
    }
   },
   "source": [
    "## Condicionais"
   ]
  },
  {
   "cell_type": "markdown",
   "metadata": {
    "slideshow": {
     "slide_type": "fragment"
    }
   },
   "source": [
    "Nossa função para o cálculo de entropia ficou da seguinte maneira:\n",
    "\n",
    "```python\n",
    "def entropia(p):\n",
    "    return -p*log(p,2) - (1.0-p)*log(1.0-p,2)\n",
    "```\n",
    "\n",
    "Porém ao tentar calcular a entropia para os valores `0.0` e `1.0`, a função retornava o erro \"*Math domain error*\", indicando que tentamos calcular o valor do logarítmo fora do seu domínio."
   ]
  },
  {
   "cell_type": "code",
   "execution_count": 1,
   "metadata": {
    "collapsed": false,
    "slideshow": {
     "slide_type": "slide"
    }
   },
   "outputs": [
    {
     "ename": "ValueError",
     "evalue": "math domain error",
     "output_type": "error",
     "traceback": [
      "\u001b[1;31m---------------------------------------------------------------------------\u001b[0m",
      "\u001b[1;31mValueError\u001b[0m                                Traceback (most recent call last)",
      "\u001b[1;32m<ipython-input-1-64c4888e420b>\u001b[0m in \u001b[0;36m<module>\u001b[1;34m()\u001b[0m\n\u001b[0;32m      4\u001b[0m     \u001b[1;32mreturn\u001b[0m \u001b[1;33m-\u001b[0m\u001b[0mp\u001b[0m\u001b[1;33m*\u001b[0m\u001b[0mlog\u001b[0m\u001b[1;33m(\u001b[0m\u001b[0mp\u001b[0m\u001b[1;33m,\u001b[0m\u001b[1;36m2\u001b[0m\u001b[1;33m)\u001b[0m \u001b[1;33m-\u001b[0m \u001b[1;33m(\u001b[0m\u001b[1;36m1.0\u001b[0m\u001b[1;33m-\u001b[0m\u001b[0mp\u001b[0m\u001b[1;33m)\u001b[0m\u001b[1;33m*\u001b[0m\u001b[0mlog\u001b[0m\u001b[1;33m(\u001b[0m\u001b[1;36m1.0\u001b[0m\u001b[1;33m-\u001b[0m\u001b[0mp\u001b[0m\u001b[1;33m,\u001b[0m\u001b[1;36m2\u001b[0m\u001b[1;33m)\u001b[0m\u001b[1;33m\u001b[0m\u001b[0m\n\u001b[0;32m      5\u001b[0m \u001b[1;33m\u001b[0m\u001b[0m\n\u001b[1;32m----> 6\u001b[1;33m \u001b[0mprint\u001b[0m\u001b[1;33m(\u001b[0m\u001b[0mentropia\u001b[0m\u001b[1;33m(\u001b[0m\u001b[1;36m1.0\u001b[0m\u001b[1;33m)\u001b[0m\u001b[1;33m,\u001b[0m \u001b[0mentropia\u001b[0m\u001b[1;33m(\u001b[0m\u001b[1;36m0.0\u001b[0m\u001b[1;33m)\u001b[0m\u001b[1;33m)\u001b[0m\u001b[1;33m\u001b[0m\u001b[0m\n\u001b[0m",
      "\u001b[1;32m<ipython-input-1-64c4888e420b>\u001b[0m in \u001b[0;36mentropia\u001b[1;34m(p)\u001b[0m\n\u001b[0;32m      2\u001b[0m \u001b[1;33m\u001b[0m\u001b[0m\n\u001b[0;32m      3\u001b[0m \u001b[1;32mdef\u001b[0m \u001b[0mentropia\u001b[0m\u001b[1;33m(\u001b[0m\u001b[0mp\u001b[0m\u001b[1;33m)\u001b[0m\u001b[1;33m:\u001b[0m\u001b[1;33m\u001b[0m\u001b[0m\n\u001b[1;32m----> 4\u001b[1;33m     \u001b[1;32mreturn\u001b[0m \u001b[1;33m-\u001b[0m\u001b[0mp\u001b[0m\u001b[1;33m*\u001b[0m\u001b[0mlog\u001b[0m\u001b[1;33m(\u001b[0m\u001b[0mp\u001b[0m\u001b[1;33m,\u001b[0m\u001b[1;36m2\u001b[0m\u001b[1;33m)\u001b[0m \u001b[1;33m-\u001b[0m \u001b[1;33m(\u001b[0m\u001b[1;36m1.0\u001b[0m\u001b[1;33m-\u001b[0m\u001b[0mp\u001b[0m\u001b[1;33m)\u001b[0m\u001b[1;33m*\u001b[0m\u001b[0mlog\u001b[0m\u001b[1;33m(\u001b[0m\u001b[1;36m1.0\u001b[0m\u001b[1;33m-\u001b[0m\u001b[0mp\u001b[0m\u001b[1;33m,\u001b[0m\u001b[1;36m2\u001b[0m\u001b[1;33m)\u001b[0m\u001b[1;33m\u001b[0m\u001b[0m\n\u001b[0m\u001b[0;32m      5\u001b[0m \u001b[1;33m\u001b[0m\u001b[0m\n\u001b[0;32m      6\u001b[0m \u001b[0mprint\u001b[0m\u001b[1;33m(\u001b[0m\u001b[0mentropia\u001b[0m\u001b[1;33m(\u001b[0m\u001b[1;36m1.0\u001b[0m\u001b[1;33m)\u001b[0m\u001b[1;33m,\u001b[0m \u001b[0mentropia\u001b[0m\u001b[1;33m(\u001b[0m\u001b[1;36m0.0\u001b[0m\u001b[1;33m)\u001b[0m\u001b[1;33m)\u001b[0m\u001b[1;33m\u001b[0m\u001b[0m\n",
      "\u001b[1;31mValueError\u001b[0m: math domain error"
     ]
    }
   ],
   "source": [
    "from math import log\n",
    "\n",
    "def entropia(p):\n",
    "    return -p*log(p,2) - (1.0-p)*log(1.0-p,2)\n",
    "\n",
    "print(entropia(1.0), entropia(0.0))"
   ]
  },
  {
   "cell_type": "markdown",
   "metadata": {
    "slideshow": {
     "slide_type": "slide"
    }
   },
   "source": [
    "Por conveniência, o valor da entropia para esses dois casos é definida como `0.0`.\n",
    "\n",
    "Nossa função poderia ficar então da seguinte forma:\n",
    "\n",
    "```python\n",
    "def entropia(p):\n",
    "    Se p == 0 ou p == 1:\n",
    "        return 0.0\n",
    "    Senão:\n",
    "        return -p*log(p,2) - (1.0-p)*log(1.0-p,2)\n",
    "```\n",
    "\n",
    "O *se* e *senão* criam uma estrutura conhecida como *condicionais* em que certos cálculos são realizados apenas se determinadas condições são satisfeitas.\n",
    "\n",
    "No Python utilizamos `if` e `else`."
   ]
  },
  {
   "cell_type": "code",
   "execution_count": 2,
   "metadata": {
    "collapsed": false,
    "slideshow": {
     "slide_type": "slide"
    }
   },
   "outputs": [
    {
     "name": "stdout",
     "output_type": "stream",
     "text": [
      "0.0 0.0 1.0\n"
     ]
    }
   ],
   "source": [
    "def entropia(p):\n",
    "    if p == 0 or p == 1:\n",
    "        return 0.0\n",
    "    else:\n",
    "        return -p*log(p,2) - (1.0-p)*log(1.0-p,2)\n",
    "\n",
    "print(entropia(0.0), entropia(1.0), entropia(0.5))"
   ]
  },
  {
   "cell_type": "markdown",
   "metadata": {
    "slideshow": {
     "slide_type": "slide"
    }
   },
   "source": [
    "Nos dois primeiros casos, `entropia(0.0)` e `entropia(1.0)`, a função irá verificar que p contém um dos valores especiais e irá retornar simplesmente zero.\n",
    "\n",
    "No último caso, a função verificará que não é nenhum caso especial e calculará a fórmula da entropia."
   ]
  },
  {
   "cell_type": "markdown",
   "metadata": {
    "slideshow": {
     "slide_type": "slide"
    }
   },
   "source": [
    "**Exercício 01:**  crie uma função chamada *MediaPonderada* que receba como parâmetro as notas da *P1*, da *P2* e o peso *w* da P1 e retorne a média final ponderada pelo peso dado. Note que *w* deve ser um valor entre *0.0* e *1.0* e a média pode ser calculada por $w.P1 + (1.0-w).P2$.\n",
    "\n",
    "Caso o valor de w esteja fora do domínio, assuma o valor padrão de *0.5*."
   ]
  },
  {
   "cell_type": "code",
   "execution_count": 5,
   "metadata": {
    "collapsed": false
   },
   "outputs": [
    {
     "name": "stdout",
     "output_type": "stream",
     "text": [
      "9.3\n",
      "5.0\n",
      "5.0\n"
     ]
    }
   ],
   "source": [
    "# crie a função aqui:\n",
    "\n",
    "\n",
    "\n",
    "\n",
    "\n",
    "# casos de teste\n",
    "print(MediaPonderada(10, 9, 0.3))  # resposta = 9.3\n",
    "print(MediaPonderada(5,7,1.0))  # resposta = 5\n",
    "print(MediaPonderada(3,7,2.0))  # resposta = 5"
   ]
  },
  {
   "cell_type": "markdown",
   "metadata": {
    "slideshow": {
     "slide_type": "slide"
    }
   },
   "source": [
    "**Exercício 02:** crie uma função chamada *Conceito* que, dada a média final *M*, o limiar de aprovação *limiar*, retorne se o aluno foi aprovado ou reprovado."
   ]
  },
  {
   "cell_type": "code",
   "execution_count": 8,
   "metadata": {
    "collapsed": false
   },
   "outputs": [
    {
     "name": "stdout",
     "output_type": "stream",
     "text": [
      "9.3 A\n",
      "6.4 F\n"
     ]
    }
   ],
   "source": [
    "# crie a função aqui\n",
    "\n",
    "\n",
    "\n",
    "\n",
    "\n",
    "corte = 8\n",
    "\n",
    "media = MediaPonderada(10, 9, 0.3)\n",
    "print (media, Conceito(media, corte))  # 9.3, A\n",
    "\n",
    "media = MediaPonderada(5,7,0.3)\n",
    "print (media, Conceito(media, corte))  # 6.4, F"
   ]
  },
  {
   "cell_type": "markdown",
   "metadata": {
    "slideshow": {
     "slide_type": "slide"
    }
   },
   "source": [
    "**Exercício 03:** agora crie uma função chamada *Faltas* que recebe como parâmetro o número de faltas *faltas* e o limiar de faltas *limiar* e determina se o aluno foi reprovado por falta ou não.\n",
    "\n",
    "Vamos determinar o conceito \"O\" como reprovado por faltas e \"NO\" como não-reprovado por faltas."
   ]
  },
  {
   "cell_type": "code",
   "execution_count": 9,
   "metadata": {
    "collapsed": false
   },
   "outputs": [
    {
     "name": "stdout",
     "output_type": "stream",
     "text": [
      "NO\n",
      "O\n"
     ]
    }
   ],
   "source": [
    "# crie a função aqui\n",
    "def Faltas(faltas, limiar):\n",
    "    \n",
    "    \n",
    "    \n",
    "    \n",
    "    \n",
    "corte = 14\n",
    "\n",
    "faltas = Faltas(10, corte)\n",
    "print (faltas)  # NO\n",
    "\n",
    "faltas = Faltas(20, corte)\n",
    "print (faltas) # O"
   ]
  },
  {
   "cell_type": "markdown",
   "metadata": {
    "slideshow": {
     "slide_type": "slide"
    }
   },
   "source": [
    "**Exercício 04:** faça uma função que receba o conceito obtido pelas notas e o conceito obtido pelas faltas e determine se o aluno foi aprovado (*A*), reprovado (*F*) ou reprovado por falta (*O*).\n",
    "\n",
    "Utilize as funções anteriores!"
   ]
  },
  {
   "cell_type": "code",
   "execution_count": 10,
   "metadata": {
    "collapsed": false
   },
   "outputs": [
    {
     "name": "stdout",
     "output_type": "stream",
     "text": [
      "A\n",
      "F\n",
      "O\n"
     ]
    }
   ],
   "source": [
    "# crie a função aqui\n",
    "\n",
    "\n",
    "\n",
    "\n",
    "media = MediaPonderada(10, 9, 0.3)\n",
    "conceito = Conceito(media, 8) \n",
    "faltas = Faltas(10, 14)\n",
    "print(ConceitoFinal(conceito, faltas)) # A\n",
    "\n",
    "conceito = Conceito(0.0, 8)\n",
    "print(ConceitoFinal(conceito,faltas)) # F\n",
    "\n",
    "faltas = Faltas(20, 14)\n",
    "print(ConceitoFinal(conceito,faltas)) # O"
   ]
  },
  {
   "cell_type": "markdown",
   "metadata": {
    "slideshow": {
     "slide_type": "slide"
    }
   },
   "source": [
    "Vamos criar agora o jogo do Pedra-Papel-Tesoura.\n",
    "\n",
    "Nesse jogo temos a seguinte regra:\n",
    "\n",
    "```\n",
    "Dadas as jogadas do jogador 1 (J1) e do jogador 2 (J2)\n",
    "Se J1 == J2:\n",
    "    deu empate\n",
    "Senão se J1 for \"pedra\" e J2 for \"tesoura\" OU J1 for \"tesoura\" e J2 for \"papel\" OU J1 for \"papel\" e J2 for \"pedra\":\n",
    "    J1 ganhou\n",
    "Senão:\n",
    "    J2 ganhou\n",
    "```"
   ]
  },
  {
   "cell_type": "markdown",
   "metadata": {
    "slideshow": {
     "slide_type": "slide"
    }
   },
   "source": [
    "Reparem que, diferente dos casos anteriores, temos mais do que duas condições para verificar.\n",
    "\n",
    "As condições subsequentes do ```if``` podem ser realizadas no Python utilizando a instrução ```elif```."
   ]
  },
  {
   "cell_type": "code",
   "execution_count": 11,
   "metadata": {
    "collapsed": false
   },
   "outputs": [
    {
     "name": "stdout",
     "output_type": "stream",
     "text": [
      "-1 0 1\n"
     ]
    }
   ],
   "source": [
    "def PedraPapelTesoura(J1, J2):\n",
    "    \"\"\"\n",
    "    Determina o vencedor de uma partida de pedra-papel-tesoura.\n",
    "    Retorna -1 caso o jogador 1 tenha vencido, 0 em caso de empate e +1 caso o jogador 2 vença\n",
    "    \"\"\"\n",
    "\n",
    "    \n",
    "    \n",
    "    \n",
    "print(PedraPapelTesoura(\"pedra\", \"tesoura\"), PedraPapelTesoura(\"pedra\", \"pedra\"), PedraPapelTesoura(\"tesoura\", \"pedra\"))"
   ]
  },
  {
   "cell_type": "markdown",
   "metadata": {
    "slideshow": {
     "slide_type": "slide"
    }
   },
   "source": [
    "O texto escrito logo após a definição da função, envolvidos entre sequência de 3 aspas duplas é chamado de *docstring*.\n",
    "\n",
    "Toda função que possui uma *docstring* permite que você utilize o comando `help()` para verificar o que ela faz:"
   ]
  },
  {
   "cell_type": "code",
   "execution_count": 12,
   "metadata": {
    "collapsed": false,
    "slideshow": {
     "slide_type": "slide"
    }
   },
   "outputs": [
    {
     "name": "stdout",
     "output_type": "stream",
     "text": [
      "Help on function PedraPapelTesoura in module __main__:\n",
      "\n",
      "PedraPapelTesoura(J1, J2)\n",
      "    Determina o vencedor de uma partida de pedra-papel-tesoura.\n",
      "    Retorna -1 caso o jogador 1 tenha vencido, 0 em caso de empate e +1 caso o jogador 2 vença\n",
      "\n"
     ]
    }
   ],
   "source": [
    "help(PedraPapelTesoura)"
   ]
  },
  {
   "cell_type": "markdown",
   "metadata": {
    "slideshow": {
     "slide_type": "slide"
    }
   },
   "source": [
    "**Exercício 05:** crie uma função que jogue cara ou coroa. A entrada sera a opção \"cara\" ou \"coroa\". A função irá sortear um valor entre 0.0 e 1.0, caso o valor seja menor do 0.5, o resultado será definido como \"cara\", caso contrário, \"coroa\".\n",
    "\n",
    "A saída deverá indicar se o usuário ganhou ou não.\n",
    "\n",
    "Para sortear um valor, utilize a função `random()` da biblioteca `random`."
   ]
  },
  {
   "cell_type": "code",
   "execution_count": 21,
   "metadata": {
    "collapsed": false
   },
   "outputs": [
    {
     "name": "stdout",
     "output_type": "stream",
     "text": [
      "ganhou\n",
      "perdeu\n",
      "ganhou\n",
      "perdeu\n"
     ]
    }
   ],
   "source": [
    "import random\n",
    "\n",
    "def CaraCoroa(palpite):\n",
    "    numero = random.random()\n",
    "\n",
    "    \n",
    "    \n",
    "    \n",
    "    \n",
    "    \n",
    "print(CaraCoroa(\"cara\"))\n",
    "print(CaraCoroa(\"cara\"))\n",
    "print(CaraCoroa(\"cara\")) \n",
    "print(CaraCoroa(\"cara\")) "
   ]
  },
  {
   "cell_type": "code",
   "execution_count": 22,
   "metadata": {
    "collapsed": false
   },
   "outputs": [
    {
     "name": "stdout",
     "output_type": "stream",
     "text": [
      "ganhou\n",
      "ganhou\n",
      "perdeu\n",
      "perdeu\n"
     ]
    }
   ],
   "source": [
    "def CaraCoroa(palpite):\n",
    "    numero = random.random()\n",
    "    # usando apenas um if-else\n",
    "\n",
    "    \n",
    "    \n",
    "    \n",
    "print(CaraCoroa(\"cara\"))\n",
    "print(CaraCoroa(\"cara\")) \n",
    "print(CaraCoroa(\"cara\")) \n",
    "print(CaraCoroa(\"cara\")) "
   ]
  },
  {
   "cell_type": "markdown",
   "metadata": {
    "slideshow": {
     "slide_type": "slide"
    }
   },
   "source": [
    "**Exercício 06:** Vamos alterar a função `PedraPapelTesoura()` para receber apenas a jogada do jogador 1, o jogador 2 será determinado aleatoriamente pela função `choice()` da biblioteca `random`.\n",
    "\n",
    "A função `choice()` recebe uma lista de valores como parâmetro e retorna um elemento da lista sorteado aleatoriamente."
   ]
  },
  {
   "cell_type": "code",
   "execution_count": 28,
   "metadata": {
    "collapsed": false
   },
   "outputs": [
    {
     "name": "stdout",
     "output_type": "stream",
     "text": [
      "(0, 'pedra')\n",
      "(1, 'papel')\n",
      "(0, 'pedra')\n"
     ]
    }
   ],
   "source": [
    "def PedraPapelTesoura(J1):\n",
    "    \"\"\"\n",
    "    Determina o vencedor de uma partida de pedra-papel-tesoura.\n",
    "    Retorna -1 caso o jogador 1 tenha vencido, 0 em caso de empate e +1 caso o jogador 2 vença\n",
    "    \"\"\"\n",
    "    J2 = random.choice([ \"pedra\", \"papel\", \"tesoura\"])\n",
    "\n",
    "    \n",
    "    \n",
    "    \n",
    "print(PedraPapelTesoura(\"pedra\"))\n",
    "print(PedraPapelTesoura(\"pedra\"))\n",
    "print(PedraPapelTesoura(\"pedra\"))"
   ]
  }
 ],
 "metadata": {
  "celltoolbar": "Slideshow",
  "kernelspec": {
   "display_name": "Python 3",
   "language": "python",
   "name": "python3"
  },
  "language_info": {
   "codemirror_mode": {
    "name": "ipython",
    "version": 3
   },
   "file_extension": ".py",
   "mimetype": "text/x-python",
   "name": "python",
   "nbconvert_exporter": "python",
   "pygments_lexer": "ipython3",
   "version": "3.5.1"
  }
 },
 "nbformat": 4,
 "nbformat_minor": 0
}
