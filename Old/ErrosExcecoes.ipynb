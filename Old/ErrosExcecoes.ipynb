{
 "cells": [
  {
   "cell_type": "markdown",
   "metadata": {},
   "source": [
    "## Erros e Exceções"
   ]
  },
  {
   "cell_type": "markdown",
   "metadata": {},
   "source": [
    "Em diversas situações, podem ocorrer erros ou exceções no Python. Veja alguns exemplos a seguir:"
   ]
  },
  {
   "cell_type": "code",
   "execution_count": null,
   "metadata": {
    "collapsed": false
   },
   "outputs": [],
   "source": [
    "print(4/0) # division by zero"
   ]
  },
  {
   "cell_type": "code",
   "execution_count": null,
   "metadata": {
    "collapsed": false
   },
   "outputs": [],
   "source": [
    "float(\"quatro ponto seis\") # ValueError: could not convert string to float"
   ]
  },
  {
   "cell_type": "markdown",
   "metadata": {},
   "source": [
    "Em alguns casos, o programador pode prever tais erros e evitá-los.\n",
    "\n",
    "Entretanto, existem certos casos que é difícil ou até mesmo impossível prever se haverá um erro ou exceção.\n",
    "\n",
    "Veja o exemplo abaixo:"
   ]
  },
  {
   "cell_type": "code",
   "execution_count": null,
   "metadata": {
    "collapsed": false
   },
   "outputs": [],
   "source": [
    "x = float(input(\"Digite um número:\"))\n",
    "print(1/x)"
   ]
  },
  {
   "cell_type": "markdown",
   "metadata": {},
   "source": [
    "No caso anterior, caso o usuário digite o valor zero ou um texto não numérico (ex.: \"aula\"), ocasionará um erro. O programador não pode evitar tal situação.\n",
    "\n",
    "Neste caso, é interessante fazer um tratamento de erros utilizando os comandos `try` e `except`.\n",
    "\n",
    "Veja o exemplo anterior, mas com tratamento de erro:"
   ]
  },
  {
   "cell_type": "code",
   "execution_count": 40,
   "metadata": {
    "collapsed": false
   },
   "outputs": [
    {
     "name": "stdout",
     "output_type": "stream",
     "text": [
      "Digite um número:abc\n",
      "Número inválido.\n",
      "Fim do programa\n"
     ]
    }
   ],
   "source": [
    "try:\n",
    "    x = float(input(\"Digite um número:\"))\n",
    "    print(1/x)\n",
    "except ValueError:\n",
    "    print (\"Número inválido.\")\n",
    "except ZeroDivisionError:\n",
    "    print (\"O valor de x não pode ser zero.\")\n",
    "except:\n",
    "    print (\"Erro desconhecido.\")\n",
    "finally:\n",
    "    print (\"Fim do programa\")"
   ]
  },
  {
   "cell_type": "markdown",
   "metadata": {},
   "source": [
    "No exemplo anterior, o código dentro do escopo `try` será executado.\n",
    "\n",
    "Caso houver algum erro ou exceção no escopo do `try`, será tratado dentro dos respectivos escopos `except`:\n",
    "* `except ValueError:` será impresso \"Número inválido.\". Este erro ocorre quando o usuário digita algo não numérico.\n",
    "* `except ZeroDivisionError:` será impresso \"O valor de x não pode ser zero.\". Este erro ocorre quando o usuário digita \"0\".\n",
    "* `except:` se houver alguma outra exceção diferente das anteriores, será executado o código dentro deste escopo. Neste caso, será impresso \"Erro desconhecido.\".\n",
    "\n",
    "O bloco `finally` é uma condição que **sempre** será executado, não importa se houve ou não erro ou exceção. Este bloco é opcional, mas muito útil em muitos casos."
   ]
  },
  {
   "cell_type": "markdown",
   "metadata": {},
   "source": [
    "Em alguns casos, o programador pode querer forçar uma exceção.\n",
    "\n",
    "Nesta hipóstese, ao chamar o comando `raise`, será enviada uma exceção.\n",
    "\n",
    "Veja o exemplo a seguir:"
   ]
  },
  {
   "cell_type": "code",
   "execution_count": 41,
   "metadata": {
    "collapsed": false
   },
   "outputs": [
    {
     "name": "stdout",
     "output_type": "stream",
     "text": [
      "Digite a senha de acesso: 123\n",
      "Senha correta!\n"
     ]
    }
   ],
   "source": [
    "senha = input(\"Digite a senha de acesso: \")\n",
    "try:\n",
    "    if senha != \"123\":\n",
    "        raise\n",
    "    print(\"Senha correta!\")\n",
    "except:\n",
    "    print(\"Senha incorreta!\")\n"
   ]
  },
  {
   "cell_type": "markdown",
   "metadata": {},
   "source": [
    "No exemplo anterior, caso o usuário digite a senha incorreta (no exemplo, \"123\"), ocorrerá uma exeção.\n",
    "\n",
    "Também é possível especificar o tipo de exceção. Veja o mesmo exemplo anterior, só que mais elaborado:"
   ]
  },
  {
   "cell_type": "code",
   "execution_count": 42,
   "metadata": {
    "collapsed": false
   },
   "outputs": [
    {
     "name": "stdout",
     "output_type": "stream",
     "text": [
      "Digite a senha de acesso: 234\n",
      "Senha incorreta.\n"
     ]
    }
   ],
   "source": [
    "try:\n",
    "    try:\n",
    "        senha = int(input(\"Digite a senha de acesso: \"))\n",
    "    except ValueError:\n",
    "        raise Exception('Senha não numérica.')\n",
    "    if senha != 123:\n",
    "        raise Exception(\"Senha incorreta.\")\n",
    "except Exception as e:\n",
    "    print(e)"
   ]
  },
  {
   "cell_type": "markdown",
   "metadata": {},
   "source": [
    "No exemplo anterior, não apenas foi exemplificado a possibilidade de utilizarmos dois `try` aninhados (um dentro do outro), mas também que podemos inserir descrições sobre uma exceção gerada pelo comando `raise`.\n",
    "\n",
    "Aprenda mais sobre exceções em [Exceções em Python](https://docs.python.org/3/library/exceptions.html)."
   ]
  }
 ],
 "metadata": {
  "celltoolbar": "Slideshow",
  "kernelspec": {
   "display_name": "Python 2",
   "language": "python",
   "name": "python2"
  },
  "language_info": {
   "codemirror_mode": {
    "name": "ipython",
    "version": 2
   },
   "file_extension": ".py",
   "mimetype": "text/x-python",
   "name": "python",
   "nbconvert_exporter": "python",
   "pygments_lexer": "ipython2",
   "version": "2.7.11"
  }
 },
 "nbformat": 4,
 "nbformat_minor": 0
}
