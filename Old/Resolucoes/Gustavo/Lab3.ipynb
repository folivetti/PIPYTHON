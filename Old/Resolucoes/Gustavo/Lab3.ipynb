{
 "cells": [
  {
   "cell_type": "markdown",
   "metadata": {},
   "source": [
    "# Exercicios Semana 2 - 02/03/2016"
   ]
  },
  {
   "cell_type": "markdown",
   "metadata": {},
   "source": [
    "## Exercicio 1"
   ]
  },
  {
   "cell_type": "markdown",
   "metadata": {},
   "source": [
    "* Parte 1) VerificaTriangulo()"
   ]
  },
  {
   "cell_type": "code",
   "execution_count": 2,
   "metadata": {
    "collapsed": false
   },
   "outputs": [
    {
     "name": "stdout",
     "output_type": "stream",
     "text": [
      "True\n"
     ]
    }
   ],
   "source": [
    "def VerificaTriangulo(x,y,z):\n",
    "    if (x+y)>z and (x+z)>y and (y+z)>x:\n",
    "        return True\n",
    "    else:\n",
    "        return False\n",
    "print(VerificaTriangulo(1,1,1.5))"
   ]
  },
  {
   "cell_type": "markdown",
   "metadata": {},
   "source": [
    "* Parte 2) TipoTriangulo"
   ]
  },
  {
   "cell_type": "code",
   "execution_count": 5,
   "metadata": {
    "collapsed": false
   },
   "outputs": [
    {
     "name": "stdout",
     "output_type": "stream",
     "text": [
      "escaleno\n"
     ]
    }
   ],
   "source": [
    "def TipoTriangulo(x,y,z):\n",
    "    if x==y and y==z and x==z:\n",
    "        return 'equilátero'\n",
    "    elif x==y or x==z or y==z:\n",
    "        return 'isósceles'\n",
    "    else:\n",
    "        return 'escaleno'\n",
    "print(TipoTriangulo(1,1.1,1.2))"
   ]
  },
  {
   "cell_type": "markdown",
   "metadata": {},
   "source": [
    "* Parte 3) Triangulo"
   ]
  },
  {
   "cell_type": "code",
   "execution_count": 8,
   "metadata": {
    "collapsed": false
   },
   "outputs": [
    {
     "name": "stdout",
     "output_type": "stream",
     "text": [
      "equilátero\n",
      "isósceles\n",
      "escaleno\n",
      "não é triângulo\n"
     ]
    }
   ],
   "source": [
    "def Triangulo(x,y,z):\n",
    "    if (VerificaTriangulo(x,y,z)):\n",
    "#   if (x+y)>z and (x+z)>y and (y+z)>x:\n",
    "        #return TipoTriangulo(x,y,z)\n",
    "        if x==y and y==z and x==z:\n",
    "            return 'equilátero'\n",
    "        elif x==y or x==z or y==z:\n",
    "            return 'isósceles'\n",
    "        else:\n",
    "            return 'escaleno'\n",
    "    else:\n",
    "        return 'não é triângulo'\n",
    "print (Triangulo(5,5,5)) # equilatero\n",
    "print (Triangulo(5,5,7)) # isóceles\n",
    "print (Triangulo(3,4,5)) # escaleno\n",
    "print (Triangulo(5,5,11)) # não é triângulo"
   ]
  },
  {
   "cell_type": "markdown",
   "metadata": {},
   "source": [
    "## Exercicio 2"
   ]
  },
  {
   "cell_type": "code",
   "execution_count": 15,
   "metadata": {
    "collapsed": false
   },
   "outputs": [
    {
     "name": "stdout",
     "output_type": "stream",
     "text": [
      "True\n",
      "True\n",
      "False\n"
     ]
    }
   ],
   "source": [
    "def Bissexto(ano):\n",
    "    if (ano%400==0) or (ano%4==0 and ano%100!=0):\n",
    "        return True\n",
    "    else:\n",
    "        return False\n",
    "print (Bissexto(2000)) # True\n",
    "print (Bissexto(2004)) # True\n",
    "print (Bissexto(1900)) # False"
   ]
  },
  {
   "cell_type": "markdown",
   "metadata": {},
   "source": [
    "## Exercicio 3"
   ]
  },
  {
   "cell_type": "code",
   "execution_count": 17,
   "metadata": {
    "collapsed": false
   },
   "outputs": [
    {
     "name": "stdout",
     "output_type": "stream",
     "text": [
      "(1, 2, 3)\n",
      "(1, 2, 3)\n",
      "(1, 2, 3)\n",
      "(1, 2, 3)\n",
      "(1, 2, 3)\n",
      "(1, 2, 3)\n",
      "(1, 2, 2)\n"
     ]
    }
   ],
   "source": [
    "def Crescente(x,y,z):\n",
    "    if x <= y <= z:\n",
    "        return x,y,z\n",
    "    elif y <= x <= z:\n",
    "        return y,x,z\n",
    "    elif z <= x <= y:\n",
    "        return z,x,y\n",
    "    elif x <= z <= y:\n",
    "        return x,z,y\n",
    "    elif y <= z <= x:\n",
    "        return y,z,x\n",
    "    elif z <= y <= x:\n",
    "        return z,y,x\n",
    "    else:\n",
    "        return 'Erro'\n",
    "print (Crescente(1,2,3))\n",
    "print (Crescente(1,3,2))\n",
    "print (Crescente(2,1,3))\n",
    "print (Crescente(2,3,1))\n",
    "print (Crescente(3,1,2))\n",
    "print (Crescente(3,2,1))\n",
    "print (Crescente(1,2,2))"
   ]
  },
  {
   "cell_type": "markdown",
   "metadata": {},
   "source": [
    "## Exercicio 4"
   ]
  },
  {
   "cell_type": "code",
   "execution_count": 20,
   "metadata": {
    "collapsed": false
   },
   "outputs": [
    {
     "name": "stdout",
     "output_type": "stream",
     "text": [
      "True\n",
      "False\n",
      "False\n",
      "True\n"
     ]
    }
   ],
   "source": [
    "def PesoIdeal(genero,altura,peso):\n",
    "    if (altura <= 1.5) and ((genero==\"masculino\" and peso <= 50) or (genero==\"feminino\" and peso <=48)):\n",
    "        return True\n",
    "    elif (1.5< altura <= 1.7) and ((genero==\"masculino\" and peso <= 74) or (genero==\"feminino\" and peso <=68)):\n",
    "        return True\n",
    "    elif (1.7< altura <= 1.9) and ((genero==\"masculino\" and peso <= 98) or (genero==\"feminino\" and peso <=88)):\n",
    "        return True\n",
    "    elif (1.9< altura <= 2.1) and ((genero==\"masculino\" and peso <= 122) or (genero==\"feminino\" and peso <=108)):\n",
    "        return True\n",
    "    else:\n",
    "        return False\n",
    "print (PesoIdeal(\"masculino\", 1.87, 75)) # True\n",
    "print (PesoIdeal(\"masculino\", 1.92, 200)) # False\n",
    "print (PesoIdeal(\"feminino\", 1.87, 90)) # False\n",
    "print (PesoIdeal(\"feminino\", 1.6, 40)) # True"
   ]
  },
  {
   "cell_type": "markdown",
   "metadata": {},
   "source": [
    "## Exercicio 5"
   ]
  },
  {
   "cell_type": "code",
   "execution_count": 21,
   "metadata": {
    "collapsed": false
   },
   "outputs": [
    {
     "name": "stdout",
     "output_type": "stream",
     "text": [
      "True\n",
      "False\n"
     ]
    }
   ],
   "source": [
    "def Circunferencia(cx,cy,r,x,y):\n",
    "    if (cx - x)**2 + (cy - y)**2 <= r**2:\n",
    "        return True\n",
    "    else:\n",
    "        return False\n",
    "print (Circunferencia(0,0,10,5,5) ) # True\n",
    "print (Circunferencia(0,0,10,15,5))  # False"
   ]
  },
  {
   "cell_type": "markdown",
   "metadata": {},
   "source": [
    "## Exercicio 5b\n"
   ]
  },
  {
   "cell_type": "code",
   "execution_count": 22,
   "metadata": {
    "collapsed": false
   },
   "outputs": [
    {
     "name": "stdout",
     "output_type": "stream",
     "text": [
      "True\n",
      "False\n"
     ]
    }
   ],
   "source": [
    "def Circunferencia(cx,cy,r):\n",
    "    def VerificaPonto(x,y):\n",
    "        if (cx - x)**2 + (cy - y)**2 <= r**2:\n",
    "            return True\n",
    "        else:\n",
    "            return False\n",
    "    return VerificaPonto\n",
    "Verifica = Circunferencia(0,0,10)\n",
    "print (Verifica(5,5))\n",
    "print (Verifica(15,5))"
   ]
  },
  {
   "cell_type": "markdown",
   "metadata": {},
   "source": [
    "## Exercicio 6"
   ]
  },
  {
   "cell_type": "code",
   "execution_count": 24,
   "metadata": {
    "collapsed": false
   },
   "outputs": [
    {
     "name": "stdout",
     "output_type": "stream",
     "text": [
      "False\n",
      "True\n",
      "False\n"
     ]
    }
   ],
   "source": [
    "import math\n",
    "def EstrelaMorte(cx1,cy1,r1,cx2,cy2,r2):\n",
    "    def Distancia(x1,y1,x2,y2):\n",
    "        return math.sqrt((x2-x1)**2 + (y2-y1)**2)\n",
    "    if (r1 > 10*r2) or (r2 > r1*10): # Condicao 1: 10x raio\n",
    "        if math.fabs(r1-r2) >= Distancia(cx1,cy1,cx2,cy2): # Condicao 2\n",
    "            if math.fabs(r1-r2) >= Distancia(cx1,cy1,cx2,cy2)+2: # Condic\n",
    "                return True\n",
    "            else:\n",
    "                return False\n",
    "        else:\n",
    "            return False\n",
    "    else: \n",
    "        return False\n",
    "print (EstrelaMorte(0,0,20,3,3,10))\n",
    "print (EstrelaMorte(0,0,200,3,3,10))\n",
    "print (EstrelaMorte(0,0,200,195,3,10))"
   ]
  },
  {
   "cell_type": "markdown",
   "metadata": {
    "collapsed": true
   },
   "source": [
    "## Exercicio 7"
   ]
  },
  {
   "cell_type": "code",
   "execution_count": 1,
   "metadata": {
    "collapsed": false
   },
   "outputs": [
    {
     "name": "stdout",
     "output_type": "stream",
     "text": [
      "-1.0\n",
      "((-0.5-0.8660254037844386j), (-0.5+0.8660254037844386j))\n",
      "(-2.618033988749895, -0.3819660112501051)\n"
     ]
    }
   ],
   "source": [
    "import math,cmath\n",
    "def RaizSegundoGrau(a,b,c):\n",
    "    delta = b**2 - 4*a*c\n",
    "    if delta < 0: #raizes complexas\n",
    "        c1 = (-b - cmath.sqrt(delta))/(2*a)\n",
    "        c2 = (-b + cmath.sqrt(delta))/(2*a)\n",
    "        return c1,c2 \n",
    "    elif delta==0:\n",
    "        return -b / (2*a)\n",
    "    else:\n",
    "        x1 = (-b - math.sqrt(delta))/(2*a)\n",
    "        x2 = (-b + math.sqrt(delta))/(2*a)\n",
    "        return x1,x2\n",
    "print (RaizSegundoGrau(2,4,2) ) # -1.0\n",
    "print (RaizSegundoGrau(2,2,2))  # -0.5 - 0.9j, -0.5+0.9j\n",
    "print (RaizSegundoGrau(2,6,2))  # -2.6, -0.38"
   ]
  },
  {
   "cell_type": "code",
   "execution_count": null,
   "metadata": {
    "collapsed": true
   },
   "outputs": [],
   "source": []
  }
 ],
 "metadata": {
  "kernelspec": {
   "display_name": "Python 3",
   "language": "python",
   "name": "python3"
  },
  "language_info": {
   "codemirror_mode": {
    "name": "ipython",
    "version": 3
   },
   "file_extension": ".py",
   "mimetype": "text/x-python",
   "name": "python",
   "nbconvert_exporter": "python",
   "pygments_lexer": "ipython3",
   "version": "3.5.1"
  }
 },
 "nbformat": 4,
 "nbformat_minor": 0
}
