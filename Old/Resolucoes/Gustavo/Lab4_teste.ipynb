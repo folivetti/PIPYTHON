{
 "cells": [
  {
   "cell_type": "markdown",
   "metadata": {},
   "source": [
    "# Lista de exercicios 3"
   ]
  },
  {
   "cell_type": "markdown",
   "metadata": {},
   "source": [
    "## Exercicio 1"
   ]
  },
  {
   "cell_type": "code",
   "execution_count": 5,
   "metadata": {
    "collapsed": false
   },
   "outputs": [
    {
     "name": "stdout",
     "output_type": "stream",
     "text": [
      "True\n",
      "True\n",
      "False\n"
     ]
    }
   ],
   "source": [
    "import string\n",
    "def Palindromo(x):\n",
    "    invertido = 0\n",
    "    num = x\n",
    "    while not(num==0):\n",
    "        digito = num % 10\n",
    "        invertido = (invertido * 10) + digito\n",
    "        num = num // 10\n",
    "    return (invertido==x)\n",
    "    \n",
    "print (Palindromo(1221))\n",
    "print (Palindromo(121))\n",
    "print (Palindromo(1231))"
   ]
  },
  {
   "cell_type": "markdown",
   "metadata": {},
   "source": [
    "## Exercicio 2"
   ]
  },
  {
   "cell_type": "code",
   "execution_count": 34,
   "metadata": {
    "collapsed": false
   },
   "outputs": [
    {
     "name": "stdout",
     "output_type": "stream",
     "text": [
      "1\n",
      "1\n",
      "120\n",
      "3628800\n"
     ]
    }
   ],
   "source": [
    "def Fatorial(x):\n",
    "    fatorial = 1\n",
    "    while x > 1:\n",
    "        fatorial = fatorial * x\n",
    "        x = x -1\n",
    "    return fatorial\n",
    "    \n",
    "print (Fatorial(0))\n",
    "print (Fatorial(1))\n",
    "print (Fatorial(5))\n",
    "print (Fatorial(10))"
   ]
  },
  {
   "cell_type": "markdown",
   "metadata": {},
   "source": [
    "## Exercicio 3"
   ]
  },
  {
   "cell_type": "code",
   "execution_count": 1,
   "metadata": {
    "collapsed": false
   },
   "outputs": [
    {
     "name": "stdout",
     "output_type": "stream",
     "text": [
      "1\n",
      "1\n",
      "1\n",
      "2\n",
      "3\n",
      "5\n",
      "8\n",
      "13\n",
      "21\n",
      "34\n",
      "\n"
     ]
    }
   ],
   "source": [
    "def Fibonacci(x):\n",
    "    if x==0 or x==1:\n",
    "        return 1\n",
    "    else:\n",
    "        a,b=1,1\n",
    "#       contador = 0\n",
    "#        while x > contador:\n",
    "#            temp = a\n",
    "#            a = b\n",
    "#            b = temp + b\n",
    "#            contador=contador+1\n",
    "#        return a\n",
    "        for i in range(x-1):\n",
    "            a,b = b,a+b\n",
    "        return a\n",
    "    \n",
    "for i in range(10):\n",
    "    print (Fibonacci(i),)\n",
    "print()"
   ]
  },
  {
   "cell_type": "markdown",
   "metadata": {},
   "source": [
    "## Exercicio 4"
   ]
  },
  {
   "cell_type": "code",
   "execution_count": 11,
   "metadata": {
    "collapsed": false
   },
   "outputs": [
    {
     "name": "stdout",
     "output_type": "stream",
     "text": [
      "0.7595238095238094\n",
      "0.7163904507944752\n",
      "0.6956285548599315\n"
     ]
    }
   ],
   "source": [
    "def SomaSeries(x):\n",
    "    s1,s2=0,0\n",
    "    cont1,cont2=1,2\n",
    "    while cont1 <= (2*x+1):\n",
    "        s1 = s1 + 1/cont1\n",
    "        cont1 = cont1 + 2\n",
    "    while cont2 <= (2*x):\n",
    "        s2 = s2 + 1/cont2\n",
    "        cont2 = cont2 + 2        \n",
    "    return s1-s2\n",
    "\n",
    "print (SomaSeries(3))\n",
    "print (SomaSeries(10))\n",
    "print (SomaSeries(100))"
   ]
  },
  {
   "cell_type": "markdown",
   "metadata": {},
   "source": [
    "## Exercicio 5"
   ]
  },
  {
   "cell_type": "markdown",
   "metadata": {},
   "source": []
  },
  {
   "cell_type": "code",
   "execution_count": 56,
   "metadata": {
    "collapsed": false
   },
   "outputs": [
    {
     "name": "stdout",
     "output_type": "stream",
     "text": [
      "6.0 6.0\n",
      "210.0 210.0\n"
     ]
    }
   ],
   "source": [
    "def Binomial1(n,k):\n",
    "    return Fatorial(n) / (Fatorial(k) * Fatorial(n-k))\n",
    "def Binomial2(n,k):\n",
    "    def Fatorial2(n,k):\n",
    "        fatorial, fatorialK, fatorialNK = 1, 1, 1\n",
    "        contador = 1\n",
    "        while n >= contador:\n",
    "            fatorial = fatorial * contador\n",
    "            if contador == k:\n",
    "                fatorialK = fatorial\n",
    "            if contador == (n-k):\n",
    "                fatorialNK = fatorial\n",
    "            contador = contador + 1\n",
    "        return fatorial, fatorialK, fatorialNK\n",
    "    fatorialN, fatorialK, fatorialNK = Fatorial2(n,k)\n",
    "    return fatorialN / (fatorialK * fatorialNK)\n",
    "print (Binomial1(4,2), Binomial2(4,2))\n",
    "print (Binomial1(10,4), Binomial2(10,4))"
   ]
  },
  {
   "cell_type": "markdown",
   "metadata": {},
   "source": [
    "## Exercicio 6"
   ]
  },
  {
   "cell_type": "code",
   "execution_count": 1,
   "metadata": {
    "collapsed": false
   },
   "outputs": [
    {
     "name": "stdout",
     "output_type": "stream",
     "text": [
      "(0.34, 0.66)\n"
     ]
    }
   ],
   "source": [
    "import random\n",
    "def MontyHall(n):\n",
    "    contador = 0\n",
    "    continua, troca = 0,0\n",
    "    while contador < n:\n",
    "        premio = random.randint(0,2)\n",
    "        escolha = random.randint(0,2)\n",
    "        if escolha == premio: # Ganha se não troca\n",
    "            continua = continua + 1\n",
    "        else: # Se é bode, sempre acerta, pois o outro bode já foi escolhido\n",
    "            troca = troca + 1\n",
    "        contador = contador + 1\n",
    "    return(continua/n,troca/n)\n",
    "\n",
    "print(MontyHall(100))"
   ]
  },
  {
   "cell_type": "markdown",
   "metadata": {},
   "source": [
    "## Exercicio 7"
   ]
  },
  {
   "cell_type": "code",
   "execution_count": 12,
   "metadata": {
    "collapsed": false
   },
   "outputs": [
    {
     "name": "stdout",
     "output_type": "stream",
     "text": [
      "(6, [987654])\n"
     ]
    }
   ],
   "source": [
    "import math\n",
    "def MenorD(numero):\n",
    "    def Segmenta(d,num):\n",
    "        def Inverte(num):\n",
    "            invertido = 0\n",
    "            while not(num==0):\n",
    "                digito = num % 10\n",
    "                invertido = (invertido * 10) + digito\n",
    "                num = num // 10\n",
    "            return invertido\n",
    "        inv = Inverte(num)\n",
    "        \n",
    "        div = 10**d\n",
    "        segmentos = list()\n",
    "        while not(inv==0):\n",
    "            seg = inv % div\n",
    "            inv = inv // div\n",
    "            final=Inverte(seg)\n",
    "            segmentos.append(final)\n",
    "        return segmentos\n",
    "    \n",
    "    def Crescente(segmentos):\n",
    "        pos = 1\n",
    "        flag = True\n",
    "        while pos < len(segmentos):\n",
    "            if (segmentos[pos] < segmentos[pos-1]):\n",
    "                flag = False\n",
    "            pos = pos + 1\n",
    "        return flag\n",
    "            \n",
    "    go = True\n",
    "    contador = 1\n",
    "    segmentos=Segmenta(contador,numero)\n",
    "    while go and (len(segmentos)>1) :\n",
    "        if (Crescente(segmentos)):\n",
    "            go = False\n",
    "        else:    \n",
    "            contador = contador + 1\n",
    "            segmentos=Segmenta(contador,numero)\n",
    "    return contador,segmentos\n",
    "\n",
    "print (MenorD(987654))"
   ]
  },
  {
   "cell_type": "markdown",
   "metadata": {
    "collapsed": true
   },
   "source": [
    "## Exercicio 8"
   ]
  },
  {
   "cell_type": "code",
   "execution_count": 25,
   "metadata": {
    "collapsed": false
   },
   "outputs": [
    {
     "name": "stdout",
     "output_type": "stream",
     "text": [
      "[1]\n",
      "[1, 1]\n",
      "[1, 2, 1]\n",
      "[1, 3, 3, 1]\n",
      "[1, 4, 6, 4, 1]\n"
     ]
    }
   ],
   "source": [
    "\n",
    "def Pascal(n):\n",
    "    tri = []\n",
    "    for row in range(n):\n",
    "        for col in range(row+1):\n",
    "            if col == 0:\n",
    "                tri.append([1])\n",
    "            elif col == row:\n",
    "                tri[row].append(1)\n",
    "            else:\n",
    "                 tri[row].append(tri[row-1][col]+tri[row-1][col-1])\n",
    "    return tri\n",
    "\n",
    "for l in Pascal(5):\n",
    "    print (l)"
   ]
  },
  {
   "cell_type": "code",
   "execution_count": null,
   "metadata": {
    "collapsed": true
   },
   "outputs": [],
   "source": []
  }
 ],
 "metadata": {
  "kernelspec": {
   "display_name": "Python 3",
   "language": "python",
   "name": "python3"
  },
  "language_info": {
   "codemirror_mode": {
    "name": "ipython",
    "version": 3
   },
   "file_extension": ".py",
   "mimetype": "text/x-python",
   "name": "python",
   "nbconvert_exporter": "python",
   "pygments_lexer": "ipython3",
   "version": "3.5.1"
  }
 },
 "nbformat": 4,
 "nbformat_minor": 0
}
