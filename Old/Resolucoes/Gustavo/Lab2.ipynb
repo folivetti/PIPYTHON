{
 "cells": [
  {
   "cell_type": "markdown",
   "metadata": {},
   "source": [
    "# Laboratorio 2 - 24/02/2016"
   ]
  },
  {
   "cell_type": "markdown",
   "metadata": {},
   "source": [
    "## Exercicio 5"
   ]
  },
  {
   "cell_type": "markdown",
   "metadata": {},
   "source": [
    "* Raizes pela formula de Bhaskara"
   ]
  },
  {
   "cell_type": "code",
   "execution_count": 6,
   "metadata": {
    "collapsed": false
   },
   "outputs": [
    {
     "name": "stdout",
     "output_type": "stream",
     "text": [
      "As raízes são 3.236 e -1.236\n"
     ]
    }
   ],
   "source": [
    "import math\n",
    "def RaizSegundoGrau(a,b,c):\n",
    "    delta = b**2 - 4*a*c\n",
    "    x1 = (-b + math.sqrt(delta))/(2*a)\n",
    "    x2 = (-b - math.sqrt(delta))/(2*a)\n",
    "    return x1,x2\n",
    "raiz1,raiz2=RaizSegundoGrau(1,-2,-4)\n",
    "print('As raízes são {:.4} e {:.4}'.format(raiz1,raiz2))"
   ]
  },
  {
   "cell_type": "markdown",
   "metadata": {},
   "source": [
    "* Usando a biblioteca simpy"
   ]
  },
  {
   "cell_type": "code",
   "execution_count": 4,
   "metadata": {
    "collapsed": false
   },
   "outputs": [
    {
     "name": "stdout",
     "output_type": "stream",
     "text": [
      "As raízes são 1 + sqrt(5) e -sqrt(5) + 1\n"
     ]
    }
   ],
   "source": [
    "from sympy import *\n",
    "#init_printing()\n",
    "x = Symbol('x')\n",
    "raiz1,raiz2=solve(x**2-2*x-4,x)\n",
    "print('As raízes são {} e {}'.format(raiz1,raiz2))"
   ]
  },
  {
   "cell_type": "markdown",
   "metadata": {
    "collapsed": true
   },
   "source": [
    "# Exercicio 6"
   ]
  },
  {
   "cell_type": "code",
   "execution_count": 5,
   "metadata": {
    "collapsed": false
   },
   "outputs": [
    {
     "name": "stdout",
     "output_type": "stream",
     "text": [
      "Digite o valor de x:6\n",
      "Digite o valor de y:5\n",
      "Digite o valor de w:0.6\n",
      "Media ponderada de 6.0 e 5.0 com peso 0.6 é 5.6:\n"
     ]
    }
   ],
   "source": [
    "x = float(input('Digite o valor de x:'))\n",
    "y = float(input('Digite o valor de y:'))\n",
    "w = float(input('Digite o valor de w:'))\n",
    "def MediaPonderada(x,y,w):\n",
    "    media = w * x + (1 - w) * y\n",
    "    return media\n",
    "media = MediaPonderada(x,y,w)\n",
    "print('Media ponderada de {} e {} com peso {} é {}.'.format(x,y,w,media))"
   ]
  },
  {
   "cell_type": "markdown",
   "metadata": {},
   "source": [
    "# Exercicio 7"
   ]
  },
  {
   "cell_type": "code",
   "execution_count": 8,
   "metadata": {
    "collapsed": false
   },
   "outputs": [
    {
     "name": "stdout",
     "output_type": "stream",
     "text": [
      "A temperatura em Santo André é de 70.9 ºF ou 21.6ºC.\n"
     ]
    }
   ],
   "source": [
    "import requests\n",
    "import json\n",
    "\n",
    "APIKEY = '64f1cb760542cc081014a27410cf1bf1'  # chave obtida no site, 1000 requisições por dia\n",
    "\n",
    "# coordenadas de Santo André\n",
    "LAT = '23.6572'\n",
    "LONG = '46.5333'\n",
    "\n",
    "# Obtendo informações do site\n",
    "url = 'https://api.forecast.io/forecast/'+APIKEY+'/'+LAT+','+LONG\n",
    "saida = requests.get(url)\n",
    "\n",
    "# pegando a temperatura em Fahrenheit\n",
    "# a variável t contém a temperatura em F, como um valor decimal\n",
    "t = json.loads(saida.text)['currently']['temperature']\n",
    "\n",
    "def FtoC(f):\n",
    "    c = (f-32)*5/9\n",
    "    return c\n",
    "c = FtoC(t)\n",
    "print('A temperatura em Santo André é de {:.3} ºF ou {:.3}ºC.'.format(t,c))"
   ]
  },
  {
   "cell_type": "markdown",
   "metadata": {},
   "source": [
    "# Exercicio 8"
   ]
  },
  {
   "cell_type": "code",
   "execution_count": 9,
   "metadata": {
    "collapsed": false
   },
   "outputs": [
    {
     "name": "stdout",
     "output_type": "stream",
     "text": [
      "Digite sua idade (anos):38\n",
      "Idade 38 anos em 1198368000 segundos e 1199145600 segundos bissextos.\n"
     ]
    }
   ],
   "source": [
    "idade = int(input('Digite sua idade (anos):'))\n",
    "def AnosSeg(anos):\n",
    "    seg = anos*365*24*60*60\n",
    "    return seg\n",
    "def AnosSegBi(anos):\n",
    "    seg = AnosSeg(anos) + (anos//4)*24*60*60\n",
    "    return seg\n",
    "segundos = AnosSeg(idade)\n",
    "segundosBi = AnosSegBi(idade)\n",
    "print('Idade {} anos em {} segundos e {} segundos bissextos.'.format(idade,segundos,segundosBi))\n"
   ]
  },
  {
   "cell_type": "markdown",
   "metadata": {},
   "source": [
    "# Exercicio 9"
   ]
  },
  {
   "cell_type": "code",
   "execution_count": 13,
   "metadata": {
    "collapsed": false
   },
   "outputs": [
    {
     "name": "stdout",
     "output_type": "stream",
     "text": [
      "(6, 1)\n",
      "(3.0, 0.3333333333333333)\n",
      "Digite o raio:1\n",
      "Esfera de raio 1.0 tem area de 3.14 e volume de 4.19.\n"
     ]
    }
   ],
   "source": [
    "import math\n",
    "#Cuboide\n",
    "def cuboide(base,altura,profundidade):\n",
    "    face1 = base*altura\n",
    "    face2 = base*profundidade\n",
    "    face3 = altura * profundidade\n",
    "    area = 2*face1 + 2*face2 + 2*face3\n",
    "    volume =  base*altura*profundidade\n",
    "    return area, volume\n",
    "print(cuboide(1,1,1))\n",
    "# Piramide\n",
    "def piramide(base, altura, largura):\n",
    "    face1 = base * altura / 2\n",
    "    face2 = base * largura\n",
    "    area = 4*face1 + face2\n",
    "    volume = base * largura * altura / 3\n",
    "    return area,volume\n",
    "print(piramide(1,1,1))\n",
    "#Esfera\n",
    "def esfera(raio):\n",
    "    area = math.pi * raio**2\n",
    "    volume = (4/3) * math.pi * raio**3\n",
    "    return area,volume\n",
    "r = float(input('Digite o raio:'))\n",
    "a,v=esfera(r)\n",
    "print('Esfera de raio {} tem area de {:.3} e volume de {:.3}.'.format(r,a,v))"
   ]
  },
  {
   "cell_type": "code",
   "execution_count": null,
   "metadata": {
    "collapsed": true
   },
   "outputs": [],
   "source": []
  }
 ],
 "metadata": {
  "kernelspec": {
   "display_name": "Python 3",
   "language": "python",
   "name": "python3"
  },
  "language_info": {
   "codemirror_mode": {
    "name": "ipython",
    "version": 3
   },
   "file_extension": ".py",
   "mimetype": "text/x-python",
   "name": "python",
   "nbconvert_exporter": "python",
   "pygments_lexer": "ipython3",
   "version": "3.5.1"
  }
 },
 "nbformat": 4,
 "nbformat_minor": 0
}
