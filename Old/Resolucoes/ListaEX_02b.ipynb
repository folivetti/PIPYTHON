{
 "cells": [
  {
   "cell_type": "markdown",
   "metadata": {},
   "source": [
    "**Exercício 01:** Faça uma função que recebe dois parâmetros, $x$ e $y$ e retorna `True` se $x$ for divisível por $y$ ou `False` caso contrário."
   ]
  },
  {
   "cell_type": "code",
   "execution_count": 1,
   "metadata": {
    "collapsed": false
   },
   "outputs": [],
   "source": [
    "def Divisivel(x,y):\n",
    "    if x%y==0:\n",
    "        return True\n",
    "    else:\n",
    "        return False\n",
    "    \n",
    "def Divisivel(x,y):\n",
    "    return x%y==0"
   ]
  },
  {
   "cell_type": "markdown",
   "metadata": {},
   "source": [
    "**Exercício 02:** Faça uma função que recebe um parâmetro $x$ e verifica se ele é par ou ímpar, se ele for ímpar retorna `True` caso também seja divisível por $3$, retorne `False` caso contrário."
   ]
  },
  {
   "cell_type": "code",
   "execution_count": 2,
   "metadata": {
    "collapsed": false
   },
   "outputs": [],
   "source": [
    "def ParaImpar3(x):\n",
    "    return x%2!=0 and x%3==0"
   ]
  },
  {
   "cell_type": "markdown",
   "metadata": {},
   "source": [
    "**Exercício 03:** Crie uma função que receba como parâmetro a idade $x$ de uma pessoa e retorne o preço do ingresso de cinema.\n",
    "\n",
    "O ingresso para maiores de $10$ anos custa R\\$ 20,00, para menores de $10$ e maiores de $3$ custa \"apenas\" metade. Para menores de $3$ o cinema cobra uma taxa simbólica de R\\$ 0,50.\n",
    "\n",
    "Utilizando as funções `map` e `sum` calcule o valor total do ingresso para um grupo de pessoas dada uma lista de idades."
   ]
  },
  {
   "cell_type": "code",
   "execution_count": 3,
   "metadata": {
    "collapsed": false
   },
   "outputs": [
    {
     "name": "stdout",
     "output_type": "stream",
     "text": [
      "70.5\n"
     ]
    }
   ],
   "source": [
    "def Ingresso(x):\n",
    "    if x > 10:\n",
    "        return 20.0\n",
    "    elif x > 3 and x <= 10:\n",
    "        return 10.0\n",
    "    else:\n",
    "        return 0.5\n",
    "    \n",
    "lista = [10, 12, 2, 35, 38]\n",
    "print sum(map(Ingresso, lista))"
   ]
  },
  {
   "cell_type": "markdown",
   "metadata": {},
   "source": [
    "**Exercício 04:** Defina uma função que receba um valor $x$ como entrada e verifique se ele contém $2$ dígitos. Em caso afirmativo, retorne a soma desses dígitos. Caso contrário, retorne `False`."
   ]
  },
  {
   "cell_type": "code",
   "execution_count": 4,
   "metadata": {
    "collapsed": false
   },
   "outputs": [],
   "source": [
    "def Digitos(x):\n",
    "    return 9 < x < 100"
   ]
  },
  {
   "cell_type": "markdown",
   "metadata": {},
   "source": [
    "**Exercício 05:** Faça uma função que receba uma variável $x$ de qualquer tipo. Retorne uma string que é a tradução do tipo dessa variável para o português."
   ]
  },
  {
   "cell_type": "code",
   "execution_count": 8,
   "metadata": {
    "collapsed": false
   },
   "outputs": [
    {
     "name": "stdout",
     "output_type": "stream",
     "text": [
      "Inteiro\n",
      "Real\n",
      "Texto\n",
      "Lista\n",
      "Lógico\n",
      "Sei lá\n"
     ]
    }
   ],
   "source": [
    "def Tipo(x):\n",
    "    if type(x) == int:\n",
    "        return 'Inteiro'\n",
    "    elif type(x) == float:\n",
    "        return 'Real'\n",
    "    elif type(x) == str:\n",
    "        return 'Texto'\n",
    "    elif type(x) == list:\n",
    "        return 'Lista'\n",
    "    elif type(x) == bool:\n",
    "        return 'Lógico'\n",
    "    else:\n",
    "        return 'Sei lá'\n",
    "    \n",
    "print(Tipo(2))\n",
    "print(Tipo(2.0))\n",
    "print(Tipo('2.0'))\n",
    "print(Tipo([1,2]))\n",
    "print(Tipo(True))\n",
    "print(Tipo({}))"
   ]
  },
  {
   "cell_type": "markdown",
   "metadata": {},
   "source": [
    "**Exercício 06:** Escreva um programa que receba um número de $1$ até $13$ e retorne uma string com o nome correspondente dessa carta em um baralho e quantos pontos ela vale no jogo $21$ (blackjack). Para o caso do Ás, o valor será uma *tupla* (1,11)."
   ]
  },
  {
   "cell_type": "code",
   "execution_count": 9,
   "metadata": {
    "collapsed": false
   },
   "outputs": [],
   "source": [
    "def BlackJack(x):\n",
    "    if x==1:\n",
    "        return 'As', (1,11)\n",
    "    elif x==11:\n",
    "        return 'J', 10\n",
    "    elif x==12:\n",
    "        return 'Q', 10\n",
    "    elif x==13:\n",
    "        return 'K', 10\n",
    "    else:\n",
    "        return str(x), x"
   ]
  },
  {
   "cell_type": "markdown",
   "metadata": {},
   "source": [
    "**Exercício 07:** Faça uma função que receba duas listas de pontos $p1$ e $p2$ como entrada e retorne a inclinação da reta dada por:\n",
    "\n",
    "$$\n",
    "m = \\frac{y_2 - y_1}{x_2 - x_1}\n",
    "$$"
   ]
  },
  {
   "cell_type": "code",
   "execution_count": 10,
   "metadata": {
    "collapsed": false
   },
   "outputs": [
    {
     "name": "stdout",
     "output_type": "stream",
     "text": [
      "4\n"
     ]
    }
   ],
   "source": [
    "def Inclinacao(p1, p2):\n",
    "    m = (p2[1] - p1[1])/(p2[0] - p1[0])\n",
    "    return m\n",
    "\n",
    "print(Inclinacao([1,1], [3,10]))"
   ]
  },
  {
   "cell_type": "markdown",
   "metadata": {},
   "source": [
    "**Exercício 08:** Faça uma função com três variáveis: `dia`, `mes`, `ano` que retorne a data do dia seguinte."
   ]
  },
  {
   "cell_type": "code",
   "execution_count": 11,
   "metadata": {
    "collapsed": false
   },
   "outputs": [],
   "source": [
    "def bissexto(ano):\n",
    "    return (ano%400==0) or (ano%4==0 and ano%100!=0)\n",
    "\n",
    "def DiaSeguinte(dia, mes, ano):\n",
    "    meses30 = [4,6,9,11]\n",
    "    if dia == 31:\n",
    "        if mes == 12:\n",
    "            return (1,1,ano+1)\n",
    "        else:\n",
    "            return (1,mes+1,ano)\n",
    "    elif dia == 30 and mes in meses30:\n",
    "        return (1,mes+1,ano)\n",
    "    elif dia == 28 and mes == 2 and not bissexto(ano):\n",
    "        return (1, mes+1, ano)\n",
    "    elif dia == 29 and mes == 2 and bissexto(ano):\n",
    "        return (1, mes+1, ano)\n",
    "    else:\n",
    "        return (dia+1, mes, ano)"
   ]
  },
  {
   "cell_type": "markdown",
   "metadata": {},
   "source": [
    "**Exercício 09:** Faça uma função que receba como parâmetros as notas das aulas de teoria e de laboratório e retorne o conceito de acordo com a regras da disciplina."
   ]
  },
  {
   "cell_type": "code",
   "execution_count": 12,
   "metadata": {
    "collapsed": false
   },
   "outputs": [],
   "source": [
    "def NotaConceito(teoria, pratica):\n",
    "    \n",
    "    # primeiro a regra suprema\n",
    "    if teoria == 'F' or pratica == 'F':\n",
    "        return 'F'\n",
    "    \n",
    "    if teoria == 'A':\n",
    "        if pratica == 'A' or pratica == 'B':\n",
    "            return 'A'\n",
    "        else:\n",
    "            return 'B'\n",
    "    elif teoria == 'B':\n",
    "        if pratica == 'A' or pratica == 'B' or pratica == 'C':\n",
    "            return 'B'\n",
    "        else:\n",
    "            return 'C'\n",
    "    elif teoria == 'C':\n",
    "        if pratica == 'A':\n",
    "            return 'B'\n",
    "        else:\n",
    "            return 'C'\n",
    "    elif teoria == 'D':\n",
    "        if pratica == 'A' or pratica == 'B':\n",
    "            return 'C'\n",
    "        else:\n",
    "            return 'D'"
   ]
  },
  {
   "cell_type": "markdown",
   "metadata": {},
   "source": [
    "**Exercício 10:** Faça uma função que receba uma string `numero` que representa um número qualquer escrito em inglês. Essa função vai retornar uma string com o número de letras que o nome do número tem, descontando o espaço. Ex.:\n",
    "\n",
    "```python\n",
    "Extenso('one hundred') # retorna 'ten'\n",
    "```\n",
    "\n",
    "Verifique se existe algum número em que a entrada e a saída da função sejam as mesmas.\n",
    "\n",
    "DICA: pesquise como utilizar a função `replace` para strings em Python"
   ]
  },
  {
   "cell_type": "code",
   "execution_count": 13,
   "metadata": {
    "collapsed": false
   },
   "outputs": [],
   "source": [
    "def Extenso(x):\n",
    "    x = x.replace(' ','')\n",
    "    tamanho = len(x)\n",
    "    if tamanho == 12:\n",
    "        return 'twelve'\n",
    "    elif tamanho == 11:\n",
    "        return 'eleven'\n",
    "    elif tamanho == 10:\n",
    "        return 'ten'\n",
    "    elif tamanho == 9:\n",
    "        return 'nine'\n",
    "    elif tamanho == 8:\n",
    "        return 'eight'\n",
    "    elif tamanho == 7:\n",
    "        return 'seven'\n",
    "    elif tamanho == 6:\n",
    "        return 'six'\n",
    "    elif tamanho == 5:\n",
    "        return 'five'\n",
    "    elif tamanho == 4:\n",
    "        return 'four'\n",
    "    elif tamanho == 3:\n",
    "        return 'three'\n",
    "    elif tamanho == 2:\n",
    "        return 'two'\n",
    "    elif tamanho == 1:\n",
    "        return 'one'\n",
    "    "
   ]
  },
  {
   "cell_type": "markdown",
   "metadata": {},
   "source": [
    "**Exercício 11:** Como vimos na primeira aula, uma lista em Python pode contar variáveis de qualquer tipo, inclusive outra lista! Podemos representar o tabuleiro de um Jogo da Velha da seguinte maneira:\n",
    "\n",
    "```python\n",
    "Velha = [ ['X', 'O', 'X'], ['O','O','X'], ['X', 'X','O'] ]\n",
    "```\n",
    "\n",
    "Podemos acessar qualquer posição do tabuleiro utilizando dois índices. Ex.:\n",
    "```python\n",
    "Velha[0][1] # primeira linha e segunda coluna\n",
    "```\n",
    "\n",
    "Faça uma função que receba um tabuleiro nesse formato apresentado e verifique se o 'X' ou o 'O' venceu ou se deu velha. Utilize um `if` ou `elif` para testar cada condição em separado."
   ]
  },
  {
   "cell_type": "code",
   "execution_count": 14,
   "metadata": {
    "collapsed": false
   },
   "outputs": [],
   "source": [
    "def JogoVelha(tabuleiro):\n",
    "    \n",
    "    if tabuleiro[0][0]==tabuleiro[1][1] and tabuleiro[1][1]==tabuleiro[2][2]:\n",
    "        return tabuleiro[0][0]\n",
    "    elif tabuleiro[0][1]==tabuleiro[1][1] and tabuleiro[1][1]==tabuleiro[2][0]:\n",
    "        return tabuleiro[0][1]\n",
    "    elif tabuleiro[0][0]==tabuleiro[0][1] and tabuleiro[0][1]==tabuleiro[0][2]:\n",
    "        return tabuleiro[0][0]\n",
    "    elif tabuleiro[1][0]==tabuleiro[1][1] and tabuleiro[1][1]==tabuleiro[1][2]:\n",
    "        return tabuleiro[1][0]\n",
    "    elif tabuleiro[2][0]==tabuleiro[2][1] and tabuleiro[2][1]==tabuleiro[2][2]:\n",
    "        return tabuleiro[2][0]\n",
    "    elif tabuleiro[0][0]==tabuleiro[1][0] and tabuleiro[1][0]==tabuleiro[2][0]:\n",
    "        return tabuleiro[0][0]\n",
    "    elif tabuleiro[0][1]==tabuleiro[1][1] and tabuleiro[1][1]==tabuleiro[2][1]:\n",
    "        return tabuleiro[0][1]\n",
    "    elif tabuleiro[0][2]==tabuleiro[1][2] and tabuleiro[1][2]==tabuleiro[2][2]:\n",
    "        return tabuleiro[0][2]\n",
    "    else:\n",
    "        return 'Velha'"
   ]
  },
  {
   "cell_type": "markdown",
   "metadata": {},
   "source": [
    "**Exercício 12:** Reescreva a função anterior para utilizar apenas um `if`, um `elif` e um `else`. Mas para isso, armazene o resultado de cada condição em uma variável. Ex.:\n",
    "\n",
    "```python\n",
    "linha0X = Velha[0][0] == 'X' and Velha[0][1] == 'X' and Velha[0][2] == 'X'\n",
    "```"
   ]
  },
  {
   "cell_type": "code",
   "execution_count": null,
   "metadata": {
    "collapsed": true
   },
   "outputs": [],
   "source": []
  }
 ],
 "metadata": {
  "kernelspec": {
   "display_name": "Python 2",
   "language": "python",
   "name": "python2"
  },
  "language_info": {
   "codemirror_mode": {
    "name": "ipython",
    "version": 2
   },
   "file_extension": ".py",
   "mimetype": "text/x-python",
   "name": "python",
   "nbconvert_exporter": "python",
   "pygments_lexer": "ipython2",
   "version": "2.7.11"
  }
 },
 "nbformat": 4,
 "nbformat_minor": 0
}
