{
 "metadata": {
  "celltoolbar": "Slideshow",
  "name": "",
  "signature": "sha256:9d151189f3d4d4ba0bc226c37a5e868cd2329087c3f61fe45af5e7b87dfefbdd"
 },
 "nbformat": 3,
 "nbformat_minor": 0,
 "worksheets": [
  {
   "cells": [
    {
     "cell_type": "code",
     "collapsed": false,
     "input": [
      "# ignore esse c\u00f3digo inicial, \u00e9 apenas para preparar a p\u00e1gina\n",
      "from IPython.display import YouTubeVideo, HTML, Image, display\n",
      "css_file = './modelo.css'\n",
      "HTML(open(css_file, \"r\").read())"
     ],
     "language": "python",
     "metadata": {
      "slideshow": {
       "slide_type": "skip"
      }
     },
     "outputs": [
      {
       "html": [
        "<style>\n",
        "\n",
        "@font-face {\n",
        "    font-family: \"Computer Modern\";\n",
        "    src: url('http://mirrors.ctan.org/fonts/cm-unicode/fonts/otf/cmunss.otf');\n",
        "}\n",
        "\n",
        "#notebook_panel { /* main background */\n",
        "    background: #888;\n",
        "    color: #f6f6f6;\n",
        "}\n",
        "\n",
        "div.cell { /* set cell width to about 80 chars */\n",
        "    width: 900px;\n",
        "}\n",
        "\n",
        "div #notebook { /* centre the content */\n",
        "    background: #fff; /* white background for content */\n",
        "    width: 1000px;\n",
        "    margin: auto;\n",
        "    padding-left: 1em;\n",
        "}\n",
        "\n",
        "#notebook li { /* More space between bullet points */\n",
        "margin-top:0.8em;\n",
        "}\n",
        "/* draw border around running cells */\n",
        "div.cell.border-box-sizing.code_cell.running {\n",
        "    border: 3px solid #111;\n",
        "}\n",
        "/* Put a solid color box around each cell and its output, visually linking them together */\n",
        "div.cell.code_cell {\n",
        "    background-color: rgba(171,165,131,0.3); \n",
        "    border-radius: 10px; /* rounded borders */\n",
        "    padding: 1em;\n",
        "    margin-top: 1em;\n",
        "}\n",
        "div.text_cell_render{\n",
        "    font-family: 'Arvo' sans-serif;\n",
        "    line-height: 130%;\n",
        "    font-size: 115%;\n",
        "    width:700px;\n",
        "    margin-left:auto;\n",
        "    margin-right:auto;\n",
        "}\n",
        "/* Formatting for header cells */\n",
        ".text_cell_render h1 {\n",
        "    font-family: 'Philosopher', sans-serif;\n",
        "    font-weight: 400;\n",
        "    font-size: 40pt;\n",
        "    text-align: center;\n",
        "    line-height: 100%;\n",
        "    color: rgb(12,85,97);\n",
        "    margin-bottom: 0.1em;\n",
        "    margin-top: 0.1em;\n",
        "    display: block;\n",
        "}\n",
        "\n",
        ".text_cell_render h2 {\n",
        "    font-family: 'Philosopher', serif;\n",
        "    font-weight: 700;\n",
        "    font-size: 24pt;\n",
        "    line-height: 100%;\n",
        "    color: rgb(171,165,131);\n",
        "    margin-bottom: 0.1em;\n",
        "    margin-top: 0.1em;\n",
        "    display: block;\n",
        "}    \n",
        "\n",
        ".text_cell_render h3 {\n",
        "    font-family: 'Philosopher', serif;\n",
        "    margin-top:12px;\n",
        "    margin-bottom: 3px;\n",
        "    font-style: italic;\n",
        "    color: rgb(95,92,72);\n",
        "}\n",
        "\n",
        ".text_cell_render h4 {\n",
        "    font-family: 'Philosopher', serif;\n",
        "}\n",
        "\n",
        ".text_cell_render h5 {\n",
        "    font-family: 'Alegreya Sans', sans-serif;\n",
        "    font-weight: 300;\n",
        "    font-size: 16pt;\n",
        "    color: grey;\n",
        "    font-style: italic;\n",
        "    margin-bottom: .1em;\n",
        "    margin-top: 0.1em;\n",
        "    display: block;\n",
        "}\n",
        "\n",
        ".text_cell_render h6 {\n",
        "    font-family: 'PT Mono', sans-serif;\n",
        "    font-weight: 300;\n",
        "    font-size: 10pt;\n",
        "    color: grey;\n",
        "    margin-bottom: 1px;\n",
        "    margin-top: 1px;\n",
        "}\n",
        ".CodeMirror{\n",
        "        font-family: \"PT Mono\";\n",
        "        font-size: 100%;\n",
        "}\n",
        ".raw_input_prompt{\n",
        "\tcolor: black;\n",
        "}\n",
        "input.raw_input{\n",
        "\tcolor: black;\n",
        "}\n",
        "</style>\n"
       ],
       "metadata": {},
       "output_type": "pyout",
       "prompt_number": 12,
       "text": [
        "<IPython.core.display.HTML at 0x7ff27106af10>"
       ]
      }
     ],
     "prompt_number": 12
    },
    {
     "cell_type": "heading",
     "level": 1,
     "metadata": {
      "slideshow": {
       "slide_type": "slide"
      }
     },
     "source": [
      "Introdu\u00e7\u00e3o \u00e0 Programa\u00e7\u00e3o em Python"
     ]
    },
    {
     "cell_type": "heading",
     "level": 2,
     "metadata": {
      "slideshow": {
       "slide_type": "slide"
      }
     },
     "source": [
      "Estruturas de Repeti\u00e7\u00e3o"
     ]
    },
    {
     "cell_type": "markdown",
     "metadata": {
      "slideshow": {
       "slide_type": "slide"
      }
     },
     "source": [
      "Vamos lembrar das aulas de Natureza da Informa\u00e7\u00e3o quando aprendemos a converter um n\u00famero decimal para bin\u00e1rio.\n",
      "\n",
      "Come\u00e7ando com o exemplo de dec = 14.\n",
      "\n",
      "|dec|dec/2|dec%2|bin|\n",
      "|--|--|--|--|\n",
      "|14|7|0|0|\n",
      "|7|3|1|10|\n",
      "|3|1|1|110|\n",
      "|1|0|1|1110|\n",
      "|0|-|-|1110|\n",
      "\n",
      "\n",
      "O n\u00famero bin\u00e1rio \u00e9 **1110**."
     ]
    },
    {
     "cell_type": "markdown",
     "metadata": {
      "slideshow": {
       "slide_type": "slide"
      }
     },
     "source": [
      "Vamos descrever o processo que realizamos:\n",
      "\n",
      "* enquanto dec era maior que zero\n",
      "* dividimos dec por 2\n",
      "* o quociente guardamos em dec, o resto concatenamos a esquerda do n\u00famero bin\u00e1rio\n",
      "* para facilitar vamos escrever o n\u00famero bin\u00e1rio como uma string!"
     ]
    },
    {
     "cell_type": "markdown",
     "metadata": {
      "slideshow": {
       "slide_type": "slide"
      }
     },
     "source": [
      "Os 3 \u00faltimos itens podem ser resolvidos com nosso conhecimento atual. \n",
      "\n",
      "Vamos fazer um rascunho desses itens:"
     ]
    },
    {
     "cell_type": "code",
     "collapsed": false,
     "input": [
      "def DivResto(num, base):\n",
      "    \"\"\"\n",
      "    Retorna o quociente e resto da divis\u00e3o de num por base\n",
      "    \"\"\"\n",
      "    return num/base, num%base\n",
      "\n",
      "dec = 14\n",
      "bin = ''\n",
      "div, resto = DivResto(dec,2)\n",
      "dec = div\n",
      "bin = str(resto) + bin\n",
      "print bin"
     ],
     "language": "python",
     "metadata": {
      "slideshow": {
       "slide_type": "slide"
      }
     },
     "outputs": [
      {
       "output_type": "stream",
       "stream": "stdout",
       "text": [
        "0\n"
       ]
      }
     ],
     "prompt_number": 2
    },
    {
     "cell_type": "markdown",
     "metadata": {
      "slideshow": {
       "slide_type": "slide"
      }
     },
     "source": [
      "Para resolver o primeiro item, utilizamos o comando `while` que significa *enquanto*:\n",
      "\n",
      "```python\n",
      "while condicao verdadeira:\n",
      "    fa\u00e7a alguma coisa\n",
      "```"
     ]
    },
    {
     "cell_type": "markdown",
     "metadata": {
      "slideshow": {
       "slide_type": "slide"
      }
     },
     "source": [
      "Esse comando instrui o Python a repetir o bloco de instru\u00e7\u00f5es abaixo enquanto certa condi\u00e7\u00e3o for verdadeira.\n",
      "\n",
      "No nosso caso a condi\u00e7\u00e3o \u00e9 que `dec` seja maior que zero."
     ]
    },
    {
     "cell_type": "code",
     "collapsed": false,
     "input": [
      "def Converte(dec,base):\n",
      "\n",
      "    num = ''\n",
      "\n",
      "    while dec > 0:\n",
      "        div, resto = DivResto(dec,base)\n",
      "        dec = div\n",
      "        num = str(resto) + num\n",
      "    return num\n",
      "\n",
      "print Converte(14,2)"
     ],
     "language": "python",
     "metadata": {
      "slideshow": {
       "slide_type": "slide"
      }
     },
     "outputs": [
      {
       "output_type": "stream",
       "stream": "stdout",
       "text": [
        "1110\n"
       ]
      }
     ],
     "prompt_number": 6
    },
    {
     "cell_type": "markdown",
     "metadata": {
      "slideshow": {
       "slide_type": "slide"
      }
     },
     "source": [
      "Reparem que substituindo $2$ por qualquer outro n\u00famero, convertemos o n\u00famero para outras bases menores do que $10$."
     ]
    },
    {
     "cell_type": "markdown",
     "metadata": {
      "slideshow": {
       "slide_type": "slide"
      }
     },
     "source": [
      "**Nota:** Podemos indicar para uma fun\u00e7\u00e3o um valor padr\u00e3o para sua vari\u00e1vel."
     ]
    },
    {
     "cell_type": "code",
     "collapsed": false,
     "input": [
      "def Converte(dec,base=2):\n",
      "\n",
      "    num = ''\n",
      "\n",
      "    while dec > 0:\n",
      "        div, resto = DivResto(dec,base)\n",
      "        dec = div\n",
      "        num = str(resto) + num\n",
      "    return num\n",
      "\n",
      "print Converte(14) # usar\u00e1 a base 2\n",
      "print Converte(14, 3) # usar\u00e1 a base 3\n",
      "print Converte(14, base=3) # usar\u00e1 a base 3"
     ],
     "language": "python",
     "metadata": {
      "slideshow": {
       "slide_type": "slide"
      }
     },
     "outputs": [
      {
       "output_type": "stream",
       "stream": "stdout",
       "text": [
        "1110\n",
        "112\n",
        "112\n"
       ]
      }
     ],
     "prompt_number": 3
    },
    {
     "cell_type": "markdown",
     "metadata": {
      "slideshow": {
       "slide_type": "slide"
      }
     },
     "source": [
      "Como podemos adaptar nossa fun\u00e7\u00e3o para que possamos converter tamb\u00e9m para bases maiores que 10?"
     ]
    },
    {
     "cell_type": "code",
     "collapsed": false,
     "input": [
      "def Converte(dec,base):\n",
      "\n",
      "    num = ''        \n",
      "\n",
      "    while dec > 0:\n",
      "        div, resto = DivResto(dec,base)\n",
      "        dec = div\n",
      "        num = ??? + num\n",
      "    return num\n",
      "\n",
      "print Converte(14,16), hex(14) # hexadecimal"
     ],
     "language": "python",
     "metadata": {
      "slideshow": {
       "slide_type": "slide"
      }
     },
     "outputs": [
      {
       "output_type": "stream",
       "stream": "stdout",
       "text": [
        "14 0xe\n"
       ]
      }
     ],
     "prompt_number": 8
    },
    {
     "cell_type": "code",
     "collapsed": false,
     "input": [
      "import string\n",
      "print dir(string)\n",
      "print\n",
      "print string.digits, string.ascii_uppercase"
     ],
     "language": "python",
     "metadata": {
      "slideshow": {
       "slide_type": "slide"
      }
     },
     "outputs": [
      {
       "output_type": "stream",
       "stream": "stdout",
       "text": [
        "['Formatter', 'Template', '_TemplateMetaclass', '__builtins__', '__doc__', '__file__', '__name__', '__package__', '_float', '_idmap', '_idmapL', '_int', '_long', '_multimap', '_re', 'ascii_letters', 'ascii_lowercase', 'ascii_uppercase', 'atof', 'atof_error', 'atoi', 'atoi_error', 'atol', 'atol_error', 'capitalize', 'capwords', 'center', 'count', 'digits', 'expandtabs', 'find', 'hexdigits', 'index', 'index_error', 'join', 'joinfields', 'letters', 'ljust', 'lower', 'lowercase', 'lstrip', 'maketrans', 'octdigits', 'printable', 'punctuation', 'replace', 'rfind', 'rindex', 'rjust', 'rsplit', 'rstrip', 'split', 'splitfields', 'strip', 'swapcase', 'translate', 'upper', 'uppercase', 'whitespace', 'zfill']\n",
        "\n",
        "0123456789 ABCDEFGHIJKLMNOPQRSTUVWXYZ\n"
       ]
      }
     ],
     "prompt_number": 16
    },
    {
     "cell_type": "code",
     "collapsed": false,
     "input": [
      "digitos = string.digits+string.ascii_uppercase\n",
      "print digitos[0], digitos[10]"
     ],
     "language": "python",
     "metadata": {
      "slideshow": {
       "slide_type": "slide"
      }
     },
     "outputs": [
      {
       "output_type": "stream",
       "stream": "stdout",
       "text": [
        "0 A\n"
       ]
      }
     ],
     "prompt_number": 17
    },
    {
     "cell_type": "code",
     "collapsed": false,
     "input": [
      "def Converte(dec,base):\n",
      "\n",
      "    digitos = string.digits+string.ascii_uppercase\n",
      "    num = ''        \n",
      "\n",
      "    while dec > 0:\n",
      "        div, resto = DivResto(dec,base)\n",
      "        dec = div\n",
      "        num = digitos[resto] + num\n",
      "    return num\n",
      "\n",
      "print Converte(14,16), hex(14) # hexadecimal"
     ],
     "language": "python",
     "metadata": {
      "slideshow": {
       "slide_type": "slide"
      }
     },
     "outputs": [
      {
       "output_type": "stream",
       "stream": "stdout",
       "text": [
        "E 0xe\n"
       ]
      }
     ],
     "prompt_number": 18
    },
    {
     "cell_type": "markdown",
     "metadata": {
      "slideshow": {
       "slide_type": "slide"
      }
     },
     "source": [
      "Fa\u00e7a um programa que sorteie um n\u00famero e pe\u00e7a para o usu\u00e1rio adivinhar. \n",
      "\n",
      "Informe o usu\u00e1rio se o n\u00famero sorteado \u00e9 maior ou menor que o chute dele e repita a opera\u00e7\u00e3o at\u00e9 que ele adivinhe.\n",
      "\n",
      "Para sortear um n\u00famero use a fun\u00e7\u00e3o `randint(a,b)` da biblioteca `random`, ele sorteia um n\u00famero inteiro entre a e b."
     ]
    },
    {
     "cell_type": "code",
     "collapsed": false,
     "input": [
      "import random\n",
      "\n",
      "def Adivinhe():\n",
      "    x = random.randint(0,100)\n",
      "    y = input(\"Entre com um valor: \")\n",
      "    while x!=y:\n",
      "        if x>y:\n",
      "            print \"O n\u00famero \u00e9 maior!\"\n",
      "        else:\n",
      "            print \"O n\u00famero \u00e9 menor!\"\n",
      "        y = input(\"Entre com um valor: \")\n",
      "    print \"Acertou\"\n",
      "   \n",
      "    \n",
      "Adivinhe()            "
     ],
     "language": "python",
     "metadata": {},
     "outputs": [
      {
       "name": "stdout",
       "output_type": "stream",
       "stream": "stdout",
       "text": [
        "Entre com um valor: 10\n"
       ]
      },
      {
       "output_type": "stream",
       "stream": "stdout",
       "text": [
        "O n\u00famero \u00e9 maior!\n"
       ]
      },
      {
       "name": "stdout",
       "output_type": "stream",
       "stream": "stdout",
       "text": [
        "Entre com um valor: 40\n"
       ]
      },
      {
       "output_type": "stream",
       "stream": "stdout",
       "text": [
        "O n\u00famero \u00e9 menor!\n"
       ]
      },
      {
       "name": "stdout",
       "output_type": "stream",
       "stream": "stdout",
       "text": [
        "Entre com um valor: 30\n"
       ]
      },
      {
       "output_type": "stream",
       "stream": "stdout",
       "text": [
        "O n\u00famero \u00e9 menor!\n"
       ]
      },
      {
       "name": "stdout",
       "output_type": "stream",
       "stream": "stdout",
       "text": [
        "Entre com um valor: 25\n"
       ]
      },
      {
       "output_type": "stream",
       "stream": "stdout",
       "text": [
        "O n\u00famero \u00e9 menor!\n"
       ]
      },
      {
       "name": "stdout",
       "output_type": "stream",
       "stream": "stdout",
       "text": [
        "Entre com um valor: 20\n"
       ]
      },
      {
       "output_type": "stream",
       "stream": "stdout",
       "text": [
        "O n\u00famero \u00e9 menor!\n"
       ]
      },
      {
       "name": "stdout",
       "output_type": "stream",
       "stream": "stdout",
       "text": [
        "Entre com um valor: 15\n"
       ]
      },
      {
       "output_type": "stream",
       "stream": "stdout",
       "text": [
        "O n\u00famero \u00e9 maior!\n"
       ]
      },
      {
       "name": "stdout",
       "output_type": "stream",
       "stream": "stdout",
       "text": [
        "Entre com um valor: 17\n"
       ]
      },
      {
       "output_type": "stream",
       "stream": "stdout",
       "text": [
        "O n\u00famero \u00e9 maior!\n"
       ]
      },
      {
       "name": "stdout",
       "output_type": "stream",
       "stream": "stdout",
       "text": [
        "Entre com um valor: 18\n"
       ]
      },
      {
       "output_type": "stream",
       "stream": "stdout",
       "text": [
        "O n\u00famero \u00e9 maior!\n"
       ]
      },
      {
       "name": "stdout",
       "output_type": "stream",
       "stream": "stdout",
       "text": [
        "Entre com um valor: 19\n"
       ]
      },
      {
       "output_type": "stream",
       "stream": "stdout",
       "text": [
        "Acertou\n"
       ]
      }
     ],
     "prompt_number": 1
    },
    {
     "cell_type": "markdown",
     "metadata": {
      "slideshow": {
       "slide_type": "slide"
      }
     },
     "source": [
      "A multiplica\u00e7\u00e3o Et\u00edope \u00e9 um m\u00e9todo de multiplica\u00e7\u00e3o que utiliza apenas a divis\u00e3o e multiplica\u00e7\u00e3o por $2$. \n",
      "\n",
      "Dado $m$ e $n$, fa\u00e7a:\n",
      "\n",
      "* Se $m$ for \u00edmpar some $n$ ao resultado\n",
      "* Enquanto $m$ for maior ou igual a 1 repita:    \n",
      "    - Divida $m$ por $2$, multiplique $n$ por $2$\n",
      "    - Se $m$ for \u00edmpar, some $n$ ao resultado"
     ]
    },
    {
     "cell_type": "code",
     "collapsed": false,
     "input": [
      "def Etiope(m, n):\n",
      "    res = 0\n",
      "    while m>=1:\n",
      "        if m%2==1:\n",
      "            res += n\n",
      "        m = m/2\n",
      "        n = n*2\n",
      "    return res\n",
      "    \n",
      "    \n",
      "print Etiope(12,13), 12*13\n",
      "print Etiope(22,18), 22*18"
     ],
     "language": "python",
     "metadata": {
      "slideshow": {
       "slide_type": "slide"
      }
     },
     "outputs": [
      {
       "output_type": "stream",
       "stream": "stdout",
       "text": [
        "156 156\n",
        "396 396\n"
       ]
      }
     ],
     "prompt_number": 3
    },
    {
     "cell_type": "markdown",
     "metadata": {
      "slideshow": {
       "slide_type": "slide"
      }
     },
     "source": [
      "Existem algumas sintaxes no Python conhecidas como **Syntactic sugar** que s\u00e3o formas de reduzir longas sequ\u00eancias de instru\u00e7\u00f5es de uma forma mais simples para leitura."
     ]
    },
    {
     "cell_type": "markdown",
     "metadata": {
      "slideshow": {
       "slide_type": "slide"
      }
     },
     "source": [
      "Um exemplo s\u00e3o instru\u00e7\u00f5es `if-else` que cont\u00e9m apenas uma instru\u00e7\u00e3o a serem executadas:\n",
      "\n",
      "```python\n",
      "variavel = valor1 if condicao else valor2\n",
      "```\n",
      "\n",
      "A vari\u00e1vel ir\u00e1 receber o `valor1` caso a condi\u00e7\u00e3o seja verdadeira, caso contr\u00e1rio receber\u00e1 o `valor2`."
     ]
    },
    {
     "cell_type": "markdown",
     "metadata": {
      "slideshow": {
       "slide_type": "slide"
      }
     },
     "source": [
      "Outra Syntactic Sugar \u00e9 atribui\u00e7\u00e3o de valores para m\u00faltiplas vari\u00e1veis em uma linha:\n",
      "\n",
      "```python\n",
      "variavel1, variavel2 = valor1, valor\n",
      "```\n",
      "\n",
      "A `variavel1` receber\u00e1 o `valor1`, enquanto a `variavel2` receber\u00e1 o `valor2`."
     ]
    },
    {
     "cell_type": "code",
     "collapsed": false,
     "input": [
      "def Etiope(m, n):\n",
      "    res = 0\n",
      "    while m>=1:\n",
      "        res = res+n if m%2==1 else res\n",
      "        m, n = m/2, n*2\n",
      "    return res\n",
      "\n",
      "    \n",
      "    \n",
      "    \n",
      "print Etiope(12,13), 12*13\n",
      "print Etiope(22,18), 22*18"
     ],
     "language": "python",
     "metadata": {},
     "outputs": [
      {
       "output_type": "stream",
       "stream": "stdout",
       "text": [
        "156 156\n",
        "396 396\n"
       ]
      }
     ],
     "prompt_number": 4
    },
    {
     "cell_type": "markdown",
     "metadata": {
      "slideshow": {
       "slide_type": "slide"
      }
     },
     "source": [
      "Crie uma fun\u00e7\u00e3o para calcular a soma dos d\u00edgitos de um n\u00famero.\n",
      "\n",
      "Primeiro, fa\u00e7a o procedimento sem aux\u00edlio do computador e tente abstrair a solu\u00e7\u00e3o do problema.\n",
      "\n",
      "**DICA:** Utilize a nossa fun\u00e7\u00e3o `DivResto()` criada anteriormente."
     ]
    },
    {
     "cell_type": "code",
     "collapsed": false,
     "input": [
      "def SomaDigitos(num):\n",
      "    soma = 0\n",
      "    while num>0:\n",
      "        soma = soma + num%10\n",
      "        num = num/10\n",
      "    return soma    \n",
      "    \n",
      "SomaDigitos(12345)"
     ],
     "language": "python",
     "metadata": {},
     "outputs": [
      {
       "metadata": {},
       "output_type": "pyout",
       "prompt_number": 7,
       "text": [
        "15"
       ]
      }
     ],
     "prompt_number": 7
    },
    {
     "cell_type": "markdown",
     "metadata": {
      "slideshow": {
       "slide_type": "slide"
      }
     },
     "source": [
      "Crie uma fun\u00e7\u00e3o para verificar se um n\u00famero \u00e9 primo!\n",
      "\n",
      "Pense na condi\u00e7\u00e3o de repeti\u00e7\u00e3o e quando podemos retornar o resultado para fazer o menor n\u00famero de repeti\u00e7\u00f5es."
     ]
    },
    {
     "cell_type": "code",
     "collapsed": false,
     "input": [
      "def Primo(num):\n",
      "    # ele n\u00e3o pode ser divis\u00edvel por nenhum n\u00famero de 2 a num-1\n",
      "    p = 2\n",
      "    while p<num:\n",
      "        if num%p==0:\n",
      "            return False\n",
      "        p = p + 1\n",
      "    return True\n",
      "\n",
      "    \n",
      "    \n",
      "    \n",
      "    \n",
      "print Primo(10)\n",
      "print Primo(13)\n",
      "print Primo(131)"
     ],
     "language": "python",
     "metadata": {},
     "outputs": [
      {
       "output_type": "stream",
       "stream": "stdout",
       "text": [
        "False\n",
        "True\n",
        "True\n"
       ]
      }
     ],
     "prompt_number": 8
    },
    {
     "cell_type": "code",
     "collapsed": false,
     "input": [],
     "language": "python",
     "metadata": {},
     "outputs": []
    }
   ],
   "metadata": {}
  }
 ]
}