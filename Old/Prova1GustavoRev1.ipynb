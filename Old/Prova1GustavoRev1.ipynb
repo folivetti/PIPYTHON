{
 "cells": [
  {
   "cell_type": "markdown",
   "metadata": {},
   "source": [
    "## Exercicio 1 - Caixa Eletrônico"
   ]
  },
  {
   "cell_type": "markdown",
   "metadata": {},
   "source": [
    "Você está desenvolvendo o sistema de um caixa eletrônico para um banco. O cliente do banco fornece ao caixa quanto dinheiro deseja retirar e o caixa deve liberar o valor utilizando as cédulas disponíveis. Por exemplo, no caso de um caixa que tenha apenas notas de 10, 20 e 50 reais, um usuário que solicita o saque de 180 reais deve receber 3 notas de 50, 2 notas de 20 e 1 nota de 10. \n",
    "\n",
    "Escreva a função CaixaEletronico cujo paramêtro de entrada é o valor a ser sacado. A função deve retornar o número de notas de cada valor devolvidas, em ordem decrescente do valor da nota. O caixa deve devolver o menor número possível de células que contemplem o valor solicitado. Considere que o caixa eletrônico tenha notas de 50, 20, 10, 5 e 1.\n",
    "Dica: utilize os operadores // e %.\n"
   ]
  },
  {
   "cell_type": "code",
   "execution_count": 1,
   "metadata": {
    "collapsed": false
   },
   "outputs": [
    {
     "data": {
      "text/plain": [
       "(3, 1, 1, 0, 4)"
      ]
     },
     "execution_count": 1,
     "metadata": {},
     "output_type": "execute_result"
    }
   ],
   "source": [
    "def CaixaEletronico(valor):\n",
    "    notas50 = valor // 50\n",
    "    valor = valor % 50\n",
    "    notas20 = valor // 20\n",
    "    valor = valor % 20\n",
    "    notas10 = valor // 10\n",
    "    valor = valor % 10\n",
    "    notas5 = valor // 5\n",
    "    valor = valor % 5\n",
    "    notas1 = valor // 1\n",
    "    return (notas50, notas20, notas10, notas5, notas1)\n",
    "    \n",
    "CaixaEletronico(184)\n",
    "    \n"
   ]
  },
  {
   "cell_type": "markdown",
   "metadata": {},
   "source": [
    "## Exercicio 2 - Juros Compostos"
   ]
  },
  {
   "cell_type": "markdown",
   "metadata": {},
   "source": [
    "O regime de juros compostos é o mais comum no sistema financeiro e portanto, o mais útil para cálculos de problemas do dia-a-dia. Os juros gerados a cada período são incorporados ao principal para o cálculo dos juros do período seguinte:\n",
    "\n",
    "$$montante \\cdot (1+\\frac{taxa}{100}))^{meses}$$\n",
    "\n",
    "Escreva a função JurosCompostos, cujas entradas são: o valor do montante original, a taxa de juros ao mês da aplicação (em %) e o número de meses da aplicação. A função deve retornar o montante total corrigido e o valor total da taxa dos juros compostos aplicados sobre o montante original (em %)."
   ]
  },
  {
   "cell_type": "code",
   "execution_count": 2,
   "metadata": {
    "collapsed": false
   },
   "outputs": [
    {
     "name": "stdout",
     "output_type": "stream",
     "text": [
      "(1126.8250301319697, 12.682503013196978)\n"
     ]
    }
   ],
   "source": [
    "def JurosCompostos(montante,taxa,meses):\n",
    "    correcao = 1\n",
    "    for i in range(meses):\n",
    "        correcao *= (1+(taxa/100))\n",
    "    return montante*correcao, (correcao - 1)*100\n",
    "print(JurosCompostos(1000,1,12))"
   ]
  },
  {
   "cell_type": "markdown",
   "metadata": {},
   "source": [
    "## Exercicio 3 - Imposto de renda"
   ]
  },
  {
   "cell_type": "markdown",
   "metadata": {},
   "source": [
    "Sobre o salário bruto de um trabalhador incide contribuções e impostos. Os mais comuns são a contribuição para a aposentadoria e o imposto de renda. A base de cálculo do imposto de renda considera o salário bruto descontado das contribuições da aposentadoria. Considere que a alíquota da contribuição para aposentadoria seja de 11% sobre o total do salário bruto, independentemente do valor recebido durante o ano. Considere ainda que sobre a base de cálculo anual para o imposto de renda, para o valor de até 24 mil reais por ano, o trabalhador é isento de Imposto de renda. Somente sobre o que ultrapassar esse valor, será cobrado 15% a título de imposto de renda. \n",
    "\n",
    "Escreva a função ImpostoRenda cuja entrada é o valor do salário bruto anual e cuja saída é o valor líquido recebido durante o ano."
   ]
  },
  {
   "cell_type": "code",
   "execution_count": 16,
   "metadata": {
    "collapsed": false
   },
   "outputs": [
    {
     "name": "stdout",
     "output_type": "stream",
     "text": [
      "26295.0\n"
     ]
    }
   ],
   "source": [
    "def ImpostoRenda(salario):\n",
    "    salario = salario * 0.89\n",
    "    if (salario <= 24000):\n",
    "        return salario\n",
    "    else:\n",
    "        return salario - (0.15 * (salario-24000))\n",
    "print(ImpostoRenda(30000))\n",
    "        "
   ]
  },
  {
   "cell_type": "markdown",
   "metadata": {},
   "source": [
    "## Exercício 4 - Somatória"
   ]
  },
  {
   "cell_type": "markdown",
   "metadata": {},
   "source": [
    "Crie a função Soma que permita o calculo da seguinte somatória:\n",
    "−1 + 2 − 3 + 4 − 5 + 6 + · · · + N\n",
    "\n",
    "A função soma deve ter como parâmetro de entrada o número N e a saída igual a somatória acima."
   ]
  },
  {
   "cell_type": "code",
   "execution_count": 18,
   "metadata": {
    "collapsed": false
   },
   "outputs": [
    {
     "name": "stdout",
     "output_type": "stream",
     "text": [
      "5\n"
     ]
    }
   ],
   "source": [
    "def Soma(n):\n",
    "    soma = 0\n",
    "    for i in range(1,n+1):\n",
    "        soma = soma + i*( (-1)**i)\n",
    "    return soma\n",
    "print(Soma(10))"
   ]
  },
  {
   "cell_type": "markdown",
   "metadata": {},
   "source": [
    "## Exercicio 5 - Palíndromo"
   ]
  },
  {
   "cell_type": "markdown",
   "metadata": {},
   "source": [
    "Fazer uma função Palíndromo que receba como parâmetro de entrada uma string e retorne True se ela for palíndroma e False, caso contrário. Uma string é dita palíndromoa se ela é igual lida da esquerda para a direita e vice-versa. Exemplos: RADAR é palíndroma e PYTHON não é."
   ]
  },
  {
   "cell_type": "code",
   "execution_count": 22,
   "metadata": {
    "collapsed": false
   },
   "outputs": [
    {
     "name": "stdout",
     "output_type": "stream",
     "text": [
      "True\n",
      "False\n"
     ]
    }
   ],
   "source": [
    "def Palindromo(nome):\n",
    "    n = len(nome)\n",
    "    k = 0\n",
    "    while k<n/2:\n",
    "        if nome[k] != nome[n-k-1]:\n",
    "            return False\n",
    "        k = k+1\n",
    "    return True\n",
    "print(Palindromo('RADAR'))\n",
    "print(Palindromo('Python'))"
   ]
  },
  {
   "cell_type": "markdown",
   "metadata": {},
   "source": [
    "## Exercício 6 - Menor e maior da lista"
   ]
  },
  {
   "cell_type": "markdown",
   "metadata": {},
   "source": [
    "Crie a função MaiorMenor, que dada uma lista de números como entrada, retorne o maior e menor elemento dessa lista."
   ]
  },
  {
   "cell_type": "code",
   "execution_count": 24,
   "metadata": {
    "collapsed": false
   },
   "outputs": [
    {
     "name": "stdout",
     "output_type": "stream",
     "text": [
      "(64, -128)\n"
     ]
    }
   ],
   "source": [
    "def MaiorMenor(lista):\n",
    "    menor = lista[0]\n",
    "    maior = lista[0]\n",
    "    for elemento in lista:\n",
    "        if elemento > maior:\n",
    "            maior = elemento\n",
    "        if elemento < menor:\n",
    "            menor = elemento\n",
    "    return maior, menor\n",
    "lista = [1,2,4,16,32,64,-128]\n",
    "print(MaiorMenor(lista))"
   ]
  },
  {
   "cell_type": "markdown",
   "metadata": {
    "collapsed": true
   },
   "source": [
    "## Exercício 7 - N-ímpares consecutivos\n",
    "\n",
    "Sabe-se que um número da forma $n^3$ é igual a soma de $n$ ímpares consecutivos:\n",
    "\n",
    "$$1^3 = 1,\n",
    "2^3 = 3+5, \n",
    "3^3 = 7+9+11,  \n",
    "4^3 = 13+15+17+19,...$$\n",
    "\n",
    "Crie uma função que determine os $n$ ímpares consecutivos de $n^3$."
   ]
  },
  {
   "cell_type": "code",
   "execution_count": 5,
   "metadata": {
    "collapsed": false
   },
   "outputs": [
    {
     "name": "stdout",
     "output_type": "stream",
     "text": [
      "([13, 15, 17, 19], 64, 64)\n"
     ]
    }
   ],
   "source": [
    "def Consecutivos(n):\n",
    "    soma = 0\n",
    "    for i in range(1,n+1):\n",
    "        soma += i\n",
    "    impares = [x for x in range(2*soma) if x%2!=0 ]\n",
    "    return impares[soma-n:soma]\n",
    "\n",
    "print(Consecutivos(4), sum(Consecutivos(4)), 4**3)"
   ]
  },
  {
   "cell_type": "code",
   "execution_count": 1,
   "metadata": {
    "collapsed": false
   },
   "outputs": [
    {
     "data": {
      "text/plain": [
       "tuple"
      ]
     },
     "execution_count": 1,
     "metadata": {},
     "output_type": "execute_result"
    }
   ],
   "source": [
    "type( (1,2))"
   ]
  },
  {
   "cell_type": "code",
   "execution_count": null,
   "metadata": {
    "collapsed": true
   },
   "outputs": [],
   "source": []
  }
 ],
 "metadata": {
  "kernelspec": {
   "display_name": "Python 3",
   "language": "python",
   "name": "python3"
  },
  "language_info": {
   "codemirror_mode": {
    "name": "ipython",
    "version": 3
   },
   "file_extension": ".py",
   "mimetype": "text/x-python",
   "name": "python",
   "nbconvert_exporter": "python",
   "pygments_lexer": "ipython3",
   "version": "3.5.1"
  }
 },
 "nbformat": 4,
 "nbformat_minor": 0
}
