{
 "cells": [
  {
   "cell_type": "markdown",
   "metadata": {},
   "source": [
    "**Exercício 1:** Dadas as seguintes variáveis\n",
    "\n",
    "```python\n",
    "segundos = 19\n",
    "media = 2.1\n",
    "letraO = 'o'\n",
    "```\n",
    "\n",
    "Qual será o resultado das seguintes operações:\n",
    "\n",
    "```python\n",
    "segundos/2\n",
    "segundos/2.0\n",
    "media/3\n",
    "(segundos + media)/2\n",
    "letraO*10+'la'\n",
    "```\n",
    "\n",
    "Utilize o interpretador do Notebook para verificar as respostas"
   ]
  },
  {
   "cell_type": "code",
   "execution_count": 6,
   "metadata": {
    "collapsed": false
   },
   "outputs": [],
   "source": [
    "segundos = 19\n",
    "media = 2.1\n",
    "letraO = 'o'"
   ]
  },
  {
   "cell_type": "markdown",
   "metadata": {},
   "source": [
    "**Exercício 2:** Faça um algoritmo para calcular o volume de uma esfera dado por\n",
    "\n",
    "$$\\frac{4}{3} \\cdot \\pi \\cdot r^{3}$$\n",
    "\n",
    "Pegue o valor de *r* do usuário."
   ]
  },
  {
   "cell_type": "code",
   "execution_count": 1,
   "metadata": {
    "collapsed": false
   },
   "outputs": [],
   "source": [
    "# EX02"
   ]
  },
  {
   "cell_type": "markdown",
   "metadata": {},
   "source": [
    "**Exercício 3:** Supondo que o preço do rodízio de uma churrascaria está R\\$ 48,50 por pessoa. Eles oferecem um desconto de 25\\% para grupos maiores que 20 e o cobrado pelo couvert é R\\$ 4,00 para a primeira pessoa e R\\$ 1,00 para as pessoas seguintes.\n",
    "Calcule quantos reais um grupo de 35 pessoas economizará ao se juntarem."
   ]
  },
  {
   "cell_type": "code",
   "execution_count": 2,
   "metadata": {
    "collapsed": false
   },
   "outputs": [],
   "source": [
    "# EX03"
   ]
  },
  {
   "cell_type": "markdown",
   "metadata": {},
   "source": [
    "**Exercício 4:** Se eu sair de minha casa as 06:30, correr 1 km na velocidade 10 m/s, 2 km na velocidade de 20 m/s e mais 1,5 km em 15 m/s, retornando em casa. Que horas eu chegarei para o café da manhã?"
   ]
  },
  {
   "cell_type": "code",
   "execution_count": 3,
   "metadata": {
    "collapsed": false
   },
   "outputs": [],
   "source": [
    "# EX04"
   ]
  },
  {
   "cell_type": "markdown",
   "metadata": {},
   "source": [
    "**Exercício 5:** Faça um algoritmo que obtenha valores de a, b, c do usuário e calcule as raízes da equação do segundo grau $a \\cdot x^{2} + b \\cdot x + c$.\n",
    "\n",
    "Em seguida, utilize a biblioteca sympy para obter as raízes. Verifique como fazer isso através do [tutorial](http://nbviewer.ipython.org/github/jrjohansson/scientific-python-lectures/blob/master/Lecture-5-Sympy.ipynb)."
   ]
  },
  {
   "cell_type": "code",
   "execution_count": 4,
   "metadata": {
    "collapsed": false
   },
   "outputs": [],
   "source": [
    "# EX05\n"
   ]
  },
  {
   "cell_type": "markdown",
   "metadata": {},
   "source": [
    "**Exercício 6:** Dado os valores de *x* e *y* e um valor de $0 \\leq w \\leq 1$, todos eles digitado pelo usuário, determine a média ponderada dada por $w \\cdot x + (1.0 - w) \\cdot y$."
   ]
  },
  {
   "cell_type": "code",
   "execution_count": 5,
   "metadata": {
    "collapsed": false
   },
   "outputs": [],
   "source": [
    "# EX06\n"
   ]
  },
  {
   "cell_type": "markdown",
   "metadata": {},
   "source": [
    "**Exercício 7:** Converta a idade do usuário para segundos. Faça a mesma conversão levando em conta os anos bissextos."
   ]
  },
  {
   "cell_type": "code",
   "execution_count": 23,
   "metadata": {
    "collapsed": false
   },
   "outputs": [],
   "source": [
    "#EX07\n",
    "\n",
    "# Converta a idade digitada pelo usuário em segundos\n",
    "\n",
    "\n",
    "# Faça a mesma conversão levando em conta os anos bissextos\n",
    "\n"
   ]
  },
  {
   "cell_type": "markdown",
   "metadata": {},
   "source": [
    "**Exercício 8:** Calcule a área ou volume das seguintes formas utilizando as dimensões dadas pelo usuário."
   ]
  },
  {
   "cell_type": "code",
   "execution_count": 24,
   "metadata": {
    "collapsed": false
   },
   "outputs": [],
   "source": [
    "#EX08\n",
    "\n",
    "# Para as formas abaixo, calcule a área ou volume conforme apropriado\n",
    "# Pegue as dimensões do usuário.\n",
    "\n",
    "# Retângulo: base * altura\n",
    "\n",
    "# Triângulo: base * altura / 2\n",
    "\n",
    "# Circunferência: pi * raio^2\n",
    "\n",
    "# Cubóide: base * altura * profundidade\n",
    "\n",
    "# Esfera: (4/3)pi*r^3\n",
    "\n",
    "# Pirâmide: base * largura * altura / 3"
   ]
  },
  {
   "cell_type": "markdown",
   "metadata": {},
   "source": [
    "**Exercício 9 (opcional):** Dado o código abaixo que utiliza as bibliotecas *requests* e *json* para obter a temperatura atual em Fahrenheit de uma dada coordenada, converta e imprima a temperatura em Celsius."
   ]
  },
  {
   "cell_type": "code",
   "execution_count": 22,
   "metadata": {
    "collapsed": false
   },
   "outputs": [],
   "source": [
    "# EX09\n",
    "# Conforme especificado na documentação da seguinte API:\n",
    "# https://developer.forecast.io/docs/v2\n",
    "# Ao acessar a url https://api.forecast.io/forecast/APIKEY/LATITUDE,LONGITUDE\n",
    "# obtemos informações de previsão do tempo para as coordenadas especificadas\n",
    "# O formato de saída é similar ao do exercício de tradução de textos, \n",
    "# é conhecido como JSON.\n",
    "# Utilizando a biblioteca json, é possível converter esses textos para \n",
    "# o tipo de variável conhecida como dicionário, em que especificamos\n",
    "# um campo que queremos consultar através de colchetes.\n",
    "\n",
    "# No código abaixo, logo após obter a temperatura atual\n",
    "# converta para grau Celsius e imprima o resultado\n",
    "\n",
    "import requests\n",
    "import json\n",
    "\n",
    "APIKEY = '64f1cb760542cc081014a27410cf1bf1'  # chave obtida no site, 1000 requisições por dia\n",
    "\n",
    "# coordenadas de Santo André\n",
    "LAT = '23.6572'\n",
    "LONG = '46.5333'\n",
    "\n",
    "# Obtendo informações do site\n",
    "url = 'https://api.forecast.io/forecast/'+APIKEY+'/'+LAT+','+LONG\n",
    "saida = requests.get(url)\n",
    "\n",
    "# pegando a temperatura em Fahrenheit\n",
    "# a variável t contém a temperatura em F, como um valor decimal\n",
    "t = json.loads(saida.text)['currently']['temperature']\n",
    "\n",
    "# O exercício começa aqui!\n",
    "# converta para Celsius e imprima"
   ]
  }
 ],
 "metadata": {
  "kernelspec": {
   "display_name": "Python 3",
   "language": "python",
   "name": "python3"
  },
  "language_info": {
   "codemirror_mode": {
    "name": "ipython",
    "version": 3
   },
   "file_extension": ".py",
   "mimetype": "text/x-python",
   "name": "python",
   "nbconvert_exporter": "python",
   "pygments_lexer": "ipython3",
   "version": "3.3.5"
  }
 },
 "nbformat": 4,
 "nbformat_minor": 0
}
