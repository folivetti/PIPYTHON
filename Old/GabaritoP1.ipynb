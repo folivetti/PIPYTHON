{
 "metadata": {
  "name": "",
  "signature": "sha256:92dd02a573715a43be448aab56fb00f3de62e02e936f7ac90286fbd4c067c569"
 },
 "nbformat": 3,
 "nbformat_minor": 0,
 "worksheets": [
  {
   "cells": [
    {
     "cell_type": "markdown",
     "metadata": {},
     "source": [
      "Fa\u00e7a uma fun\u00e7\u00e3o chamada Polinomial que recebe dois par\u00e2metros: uma lista de coeficientes e um valor x. Essa fun\u00e7\u00e3o deve retornar o resultado do c\u00e1lculo:\n",
      "\n",
      "$$a0 + a1 . x + a2 . x^2 + \u2026 + an . x^n$$\n",
      "\n",
      "A lista cont\u00e9m os valores dos coeficientes na seguinte ordem:\n",
      "```\n",
      "[a0, a1, a2,...,an]\n",
      "```"
     ]
    },
    {
     "cell_type": "code",
     "collapsed": false,
     "input": [
      "def Polinomial(coefs,x):\n",
      "    i=0\n",
      "    res = 0\n",
      "    for a in coefs:\n",
      "        res = res + a*(x**i)\n",
      "        i = i+1\n",
      "    return res\n",
      "\n",
      "def Polinomial2(coefs, x):\n",
      "    res = 0\n",
      "    for i,a in enumerate(coefs):\n",
      "        res = res + a*(x**i)\n",
      "    return res\n",
      "\n",
      "def Polinomial3(coefs, x):\n",
      "    return sum([a*(x**i) for i,a in enumerate(coefs)])\n",
      "\n",
      "print Polinomial([1,2,3,4],10), Polinomial2([1,2,3,4],10), Polinomial3([1,2,3,4],10), 1+20+300+4000"
     ],
     "language": "python",
     "metadata": {},
     "outputs": [
      {
       "output_type": "stream",
       "stream": "stdout",
       "text": [
        "4321 4321 4321 4321\n"
       ]
      }
     ],
     "prompt_number": 1
    },
    {
     "cell_type": "markdown",
     "metadata": {},
     "source": [
      "Fa\u00e7a uma fun\u00e7\u00e3o chamada OndaSeno que recebe dois par\u00e2metros: uma lista de coeficientes e um valor x. Essa fun\u00e7\u00e3o deve retornar o resultado do c\u00e1lculo:\n",
      "\n",
      "$$a0 + a1 . seno(x) + a2 . cos(2x) + a3 . seno(3x) + ... + an . cos/seno (n.x)$$\n",
      "\n",
      "A lista cont\u00e9m os valores dos coeficientes na seguinte ordem:\n",
      "```\n",
      "[a0, a1, a2,...,an]\n",
      "```"
     ]
    },
    {
     "cell_type": "code",
     "collapsed": false,
     "input": [
      "from math import sin, cos\n",
      "\n",
      "def OndaSeno(coefs, x):\n",
      "    res = 0\n",
      "    i = 0\n",
      "    for a in coefs:\n",
      "        if i%2 == 0:\n",
      "            res = res + a*cos(i*x)\n",
      "        else:\n",
      "            res = res + a*sin(i*x)\n",
      "        i=i+1\n",
      "    return res\n",
      "\n",
      "def OndaSeno2(coefs, x):\n",
      "    res = 0\n",
      "    for i,a in enumerate(coefs):\n",
      "        if i%2 == 0:\n",
      "            res = res + a*cos(i*x)\n",
      "        else:\n",
      "            res = res + a*sin(i*x)\n",
      "    return res\n",
      "\n",
      "def OndaSeno3(coefs, x):\n",
      "    # posso colocar if-else dentro de um list comprehension\n",
      "    return sum( [a*cos(i*x) if i%2==0 else a*sin(i*x) for i,a in enumerate(coefs)] )\n",
      "\n",
      "print OndaSeno([1,2,3,4,5],3.14), OndaSeno2([1,2,3,4,5],3.14), OndaSeno3([1,2,3,4,5],3.14), 1*cos(0*3.14)+2*sin(1*3.14)+3*cos(2*3.14)+4*sin(3*3.14)+5*cos(4*3.14)"
     ],
     "language": "python",
     "metadata": {},
     "outputs": [
      {
       "output_type": "stream",
       "stream": "stdout",
       "text": [
        "9.02218039546 9.02218039546 9.02218039546 9.02218039546\n"
       ]
      }
     ],
     "prompt_number": 5
    },
    {
     "cell_type": "markdown",
     "metadata": {},
     "source": [
      "Crie uma fun\u00e7\u00e3o EncontraPalavras que recebe uma string frase e uma string palavra como par\u00e2metros. Ela deve transformar a frase em uma lista de palavras e retornar uma lista de posi\u00e7\u00f5es dessa lista que cont\u00e9m a palavra."
     ]
    },
    {
     "cell_type": "code",
     "collapsed": false,
     "input": [
      "def EncontraPalavras(frase, palavra):\n",
      "    i=0\n",
      "    indices = []\n",
      "    for p in frase.split():\n",
      "        if p==palavra:\n",
      "            indices.append(i)\n",
      "        i = i+1\n",
      "    return indices\n",
      "\n",
      "def EncontraPalavras2(frase, palavra):\n",
      "    return [i for i,p in enumerate(frase.split()) if p==palavra]    \n",
      "\n",
      "print EncontraPalavras(\"o gato mia quando o gato tem fome ou outro gato esta perto\",\"gato\"), EncontraPalavras2(\"o gato mia quando o gato tem fome ou outro gato esta perto\",\"gato\")"
     ],
     "language": "python",
     "metadata": {},
     "outputs": [
      {
       "output_type": "stream",
       "stream": "stdout",
       "text": [
        "[1, 5, 10] [1, 5, 10]\n"
       ]
      }
     ],
     "prompt_number": 6
    },
    {
     "cell_type": "markdown",
     "metadata": {},
     "source": [
      "Crie uma fun\u00e7\u00e3o InvertePalavras que recebe uma string frase e retorna a string com as palavras na ordem inversa."
     ]
    },
    {
     "cell_type": "code",
     "collapsed": false,
     "input": [
      "def InvertePalavras(frase):\n",
      "    inverso=''\n",
      "    for p in frase.split():\n",
      "        inverso = p + ' ' + inverso\n",
      "    return inverso\n",
      "\n",
      "def InvertePalavras2(frase):\n",
      "    palavras = frase.split()    \n",
      "    return palavras[::-1] # posso usar indices de lista para inverte-la\n",
      "\n",
      "print InvertePalavras(\"o gato mia quando o gato tem fome ou outro gato esta perto\")\n",
      "print InvertePalavras2(\"o gato mia quando o gato tem fome ou outro gato esta perto\")"
     ],
     "language": "python",
     "metadata": {},
     "outputs": [
      {
       "output_type": "stream",
       "stream": "stdout",
       "text": [
        "perto esta gato outro ou fome tem gato o quando mia gato o \n",
        "['perto', 'esta', 'gato', 'outro', 'ou', 'fome', 'tem', 'gato', 'o', 'quando', 'mia', 'gato', 'o']\n"
       ]
      }
     ],
     "prompt_number": 8
    },
    {
     "cell_type": "markdown",
     "metadata": {},
     "source": [
      "A Persist\u00eancia aditiva de um n\u00famero \u00e9 quantas vezes precisamos somar os d\u00edgitos de um n\u00famero at\u00e9 que ele se torne um n\u00famero de um d\u00edgito. Crie uma fun\u00e7\u00e3o que receba um n\u00famero x e retorne sua persist\u00eancia multiplicativa. DICA: crie fun\u00e7\u00f5es auxiliares."
     ]
    },
    {
     "cell_type": "code",
     "collapsed": false,
     "input": [
      "def Digitos(x):\n",
      "    digs = []\n",
      "    while x>0:\n",
      "        digs.append(x%10)\n",
      "        x = x/10\n",
      "    return digs\n",
      "\n",
      "def Mult(lista):\n",
      "    res = 1\n",
      "    for x in lista:\n",
      "        res = res*x\n",
      "    return res\n",
      "\n",
      "def Persistencia(x):\n",
      "    conta = 0\n",
      "    while x >= 10:\n",
      "        x = Mult(Digitos(x))\n",
      "        conta = conta+1\n",
      "    return conta\n",
      "\n",
      "print Persistencia(39)"
     ],
     "language": "python",
     "metadata": {},
     "outputs": [
      {
       "output_type": "stream",
       "stream": "stdout",
       "text": [
        "3\n"
       ]
      }
     ],
     "prompt_number": 14
    },
    {
     "cell_type": "code",
     "collapsed": false,
     "input": [
      "#alternativa\n",
      "\n",
      "def Digitos(x):    \n",
      "    prod = 1 \n",
      "    while x>0:\n",
      "        prod = prod * (x%10)\n",
      "        x = x/10\n",
      "    return prod\n",
      "\n",
      "def Persistencia(x):\n",
      "    conta = 0\n",
      "    while x >= 10:\n",
      "        x = Digitos(x)\n",
      "        conta = conta+1\n",
      "    return conta\n",
      "\n",
      "print Persistencia(39)"
     ],
     "language": "python",
     "metadata": {},
     "outputs": [
      {
       "output_type": "stream",
       "stream": "stdout",
       "text": [
        "3\n"
       ]
      }
     ],
     "prompt_number": 13
    },
    {
     "cell_type": "code",
     "collapsed": false,
     "input": [
      "#alternativa\n",
      "from operator import mul # <-- opera\u00e7\u00e3o de multiplica\u00e7\u00e3o, equivalente ao *\n",
      "\n",
      "def Digitos(x):    \n",
      "    x = str(x)\n",
      "    return reduce(mul, [int(d) for d in x], 1)\n",
      "# equivalente a:\n",
      "# res = 1\n",
      "# for d in x:\n",
      "#    res = res*d\n",
      "\n",
      "def Persistencia(x):\n",
      "    conta = 0\n",
      "    while x >= 10:\n",
      "        x = Digitos(x)\n",
      "        conta = conta+1\n",
      "    return conta\n",
      "\n",
      "print Persistencia(39)"
     ],
     "language": "python",
     "metadata": {},
     "outputs": [
      {
       "output_type": "stream",
       "stream": "stdout",
       "text": [
        "3\n"
       ]
      }
     ],
     "prompt_number": 18
    },
    {
     "cell_type": "markdown",
     "metadata": {},
     "source": [
      "Para qualquer n\u00famero natural se repetirmos o procedimento de somar o quadrado dos d\u00edgitos, eventualmente sempre chegaremos no n\u00famero $1$ ou $89$. Fa\u00e7a um algoritmo que retorne se um n\u00famero $x$ chega em $1$ ou $89$. DICA: crie fun\u00e7\u00f5es auxiliares."
     ]
    },
    {
     "cell_type": "code",
     "collapsed": false,
     "input": [
      "def Digitos(x):\n",
      "    digs = []\n",
      "    while x>0:\n",
      "        digs.append(x%10)\n",
      "        x = x/10\n",
      "    return digs\n",
      "\n",
      "def SomaQuad(lista):\n",
      "    res = 0\n",
      "    for x in lista:\n",
      "        res = res + x*x\n",
      "    return res\n",
      "\n",
      "def QuadDigito(x):\n",
      "    while x != 1 and x!=89:\n",
      "        x = SomaQuad(Digitos(x))        \n",
      "    return x\n",
      "\n",
      "print QuadDigito(15), QuadDigito(7)"
     ],
     "language": "python",
     "metadata": {},
     "outputs": [
      {
       "output_type": "stream",
       "stream": "stdout",
       "text": [
        "89 1\n"
       ]
      }
     ],
     "prompt_number": 36
    },
    {
     "cell_type": "code",
     "collapsed": false,
     "input": [
      "#Alternativa\n",
      "def Digitos(x):\n",
      "    soma = 0\n",
      "    while x>0:\n",
      "        soma = soma + (x%10)**2\n",
      "        x = x/10\n",
      "    return soma\n",
      "\n",
      "def QuadDigito(x):\n",
      "    while x != 1 and x!=89:\n",
      "        x = Digitos(x)    \n",
      "    return x\n",
      "\n",
      "print QuadDigito(15), QuadDigito(7)"
     ],
     "language": "python",
     "metadata": {},
     "outputs": [
      {
       "output_type": "stream",
       "stream": "stdout",
       "text": [
        "89 1\n"
       ]
      }
     ],
     "prompt_number": 15
    },
    {
     "cell_type": "code",
     "collapsed": false,
     "input": [
      "#Alternativa\n",
      "def Digitos(x):\n",
      "    x = str(x)\n",
      "    return sum( [int(d)**2 for d in x] )\n",
      "\n",
      "def QuadDigito(x):\n",
      "    while x != 1 and x!=89:\n",
      "        x = Digitos(x)    \n",
      "    return x\n",
      "\n",
      "print QuadDigito(15), QuadDigito(7)"
     ],
     "language": "python",
     "metadata": {},
     "outputs": [
      {
       "output_type": "stream",
       "stream": "stdout",
       "text": [
        "89 1\n"
       ]
      }
     ],
     "prompt_number": 16
    },
    {
     "cell_type": "code",
     "collapsed": false,
     "input": [],
     "language": "python",
     "metadata": {},
     "outputs": []
    }
   ],
   "metadata": {}
  }
 ]
}