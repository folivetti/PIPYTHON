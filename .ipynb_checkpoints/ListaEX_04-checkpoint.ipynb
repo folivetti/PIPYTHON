{
 "cells": [
  {
   "cell_type": "markdown",
   "metadata": {},
   "source": [
    "**Exercício 01:** Crie uma função ContaPalavras que receba como entrada o nome de um arquivo de texto e retorne a frequência de cada palavra contida nele."
   ]
  },
  {
   "cell_type": "code",
   "execution_count": 8,
   "metadata": {
    "collapsed": false
   },
   "outputs": [
    {
     "name": "stdout",
     "output_type": "stream",
     "text": [
      "em 2\n",
      "quatro 1\n",
      "ser 1\n",
      "texto 1\n",
      "vezes 1\n",
      "correto 1\n",
      "ocorrência 1\n",
      "for 1\n",
      "leituras 1\n",
      "Esse 1\n",
      "sobre 1\n",
      "uma 1\n",
      "usado 2\n",
      "para 1\n",
      "de 2\n",
      "dicionário 1\n",
      "da 1\n",
      "aprender 1\n",
      "como 1\n",
      "palavra 1\n",
      "mínimo 1\n",
      "Se 1\n",
      "a 1\n",
      "resultado 1\n",
      "e 1\n",
      "pode 1\n",
      "arquivos 1\n",
      "textos 1\n",
      "o 4\n",
      "exemplo 1\n",
      "estrutura 1\n",
      "será 1\n",
      "teremos 1\n"
     ]
    }
   ],
   "source": [
    "# Contador de palavras\n",
    "import codecs\n",
    "from collections import defaultdict\n",
    "\n",
    "def ContaPalavras(texto):\n",
    "    \n",
    "for palavra, valor in ContaPalavras('exemplo.txt').iteritems():\n",
    "    print palavra, valor"
   ]
  },
  {
   "cell_type": "markdown",
   "metadata": {},
   "source": [
    "**Exercício 02:** Crie uma função ConverteData() que recebe uma string no formato DIA-MES-ANO e retorne uma string no formato DIA-MES_NUMERO-ANO. Exemplo:\n",
    "\n",
    "'01-MAI-2000' => '01-05-2000'.\n",
    "\n",
    "Você pode separar a string em uma lista de strings da seguinte maneira:\n",
    "\n",
    "```\n",
    "data = '01-MAI-2000'\n",
    "lista = data.split('-')\n",
    "print lista # ['01','MAI','2000']\n",
    "```\n",
    "\n",
    "E pode juntar novamente usando `join`:\n",
    "\n",
    "```\n",
    "lista = ['01','05', '2000']\n",
    "data = '-'.join(lista)\n",
    "print data # '01-05-2000'\n",
    "```"
   ]
  },
  {
   "cell_type": "code",
   "execution_count": 4,
   "metadata": {
    "collapsed": false
   },
   "outputs": [
    {
     "name": "stdout",
     "output_type": "stream",
     "text": [
      "01-05-2000\n"
     ]
    }
   ],
   "source": [
    "# converter data no formato 01-MAI-2000 em 01-05-2000\n",
    "def ConverteData(data):\n",
    "\n",
    "print ConverteData('01-MAI-2000')"
   ]
  },
  {
   "cell_type": "markdown",
   "metadata": {},
   "source": [
    "**Exercício 03:** Crie um dicionário chamado Dados que tenha como chave um número de 2 até 12 e o valor seja uma lista contendo todas as combinações dos valores de dois dados que resulta nessa chave."
   ]
  },
  {
   "cell_type": "code",
   "execution_count": 6,
   "metadata": {
    "collapsed": false,
    "scrolled": true
   },
   "outputs": [
    {
     "name": "stdout",
     "output_type": "stream",
     "text": [
      "2 [(1, 1)]\n",
      "3 [(1, 2), (2, 1)]\n",
      "4 [(1, 3), (2, 2), (3, 1)]\n",
      "5 [(1, 4), (2, 3), (3, 2), (4, 1)]\n",
      "6 [(1, 5), (2, 4), (3, 3), (4, 2), (5, 1)]\n",
      "7 [(1, 6), (2, 5), (3, 4), (4, 3), (5, 2), (6, 1)]\n",
      "8 [(2, 6), (3, 5), (4, 4), (5, 3), (6, 2)]\n",
      "9 [(3, 6), (4, 5), (5, 4), (6, 3)]\n",
      "10 [(4, 6), (5, 5), (6, 4)]\n",
      "11 [(5, 6), (6, 5)]\n",
      "12 [(6, 6)]\n"
     ]
    }
   ],
   "source": [
    "# crie um dicionário em que a chave é um número de 2 a 12 \n",
    "# e o valor é uma lista de combinações de dois dados que resulta na chave\n",
    "Dados =...\n",
    "\n",
    "\n",
    "for chave, valor in Dados.iteritems():\n",
    "    print chave, valor"
   ]
  },
  {
   "cell_type": "markdown",
   "metadata": {},
   "source": [
    "**Exercício 04:** Crie um dicionário onde as chaves são palavras em português e os valores sua tradução para o inglês. Use todas as palavras do texto do exercício 01.\n",
    "\n",
    "Crie uma função Traduz() que recebe o nome do arquivo texto como parâmetro e retorna uma string com a tradução."
   ]
  },
  {
   "cell_type": "code",
   "execution_count": 12,
   "metadata": {
    "collapsed": false
   },
   "outputs": [
    {
     "name": "stdout",
     "output_type": "stream",
     "text": [
      " this example will be used to learn the minimum about readings from files texts\n",
      " and as the text can be used in one structure from dictionary\n",
      " if the result be correct have the occurrence of word the in four times\n",
      "\n"
     ]
    }
   ],
   "source": [
    "# crie um pequeno dicionário de inglês para português e use para traduzir frases simples\n",
    "import codecs\n",
    "\n",
    "def Traduz(texto):\n",
    "    \n",
    "\n",
    "print Traduz('exemplo.txt')"
   ]
  },
  {
   "cell_type": "markdown",
   "metadata": {},
   "source": [
    "**Exercício 05:** A Cifra de César é uma forma simples de criptografar um texto. O procedimento é simples:\n",
    "\n",
    "- dado um número $n$\n",
    "- crie um mapa de substituição em que cada letra será substituida pela n-ésima letra após ela no alfabeto. Ex.:\n",
    "\n",
    "```\n",
    "n = 1\n",
    "A -> B\n",
    "B -> C\n",
    "...\n",
    "n = 2\n",
    "A -> C\n",
    "B -> D\n",
    "...\n",
    "```\n",
    "\n",
    "A Codificação é feita substituindo cada letra da frase pelo correspondente do mapa.\n",
    "\n",
    "Para Decodificar uma frase, basta criar um mapa utilizando $-n$ ao invés de $n$.\n",
    "\n",
    "Crie uma função ConstroiDic() que recebe um valor n como entrada e cria um mapa de substituição. Utilize a constante `string.ascii_letters` para obter todas as letras do alfabeto. \n",
    "\n",
    "Note que o mapa é cíclico, ou seja, para n=1, a letra Z tem que ser substituida pela letra A. Isso pode ser feito utilizando o operador '%'.\n",
    "\n",
    "Crie uma função Codifica() que recebe como parâmetros uma string contendo uma frase e um valor para n, essa função deve construir o dicionário e retornar a frase codificada.\n",
    "\n",
    "Para Decodificar o texto, basta chamar a função Codifica() pasando -n como parâmetro."
   ]
  },
  {
   "cell_type": "code",
   "execution_count": 42,
   "metadata": {
    "collapsed": false,
    "scrolled": true
   },
   "outputs": [
    {
     "name": "stdout",
     "output_type": "stream",
     "text": [
      "atz ynwfw ijE sf uwtCnrf uwtAf\n",
      "Vou tirar dez na proxima prova\n"
     ]
    }
   ],
   "source": [
    "# cifra de César\n",
    "import string\n",
    "\n",
    "def ConstroiDic(n):\n",
    "\n",
    "    \n",
    "def Codifica(frase, n):\n",
    "    \n",
    "    \n",
    "\n",
    "l = Codifica('Vou tirar dez na proxima prova', 5)\n",
    "print l\n",
    "print Codifica(l,-5)"
   ]
  },
  {
   "cell_type": "markdown",
   "metadata": {},
   "source": [
    "**Exercício 06:** Faça uma função que leia a tabela periódica de um arquivo (você construirá esse arquivo) e armazene em um dicionário."
   ]
  },
  {
   "cell_type": "code",
   "execution_count": 6,
   "metadata": {
    "collapsed": false
   },
   "outputs": [],
   "source": [
    "# tabela periodica"
   ]
  },
  {
   "cell_type": "markdown",
   "metadata": {},
   "source": [
    "**Exercício 07:** Assista o vídeo abaixo e crie uma lista com os personagens da letra da música.\n",
    "\n",
    "Em seguida, utilizando dois laços `for` percorra essa lista e escreva a letra da música."
   ]
  },
  {
   "cell_type": "code",
   "execution_count": 43,
   "metadata": {
    "collapsed": false
   },
   "outputs": [
    {
     "data": {
      "text/html": [
       "\n",
       "        <iframe\n",
       "            width=\"640\"\n",
       "            height=\"480\"\n",
       "            src=\"https://www.youtube.com/embed/BZzNBNoae-Y\"\n",
       "            frameborder=\"0\"\n",
       "            allowfullscreen\n",
       "        ></iframe>\n",
       "        "
      ],
      "text/plain": [
       "<IPython.lib.display.YouTubeVideo at 0x7f176030b0d0>"
      ]
     },
     "execution_count": 43,
     "metadata": {},
     "output_type": "execute_result"
    }
   ],
   "source": [
    "from IPython.display import YouTubeVideo\n",
    "YouTubeVideo('BZzNBNoae-Y', 640,480)"
   ]
  },
  {
   "cell_type": "code",
   "execution_count": 7,
   "metadata": {
    "collapsed": false
   },
   "outputs": [],
   "source": [
    "# velha a fiar\n"
   ]
  },
  {
   "cell_type": "markdown",
   "metadata": {},
   "source": [
    "**Exercício 08:** Faça uma função que converta um número decimal para romano. Para isso construa um dicionário em que as chaves são os números decimais e os valores o equivalente em romano.\n",
    "\n",
    "O algoritmo funciona da seguinte forma:\n",
    "\n",
    "- Para cada valor decimal do dicionário, do maior para o menor\n",
    "- Enquanto eu puder subtrair esse valor de x\n",
    "- subtraio o valor de x e concateno o equivalente romano em uma string\n",
    "\n",
    "**Exercício 09:** Faça uma função que converta um número romano para decimal. Para isso construa um dicionário com o inverso do que foi feito no ex. anterior. O algoritmo fica assim:\n",
    "\n",
    "- Para i de 0 até o tamanho da string do número romano\n",
    "- cria a string formada pela letra i e letra i+1 caso i seja menor que o tamanho da string - 1\n",
    "- cria a string formada pela letra i-1 e i, caso i seja maior que 0\n",
    "- se a primeira string estiver no dicionário, some o valor em x\n",
    "- senão se a segunda string NÃO estiver no dicionário, some o valor da letra i em x"
   ]
  },
  {
   "cell_type": "code",
   "execution_count": 41,
   "metadata": {
    "collapsed": false
   },
   "outputs": [
    {
     "name": "stdout",
     "output_type": "stream",
     "text": [
      "MCCCXLV 1345\n"
     ]
    }
   ],
   "source": [
    "# dec - romano - dec\n",
    "def DecRoman(x):\n",
    "\n",
    "    \n",
    "    \n",
    "    \n",
    "def RomanDec(r):\n",
    "\n",
    "    \n",
    "    \n",
    "r = DecRoman(1345)\n",
    "x = RomanDec(r)\n",
    "print r,x"
   ]
  }
 ],
 "metadata": {
  "kernelspec": {
   "display_name": "Python 2",
   "language": "python",
   "name": "python2"
  },
  "language_info": {
   "codemirror_mode": {
    "name": "ipython",
    "version": 2
   },
   "file_extension": ".py",
   "mimetype": "text/x-python",
   "name": "python",
   "nbconvert_exporter": "python",
   "pygments_lexer": "ipython2",
   "version": "2.7.9"
  }
 },
 "nbformat": 4,
 "nbformat_minor": 0
}
