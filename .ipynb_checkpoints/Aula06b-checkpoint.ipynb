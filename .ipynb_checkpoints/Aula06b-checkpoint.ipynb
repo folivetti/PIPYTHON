{
 "metadata": {
  "celltoolbar": "Slideshow",
  "name": "",
  "signature": "sha256:29771052676e3bc6abd707a10b8b736f9c0f7e16ebba87ddde31330031c7ac86"
 },
 "nbformat": 3,
 "nbformat_minor": 0,
 "worksheets": [
  {
   "cells": [
    {
     "cell_type": "code",
     "collapsed": false,
     "input": [
      "# ignore esse c\u00f3digo inicial, \u00e9 apenas para preparar a p\u00e1gina\n",
      "from IPython.display import YouTubeVideo, HTML, Image, display\n",
      "css_file = './modelo.css'\n",
      "HTML(open(css_file, \"r\").read())"
     ],
     "language": "python",
     "metadata": {
      "slideshow": {
       "slide_type": "skip"
      }
     },
     "outputs": [
      {
       "html": [
        "<style>\n",
        "\n",
        "@font-face {\n",
        "    font-family: \"Computer Modern\";\n",
        "    src: url('http://mirrors.ctan.org/fonts/cm-unicode/fonts/otf/cmunss.otf');\n",
        "}\n",
        "\n",
        "#notebook_panel { /* main background */\n",
        "    background: #888;\n",
        "    color: #f6f6f6;\n",
        "}\n",
        "\n",
        "div.cell { /* set cell width to about 80 chars */\n",
        "    width: 900px;\n",
        "}\n",
        "\n",
        "div #notebook { /* centre the content */\n",
        "    background: #fff; /* white background for content */\n",
        "    width: 1000px;\n",
        "    margin: auto;\n",
        "    padding-left: 1em;\n",
        "}\n",
        "\n",
        "#notebook li { /* More space between bullet points */\n",
        "margin-top:0.8em;\n",
        "}\n",
        "/* draw border around running cells */\n",
        "div.cell.border-box-sizing.code_cell.running {\n",
        "    border: 3px solid #111;\n",
        "}\n",
        "/* Put a solid color box around each cell and its output, visually linking them together */\n",
        "div.cell.code_cell {\n",
        "    background-color: rgba(171,165,131,0.3); \n",
        "    border-radius: 10px; /* rounded borders */\n",
        "    padding: 1em;\n",
        "    margin-top: 1em;\n",
        "}\n",
        "div.text_cell_render{\n",
        "    font-family: 'Arvo' sans-serif;\n",
        "    line-height: 130%;\n",
        "    font-size: 115%;\n",
        "    width:700px;\n",
        "    margin-left:auto;\n",
        "    margin-right:auto;\n",
        "}\n",
        "/* Formatting for header cells */\n",
        ".text_cell_render h1 {\n",
        "    font-family: 'Philosopher', sans-serif;\n",
        "    font-weight: 400;\n",
        "    font-size: 40pt;\n",
        "    text-align: center;\n",
        "    line-height: 100%;\n",
        "    color: rgb(12,85,97);\n",
        "    margin-bottom: 0.1em;\n",
        "    margin-top: 0.1em;\n",
        "    display: block;\n",
        "}\n",
        "\n",
        ".text_cell_render h2 {\n",
        "    font-family: 'Philosopher', serif;\n",
        "    font-weight: 700;\n",
        "    font-size: 24pt;\n",
        "    line-height: 100%;\n",
        "    color: rgb(171,165,131);\n",
        "    margin-bottom: 0.1em;\n",
        "    margin-top: 0.1em;\n",
        "    display: block;\n",
        "}    \n",
        "\n",
        ".text_cell_render h3 {\n",
        "    font-family: 'Philosopher', serif;\n",
        "    margin-top:12px;\n",
        "    margin-bottom: 3px;\n",
        "    font-style: italic;\n",
        "    color: rgb(95,92,72);\n",
        "}\n",
        "\n",
        ".text_cell_render h4 {\n",
        "    font-family: 'Philosopher', serif;\n",
        "}\n",
        "\n",
        ".text_cell_render h5 {\n",
        "    font-family: 'Alegreya Sans', sans-serif;\n",
        "    font-weight: 300;\n",
        "    font-size: 16pt;\n",
        "    color: grey;\n",
        "    font-style: italic;\n",
        "    margin-bottom: .1em;\n",
        "    margin-top: 0.1em;\n",
        "    display: block;\n",
        "}\n",
        "\n",
        ".text_cell_render h6 {\n",
        "    font-family: 'PT Mono', sans-serif;\n",
        "    font-weight: 300;\n",
        "    font-size: 10pt;\n",
        "    color: grey;\n",
        "    margin-bottom: 1px;\n",
        "    margin-top: 1px;\n",
        "}\n",
        ".CodeMirror{\n",
        "        font-family: \"PT Mono\";\n",
        "        font-size: 100%;\n",
        "}\n",
        ".raw_input_prompt{\n",
        "\tcolor: black;\n",
        "}\n",
        "input.raw_input{\n",
        "\tcolor: black;\n",
        "}\n",
        "</style>\n"
       ],
       "metadata": {},
       "output_type": "pyout",
       "prompt_number": 1,
       "text": [
        "<IPython.core.display.HTML at 0x7f61e82c46d0>"
       ]
      }
     ],
     "prompt_number": 1
    },
    {
     "cell_type": "heading",
     "level": 1,
     "metadata": {
      "slideshow": {
       "slide_type": "slide"
      }
     },
     "source": [
      "Introdu\u00e7\u00e3o \u00e0 Programa\u00e7\u00e3o em Python"
     ]
    },
    {
     "cell_type": "heading",
     "level": 2,
     "metadata": {
      "slideshow": {
       "slide_type": "slide"
      }
     },
     "source": [
      "Gerador de Textos Aleat\u00f3rios"
     ]
    },
    {
     "cell_type": "markdown",
     "metadata": {
      "slideshow": {
       "slide_type": "slide"
      }
     },
     "source": [
      "Para gerar um texto aleat\u00f3rio, uma t\u00e9cnica bastante uitlizada \u00e9 a de Cadeia de Markov.\n",
      "\n",
      "Cadeia de Markov, de forma simplificada, diz que um evento temporal no instante $t$ \u00e9 influenciado por todos os eventos anteriores $i=0 \\dots t-1$. Por\u00e9m, apenas os \u00faltimos eventos s\u00e3o os mais relevantes."
     ]
    },
    {
     "cell_type": "markdown",
     "metadata": {
      "slideshow": {
       "slide_type": "slide"
      }
     },
     "source": [
      "Em outras palavras, para fazer a previs\u00e3o do tempo, embora o clima do in\u00edcio dos tempos tenha influ\u00eancia, utilizando apenas os 7 \u00faltimos dias j\u00e1 nos garantem uma boa probabilidade de acerto."
     ]
    },
    {
     "cell_type": "markdown",
     "metadata": {
      "slideshow": {
       "slide_type": "slide"
      }
     },
     "source": [
      "Em textos escritos por seres humanos, percebemos a mesma situa\u00e7\u00e3o em que a probabilidade da $i$-\u00e9sima palavra ocorrer \u00e9 influenciada por todas as palavras que apareceram antes dela, mas apenas um pequeno conjunto de palavras anteriores exerce real influ\u00eancia."
     ]
    },
    {
     "cell_type": "markdown",
     "metadata": {
      "slideshow": {
       "slide_type": "slide"
      }
     },
     "source": [
      "Vamos assumir uma Cadeia de Markov de palavras em um texto para calcular a probabilidade de ocorrer certa palavra $w$ dado que a palavra anterior foi $y$, ou $P(w | y)$."
     ]
    },
    {
     "cell_type": "markdown",
     "metadata": {
      "slideshow": {
       "slide_type": "slide"
      }
     },
     "source": [
      "Para isso vamos criar um dicion\u00e1rio `P` cuja chave ser\u00e1 uma palavra e o valor ser\u00e1 uma lista de palavras, com repeti\u00e7\u00e3o, que ocorrem ap\u00f3s de determinada palavra."
     ]
    },
    {
     "cell_type": "code",
     "collapsed": false,
     "input": [
      "P = {}\n",
      "# do texto anterior\n",
      "P['de'] = ['palavras','determinada']"
     ],
     "language": "python",
     "metadata": {
      "slideshow": {
       "slide_type": "slide"
      }
     },
     "outputs": [],
     "prompt_number": 2
    },
    {
     "cell_type": "markdown",
     "metadata": {
      "slideshow": {
       "slide_type": "slide"
      }
     },
     "source": [
      "A probabilidade de uma palavra $w$ ocorrer dado a palavra $y$ \u00e9 determinada por:\n",
      "\n",
      "$$\n",
      "\\frac{\\# w|y}{\\#y}\n",
      "$$\n",
      "\n",
      "com $\\# w|y$ sendo a quantidade de ocorr\u00eancia da palavra $w$ na lista da palavra $y$ e $\\#y$ o tamanho da lista de $y$."
     ]
    },
    {
     "cell_type": "code",
     "collapsed": false,
     "input": [
      "# vamos contar quantas vezes o termo 'palavras' ocorre\n",
      "contagem = sum([1 for i in P['de'] if i == 'palavras'])\n",
      "tamanho = len(P['de'])\n",
      "prob = contagem/float(tamanho)\n",
      "print prob"
     ],
     "language": "python",
     "metadata": {
      "slideshow": {
       "slide_type": "slide"
      }
     },
     "outputs": [
      {
       "output_type": "stream",
       "stream": "stdout",
       "text": [
        "0.5\n"
       ]
      }
     ],
     "prompt_number": 3
    },
    {
     "cell_type": "markdown",
     "metadata": {
      "slideshow": {
       "slide_type": "slide"
      }
     },
     "source": [
      "Mas a opera\u00e7\u00e3o de cria\u00e7\u00e3o de uma lista e soma pode tomar muito tempo em nosso programa.\n",
      "\n",
      "Podemos ent\u00e3o fazer com que o valor de cada entrada do dicion\u00e1rio seja um dicion\u00e1rio de contagem de palavras!"
     ]
    },
    {
     "cell_type": "code",
     "collapsed": false,
     "input": [
      "P['de'] = {}\n",
      "P['de']['palavras'] = 1\n",
      "P['de']['determinada'] = 1"
     ],
     "language": "python",
     "metadata": {
      "slideshow": {
       "slide_type": "slide"
      }
     },
     "outputs": [],
     "prompt_number": 4
    },
    {
     "cell_type": "markdown",
     "metadata": {
      "slideshow": {
       "slide_type": "slide"
      }
     },
     "source": [
      "Dessa forma, bastaria fazer:"
     ]
    },
    {
     "cell_type": "code",
     "collapsed": false,
     "input": [
      "prob = P['de']['palavras']/float(len(P['de']))\n",
      "print prob"
     ],
     "language": "python",
     "metadata": {
      "slideshow": {
       "slide_type": "fragment"
      }
     },
     "outputs": [
      {
       "output_type": "stream",
       "stream": "stdout",
       "text": [
        "0.5\n"
       ]
      }
     ],
     "prompt_number": 5
    },
    {
     "cell_type": "markdown",
     "metadata": {
      "slideshow": {
       "slide_type": "slide"
      }
     },
     "source": [
      "**CUIDADO:** se tentarmos avaliar a contagem de uma palavra que n\u00e3o existe, receberemos uma mensagem de erro."
     ]
    },
    {
     "cell_type": "code",
     "collapsed": false,
     "input": [
      "print P['gato']"
     ],
     "language": "python",
     "metadata": {
      "slideshow": {
       "slide_type": "slide"
      }
     },
     "outputs": [
      {
       "ename": "KeyError",
       "evalue": "'gato'",
       "output_type": "pyerr",
       "traceback": [
        "\u001b[1;31m---------------------------------------------------------------------------\u001b[0m\n\u001b[1;31mKeyError\u001b[0m                                  Traceback (most recent call last)",
        "\u001b[1;32m<ipython-input-6-9954a613e089>\u001b[0m in \u001b[0;36m<module>\u001b[1;34m()\u001b[0m\n\u001b[1;32m----> 1\u001b[1;33m \u001b[1;32mprint\u001b[0m \u001b[0mP\u001b[0m\u001b[1;33m[\u001b[0m\u001b[1;34m'gato'\u001b[0m\u001b[1;33m]\u001b[0m\u001b[1;33m\u001b[0m\u001b[0m\n\u001b[0m",
        "\u001b[1;31mKeyError\u001b[0m: 'gato'"
       ]
      }
     ],
     "prompt_number": 6
    },
    {
     "cell_type": "markdown",
     "metadata": {
      "slideshow": {
       "slide_type": "slide"
      }
     },
     "source": [
      "Para resolver isso podemos utilizar o comando `in` para verificar se uma entrada consta do dicion\u00e1rio e o comando `.get()` para solucionar o problema:"
     ]
    },
    {
     "cell_type": "code",
     "collapsed": false,
     "input": [
      "p = P.get( 'de', {} )\n",
      "prob1 = p.get('palavras',0)/float(len(P['de']))\n",
      "prob2 = p.get('atirei',0)/float(len(P['de']))\n",
      "print prob1, prob2"
     ],
     "language": "python",
     "metadata": {
      "slideshow": {
       "slide_type": "slide"
      }
     },
     "outputs": [
      {
       "output_type": "stream",
       "stream": "stdout",
       "text": [
        "0.5 0.0\n"
       ]
      }
     ],
     "prompt_number": 7
    },
    {
     "cell_type": "markdown",
     "metadata": {
      "slideshow": {
       "slide_type": "slide"
      }
     },
     "source": [
      "Tamb\u00e9m temos como alternativa o uso do tipo `Counter` da biblioteca [`collections`](https://docs.python.org/2/library/collections.html#collections.Counter), ele cria automaticamente um contador de forma simplificada sem a preocupa\u00e7\u00e3o com elementos inexistentes:"
     ]
    },
    {
     "cell_type": "code",
     "collapsed": false,
     "input": [
      "from collections import Counter\n",
      "P = {}\n",
      "P['de'] = Counter()\n",
      "P['de'].update(['palavras', 'determinada'])\n",
      "p = P.get('de',Counter())\n",
      "print p['palavras']/float(len(P['de']))\n",
      "print p['gato']/float(len(P['de']))"
     ],
     "language": "python",
     "metadata": {
      "slideshow": {
       "slide_type": "slide"
      }
     },
     "outputs": [
      {
       "output_type": "stream",
       "stream": "stdout",
       "text": [
        "0.5\n",
        "0.0\n"
       ]
      }
     ],
     "prompt_number": 13
    },
    {
     "cell_type": "markdown",
     "metadata": {
      "slideshow": {
       "slide_type": "slide"
      }
     },
     "source": [
      "Para termos uma boa estimativa das probabilidades, precisamos ler tais probabilidades de um texto grande.\n",
      "\n",
      "No Python, a melhor forma de ler um arquivo de textos \u00e9 atrav\u00e9s da fun\u00e7\u00e3o `open()` da biblioteca ['codecs'](https://docs.python.org/2/library/codecs.html).\n",
      "\n",
      "Essa fun\u00e7\u00e3o recebe $3$ par\u00e2metros:\n",
      "\n",
      "* nome do arquivo\n",
      "* se eu quero ler ('r'), escrever ('w') ou atualizar ('a')\n",
      "* tipo de codifica\u00e7\u00e3o (usaremos 'utf-8' para a maioria dos casos)"
     ]
    },
    {
     "cell_type": "code",
     "collapsed": false,
     "input": [
      "import codecs\n",
      "\n",
      "f = codecs.open('texto', 'r', 'utf-8') # abre um arquivo para leitura\n",
      "i = 0\n",
      "for linha in f:  # para cada linha do texto\n",
      "    palavras = linha.split() # gera uma lista de palavras separadas por espa\u00e7o\n",
      "    print palavras\n",
      "    i = i+1\n",
      "    if i>5:\n",
      "        break\n",
      "f.close() # fecha o arquivo"
     ],
     "language": "python",
     "metadata": {
      "slideshow": {
       "slide_type": "slide"
      }
     },
     "outputs": [
      {
       "output_type": "stream",
       "stream": "stdout",
       "text": [
        "[u'Project', u\"Gutenberg's\", u'Eucalyptos', u'e', u'Acacias,', u'by', u'Jaime', u'de', u'Magalh\\xe3es', u'Lima']\n",
        "[]\n",
        "[u'This', u'eBook', u'is', u'for', u'the', u'use', u'of', u'anyone', u'anywhere', u'at', u'no', u'cost', u'and', u'with']\n",
        "[u'almost', u'no', u'restrictions', u'whatsoever.', u'You', u'may', u'copy', u'it,', u'give', u'it', u'away', u'or']\n",
        "[u're-use', u'it', u'under', u'the', u'terms', u'of', u'the', u'Project', u'Gutenberg', u'License', u'included']\n",
        "[u'with', u'this', u'eBook', u'or', u'online', u'at', u'www.gutenberg.net']\n"
       ]
      }
     ],
     "prompt_number": 9
    },
    {
     "cell_type": "markdown",
     "metadata": {
      "slideshow": {
       "slide_type": "slide"
      }
     },
     "source": [
      "**Nota:** as strings codificadas em utf-8 s\u00e3o precedidas de *u*. Essa codifica\u00e7\u00e3o tem maior suporte \u00e0 acentua\u00e7\u00e3o e s\u00edmbolos:"
     ]
    },
    {
     "cell_type": "code",
     "collapsed": false,
     "input": [
      "print u'\u00fc\u1e55\u2764'"
     ],
     "language": "python",
     "metadata": {
      "slideshow": {
       "slide_type": "slide"
      }
     },
     "outputs": [
      {
       "output_type": "stream",
       "stream": "stdout",
       "text": [
        "\u00fc\u1e55\u2764\n"
       ]
      }
     ],
     "prompt_number": 11
    },
    {
     "cell_type": "markdown",
     "metadata": {
      "slideshow": {
       "slide_type": "slide"
      }
     },
     "source": [
      "Outro ponto \u00e9 que temos que percorrer uma lista de *duplas* de palavras, ou seja, dada uma lista de palavras percorrer a palavra *w* e a palavra seguinte a ela.\n",
      "\n",
      "Utilizaremos a fun\u00e7\u00e3o `zip()` que permite juntar duas listas formando duplas de seus elementos:"
     ]
    },
    {
     "cell_type": "code",
     "collapsed": false,
     "input": [
      "print zip(palavras,palavras)\n",
      "print\n",
      "# queremos que a palavra 0 at\u00e9 n-1 forme dupla com a palavra 1 at\u00e9 n\n",
      "print zip(palavras[:-1], palavras[1:])"
     ],
     "language": "python",
     "metadata": {
      "slideshow": {
       "slide_type": "slide"
      }
     },
     "outputs": [
      {
       "output_type": "stream",
       "stream": "stdout",
       "text": [
        "[(u'subscribe', u'subscribe'), (u'to', u'to'), (u'our', u'our'), (u'email', u'email'), (u'newsletter', u'newsletter'), (u'to', u'to'), (u'hear', u'hear'), (u'about', u'about'), (u'new', u'new'), (u'eBooks.', u'eBooks.')]\n",
        "\n",
        "[(u'subscribe', u'to'), (u'to', u'our'), (u'our', u'email'), (u'email', u'newsletter'), (u'newsletter', u'to'), (u'to', u'hear'), (u'hear', u'about'), (u'about', u'new'), (u'new', u'eBooks.')]\n"
       ]
      }
     ],
     "prompt_number": 22
    },
    {
     "cell_type": "markdown",
     "metadata": {
      "slideshow": {
       "slide_type": "slide"
      }
     },
     "source": [
      "Uma vez que temos listas de palavras, podemos juntar com tudo que aprendemos at\u00e9 ent\u00e3o e formar nosso dicion\u00e1rio de contagens:"
     ]
    },
    {
     "cell_type": "code",
     "collapsed": false,
     "input": [
      "from collections import defaultdict\n",
      "\n",
      "f = codecs.open('texto', 'r', 'utf-8') # abre um arquivo para leitura\n",
      "P = defaultdict(Counter)\n",
      "for linha in f:  # para cada linha do texto\n",
      "    palavras = linha.split() # gera uma lista de palavras separadas por espa\u00e7o\n",
      "    for y,w in zip(palavras[:-1],palavras[1:]):\n",
      "        P[y].update([w])\n",
      "f.close() # fecha o arquivo\n",
      "print P.get(u'\u00e9',Counter())\n",
      "print\n",
      "print P.get(u'\u00c9',Counter())"
     ],
     "language": "python",
     "metadata": {
      "slideshow": {
       "slide_type": "slide"
      }
     },
     "outputs": [
      {
       "output_type": "stream",
       "stream": "stdout",
       "text": [
        "Counter({u'de': 14, u'uma': 11, u'que': 11, u'um': 11, u'o': 7, u'a': 7, u'muito': 5, u'para': 4, u'menos': 3, u'mais': 3, u'maravilha': 2, u'parente': 2, u'das': 2, u'nos': 2, u'facil': 2, u'boa,': 2, u'talvez': 2, u'arvore': 2, u't\\xe3o': 2, u'se': 2, u'considerado': 1, u'certo': 1, u'tentadora': 1, u'essencial': 1, u'\\xabesplendida\\xbb': 1, u'superior': 1, u'moderadamente': 1, u'leve,': 1, u'rapido;': 1, u'realmente': 1, u'quasi': 1, u'citado': 1, u'inferior': 1, u'licito': 1, u'bom,': 1, u'incomparavel,': 1, u'maior': 1, u'util': 1, u'possivel': 1, u'j\\xe1': 1, u'especie': 1, u'meu--\\xabterras': 1, u'manifesto.': 1, u'absorvente,': 1, u'em': 1, u'tambem': 1, u'incontestavel:': 1, u'avermelhada': 1, u'manifesto': 1, u'avermelhada,': 1, u'oriundo': 1, u'lento,': 1, u'\\xabesplendida': 1, u'velha.': 1, u'magnifica,': 1, u'magnifico': 1, u'rara': 1, u'medico': 1, u'bom': 1, u'com': 1, u'quebradi\\xe7a,': 1, u'transitorio.': 1, u'evidentemente': 1, u'unicamente': 1, u\"d'isso\": 1, u'precioso': 1, u'rija': 1, u'verdadeiramente': 1, u'certo,': 1, u'certo.': 1, u'basta;': 1, u'adocicada,': 1, u'sabido': 1, u'_a': 1, u'salutar,': 1, u'tres': 1, u'caracteristica': 1, u'esta': 1, u'ao': 1, u'reputada': 1, u'excellente.': 1, u'excellente,': 1, u'tal': 1, u'feio.': 1, u'sobretudo': 1, u'nas': 1, u'extrema.': 1, u'grande--o': 1, u'indispensavel,': 1, u'boa': 1, u'aproveitavel': 1, u'igualmente': 1, u'e': 1, u'empreza': 1, u'cousa': 1, u'dos': 1})\n",
        "\n",
        "Counter({u'uma': 4, u'o': 3, u'a': 2, u'este': 1, u'positivamente': 1, u'esta': 1, u'assim': 1, u'magnifico.': 1, u'de': 1, u'hoje': 1, u'ao': 1, u'dos': 1, u'muito': 1, u\"n'estas\": 1, u'capital': 1, u'miraculoso.': 1, u'possivel': 1, u'lenta': 1, u'grande': 1})\n"
       ]
      }
     ],
     "prompt_number": 19
    },
    {
     "cell_type": "markdown",
     "metadata": {
      "slideshow": {
       "slide_type": "slide"
      }
     },
     "source": [
      "Ainda temos um problema, reparem que esse contador n\u00e3o diferencia palavras min\u00fasculas das mai\u00fasculas.\n",
      "\n",
      "Resolveremos isso normalizando todas as palavras para min\u00fasculas:"
     ]
    },
    {
     "cell_type": "code",
     "collapsed": false,
     "input": [
      "from collections import defaultdict\n",
      "\n",
      "f = codecs.open('texto', 'r', 'utf-8') # abre um arquivo para leitura\n",
      "P = defaultdict(Counter)\n",
      "for linha in f:  # para cada linha do texto\n",
      "    palavras = linha.split() # gera uma lista de palavras separadas por espa\u00e7o\n",
      "    for y,w in zip(palavras[:-1],palavras[1:]):\n",
      "        P[y.lower()].update([w.lower()])\n",
      "f.close() # fecha o arquivo\n",
      "print P.get(u'\u00e9',Counter())\n",
      "print\n",
      "print P.get(u'\u00c9',Counter())"
     ],
     "language": "python",
     "metadata": {
      "slideshow": {
       "slide_type": "slide"
      }
     },
     "outputs": [
      {
       "output_type": "stream",
       "stream": "stdout",
       "text": [
        "Counter({u'uma': 15, u'de': 15, u'que': 11, u'um': 11, u'o': 10, u'a': 9, u'muito': 6, u'para': 4, u'menos': 3, u'mais': 3, u'maravilha': 2, u'parente': 2, u'das': 2, u'possivel': 2, u'nos': 2, u'facil': 2, u'boa,': 2, u'talvez': 2, u'arvore': 2, u'esta': 2, u'ao': 2, u't\\xe3o': 2, u'dos': 2, u'se': 2, u'considerado': 1, u'certo': 1, u'tentadora': 1, u'essencial': 1, u'\\xabesplendida\\xbb': 1, u'superior': 1, u'moderadamente': 1, u'leve,': 1, u'rapido;': 1, u'realmente': 1, u'lenta': 1, u'quasi': 1, u'citado': 1, u'inferior': 1, u'licito': 1, u'assim': 1, u'bom,': 1, u'incomparavel,': 1, u'maior': 1, u'util': 1, u'j\\xe1': 1, u'especie': 1, u'meu--\\xabterras': 1, u'manifesto.': 1, u'absorvente,': 1, u'em': 1, u'tambem': 1, u'incontestavel:': 1, u'avermelhada': 1, u'manifesto': 1, u'avermelhada,': 1, u'oriundo': 1, u'lento,': 1, u'hoje': 1, u\"n'estas\": 1, u'capital': 1, u'velha.': 1, u'magnifico.': 1, u'\\xabesplendida': 1, u'magnifica,': 1, u'magnifico': 1, u'rara': 1, u'medico': 1, u'bom': 1, u'boa': 1, u'com': 1, u'quebradi\\xe7a,': 1, u'positivamente': 1, u'miraculoso.': 1, u'transitorio.': 1, u'evidentemente': 1, u'unicamente': 1, u\"d'isso\": 1, u'precioso': 1, u'rija': 1, u'verdadeiramente': 1, u'certo,': 1, u'certo.': 1, u'basta;': 1, u'adocicada,': 1, u'sabido': 1, u'_a': 1, u'salutar,': 1, u'tres': 1, u'caracteristica': 1, u'este': 1, u'reputada': 1, u'excellente.': 1, u'excellente,': 1, u'tal': 1, u'feio.': 1, u'sobretudo': 1, u'nas': 1, u'extrema.': 1, u'grande--o': 1, u'indispensavel,': 1, u'aproveitavel': 1, u'igualmente': 1, u'e': 1, u'empreza': 1, u'grande': 1, u'cousa': 1})\n",
        "\n",
        "Counter()\n"
       ]
      }
     ],
     "prompt_number": 20
    },
    {
     "cell_type": "markdown",
     "metadata": {
      "slideshow": {
       "slide_type": "slide"
      }
     },
     "source": [
      "Finalmente podemos criar o programa principal que ser\u00e1 composto de:\n",
      "\n",
      "* Uma fun\u00e7\u00e3o para ler o arquivo texto e criar o dicion\u00e1rio de frequ\u00eancias\n",
      "* Uma fun\u00e7\u00e3o que receber\u00e1 uma palavra inicial como par\u00e2metro e criar\u00e1 uma frase contendo $N$ palavras usando o modelo probabil\u00edstico"
     ]
    },
    {
     "cell_type": "code",
     "collapsed": false,
     "input": [
      "from collections import Counter, defaultdict\n",
      "\n",
      "def GeraFreq( arquivo ):\n",
      "    f = codecs.open(arquivo, 'r', 'utf-8') # abre um arquivo para leitura\n",
      "    P = defaultdict(Counter)\n",
      "    for linha in f:  # para cada linha do texto\n",
      "        palavras = linha.split() # gera uma lista de palavras separadas por espa\u00e7o\n",
      "        for y,w in zip(palavras[:-1],palavras[1:]):\n",
      "            P[y.lower()].update([w.lower()])\n",
      "    f.close() # fecha o arquivo\n",
      "    return P\n",
      "\n",
      "def GeraFrase(palavra, N, P):\n",
      "    frase = [palavra]\n",
      "    for i in range(N):\n",
      "        p = P.get(palavra, Counter())\n",
      "        if len(p) == 0:\n",
      "            return ' '.join(frase)\n",
      "        frase.append( Escolhe(p) )\n",
      "    return ' '.join(frase)"
     ],
     "language": "python",
     "metadata": {
      "slideshow": {
       "slide_type": "slide"
      }
     },
     "outputs": [],
     "prompt_number": 23
    },
    {
     "cell_type": "markdown",
     "metadata": {
      "slideshow": {
       "slide_type": "slide"
      }
     },
     "source": [
      "A fun\u00e7\u00e3o `GeraFrase()` inicia uma frase em forma de lista de palavras e repete $N$ vezes o procedimento:\n",
      "\n",
      "* Pega a frequ\u00eancia de palavras posteriores \u00e0 palavra\n",
      "* Se a lista de frequ\u00eancia \u00e9 vazia, retorna a frase atual\n",
      "* Sen\u00e3o, escolhe aleatoriamente uma dessas palavras da lista e adiciona a frase"
     ]
    },
    {
     "cell_type": "markdown",
     "metadata": {
      "slideshow": {
       "slide_type": "slide"
      }
     },
     "source": [
      "A fun\u00e7\u00e3o escolhe deve receber um `Counter` contendo as palavras e suas frequ\u00eancias e retornar uma palavra aleat\u00f3ria, com probabilidade proporcional as frequ\u00eancias.\n",
      "\n",
      "Para isso utilizaremos a fun\u00e7\u00e3o `choice()` da biblioteca `random`. Essa fun\u00e7\u00e3o recebe uma lista como par\u00e2metro e retorna um dos elementos dessa lista.\n",
      "\n",
      "Uma forma de simular a probabilidade proporcional a frequ\u00eancia \u00e9 repetir cada elemento da lista o mesmo n\u00famero de frequ\u00eancia dele no dicion\u00e1rio."
     ]
    },
    {
     "cell_type": "code",
     "collapsed": false,
     "input": [
      "import random\n",
      "\n",
      "def Escolhe(p):\n",
      "    lista = [palavra for palavra, freq in p.iteritems() for i in range(freq)]\n",
      "    return random.choice(lista)\n",
      "\n",
      "P = GeraFreq('texto')\n",
      "GeraFrase('para', 10, P)"
     ],
     "language": "python",
     "metadata": {
      "slideshow": {
       "slide_type": "slide"
      }
     },
     "outputs": [
      {
       "metadata": {},
       "output_type": "pyout",
       "prompt_number": 25,
       "text": [
        "u'para ser as legar engordar termos os se que, vasos fabrico'"
       ]
      }
     ],
     "prompt_number": 25
    },
    {
     "cell_type": "code",
     "collapsed": false,
     "input": [],
     "language": "python",
     "metadata": {},
     "outputs": []
    }
   ],
   "metadata": {}
  }
 ]
}