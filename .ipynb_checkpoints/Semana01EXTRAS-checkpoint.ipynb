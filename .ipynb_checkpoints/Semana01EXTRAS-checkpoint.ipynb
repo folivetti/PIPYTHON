{
 "metadata": {
  "name": "",
  "signature": "sha256:98bb94149385f797f3b7973c37d16603e980b98edc7508dbf8580ed1069aa476"
 },
 "nbformat": 3,
 "nbformat_minor": 0,
 "worksheets": [
  {
   "cells": [
    {
     "cell_type": "markdown",
     "metadata": {},
     "source": [
      "Al\u00e9m dos tipos n\u00famericos int e float tamb\u00e9m podemos escrever n\u00fameros complexos da seguinte forma:\n",
      "\n",
      "`2+3j`\n",
      "\n",
      "As opera\u00e7\u00f5es b\u00e1sicas funcionam tamb\u00e9m para esse tipo."
     ]
    },
    {
     "cell_type": "code",
     "collapsed": false,
     "input": [
      "x = 2+3j\n",
      "y = 5+2j\n",
      "print x + y\n",
      "print x*y\n",
      "print x.real, x.imag\n",
      "print x.conjugate()"
     ],
     "language": "python",
     "metadata": {},
     "outputs": [
      {
       "output_type": "stream",
       "stream": "stdout",
       "text": [
        "(7+5j)\n",
        "(4+19j)\n",
        "2.0 3.0\n",
        "(2-3j)\n"
       ]
      }
     ],
     "prompt_number": 1
    },
    {
     "cell_type": "markdown",
     "metadata": {},
     "source": [
      "Para as fun\u00e7\u00f5es avan\u00e7adas devemos utilizar a biblioteca [cmath](https://docs.python.org/2/library/cmath.html).:"
     ]
    },
    {
     "cell_type": "code",
     "collapsed": false,
     "input": [
      "import cmath\n",
      "cmath.sqrt(-2)"
     ],
     "language": "python",
     "metadata": {},
     "outputs": [
      {
       "metadata": {},
       "output_type": "pyout",
       "prompt_number": 2,
       "text": [
        "1.4142135623730951j"
       ]
      }
     ],
     "prompt_number": 2
    },
    {
     "cell_type": "markdown",
     "metadata": {},
     "source": [
      "Al\u00e9m das bibliotecas fornecidas pelo Python e Anaconda, tamb\u00e9m podemos criar bibliotecas pr\u00f3prias.\n",
      "\n",
      "Para isso, no seu diret\u00f3rio de trabalho crie um arquivo chamado *MinhaLib.py*, nele copie as fun\u00e7\u00f5es feitas nas aulas de teoria e laborat\u00f3rio (alternativamente voc\u00ea pode abrir o notebook da aula e clicar em \"Download as Python\".\n",
      "\n",
      "Digamos que nesse arquivo voc\u00ea definiu a fun\u00e7\u00e3o entropia(). Para utiliz\u00e1-la basta fazer:\n",
      "\n",
      "```python\n",
      "import MinhaLib as ml\n",
      "print ml.entropia(0.1)\n",
      "```"
     ]
    },
    {
     "cell_type": "markdown",
     "metadata": {},
     "source": [
      "1) Crie uma fun\u00e7\u00e3o que retorne uma fun\u00e7\u00e3o que d\u00ea os valores das fun\u00e7\u00f5es seno e cosseno dados por:\n",
      "\n",
      "```\n",
      "f(x) = A . sin(2*pi*freq*x + phi)\n",
      "f(x) = A . cos(2*pi*freq*x + phi)\n",
      "```\n",
      "\n",
      "sendo:\n",
      "\n",
      "amplitude A, a frequencia freq,e a fase phi definidos pelo usu\u00e1rio, o valor de pi pode ser obtido usando ```math.pi```"
     ]
    },
    {
     "cell_type": "code",
     "collapsed": false,
     "input": [
      "import math\n",
      "\n",
      "def CriaSenosCos(A,freq,phi):\n",
      "    def SenoCos(x):\n",
      "        sen = A*math.sin(2.0*math.pi*x + phi)\n",
      "        cos = A*math.cos(2.0*math.pi*x + phi)\n",
      "        return sen, cos\n",
      "    return SenoCos\n",
      "\n",
      "SenoCos = CriaSenosCos(10, 3, 0.1)\n",
      "seno, cos = SenoCos(2.1)\n",
      "print seno, cos"
     ],
     "language": "python",
     "metadata": {},
     "outputs": [
      {
       "output_type": "stream",
       "stream": "stdout",
       "text": [
        "6.65615704994 7.46294669193\n"
       ]
      }
     ],
     "prompt_number": 4
    },
    {
     "cell_type": "code",
     "collapsed": false,
     "input": [],
     "language": "python",
     "metadata": {},
     "outputs": []
    }
   ],
   "metadata": {}
  }
 ]
}