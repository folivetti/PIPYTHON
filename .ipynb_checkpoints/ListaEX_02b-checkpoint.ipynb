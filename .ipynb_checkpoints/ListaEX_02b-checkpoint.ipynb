{
 "metadata": {
  "name": "",
  "signature": "sha256:b4edf345e47e83f83b5e13e10f012ff6193bfff7fe727aefc05543e73ea730c2"
 },
 "nbformat": 3,
 "nbformat_minor": 0,
 "worksheets": [
  {
   "cells": [
    {
     "cell_type": "markdown",
     "metadata": {},
     "source": [
      "**Exerc\u00edcio 01:** Fa\u00e7a uma fun\u00e7\u00e3o que recebe dois par\u00e2metros, $x$ e $y$ e retorna `True` se $x$ for divis\u00edvel por $y$ ou `False` caso contr\u00e1rio."
     ]
    },
    {
     "cell_type": "code",
     "collapsed": false,
     "input": [],
     "language": "python",
     "metadata": {},
     "outputs": [],
     "prompt_number": 0
    },
    {
     "cell_type": "markdown",
     "metadata": {},
     "source": [
      "**Exerc\u00edcio 02:** Fa\u00e7a uma fun\u00e7\u00e3o que recebe um par\u00e2metro $x$ e verifica se ele \u00e9 par ou \u00edmpar, se ele for \u00edmpar retorna `True` caso tamb\u00e9m seja divis\u00edvel por $3$, retorne `False` caso contr\u00e1rio."
     ]
    },
    {
     "cell_type": "code",
     "collapsed": false,
     "input": [],
     "language": "python",
     "metadata": {},
     "outputs": [],
     "prompt_number": 0
    },
    {
     "cell_type": "markdown",
     "metadata": {},
     "source": [
      "**Exerc\u00edcio 03:** Crie uma fun\u00e7\u00e3o que receba como par\u00e2metro a idade $x$ de uma pessoa e retorne o pre\u00e7o do ingresso de cinema.\n",
      "\n",
      "O ingresso para maiores de $10$ anos custa R\\$ 20,00, para menores de $10$ e maiores de $3$ custa \"apenas\" metade. Para menores de $3$ o cinema cobra uma taxa simb\u00f3lica de R\\$ 0,50.\n",
      "\n",
      "Utilizando as fun\u00e7\u00f5es `map` e `sum` calcule o valor total do ingresso para um grupo de pessoas dada uma lista de idades."
     ]
    },
    {
     "cell_type": "code",
     "collapsed": false,
     "input": [],
     "language": "python",
     "metadata": {},
     "outputs": [],
     "prompt_number": 0
    },
    {
     "cell_type": "markdown",
     "metadata": {},
     "source": [
      "**Exerc\u00edcio 04:** Defina uma fun\u00e7\u00e3o que receba um valor $x$ como entrada e verifique se ele cont\u00e9m $2$ d\u00edgitos. Em caso afirmativo, retorne a soma desses d\u00edgitos. Caso contr\u00e1rio, retorne `False`."
     ]
    },
    {
     "cell_type": "code",
     "collapsed": false,
     "input": [],
     "language": "python",
     "metadata": {},
     "outputs": [],
     "prompt_number": 0
    },
    {
     "cell_type": "markdown",
     "metadata": {},
     "source": [
      "**Exerc\u00edcio 05:** Fa\u00e7a uma fun\u00e7\u00e3o que receba uma vari\u00e1vel $x$ de qualquer tipo. Retorne uma string que \u00e9 a tradu\u00e7\u00e3o do tipo dessa vari\u00e1vel para o portugu\u00eas."
     ]
    },
    {
     "cell_type": "code",
     "collapsed": false,
     "input": [],
     "language": "python",
     "metadata": {},
     "outputs": [],
     "prompt_number": 0
    },
    {
     "cell_type": "markdown",
     "metadata": {},
     "source": [
      "**Exerc\u00edcio 06:** Escreva um programa que receba um n\u00famero de $1$ at\u00e9 $13$ e retorne uma string com o nome correspondente dessa carta em um baralho e quantos pontos ela vale no jogo $21$ (blackjack). Para o caso do \u00c1s, o valor ser\u00e1 uma *tupla* (1,11)."
     ]
    },
    {
     "cell_type": "code",
     "collapsed": false,
     "input": [],
     "language": "python",
     "metadata": {},
     "outputs": [],
     "prompt_number": 0
    },
    {
     "cell_type": "markdown",
     "metadata": {},
     "source": [
      "**Exerc\u00edcio 07:** Fa\u00e7a uma fun\u00e7\u00e3o que receba duas listas de pontos $p1$ e $p2$ como entrada e retorne a inclina\u00e7\u00e3o da reta dada por:\n",
      "\n",
      "$$\n",
      "m = \\frac{y_2 - y_1}{x_2 - x_1}\n",
      "$$"
     ]
    },
    {
     "cell_type": "code",
     "collapsed": false,
     "input": [],
     "language": "python",
     "metadata": {},
     "outputs": [],
     "prompt_number": 0
    },
    {
     "cell_type": "markdown",
     "metadata": {},
     "source": [
      "**Exerc\u00edcio 08:** Fa\u00e7a uma fun\u00e7\u00e3o com tr\u00eas vari\u00e1veis: `dia`, `mes`, `ano` que retorne a data do dia seguinte."
     ]
    },
    {
     "cell_type": "code",
     "collapsed": false,
     "input": [],
     "language": "python",
     "metadata": {},
     "outputs": [],
     "prompt_number": 0
    },
    {
     "cell_type": "markdown",
     "metadata": {},
     "source": [
      "**Exerc\u00edcio 09:** Fa\u00e7a uma fun\u00e7\u00e3o que receba como par\u00e2metros as notas das aulas de teoria e de laborat\u00f3rio e retorne o conceito de acordo com a regras da disciplina."
     ]
    },
    {
     "cell_type": "code",
     "collapsed": false,
     "input": [],
     "language": "python",
     "metadata": {},
     "outputs": [],
     "prompt_number": 0
    },
    {
     "cell_type": "markdown",
     "metadata": {},
     "source": [
      "**Exerc\u00edcio 10:** Fa\u00e7a uma fun\u00e7\u00e3o que receba uma string `numero` que representa um n\u00famero qualquer escrito em ingl\u00eas. Essa fun\u00e7\u00e3o vai retornar uma string com o n\u00famero de letras que o nome do n\u00famero tem, descontando o espa\u00e7o. Ex.:\n",
      "\n",
      "```python\n",
      "Extenso('one hundred') # retorna 'ten'\n",
      "```\n",
      "\n",
      "Verifique se existe algum n\u00famero em que a entrada e a sa\u00edda da fun\u00e7\u00e3o sejam as mesmas.\n",
      "\n",
      "DICA: pesquise como utilizar a fun\u00e7\u00e3o `replace` para strings em Python"
     ]
    },
    {
     "cell_type": "code",
     "collapsed": false,
     "input": [],
     "language": "python",
     "metadata": {},
     "outputs": [],
     "prompt_number": 0
    },
    {
     "cell_type": "markdown",
     "metadata": {},
     "source": [
      "**Exerc\u00edcio 11:** Como vimos na primeira aula, uma lista em Python pode contar vari\u00e1veis de qualquer tipo, inclusive outra lista! Podemos representar o tabuleiro de um Jogo da Velha da seguinte maneira:\n",
      "\n",
      "```python\n",
      "Velha = [ ['X', 'O', 'X'], ['O','O','X'], ['X', 'X','O'] ]\n",
      "```\n",
      "\n",
      "Podemos acessar qualquer posi\u00e7\u00e3o do tabuleiro utilizando dois \u00edndices. Ex.:\n",
      "```python\n",
      "Velha[0][1] # primeira linha e segunda coluna\n",
      "```\n",
      "\n",
      "Fa\u00e7a uma fun\u00e7\u00e3o que receba um tabuleiro nesse formato apresentado e verifique se o 'X' ou o 'O' venceu ou se deu velha. Utilize um `if` ou `elif` para testar cada condi\u00e7\u00e3o em separado."
     ]
    },
    {
     "cell_type": "code",
     "collapsed": false,
     "input": [],
     "language": "python",
     "metadata": {},
     "outputs": [],
     "prompt_number": 0
    },
    {
     "cell_type": "markdown",
     "metadata": {},
     "source": [
      "**Exerc\u00edcio 12:** Reescreva a fun\u00e7\u00e3o anterior para utilizar apenas um `if`, um `elif` e um `else`. Mas para isso, armazene o resultado de cada condi\u00e7\u00e3o em uma vari\u00e1vel. Ex.:\n",
      "\n",
      "```python\n",
      "linha0X = Velha[0][0] == 'X' and Velha[0][1] == 'X' and Velha[0][2] == 'X'\n",
      "```"
     ]
    },
    {
     "cell_type": "code",
     "collapsed": false,
     "input": [],
     "language": "python",
     "metadata": {},
     "outputs": []
    }
   ],
   "metadata": {}
  }
 ]
}