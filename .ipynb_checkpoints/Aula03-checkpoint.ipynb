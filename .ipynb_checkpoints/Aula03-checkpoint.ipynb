{
 "metadata": {
  "celltoolbar": "Slideshow",
  "name": "",
  "signature": "sha256:5ecc076ecd27a799a1b794b43b7d7be715e0861956adec314dfc703737d15c88"
 },
 "nbformat": 3,
 "nbformat_minor": 0,
 "worksheets": [
  {
   "cells": [
    {
     "cell_type": "code",
     "collapsed": false,
     "input": [
      "# ignore esse c\u00f3digo inicial, \u00e9 apenas para preparar a p\u00e1gina\n",
      "from IPython.display import YouTubeVideo, HTML, Image, display\n",
      "css_file = './modelo.css'\n",
      "HTML(open(css_file, \"r\").read())"
     ],
     "language": "python",
     "metadata": {
      "slideshow": {
       "slide_type": "skip"
      }
     },
     "outputs": [
      {
       "html": [
        "<style>\n",
        "\n",
        "@font-face {\n",
        "    font-family: \"Computer Modern\";\n",
        "    src: url('http://mirrors.ctan.org/fonts/cm-unicode/fonts/otf/cmunss.otf');\n",
        "}\n",
        "\n",
        "#notebook_panel { /* main background */\n",
        "    background: #888;\n",
        "    color: #f6f6f6;\n",
        "}\n",
        "\n",
        "div.cell { /* set cell width to about 80 chars */\n",
        "    width: 900px;\n",
        "}\n",
        "\n",
        "div #notebook { /* centre the content */\n",
        "    background: #fff; /* white background for content */\n",
        "    width: 1000px;\n",
        "    margin: auto;\n",
        "    padding-left: 1em;\n",
        "}\n",
        "\n",
        "#notebook li { /* More space between bullet points */\n",
        "margin-top:0.8em;\n",
        "}\n",
        "/* draw border around running cells */\n",
        "div.cell.border-box-sizing.code_cell.running {\n",
        "    border: 3px solid #111;\n",
        "}\n",
        "/* Put a solid color box around each cell and its output, visually linking them together */\n",
        "div.cell.code_cell {\n",
        "    background-color: rgba(171,165,131,0.3); \n",
        "    border-radius: 10px; /* rounded borders */\n",
        "    padding: 1em;\n",
        "    margin-top: 1em;\n",
        "}\n",
        "div.text_cell_render{\n",
        "    font-family: 'Arvo' sans-serif;\n",
        "    line-height: 130%;\n",
        "    font-size: 115%;\n",
        "    width:700px;\n",
        "    margin-left:auto;\n",
        "    margin-right:auto;\n",
        "}\n",
        "/* Formatting for header cells */\n",
        ".text_cell_render h1 {\n",
        "    font-family: 'Philosopher', sans-serif;\n",
        "    font-weight: 400;\n",
        "    font-size: 40pt;\n",
        "    text-align: center;\n",
        "    line-height: 100%;\n",
        "    color: rgb(12,85,97);\n",
        "    margin-bottom: 0.1em;\n",
        "    margin-top: 0.1em;\n",
        "    display: block;\n",
        "}\n",
        "\n",
        ".text_cell_render h2 {\n",
        "    font-family: 'Philosopher', serif;\n",
        "    font-weight: 700;\n",
        "    font-size: 24pt;\n",
        "    line-height: 100%;\n",
        "    color: rgb(171,165,131);\n",
        "    margin-bottom: 0.1em;\n",
        "    margin-top: 0.1em;\n",
        "    display: block;\n",
        "}    \n",
        "\n",
        ".text_cell_render h3 {\n",
        "    font-family: 'Philosopher', serif;\n",
        "    margin-top:12px;\n",
        "    margin-bottom: 3px;\n",
        "    font-style: italic;\n",
        "    color: rgb(95,92,72);\n",
        "}\n",
        "\n",
        ".text_cell_render h4 {\n",
        "    font-family: 'Philosopher', serif;\n",
        "}\n",
        "\n",
        ".text_cell_render h5 {\n",
        "    font-family: 'Alegreya Sans', sans-serif;\n",
        "    font-weight: 300;\n",
        "    font-size: 16pt;\n",
        "    color: grey;\n",
        "    font-style: italic;\n",
        "    margin-bottom: .1em;\n",
        "    margin-top: 0.1em;\n",
        "    display: block;\n",
        "}\n",
        "\n",
        ".text_cell_render h6 {\n",
        "    font-family: 'PT Mono', sans-serif;\n",
        "    font-weight: 300;\n",
        "    font-size: 10pt;\n",
        "    color: grey;\n",
        "    margin-bottom: 1px;\n",
        "    margin-top: 1px;\n",
        "}\n",
        ".CodeMirror{\n",
        "        font-family: \"PT Mono\";\n",
        "        font-size: 100%;\n",
        "}\n",
        ".raw_input_prompt{\n",
        "\tcolor: black;\n",
        "}\n",
        "input.raw_input{\n",
        "\tcolor: black;\n",
        "}\n",
        "</style>\n"
       ],
       "metadata": {},
       "output_type": "pyout",
       "prompt_number": 1,
       "text": [
        "<IPython.core.display.HTML at 0x7ff38c48f6d0>"
       ]
      }
     ],
     "prompt_number": 1
    },
    {
     "cell_type": "heading",
     "level": 1,
     "metadata": {
      "slideshow": {
       "slide_type": "slide"
      }
     },
     "source": [
      "Introdu\u00e7\u00e3o \u00e0 Programa\u00e7\u00e3o em Python"
     ]
    },
    {
     "cell_type": "heading",
     "level": 2,
     "metadata": {
      "slideshow": {
       "slide_type": "slide"
      }
     },
     "source": [
      "Condicionais"
     ]
    },
    {
     "cell_type": "markdown",
     "metadata": {
      "slideshow": {
       "slide_type": "fragment"
      }
     },
     "source": [
      "Nossa fun\u00e7\u00e3o para o c\u00e1lculo de entropia ficou da seguinte maneira:\n",
      "\n",
      "```\n",
      "def entropia(p):\n",
      "    return -p*log(p,2) - (1.0-p)*log(1.0-p,2)\n",
      "```\n",
      "\n",
      "Por\u00e9m ao tentar calcular a entropia para os valores `0.0` e `1.0`, a fun\u00e7\u00e3o retornava o erro \"*Math domain error*\", indicando que tentamos calcular o valor do logar\u00edtmo fora do seu dom\u00ednio."
     ]
    },
    {
     "cell_type": "code",
     "collapsed": false,
     "input": [
      "from math import log\n",
      "\n",
      "def entropia(p):\n",
      "    return -p*log(p,2) - (1.0-p)*log(1.0-p,2)\n",
      "\n",
      "print entropia(1.0), entropia(0.0)"
     ],
     "language": "python",
     "metadata": {
      "slideshow": {
       "slide_type": "slide"
      }
     },
     "outputs": [
      {
       "ename": "ValueError",
       "evalue": "math domain error",
       "output_type": "pyerr",
       "traceback": [
        "\u001b[1;31m---------------------------------------------------------------------------\u001b[0m\n\u001b[1;31mValueError\u001b[0m                                Traceback (most recent call last)",
        "\u001b[1;32m<ipython-input-2-82736430d2b3>\u001b[0m in \u001b[0;36m<module>\u001b[1;34m()\u001b[0m\n\u001b[0;32m      4\u001b[0m     \u001b[1;32mreturn\u001b[0m \u001b[1;33m-\u001b[0m\u001b[0mp\u001b[0m\u001b[1;33m*\u001b[0m\u001b[0mlog\u001b[0m\u001b[1;33m(\u001b[0m\u001b[0mp\u001b[0m\u001b[1;33m,\u001b[0m\u001b[1;36m2\u001b[0m\u001b[1;33m)\u001b[0m \u001b[1;33m-\u001b[0m \u001b[1;33m(\u001b[0m\u001b[1;36m1.0\u001b[0m\u001b[1;33m-\u001b[0m\u001b[0mp\u001b[0m\u001b[1;33m)\u001b[0m\u001b[1;33m*\u001b[0m\u001b[0mlog\u001b[0m\u001b[1;33m(\u001b[0m\u001b[1;36m1.0\u001b[0m\u001b[1;33m-\u001b[0m\u001b[0mp\u001b[0m\u001b[1;33m,\u001b[0m\u001b[1;36m2\u001b[0m\u001b[1;33m)\u001b[0m\u001b[1;33m\u001b[0m\u001b[0m\n\u001b[0;32m      5\u001b[0m \u001b[1;33m\u001b[0m\u001b[0m\n\u001b[1;32m----> 6\u001b[1;33m \u001b[1;32mprint\u001b[0m \u001b[0mentropia\u001b[0m\u001b[1;33m(\u001b[0m\u001b[1;36m1.0\u001b[0m\u001b[1;33m)\u001b[0m\u001b[1;33m,\u001b[0m \u001b[0mentropia\u001b[0m\u001b[1;33m(\u001b[0m\u001b[1;36m0.0\u001b[0m\u001b[1;33m)\u001b[0m\u001b[1;33m\u001b[0m\u001b[0m\n\u001b[0m",
        "\u001b[1;32m<ipython-input-2-82736430d2b3>\u001b[0m in \u001b[0;36mentropia\u001b[1;34m(p)\u001b[0m\n\u001b[0;32m      2\u001b[0m \u001b[1;33m\u001b[0m\u001b[0m\n\u001b[0;32m      3\u001b[0m \u001b[1;32mdef\u001b[0m \u001b[0mentropia\u001b[0m\u001b[1;33m(\u001b[0m\u001b[0mp\u001b[0m\u001b[1;33m)\u001b[0m\u001b[1;33m:\u001b[0m\u001b[1;33m\u001b[0m\u001b[0m\n\u001b[1;32m----> 4\u001b[1;33m     \u001b[1;32mreturn\u001b[0m \u001b[1;33m-\u001b[0m\u001b[0mp\u001b[0m\u001b[1;33m*\u001b[0m\u001b[0mlog\u001b[0m\u001b[1;33m(\u001b[0m\u001b[0mp\u001b[0m\u001b[1;33m,\u001b[0m\u001b[1;36m2\u001b[0m\u001b[1;33m)\u001b[0m \u001b[1;33m-\u001b[0m \u001b[1;33m(\u001b[0m\u001b[1;36m1.0\u001b[0m\u001b[1;33m-\u001b[0m\u001b[0mp\u001b[0m\u001b[1;33m)\u001b[0m\u001b[1;33m*\u001b[0m\u001b[0mlog\u001b[0m\u001b[1;33m(\u001b[0m\u001b[1;36m1.0\u001b[0m\u001b[1;33m-\u001b[0m\u001b[0mp\u001b[0m\u001b[1;33m,\u001b[0m\u001b[1;36m2\u001b[0m\u001b[1;33m)\u001b[0m\u001b[1;33m\u001b[0m\u001b[0m\n\u001b[0m\u001b[0;32m      5\u001b[0m \u001b[1;33m\u001b[0m\u001b[0m\n\u001b[0;32m      6\u001b[0m \u001b[1;32mprint\u001b[0m \u001b[0mentropia\u001b[0m\u001b[1;33m(\u001b[0m\u001b[1;36m1.0\u001b[0m\u001b[1;33m)\u001b[0m\u001b[1;33m,\u001b[0m \u001b[0mentropia\u001b[0m\u001b[1;33m(\u001b[0m\u001b[1;36m0.0\u001b[0m\u001b[1;33m)\u001b[0m\u001b[1;33m\u001b[0m\u001b[0m\n",
        "\u001b[1;31mValueError\u001b[0m: math domain error"
       ]
      }
     ],
     "prompt_number": 2
    },
    {
     "cell_type": "markdown",
     "metadata": {
      "slideshow": {
       "slide_type": "slide"
      }
     },
     "source": [
      "Por conveni\u00eancia, o valor da entropia para esses dois casos \u00e9 definida como `0.0`.\n",
      "\n",
      "Nossa fun\u00e7\u00e3o poderia ficar ent\u00e3o da seguinte forma:\n",
      "\n",
      "```\n",
      "def entropia(p):\n",
      "    Se p == 0 ou p == 1:\n",
      "        return 0.0\n",
      "    Sen\u00e3o:\n",
      "        return -p*log(p,2) - (1.0-p)*log(1.0-p,2)\n",
      "```\n",
      "\n",
      "O *se* e *sen\u00e3o* criam uma estrutura conhecida como *condicionais* em que certos c\u00e1lculos s\u00e3o realizados apenas se determinadas condi\u00e7\u00f5es s\u00e3o satisfeitas.\n",
      "\n",
      "No Python utilizamos `if` e `else`."
     ]
    },
    {
     "cell_type": "code",
     "collapsed": false,
     "input": [
      "def entropia(p):\n",
      "    if p == 0 or p == 1:\n",
      "        return 0.0\n",
      "    else:\n",
      "        return -p*log(p,2) - (1.0-p)*log(1.0-p,2)\n",
      "\n",
      "print entropia(0.0), entropia(1.0), entropia(0.5)"
     ],
     "language": "python",
     "metadata": {
      "slideshow": {
       "slide_type": "slide"
      }
     },
     "outputs": [
      {
       "output_type": "stream",
       "stream": "stdout",
       "text": [
        "0.0 0.0 1.0\n"
       ]
      }
     ],
     "prompt_number": 4
    },
    {
     "cell_type": "markdown",
     "metadata": {
      "slideshow": {
       "slide_type": "slide"
      }
     },
     "source": [
      "Nos dois primeiros casos, `entropia(0.0)` e `entropia(1.0)`, a fun\u00e7\u00e3o ir\u00e1 verificar que p cont\u00e9m um dos valores especiais e ir\u00e1 retornar simplesmente zero.\n",
      "\n",
      "No \u00faltimo caso, a fun\u00e7\u00e3o verificar\u00e1 que n\u00e3o \u00e9 nenhum caso especial e calcular\u00e1 a f\u00f3rmula da entropia."
     ]
    },
    {
     "cell_type": "markdown",
     "metadata": {
      "slideshow": {
       "slide_type": "slide"
      }
     },
     "source": [
      "**Exerc\u00edcio 01:**  crie uma fun\u00e7\u00e3o chamada *MediaPonderada* que receba como par\u00e2metro as notas da *P1*, da *P2* e o peso *w* da P1 e retorne a m\u00e9dia final ponderada pelo peso dado. Note que *w* deve ser um valor entre *0.0* e *1.0* e a m\u00e9dia pode ser calculada por $w.P1 + (1.0-w).P2$.\n",
      "\n",
      "Caso o valor de w esteja fora do dom\u00ednio, assuma o valor padr\u00e3o de *0.5*."
     ]
    },
    {
     "cell_type": "code",
     "collapsed": false,
     "input": [
      "# crie a fun\u00e7\u00e3o aqui:\n",
      "\n",
      "\n",
      "\n",
      "\n",
      "\n",
      "# casos de teste\n",
      "print MediaPonderada(10, 9, 0.3)  # resposta = 9.3\n",
      "print MediaPonderada(5,7,1.0)  # resposta = 5\n",
      "print MediaPonderada(3,7,2.0)  # resposta = 5"
     ],
     "language": "python",
     "metadata": {},
     "outputs": [
      {
       "output_type": "stream",
       "stream": "stdout",
       "text": [
        "9.3\n",
        "5.0\n",
        "5.0\n"
       ]
      }
     ],
     "prompt_number": 5
    },
    {
     "cell_type": "markdown",
     "metadata": {
      "slideshow": {
       "slide_type": "slide"
      }
     },
     "source": [
      "**Exerc\u00edcio 02:** crie uma fun\u00e7\u00e3o chamada *Conceito* que, dada a m\u00e9dia final *M*, o limiar de aprova\u00e7\u00e3o *limiar*, retorne se o aluno foi aprovado ou reprovado."
     ]
    },
    {
     "cell_type": "code",
     "collapsed": false,
     "input": [
      "# crie a fun\u00e7\u00e3o aqui\n",
      "\n",
      "\n",
      "\n",
      "\n",
      "\n",
      "corte = 8\n",
      "\n",
      "media = MediaPonderada(10, 9, 0.3)\n",
      "print media, Conceito(media, corte)  # 9.3, A\n",
      "\n",
      "media = MediaPonderada(5,7,0.3)\n",
      "print media, Conceito(media, corte)  # 6.4, F"
     ],
     "language": "python",
     "metadata": {},
     "outputs": [
      {
       "output_type": "stream",
       "stream": "stdout",
       "text": [
        "9.3 A\n",
        "6.4 F\n"
       ]
      }
     ],
     "prompt_number": 8
    },
    {
     "cell_type": "markdown",
     "metadata": {
      "slideshow": {
       "slide_type": "slide"
      }
     },
     "source": [
      "**Exerc\u00edcio 03:** agora crie uma fun\u00e7\u00e3o chamada *Faltas* que recebe como par\u00e2metro o n\u00famero de faltas *faltas* e o limiar de faltas *limiar* e determina se o aluno foi reprovado por falta ou n\u00e3o.\n",
      "\n",
      "Vamos determinar o conceito \"O\" como reprovado por faltas e \"NO\" como n\u00e3o-reprovado por faltas."
     ]
    },
    {
     "cell_type": "code",
     "collapsed": false,
     "input": [
      "# crie a fun\u00e7\u00e3o aqui\n",
      "def Faltas(faltas, limiar):\n",
      "    \n",
      "    \n",
      "    \n",
      "    \n",
      "    \n",
      "corte = 14\n",
      "\n",
      "faltas = Faltas(10, corte)\n",
      "print faltas  # NO\n",
      "\n",
      "faltas = Faltas(20, corte)\n",
      "print faltas # O"
     ],
     "language": "python",
     "metadata": {},
     "outputs": [
      {
       "output_type": "stream",
       "stream": "stdout",
       "text": [
        "NO\n",
        "O\n"
       ]
      }
     ],
     "prompt_number": 9
    },
    {
     "cell_type": "markdown",
     "metadata": {
      "slideshow": {
       "slide_type": "slide"
      }
     },
     "source": [
      "**Exerc\u00edcio 04:** fa\u00e7a uma fun\u00e7\u00e3o que receba o conceito obtido pelas notas e o conceito obtido pelas faltas e determine se o aluno foi aprovado (*A*), reprovado (*F*) ou reprovado por falta (*O*)."
     ]
    },
    {
     "cell_type": "code",
     "collapsed": false,
     "input": [
      "# crie a fun\u00e7\u00e3o aqui\n",
      "\n",
      "\n",
      "\n",
      "\n",
      "media = MediaPonderada(10, 9, 0.3)\n",
      "conceito = Conceito(media, 8) \n",
      "faltas = Faltas(10, 14)\n",
      "print ConceitoFinal(conceito, faltas) # A\n",
      "\n",
      "conceito = Conceito(0.0, 8)\n",
      "print ConceitoFinal(conceito,faltas) # F\n",
      "\n",
      "faltas = Faltas(20, 14)\n",
      "print ConceitoFinal(conceito,faltas) # O"
     ],
     "language": "python",
     "metadata": {},
     "outputs": [
      {
       "output_type": "stream",
       "stream": "stdout",
       "text": [
        "A\n",
        "F\n",
        "O\n"
       ]
      }
     ],
     "prompt_number": 10
    },
    {
     "cell_type": "markdown",
     "metadata": {
      "slideshow": {
       "slide_type": "slide"
      }
     },
     "source": [
      "Vamos criar agora o jogo do Pedra-Papel-Tesoura.\n",
      "\n",
      "Nesse jogo temos a seguinte regra:\n",
      "\n",
      "```\n",
      "Dadas as jogadas do jogador 1 (J1) e do jogador 2 (J2)\n",
      "Se J1 == J2:\n",
      "    deu empate\n",
      "Sen\u00e3o se J1 for \"pedra\" e J2 for \"tesoura\" OU J1 for \"tesoura\" e J2 for \"papel\" OU J1 for \"papel\" e J2 for \"pedra\":\n",
      "    J1 ganhou\n",
      "Sen\u00e3o:\n",
      "    J2 ganhou\n",
      "```"
     ]
    },
    {
     "cell_type": "markdown",
     "metadata": {
      "slideshow": {
       "slide_type": "slide"
      }
     },
     "source": [
      "Reparem que, diferente dos casos anteriores, temos mais do que duas condi\u00e7\u00f5es para verificar.\n",
      "\n",
      "As condi\u00e7\u00f5es subsequentes do ```if``` podem ser realizadas no Python utilizando a instru\u00e7\u00e3o ```elif```."
     ]
    },
    {
     "cell_type": "code",
     "collapsed": false,
     "input": [
      "def PedraPapelTesoura(J1, J2):\n",
      "    \"\"\"\n",
      "    Determina o vencedor de uma partida de pedra-papel-tesoura.\n",
      "    Retorna -1 caso o jogador 1 tenha vencido, 0 em caso de empate e +1 caso o jogador 2 ven\u00e7a\n",
      "    \"\"\"\n",
      "\n",
      "    \n",
      "    \n",
      "    \n",
      "print PedraPapelTesoura(\"pedra\", \"tesoura\"), PedraPapelTesoura(\"pedra\", \"pedra\"), PedraPapelTesoura(\"tesoura\", \"pedra\")"
     ],
     "language": "python",
     "metadata": {},
     "outputs": [
      {
       "output_type": "stream",
       "stream": "stdout",
       "text": [
        "-1 0 1\n"
       ]
      }
     ],
     "prompt_number": 11
    },
    {
     "cell_type": "markdown",
     "metadata": {
      "slideshow": {
       "slide_type": "slide"
      }
     },
     "source": [
      "O texto escrito logo ap\u00f3s a defini\u00e7\u00e3o da fun\u00e7\u00e3o, envolvidos entre sequ\u00eancia de 3 aspas duplas \u00e9 chamado de *docstring*.\n",
      "\n",
      "Toda fun\u00e7\u00e3o que possui uma *docstring* permite que voc\u00ea utilize o comando `help()` para verificar o que ela faz:"
     ]
    },
    {
     "cell_type": "code",
     "collapsed": false,
     "input": [
      "help(PedraPapelTesoura)"
     ],
     "language": "python",
     "metadata": {
      "slideshow": {
       "slide_type": "slide"
      }
     },
     "outputs": [
      {
       "output_type": "stream",
       "stream": "stdout",
       "text": [
        "Help on function PedraPapelTesoura in module __main__:\n",
        "\n",
        "PedraPapelTesoura(J1, J2)\n",
        "    Determina o vencedor de uma partida de pedra-papel-tesoura.\n",
        "    Retorna -1 caso o jogador 1 tenha vencido, 0 em caso de empate e +1 caso o jogador 2 ven\u00e7a\n",
        "\n"
       ]
      }
     ],
     "prompt_number": 12
    },
    {
     "cell_type": "markdown",
     "metadata": {
      "slideshow": {
       "slide_type": "slide"
      }
     },
     "source": [
      "**Exerc\u00edcio 05:** crie uma fun\u00e7\u00e3o que jogue cara ou coroa. A entrada sera a op\u00e7\u00e3o \"cara\" ou \"coroa\". A fun\u00e7\u00e3o ir\u00e1 sortear um valor entre 0.0 e 1.0, caso o valor seja menor do 0.5, o resultado ser\u00e1 definido como \"cara\", caso contr\u00e1rio, \"coroa\".\n",
      "\n",
      "A sa\u00edda dever\u00e1 indicar se o usu\u00e1rio ganhou ou n\u00e3o.\n",
      "\n",
      "Para sortear um valor, utilize a fun\u00e7\u00e3o `random()` da biblioteca `random`."
     ]
    },
    {
     "cell_type": "code",
     "collapsed": false,
     "input": [
      "import random\n",
      "\n",
      "def CaraCoroa(palpite):\n",
      "    numero = random.random()\n",
      "\n",
      "    \n",
      "    \n",
      "    \n",
      "    \n",
      "    \n",
      "print CaraCoroa(\"cara\") \n",
      "print CaraCoroa(\"cara\") \n",
      "print CaraCoroa(\"cara\") \n",
      "print CaraCoroa(\"cara\") "
     ],
     "language": "python",
     "metadata": {},
     "outputs": [
      {
       "output_type": "stream",
       "stream": "stdout",
       "text": [
        "ganhou\n",
        "perdeu\n",
        "ganhou\n",
        "perdeu\n"
       ]
      }
     ],
     "prompt_number": 21
    },
    {
     "cell_type": "code",
     "collapsed": false,
     "input": [
      "def CaraCoroa(palpite):\n",
      "    numero = random.random()\n",
      "    # usando apenas um if-else\n",
      "\n",
      "    \n",
      "    \n",
      "    \n",
      "print CaraCoroa(\"cara\") \n",
      "print CaraCoroa(\"cara\") \n",
      "print CaraCoroa(\"cara\") \n",
      "print CaraCoroa(\"cara\") "
     ],
     "language": "python",
     "metadata": {},
     "outputs": [
      {
       "output_type": "stream",
       "stream": "stdout",
       "text": [
        "ganhou\n",
        "ganhou\n",
        "perdeu\n",
        "perdeu\n"
       ]
      }
     ],
     "prompt_number": 22
    },
    {
     "cell_type": "markdown",
     "metadata": {
      "slideshow": {
       "slide_type": "slide"
      }
     },
     "source": [
      "**Exerc\u00edcio 06:** Vamos alterar a fun\u00e7\u00e3o `PedraPapelTesoura()` para receber apenas a jogada do jogador 1, o jogador 2 ser\u00e1 determinado aleatoriamente pela fun\u00e7\u00e3o `choice()` da biblioteca `random`.\n",
      "\n",
      "A fun\u00e7\u00e3o `choice()` recebe uma lista de valores como par\u00e2metro e retorna um elemento da lista sorteado aleatoriamente."
     ]
    },
    {
     "cell_type": "code",
     "collapsed": false,
     "input": [
      "def PedraPapelTesoura(J1):\n",
      "    \"\"\"\n",
      "    Determina o vencedor de uma partida de pedra-papel-tesoura.\n",
      "    Retorna -1 caso o jogador 1 tenha vencido, 0 em caso de empate e +1 caso o jogador 2 ven\u00e7a\n",
      "    \"\"\"\n",
      "    J2 = random.choice([ \"pedra\", \"papel\", \"tesoura\"])\n",
      "\n",
      "    \n",
      "    \n",
      "    \n",
      "print PedraPapelTesoura(\"pedra\")\n",
      "print PedraPapelTesoura(\"pedra\")\n",
      "print PedraPapelTesoura(\"pedra\")"
     ],
     "language": "python",
     "metadata": {},
     "outputs": [
      {
       "output_type": "stream",
       "stream": "stdout",
       "text": [
        "(0, 'pedra')\n",
        "(1, 'papel')\n",
        "(0, 'pedra')\n"
       ]
      }
     ],
     "prompt_number": 28
    }
   ],
   "metadata": {}
  }
 ]
}