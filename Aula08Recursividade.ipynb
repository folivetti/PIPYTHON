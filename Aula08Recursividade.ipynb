{
 "cells": [
  {
   "cell_type": "code",
   "execution_count": 1,
   "metadata": {
    "collapsed": false,
    "slideshow": {
     "slide_type": "skip"
    }
   },
   "outputs": [
    {
     "data": {
      "text/html": [
       "<style>\n",
       "\n",
       "@font-face {\n",
       "    font-family: \"Computer Modern\";\n",
       "    src: url('http://mirrors.ctan.org/fonts/cm-unicode/fonts/otf/cmunss.otf');\n",
       "}\n",
       "\n",
       "#notebook_panel { /* main background */\n",
       "    background: #888;\n",
       "    color: #f6f6f6;\n",
       "}\n",
       "\n",
       "div.cell { /* set cell width to about 80 chars */\n",
       "    width: 900px;\n",
       "}\n",
       "\n",
       "div #notebook { /* centre the content */\n",
       "    background: #fff; /* white background for content */\n",
       "    width: 1000px;\n",
       "    margin: auto;\n",
       "    padding-left: 1em;\n",
       "}\n",
       "\n",
       "#notebook li { /* More space between bullet points */\n",
       "margin-top:0.8em;\n",
       "}\n",
       "/* draw border around running cells */\n",
       "div.cell.border-box-sizing.code_cell.running {\n",
       "    border: 3px solid #111;\n",
       "}\n",
       "/* Put a solid color box around each cell and its output, visually linking them together */\n",
       "div.cell.code_cell {\n",
       "    background-color: rgba(171,165,131,0.3); \n",
       "    border-radius: 10px; /* rounded borders */\n",
       "    padding: 1em;\n",
       "    margin-top: 1em;\n",
       "}\n",
       "div.text_cell_render{\n",
       "    font-family: 'Arvo' sans-serif;\n",
       "    line-height: 130%;\n",
       "    font-size: 115%;\n",
       "    width:700px;\n",
       "    margin-left:auto;\n",
       "    margin-right:auto;\n",
       "}\n",
       "/* Formatting for header cells */\n",
       ".text_cell_render h1 {\n",
       "    font-family: 'Philosopher', sans-serif;\n",
       "    font-weight: 400;\n",
       "    font-size: 40pt;\n",
       "    text-align: center;\n",
       "    line-height: 100%;\n",
       "    color: rgb(12,85,97);\n",
       "    margin-bottom: 0.1em;\n",
       "    margin-top: 0.1em;\n",
       "    display: block;\n",
       "}\n",
       "\n",
       ".text_cell_render h2 {\n",
       "    font-family: 'Philosopher', serif;\n",
       "    font-weight: 700;\n",
       "    font-size: 24pt;\n",
       "    line-height: 100%;\n",
       "    color: rgb(171,165,131);\n",
       "    margin-bottom: 0.1em;\n",
       "    margin-top: 0.1em;\n",
       "    display: block;\n",
       "}    \n",
       "\n",
       ".text_cell_render h3 {\n",
       "    font-family: 'Philosopher', serif;\n",
       "    margin-top:12px;\n",
       "    margin-bottom: 3px;\n",
       "    font-style: italic;\n",
       "    color: rgb(95,92,72);\n",
       "}\n",
       "\n",
       ".text_cell_render h4 {\n",
       "    font-family: 'Philosopher', serif;\n",
       "}\n",
       "\n",
       ".text_cell_render h5 {\n",
       "    font-family: 'Alegreya Sans', sans-serif;\n",
       "    font-weight: 300;\n",
       "    font-size: 16pt;\n",
       "    color: grey;\n",
       "    font-style: italic;\n",
       "    margin-bottom: .1em;\n",
       "    margin-top: 0.1em;\n",
       "    display: block;\n",
       "}\n",
       "\n",
       ".text_cell_render h6 {\n",
       "    font-family: 'PT Mono', sans-serif;\n",
       "    font-weight: 300;\n",
       "    font-size: 10pt;\n",
       "    color: grey;\n",
       "    margin-bottom: 1px;\n",
       "    margin-top: 1px;\n",
       "}\n",
       ".CodeMirror{\n",
       "        font-family: \"PT Mono\";\n",
       "        font-size: 100%;\n",
       "}\n",
       ".raw_input_prompt{\n",
       "\tcolor: black;\n",
       "}\n",
       "input.raw_input{\n",
       "\tcolor: black;\n",
       "}\n",
       "</style>\n"
      ],
      "text/plain": [
       "<IPython.core.display.HTML object>"
      ]
     },
     "execution_count": 1,
     "metadata": {},
     "output_type": "execute_result"
    }
   ],
   "source": [
    "# Ignore esse código inicial, é apenas para preparar a página!\n",
    "from IPython.display import YouTubeVideo, HTML, Image, display\n",
    "css_file = 'http://professor.ufabc.edu.br/~fernando.teubl/resources/css/ipython-notebook.css'\n",
    "#HTML(open(css_file, \"r\").read())\n",
    "import requests; HTML(requests.get(css_file).text)"
   ]
  },
  {
   "cell_type": "markdown",
   "metadata": {
    "slideshow": {
     "slide_type": "slide"
    }
   },
   "source": [
    "# Introdução à Programação em Python"
   ]
  },
  {
   "cell_type": "markdown",
   "metadata": {
    "slideshow": {
     "slide_type": "slide"
    }
   },
   "source": [
    "## Recursão"
   ]
  },
  {
   "cell_type": "markdown",
   "metadata": {
    "slideshow": {
     "slide_type": "slide"
    }
   },
   "source": [
    "Em um programa é muito comum chamarmos uma função dentro de uma outra função."
   ]
  },
  {
   "cell_type": "code",
   "execution_count": 2,
   "metadata": {
    "collapsed": false,
    "slideshow": {
     "slide_type": "slide"
    }
   },
   "outputs": [
    {
     "name": "stdout",
     "output_type": "stream",
     "text": [
      "1\n",
      "3\n",
      "5\n",
      "7\n"
     ]
    }
   ],
   "source": [
    "def imprime(i):\n",
    "    print (i)\n",
    "\n",
    "def imprimeLista(l):\n",
    "    for e in l:\n",
    "        imprime (e)\n",
    "\n",
    "imprimeLista([1, 3, 5, 7])\n"
   ]
  },
  {
   "cell_type": "markdown",
   "metadata": {
    "slideshow": {
     "slide_type": "fragment"
    }
   },
   "source": [
    "Entretanto, nada impede de uma função chamar ela mesma!\n",
    "\n",
    "Como exemplo, vamos pensar na função fatorial.\n",
    "O fatorial de 3 e 6 respectivamente pode ser calculado conforme descrito abaixo:\n",
    "\n",
    "$3! = 3 \\times 2 \\times 1 = 6$\n",
    "\n",
    "$6! = 6  \\times 5  \\times 4  \\times 3  \\times 2  \\times 1 = 720$\n",
    "\n",
    "De forma genérica, podemos calcular o fatorial como:\n",
    "\n",
    "$n! = n \\times (n-1) \\times (n-2) \\times \\ldots \\times 3 \\times 2 \\times 1$\n",
    "\n",
    "Deste modo, podemos facilmente implementar uma função para calcular o fatorial:"
   ]
  },
  {
   "cell_type": "code",
   "execution_count": 3,
   "metadata": {
    "collapsed": false,
    "slideshow": {
     "slide_type": "slide"
    }
   },
   "outputs": [
    {
     "name": "stdout",
     "output_type": "stream",
     "text": [
      "6\n",
      "720\n"
     ]
    }
   ],
   "source": [
    "def fatorial(n):\n",
    "    fat = 1\n",
    "    while n > 1:\n",
    "        fat *= n\n",
    "        n -= 1\n",
    "    return fat\n",
    "\n",
    "print(fatorial(3))\n",
    "print(fatorial(6))"
   ]
  },
  {
   "cell_type": "markdown",
   "metadata": {},
   "source": [
    "Uma outra forma de cálcular o fatorial é:\n",
    "\n",
    "$3! = 3 \\times 2! = 3 \\times 2 = 6$\n",
    "\n",
    "$6! = 6 \\times 5! = 6 \\times 120 = 720$\n",
    "\n",
    "De modo genérico, temos:\n",
    "\n",
    "$n! = n \\times (n-1)!$\n",
    "\n",
    "Pela equação acima, podemos deduzir que qualquer fotorial pode ser calculado como o seu valor multiplicado pelo fatorial do seu valor subtraído por um.\n",
    "\n",
    "E quanto vale o fatorial de $n-1$?\n",
    "\n",
    "**R:** $(n-1)! = (n-1) \\times (n-2)!$\n",
    "\n",
    "Vamos propor uma função que tenta calcular a equação acima:\n",
    "\n",
    "```python\n",
    "def fatorial(n)\n",
    "    return n * (n-1)!\n",
    "```\n",
    "\n",
    "Entretanto, como podemos calcular o `(n-1)!`?\n",
    "A função `fatorial(n)` que estamos desenvolvendo não tem este objetivo?\n",
    "Então, por que não utilizar esta própria função para calcular o fatorial de `(n-1)`?\n",
    "Neste sentido, teremos:\n",
    "\n",
    "```python\n",
    "def fatorial(n)\n",
    "    return n * fatorial(n-1)\n",
    "```\n",
    "\n",
    "Entretanto, existe um erro grave nesta função: se a função chama ela mesma, quando esta função termina e retorna?\n",
    "\n",
    "**R:** Da forma que está, não termina... :'(\n",
    "\n"
   ]
  },
  {
   "cell_type": "code",
   "execution_count": 0,
   "metadata": {
    "collapsed": false
   },
   "outputs": [
    {
     "ename": "RecursionError",
     "evalue": "maximum recursion depth exceeded",
     "output_type": "error",
     "traceback": [
      "Traceback (most recent call last):\n",
      "  File \"/home/olivetti/anaconda/envs/py3/lib/python3.5/site-packages/IPython/core/interactiveshell.py\", line 3066, in run_code\n    exec(code_obj, self.user_global_ns, self.user_ns)\n",
      "  File \"<ipython-input-1-176658a242a5>\", line 8, in <module>\n    print(fatorial(6))\n",
      "  File \"<ipython-input-1-176658a242a5>\", line 6, in fatorial\n    return n * fatorial(n-1)\n",
      "  File \"<ipython-input-1-176658a242a5>\", line 6, in fatorial\n    return n * fatorial(n-1)\n",
      "  File \"<ipython-input-1-176658a242a5>\", line 6, in fatorial\n    return n * fatorial(n-1)\n",
      "  File \"<ipython-input-1-176658a242a5>\", line 6, in fatorial\n    return n * fatorial(n-1)\n",
      "  File \"<ipython-input-1-176658a242a5>\", line 6, in fatorial\n    return n * fatorial(n-1)\n",
      "  File \"<ipython-input-1-176658a242a5>\", line 6, in fatorial\n    return n * fatorial(n-1)\n",
      "  File \"<ipython-input-1-176658a242a5>\", line 6, in fatorial\n    return n * fatorial(n-1)\n",
      "  File \"<ipython-input-1-176658a242a5>\", line 6, in fatorial\n    return n * fatorial(n-1)\n",
      "  File \"<ipython-input-1-176658a242a5>\", line 6, in fatorial\n    return n * fatorial(n-1)\n",
      "  File \"<ipython-input-1-176658a242a5>\", line 6, in fatorial\n    return n * fatorial(n-1)\n",
      "  File \"<ipython-input-1-176658a242a5>\", line 6, in fatorial\n    return n * fatorial(n-1)\n",
      "  File \"<ipython-input-1-176658a242a5>\", line 6, in fatorial\n    return n * fatorial(n-1)\n",
      "  File \"<ipython-input-1-176658a242a5>\", line 6, in fatorial\n    return n * fatorial(n-1)\n",
      "  File \"<ipython-input-1-176658a242a5>\", line 6, in fatorial\n    return n * fatorial(n-1)\n",
      "  File \"<ipython-input-1-176658a242a5>\", line 6, in fatorial\n    return n * fatorial(n-1)\n",
      "  File \"<ipython-input-1-176658a242a5>\", line 6, in fatorial\n    return n * fatorial(n-1)\n",
      "  File \"<ipython-input-1-176658a242a5>\", line 6, in fatorial\n    return n * fatorial(n-1)\n",
      "  File \"<ipython-input-1-176658a242a5>\", line 6, in fatorial\n    return n * fatorial(n-1)\n",
      "  File \"<ipython-input-1-176658a242a5>\", line 6, in fatorial\n    return n * fatorial(n-1)\n",
      "  File \"<ipython-input-1-176658a242a5>\", line 6, in fatorial\n    return n * fatorial(n-1)\n",
      "  File \"<ipython-input-1-176658a242a5>\", line 6, in fatorial\n    return n * fatorial(n-1)\n",
      "  File \"<ipython-input-1-176658a242a5>\", line 6, in fatorial\n    return n * fatorial(n-1)\n",
      "  File \"<ipython-input-1-176658a242a5>\", line 6, in fatorial\n    return n * fatorial(n-1)\n",
      "  File \"<ipython-input-1-176658a242a5>\", line 6, in fatorial\n    return n * fatorial(n-1)\n",
      "  File \"<ipython-input-1-176658a242a5>\", line 6, in fatorial\n    return n * fatorial(n-1)\n",
      "  File \"<ipython-input-1-176658a242a5>\", line 6, in fatorial\n    return n * fatorial(n-1)\n",
      "RecursionError: maximum recursion depth exceeded\n",
      "\nDuring handling of the above exception, another exception occurred:\n\n",
      "Traceback (most recent call last):\n",
      "  File \"/home/olivetti/anaconda/envs/py3/lib/python3.5/site-packages/IPython/core/interactiveshell.py\", line 1877, in showtraceback\n    stb = value._render_traceback_()\n",
      "AttributeError: 'RecursionError' object has no attribute '_render_traceback_'\n",
      "\nDuring handling of the above exception, another exception occurred:\n\n",
      "Traceback (most recent call last):\n",
      "  File \"/home/olivetti/anaconda/envs/py3/lib/python3.5/site-packages/IPython/core/interactiveshell.py\", line 3006, in run_ast_nodes\n    if self.run_code(code, result):\n",
      "  File \"/home/olivetti/anaconda/envs/py3/lib/python3.5/site-packages/IPython/core/interactiveshell.py\", line 3083, in run_code\n    self.showtraceback()\n",
      "  File \"/home/olivetti/anaconda/envs/py3/lib/python3.5/site-packages/IPython/core/interactiveshell.py\", line 1880, in showtraceback\n    value, tb, tb_offset=tb_offset)\n",
      "  File \"/home/olivetti/anaconda/envs/py3/lib/python3.5/site-packages/IPython/core/ultratb.py\", line 1242, in structured_traceback\n    self, etype, value, tb, tb_offset, number_of_lines_of_context)\n",
      "  File \"/home/olivetti/anaconda/envs/py3/lib/python3.5/site-packages/IPython/core/ultratb.py\", line 1150, in structured_traceback\n    self, etype, value, tb, tb_offset, number_of_lines_of_context\n",
      "  File \"/home/olivetti/anaconda/envs/py3/lib/python3.5/site-packages/IPython/core/ultratb.py\", line 1002, in structured_traceback\n    tb_offset)\n",
      "  File \"/home/olivetti/anaconda/envs/py3/lib/python3.5/site-packages/IPython/core/ultratb.py\", line 951, in format_exception_as_a_whole\n    frames = self.format_records(records)\n",
      "  File \"/home/olivetti/anaconda/envs/py3/lib/python3.5/site-packages/IPython/core/ultratb.py\", line 796, in format_records\n    for token_type, token, start, end, line in generate_tokens(linereader):\n",
      "  File \"/home/olivetti/anaconda/envs/py3/lib/python3.5/tokenize.py\", line 601, in _tokenize\n    pseudomatch = _compile(PseudoToken).match(line, pos)\n",
      "  File \"/home/olivetti/anaconda/envs/py3/lib/python3.5/tokenize.py\", line 173, in _compile\n    return re.compile(expr, re.UNICODE)\n",
      "  File \"/home/olivetti/anaconda/envs/py3/lib/python3.5/re.py\", line 224, in compile\n    return _compile(pattern, flags)\n",
      "  File \"/home/olivetti/anaconda/envs/py3/lib/python3.5/re.py\", line 293, in _compile\n    p = sre_compile.compile(pattern, flags)\n",
      "  File \"/home/olivetti/anaconda/envs/py3/lib/python3.5/sre_compile.py\", line 536, in compile\n    p = sre_parse.parse(p, flags)\n",
      "  File \"/home/olivetti/anaconda/envs/py3/lib/python3.5/sre_parse.py\", line 829, in parse\n    p = _parse_sub(source, pattern, 0)\n",
      "  File \"/home/olivetti/anaconda/envs/py3/lib/python3.5/sre_parse.py\", line 437, in _parse_sub\n    itemsappend(_parse(source, state))\n",
      "  File \"/home/olivetti/anaconda/envs/py3/lib/python3.5/sre_parse.py\", line 778, in _parse\n    p = _parse_sub(source, state)\n",
      "  File \"/home/olivetti/anaconda/envs/py3/lib/python3.5/sre_parse.py\", line 437, in _parse_sub\n    itemsappend(_parse(source, state))\n",
      "  File \"/home/olivetti/anaconda/envs/py3/lib/python3.5/sre_parse.py\", line 778, in _parse\n    p = _parse_sub(source, state)\n",
      "  File \"/home/olivetti/anaconda/envs/py3/lib/python3.5/sre_parse.py\", line 437, in _parse_sub\n    itemsappend(_parse(source, state))\n",
      "  File \"/home/olivetti/anaconda/envs/py3/lib/python3.5/sre_parse.py\", line 778, in _parse\n    p = _parse_sub(source, state)\n",
      "  File \"/home/olivetti/anaconda/envs/py3/lib/python3.5/sre_parse.py\", line 437, in _parse_sub\n    itemsappend(_parse(source, state))\n",
      "  File \"/home/olivetti/anaconda/envs/py3/lib/python3.5/sre_parse.py\", line 778, in _parse\n    p = _parse_sub(source, state)\n",
      "  File \"/home/olivetti/anaconda/envs/py3/lib/python3.5/sre_parse.py\", line 437, in _parse_sub\n    itemsappend(_parse(source, state))\n",
      "  File \"/home/olivetti/anaconda/envs/py3/lib/python3.5/sre_parse.py\", line 633, in _parse\n    item = subpattern[-1:]\n",
      "  File \"/home/olivetti/anaconda/envs/py3/lib/python3.5/sre_parse.py\", line 159, in __getitem__\n    return SubPattern(self.pattern, self.data[index])\n",
      "RecursionError: maximum recursion depth exceeded while calling a Python object\n",
      "\nDuring handling of the above exception, another exception occurred:\n\n",
      "Traceback (most recent call last):\n",
      "  File \"/home/olivetti/anaconda/envs/py3/lib/python3.5/site-packages/IPython/core/interactiveshell.py\", line 1877, in showtraceback\n    stb = value._render_traceback_()\n",
      "AttributeError: 'RecursionError' object has no attribute '_render_traceback_'\n",
      "\nDuring handling of the above exception, another exception occurred:\n\n",
      "Traceback (most recent call last):\n",
      "  File \"/home/olivetti/anaconda/envs/py3/lib/python3.5/site-packages/ipykernel/ipkernel.py\", line 175, in do_execute\n    shell.run_cell(code, store_history=store_history, silent=silent)\n",
      "  File \"/home/olivetti/anaconda/envs/py3/lib/python3.5/site-packages/IPython/core/interactiveshell.py\", line 2902, in run_cell\n    interactivity=interactivity, compiler=compiler, result=result)\n",
      "  File \"/home/olivetti/anaconda/envs/py3/lib/python3.5/site-packages/IPython/core/interactiveshell.py\", line 3031, in run_ast_nodes\n    self.showtraceback()\n",
      "  File \"/home/olivetti/anaconda/envs/py3/lib/python3.5/site-packages/IPython/core/interactiveshell.py\", line 1880, in showtraceback\n    value, tb, tb_offset=tb_offset)\n",
      "  File \"/home/olivetti/anaconda/envs/py3/lib/python3.5/site-packages/IPython/core/ultratb.py\", line 1242, in structured_traceback\n    self, etype, value, tb, tb_offset, number_of_lines_of_context)\n",
      "  File \"/home/olivetti/anaconda/envs/py3/lib/python3.5/site-packages/IPython/core/ultratb.py\", line 1150, in structured_traceback\n    self, etype, value, tb, tb_offset, number_of_lines_of_context\n",
      "  File \"/home/olivetti/anaconda/envs/py3/lib/python3.5/site-packages/IPython/core/ultratb.py\", line 1002, in structured_traceback\n    tb_offset)\n",
      "  File \"/home/olivetti/anaconda/envs/py3/lib/python3.5/site-packages/IPython/core/ultratb.py\", line 951, in format_exception_as_a_whole\n    frames = self.format_records(records)\n",
      "  File \"/home/olivetti/anaconda/envs/py3/lib/python3.5/site-packages/IPython/core/ultratb.py\", line 796, in format_records\n    for token_type, token, start, end, line in generate_tokens(linereader):\n",
      "  File \"/home/olivetti/anaconda/envs/py3/lib/python3.5/tokenize.py\", line 601, in _tokenize\n    pseudomatch = _compile(PseudoToken).match(line, pos)\n",
      "  File \"/home/olivetti/anaconda/envs/py3/lib/python3.5/tokenize.py\", line 173, in _compile\n    return re.compile(expr, re.UNICODE)\n",
      "  File \"/home/olivetti/anaconda/envs/py3/lib/python3.5/re.py\", line 224, in compile\n    return _compile(pattern, flags)\n",
      "  File \"/home/olivetti/anaconda/envs/py3/lib/python3.5/re.py\", line 293, in _compile\n    p = sre_compile.compile(pattern, flags)\n",
      "  File \"/home/olivetti/anaconda/envs/py3/lib/python3.5/sre_compile.py\", line 536, in compile\n    p = sre_parse.parse(p, flags)\n",
      "  File \"/home/olivetti/anaconda/envs/py3/lib/python3.5/sre_parse.py\", line 829, in parse\n    p = _parse_sub(source, pattern, 0)\n",
      "  File \"/home/olivetti/anaconda/envs/py3/lib/python3.5/sre_parse.py\", line 437, in _parse_sub\n    itemsappend(_parse(source, state))\n",
      "  File \"/home/olivetti/anaconda/envs/py3/lib/python3.5/sre_parse.py\", line 778, in _parse\n    p = _parse_sub(source, state)\n",
      "  File \"/home/olivetti/anaconda/envs/py3/lib/python3.5/sre_parse.py\", line 437, in _parse_sub\n    itemsappend(_parse(source, state))\n",
      "  File \"/home/olivetti/anaconda/envs/py3/lib/python3.5/sre_parse.py\", line 778, in _parse\n    p = _parse_sub(source, state)\n",
      "  File \"/home/olivetti/anaconda/envs/py3/lib/python3.5/sre_parse.py\", line 437, in _parse_sub\n    itemsappend(_parse(source, state))\n",
      "  File \"/home/olivetti/anaconda/envs/py3/lib/python3.5/sre_parse.py\", line 778, in _parse\n    p = _parse_sub(source, state)\n",
      "  File \"/home/olivetti/anaconda/envs/py3/lib/python3.5/sre_parse.py\", line 437, in _parse_sub\n    itemsappend(_parse(source, state))\n",
      "  File \"/home/olivetti/anaconda/envs/py3/lib/python3.5/sre_parse.py\", line 778, in _parse\n    p = _parse_sub(source, state)\n",
      "  File \"/home/olivetti/anaconda/envs/py3/lib/python3.5/sre_parse.py\", line 437, in _parse_sub\n    itemsappend(_parse(source, state))\n",
      "  File \"/home/olivetti/anaconda/envs/py3/lib/python3.5/sre_parse.py\", line 633, in _parse\n    item = subpattern[-1:]\n",
      "  File \"/home/olivetti/anaconda/envs/py3/lib/python3.5/sre_parse.py\", line 159, in __getitem__\n    return SubPattern(self.pattern, self.data[index])\n",
      "RecursionError: maximum recursion depth exceeded\n"
     ]
    }
   ],
   "source": [
    "import sys\n",
    "sys.setrecursionlimit(50)\n",
    "# Ao executar esta função, o python ficará processando até\n",
    "# ocorrer um estouro de pilha de memória (stack overflow).\n",
    "def fatorial(n):\n",
    "    return n * fatorial(n-1)\n",
    "\n",
    "print(fatorial(6))\n",
    "\n",
    "sys.setrecursionlimit(1000)"
   ]
  },
  {
   "cell_type": "markdown",
   "metadata": {
    "slideshow": {
     "slide_type": "slide"
    }
   },
   "source": [
    "O principal problema do exemplo anterior é que a função não sabe quando terminar!\n",
    "\n",
    "Deste modo, **toda função recursiva precisa ter uma condição de término**.\n",
    "\n",
    "Toda função recursiva deve ter uma lógica similar ao demonstrado a seguir:\n",
    "\n",
    "```python\n",
    "def funcRecursiva():\n",
    "    # Parte TRIVIAL\n",
    "    if <conhecemos_a_resposta>:\n",
    "        return <resposta>\n",
    "\n",
    "    #parte GERAL\n",
    "    else:\n",
    "        # utilizamos a recursão\n",
    "        return funcRecursiva()\n",
    "```\n",
    "\n",
    "No caso do fatorial, sabemos que o fatorial de 0 é 1, certo?\n",
    "Esta é a nossa **parte TRIVIAL**."
   ]
  },
  {
   "cell_type": "code",
   "execution_count": null,
   "metadata": {
    "collapsed": false,
    "slideshow": {
     "slide_type": "slide"
    }
   },
   "outputs": [],
   "source": [
    "def fatorial(n):\n",
    "    # Parte TRIVIAL\n",
    "    if n == 0:\n",
    "        return 1\n",
    "    \n",
    "    # Parte GERAL ou RECURSIVA\n",
    "    else:\n",
    "        return n * fatorial(n-1)\n",
    "    \n",
    "print(fatorial(3))\n",
    "print(fatorial(6))\n",
    "print(fatorial(20))"
   ]
  },
  {
   "cell_type": "markdown",
   "metadata": {
    "slideshow": {
     "slide_type": "slide"
    }
   },
   "source": [
    "Apesar de parecer que a recursão complica a solução, conforme demosntrado no fatorial (exemplo anterior), uma função recursiva pode facilitar a implementação de muitos problemas, pois permite dividir o problema em problemas menores para solucioná-lo.\n",
    "\n",
    "Para entener melhor a motivação do uso da recursão, vamos pegar um exemplo mais complexo. Lembram da torre de Hanói?\n",
    "\n",
    "![hanoi](https://upload.wikimedia.org/wikipedia/commons/0/07/Tower_of_Hanoi.jpeg)\n",
    "\n",
    "Caso não lembre, clique [aqui](https://pt.wikipedia.org/wiki/Torre_de_Han%C3%B3i) antes de continuar lendo.\n",
    "\n",
    "Como podemos construir um algoritmo para solucionar a torre de Hanói?\n",
    "\n",
    "Não é trivial. Mas podemos utilizar a recursão com o objetivo de **dividir para conquistar**.\n",
    "\n",
    "A chave para resolver este problema é **quebrar** o desafio em desafios menores até que o desafio seja **trivial**.\n",
    "Neste caso, o trivial é quando temos apenas um único disco para mover (neste caso, basta mover o disco direto).\n",
    "\n",
    "Se queremos mover os discos da haste **1** para a haste **3**, e existem $n$ discos na haste **1**, podemos mover os $n-1$ discos para a haste auxiliar **2**, mover o último disco da haste **1** para a haste **3** e, então, levar os $n-1$ discos da haste auxiliar **2** para a haste **3**. Veja a figura a seguir:\n",
    "\n",
    "![hanoi2](http://puremass.com/yp/images/tower.gif)\n",
    "\n",
    "Ou seja, a parte **TRIVIAL** da nossa recursão é mover um disco da haste **1** para a haste **C**.\n",
    "A parte **GERAL** (recursiva) vai ser mover os $n-1$ discos da haste **1** para a haste **2** e depois mover da haste **2** para a haste **3**.\n",
    "\n",
    "```python\n",
    "def hanoi():\n",
    "    # Parte TRIVIAL\n",
    "    if numero_de_discos == 1:\n",
    "        <mover_o_disco_da_origem_para_o_destino>\n",
    "\n",
    "    # Parte GERAL\n",
    "    else:\n",
    "        hanoi(<mover_n-1_discos_da_origem_para_o_auxiliar)\n",
    "        <mover_o_disco_da_origem_para_o_destino>\n",
    "        hanoi(<mover_n-1_discos_do_auxiliar_para_o_destino)\n",
    "```\n",
    "\n",
    "Veja a implmementação correta abaixo."
   ]
  },
  {
   "cell_type": "code",
   "execution_count": 5,
   "metadata": {
    "collapsed": false
   },
   "outputs": [
    {
     "name": "stdout",
     "output_type": "stream",
     "text": [
      "Mover o disco da haste A para a haste B.\n",
      "Mover o disco da haste A para a haste C.\n",
      "Mover o disco da haste B para a haste C.\n",
      "Mover o disco da haste A para a haste B.\n",
      "Mover o disco da haste C para a haste A.\n",
      "Mover o disco da haste C para a haste B.\n",
      "Mover o disco da haste A para a haste B.\n",
      "Mover o disco da haste A para a haste C.\n",
      "Mover o disco da haste B para a haste C.\n",
      "Mover o disco da haste B para a haste A.\n",
      "Mover o disco da haste C para a haste A.\n",
      "Mover o disco da haste B para a haste C.\n",
      "Mover o disco da haste A para a haste B.\n",
      "Mover o disco da haste A para a haste C.\n",
      "Mover o disco da haste B para a haste C.\n"
     ]
    }
   ],
   "source": [
    "def hanoi(num_discos, hasteOrigem, hasteDestino, hasteAuxiliar):\n",
    "    # Parte TRIVIAL\n",
    "    if num_discos == 1:\n",
    "        print (\"Mover o disco da haste \" + hasteOrigem + \" para a haste \" + hasteDestino + \".\")\n",
    "        \n",
    "    # Parte GERAL\n",
    "    else:\n",
    "        hanoi(num_discos-1, hasteOrigem, hasteAuxiliar, hasteDestino)\n",
    "        print (\"Mover o disco da haste \" + hasteOrigem + \" para a haste \" + hasteDestino + \".\")\n",
    "        hanoi(num_discos-1, hasteAuxiliar, hasteDestino, hasteOrigem)\n",
    "               \n",
    "hanoi(4, \"A\", \"C\", \"B\")"
   ]
  },
  {
   "cell_type": "markdown",
   "metadata": {},
   "source": [
    "Funcionou? Verifique:\n",
    "\n",
    "![hanoi_solucao](https://upload.wikimedia.org/wikipedia/commons/6/60/Tower_of_Hanoi_4.gif)\n",
    "\n",
    "Agora tente desenvolver uma outra solução para o problema da torre de Hanói sem utilizar a recursão.\n",
    "Pense um pouco e você perceberá que é **muito** difícil (porém não impossível)."
   ]
  },
  {
   "cell_type": "markdown",
   "metadata": {
    "collapsed": true
   },
   "source": [
    "Agora que entendemos a ideia da recursão, vamos analizar passo-a-passo o que acontece com o programa durante uma recursão, do ponto de vista computacional.\n",
    "\n",
    "Vamos começar com uma função fotorial bem simples: um contador regressivo!"
   ]
  },
  {
   "cell_type": "code",
   "execution_count": 6,
   "metadata": {
    "collapsed": false
   },
   "outputs": [
    {
     "name": "stdout",
     "output_type": "stream",
     "text": [
      "3s\n",
      "2s\n",
      "1s\n",
      "BOOM!\n"
     ]
    }
   ],
   "source": [
    "from time import sleep\n",
    "def contadorRegressivo(n):\n",
    "    if n == 0:\n",
    "        print (\"BOOM!\")\n",
    "    else:\n",
    "        print (str(n) + \"s\")\n",
    "        sleep(1)\n",
    "        contadorRegressivo(n-1)\n",
    "\n",
    "contadorRegressivo(3)"
   ]
  },
  {
   "cell_type": "markdown",
   "metadata": {},
   "source": [
    "Neste exemplo, ao chamar a função `contadorRegressivo(n = 3)`, o Python irá verificar que n é diferetne de 0, imprimir \"3s\", dormir por um segundo e chamar a função `contadorRegressivo(n = 2)`.\n",
    "A função `contadorRegressivo(n = 2)` irá seguir seguir o mesmo roteiro, mas com o valor de `n` igual a `2`.\n",
    "O mesmo ocorre com a função `contadorRegressivo(n = 1)`.\n",
    "Por fim, a função `contadorRegressivo(n = 0)` cai na parte trivial da recursão, o que faz imprimir \"BOOM!\" e retornar (sem recursão).\n",
    "\n",
    "Neste momento, a função `contadorRegressivo(n = 0)` retorna para a função `contadorRegressivo(n = 1)`, que retorna para a função `contadorRegressivo(n = 2)` que, por fim, retorna para a função `contadorRegressivo(n = 3)`.\n",
    "\n",
    "Note que embora o nome da função seja a mesma, os parâmetros são diferentes, ou seja, embora esteja executando o memso código, todos os valores da função são diferentes, pois a instância de cada função é diferente.\n",
    "\n",
    "O código abaixo imprime é similar ao exemplo anterior, mas imprime passo a passo a recursão."
   ]
  },
  {
   "cell_type": "code",
   "execution_count": 7,
   "metadata": {
    "collapsed": false
   },
   "outputs": [
    {
     "name": "stdout",
     "output_type": "stream",
     "text": [
      "contadorRegressivo(n = 3) # Chamado pela 1ª vêz!\n",
      "    if 3 == 0: (FALSO)\n",
      "    else:\n",
      "        print (str(n = 3) + \"s\")\n",
      "        sleep(1)\n",
      "        contadorRegressivo(n-1) # Recursão!\n",
      "||||contadorRegressivo(n = 2) # Chamado pela 2ª vêz!\n",
      "||||    if 2 == 0: (FALSO)\n",
      "||||    else:\n",
      "||||        print (str(n = 2) + \"s\")\n",
      "||||        sleep(1)\n",
      "||||        contadorRegressivo(n-1) # Recursão!\n",
      "||||||||contadorRegressivo(n = 1) # Chamado pela 3ª vêz!\n",
      "||||||||    if 1 == 0: (FALSO)\n",
      "||||||||    else:\n",
      "||||||||        print (str(n = 1) + \"s\")\n",
      "||||||||        sleep(1)\n",
      "||||||||        contadorRegressivo(n-1) # Recursão!\n",
      "||||||||||||contadorRegressivo(n = 0) # Chamado pela 4ª vêz!\n",
      "||||||||||||    if 0 == 0: (VERDADEIRO)\n",
      "||||||||||||        print (\"BOOM!\")\n",
      "||||||||||||    # Retornando para contadorRegressivo(n = 1)\n",
      "||||||||    # Retornando para contadorRegressivo(n = 2)\n",
      "||||    # Retornando para contadorRegressivo(n = 3)\n",
      "    # Fim da execução\n"
     ]
    }
   ],
   "source": [
    "space = \"\"\n",
    "from time import sleep\n",
    "def contadorRegressivo(n):\n",
    "    space = \"||||\" * (3-n)\n",
    "    print(space + \"contadorRegressivo(n = {}) # Chamado pela {}ª vêz!\".format(n,4-n))\n",
    "    if n == 0:\n",
    "        print(space + \"    if {} == 0: (VERDADEIRO)\".format(n))\n",
    "        print(space + \"        print (\\\"BOOM!\\\")\")\n",
    "    else:\n",
    "        print(space + \"    if {} == 0: (FALSO)\".format(n))\n",
    "        print(space + \"    else:\")\n",
    "        print(space + \"        print (str(n = {}) + \\\"s\\\")\".format(n))\n",
    "        print(space + \"        sleep(1)\")\n",
    "        print(space + \"        contadorRegressivo(n-1) # Recursão!\")\n",
    "        contadorRegressivo(n-1)\n",
    "    if n < 3:\n",
    "        print(space + \"    # Retornando para contadorRegressivo(n = {})\".format(n+1))\n",
    "    else:\n",
    "        print(\"    # Fim da execução\")\n",
    "\n",
    "contadorRegressivo(3)"
   ]
  },
  {
   "cell_type": "markdown",
   "metadata": {
    "collapsed": true
   },
   "source": [
    "## Atividade 1\n",
    "\n",
    "A sequência de Fibonacci é uma série que segue a seguinte regra: $x_{n}=x_{n-1}+x_{n-2}$, sendo que $x_{1} = 1$ e $x_{2} = 1$. Os primeiros elementos da sequência de Fibonacci são: 1, 1, 2, 3, 5, 8, 13, 21, 34, 55, 89, 144, 233, 377, 610, 987, 1597, 2584, 4181, 6765, 10946, ...\n",
    "\n",
    "Um possível código para imprimir a sequencia de Fibonacci é apresentado abaixo:"
   ]
  },
  {
   "cell_type": "code",
   "execution_count": 8,
   "metadata": {
    "collapsed": false
   },
   "outputs": [
    {
     "name": "stdout",
     "output_type": "stream",
     "text": [
      "1\n",
      "2\n",
      "3\n",
      "5\n",
      "8\n",
      "13\n",
      "21\n",
      "34\n",
      "55\n",
      "89\n",
      "144\n",
      "233\n",
      "377\n",
      "610\n",
      "987\n",
      "1597\n",
      "2584\n",
      "4181\n",
      "6765\n",
      "...\n"
     ]
    }
   ],
   "source": [
    "n1 = 1\n",
    "n2 = 1\n",
    "for i in range(1, 20):\n",
    "    n1, n2 = n2, (n1+n2)\n",
    "    print (n1)\n",
    "print (\"...\")"
   ]
  },
  {
   "cell_type": "markdown",
   "metadata": {},
   "source": [
    "Faça um código que calcule a sequência de Fibonacci utilizando recursão."
   ]
  },
  {
   "cell_type": "code",
   "execution_count": 9,
   "metadata": {
    "collapsed": true
   },
   "outputs": [],
   "source": [
    "def Fibonacci(n):\n",
    "    \"\"\"\n",
    "        Código\n",
    "    \"\"\"\n",
    "\n",
    "Fibonacci(5)\n",
    "Fibonacci(7)"
   ]
  },
  {
   "cell_type": "markdown",
   "metadata": {},
   "source": [
    "## Atividade 2\n",
    "\n",
    "Pode-se calcular o máximo divisor comum (MDC) entre dois números inteiros positivos utilizando o algoritmo de Euclides.\n",
    "\n",
    "Veja a implementação do algoritmo de Euclides abaixo:"
   ]
  },
  {
   "cell_type": "code",
   "execution_count": 10,
   "metadata": {
    "collapsed": false
   },
   "outputs": [
    {
     "name": "stdout",
     "output_type": "stream",
     "text": [
      "2\n",
      "1\n",
      "9\n"
     ]
    }
   ],
   "source": [
    "def Euclides (a, b):\n",
    "    while b != 0:\n",
    "        a, b = b, a % b\n",
    "    return a\n",
    "\n",
    "print(Euclides(10, 8))\n",
    "print(Euclides(21, 13))\n",
    "print(Euclides(63, 108))"
   ]
  },
  {
   "cell_type": "markdown",
   "metadata": {},
   "source": [
    "Modifique o algoritmo acima de modo a utilizar recursão."
   ]
  }
 ],
 "metadata": {
  "celltoolbar": "Slideshow",
  "kernelspec": {
   "display_name": "Python 3",
   "language": "python",
   "name": "python3"
  },
  "language_info": {
   "codemirror_mode": {
    "name": "ipython",
    "version": 3
   },
   "file_extension": ".py",
   "mimetype": "text/x-python",
   "name": "python",
   "nbconvert_exporter": "python",
   "pygments_lexer": "ipython3",
   "version": "3.5.1"
  }
 },
 "nbformat": 4,
 "nbformat_minor": 0
}
