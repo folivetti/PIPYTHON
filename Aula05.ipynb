{
 "cells": [
  {
   "cell_type": "code",
   "execution_count": 1,
   "metadata": {
    "collapsed": false,
    "slideshow": {
     "slide_type": "skip"
    }
   },
   "outputs": [
    {
     "data": {
      "text/html": [
       "<style>\n",
       "\n",
       "@font-face {\n",
       "    font-family: \"Computer Modern\";\n",
       "    src: url('http://mirrors.ctan.org/fonts/cm-unicode/fonts/otf/cmunss.otf');\n",
       "}\n",
       "\n",
       "#notebook_panel { /* main background */\n",
       "    background: #888;\n",
       "    color: #f6f6f6;\n",
       "}\n",
       "\n",
       "div.cell { /* set cell width to about 80 chars */\n",
       "    width: 900px;\n",
       "}\n",
       "\n",
       "div #notebook { /* centre the content */\n",
       "    background: #fff; /* white background for content */\n",
       "    width: 1000px;\n",
       "    margin: auto;\n",
       "    padding-left: 1em;\n",
       "}\n",
       "\n",
       "#notebook li { /* More space between bullet points */\n",
       "margin-top:0.8em;\n",
       "}\n",
       "/* draw border around running cells */\n",
       "div.cell.border-box-sizing.code_cell.running {\n",
       "    border: 3px solid #111;\n",
       "}\n",
       "/* Put a solid color box around each cell and its output, visually linking them together */\n",
       "div.cell.code_cell {\n",
       "    background-color: rgba(171,165,131,0.3); \n",
       "    border-radius: 10px; /* rounded borders */\n",
       "    padding: 1em;\n",
       "    margin-top: 1em;\n",
       "}\n",
       "div.text_cell_render{\n",
       "    font-family: 'Arvo' sans-serif;\n",
       "    line-height: 130%;\n",
       "    font-size: 115%;\n",
       "    width:700px;\n",
       "    margin-left:auto;\n",
       "    margin-right:auto;\n",
       "}\n",
       "/* Formatting for header cells */\n",
       ".text_cell_render h1 {\n",
       "    font-family: 'Philosopher', sans-serif;\n",
       "    font-weight: 400;\n",
       "    font-size: 40pt;\n",
       "    text-align: center;\n",
       "    line-height: 100%;\n",
       "    color: rgb(12,85,97);\n",
       "    margin-bottom: 0.1em;\n",
       "    margin-top: 0.1em;\n",
       "    display: block;\n",
       "}\n",
       "\n",
       ".text_cell_render h2 {\n",
       "    font-family: 'Philosopher', serif;\n",
       "    font-weight: 700;\n",
       "    font-size: 24pt;\n",
       "    line-height: 100%;\n",
       "    color: rgb(171,165,131);\n",
       "    margin-bottom: 0.1em;\n",
       "    margin-top: 0.1em;\n",
       "    display: block;\n",
       "}    \n",
       "\n",
       ".text_cell_render h3 {\n",
       "    font-family: 'Philosopher', serif;\n",
       "    margin-top:12px;\n",
       "    margin-bottom: 3px;\n",
       "    font-style: italic;\n",
       "    color: rgb(95,92,72);\n",
       "}\n",
       "\n",
       ".text_cell_render h4 {\n",
       "    font-family: 'Philosopher', serif;\n",
       "}\n",
       "\n",
       ".text_cell_render h5 {\n",
       "    font-family: 'Alegreya Sans', sans-serif;\n",
       "    font-weight: 300;\n",
       "    font-size: 16pt;\n",
       "    color: grey;\n",
       "    font-style: italic;\n",
       "    margin-bottom: .1em;\n",
       "    margin-top: 0.1em;\n",
       "    display: block;\n",
       "}\n",
       "\n",
       ".text_cell_render h6 {\n",
       "    font-family: 'PT Mono', sans-serif;\n",
       "    font-weight: 300;\n",
       "    font-size: 10pt;\n",
       "    color: grey;\n",
       "    margin-bottom: 1px;\n",
       "    margin-top: 1px;\n",
       "}\n",
       ".CodeMirror{\n",
       "        font-family: \"PT Mono\";\n",
       "        font-size: 100%;\n",
       "}\n",
       ".raw_input_prompt{\n",
       "\tcolor: black;\n",
       "}\n",
       "input.raw_input{\n",
       "\tcolor: black;\n",
       "}\n",
       "</style>\n"
      ],
      "text/plain": [
       "<IPython.core.display.HTML object>"
      ]
     },
     "execution_count": 1,
     "metadata": {},
     "output_type": "execute_result"
    }
   ],
   "source": [
    "# ignore esse código inicial, é apenas para preparar a página\n",
    "from IPython.display import YouTubeVideo, HTML, Image, display\n",
    "css_file = './modelo.css'\n",
    "HTML(open(css_file, \"r\").read())"
   ]
  },
  {
   "cell_type": "markdown",
   "metadata": {
    "slideshow": {
     "slide_type": "slide"
    }
   },
   "source": [
    "# Introdução à Programação em Python"
   ]
  },
  {
   "cell_type": "markdown",
   "metadata": {
    "slideshow": {
     "slide_type": "slide"
    }
   },
   "source": [
    "## Manipulação de Listas"
   ]
  },
  {
   "cell_type": "markdown",
   "metadata": {
    "slideshow": {
     "slide_type": "slide"
    }
   },
   "source": [
    "Anteriormente, vimos alguns exemplos de criação e manipulação de listas:\n",
    "\n",
    "```python\n",
    "lista = [1,2,3,4,5]\n",
    "print(lista[0])\n",
    "```"
   ]
  },
  {
   "cell_type": "markdown",
   "metadata": {
    "slideshow": {
     "slide_type": "slide"
    }
   },
   "source": [
    "Também vimos uma forma de criar listas de inteiros com a função `range()`:\n",
    "\n",
    "```python\n",
    "lista = list(range(1,11))\n",
    "print(lista # [1,2,3,4,5,6,7,8,9,10])\n",
    "```"
   ]
  },
  {
   "cell_type": "markdown",
   "metadata": {
    "slideshow": {
     "slide_type": "subslide"
    }
   },
   "source": [
    "Para acessar um elemento em uma lista fazemos:\n",
    "\n",
    "```python\n",
    "print(lista[0]) # primeiro elemento\n",
    "print(lista[-1]) # último elemento\n",
    "```"
   ]
  },
  {
   "cell_type": "markdown",
   "metadata": {
    "slideshow": {
     "slide_type": "slide"
    }
   },
   "source": [
    "E para uma faixa de valores:\n",
    "\n",
    "```python\n",
    "print(lista[0:3]) # elemento 0, 1 e 2\n",
    "print(lista[5:2:-1]) # do 5 ao 3, de -1 em -1\n",
    "```"
   ]
  },
  {
   "cell_type": "code",
   "execution_count": 2,
   "metadata": {
    "collapsed": false,
    "slideshow": {
     "slide_type": "slide"
    }
   },
   "outputs": [
    {
     "name": "stdout",
     "output_type": "stream",
     "text": [
      "[1, 2, 3, 4, 5, 6, 7, 8, 9, 10]\n",
      "1\n",
      "10\n",
      "[1, 2, 3]\n",
      "[6, 5, 4]\n"
     ]
    }
   ],
   "source": [
    "lista = list(range(1,11))\n",
    "print(lista) # [1,2,3,4,5,6,7,8,9,10]\n",
    "print(lista[0]) # primeiro elemento\n",
    "print(lista[-1]) # último elemento\n",
    "print(lista[0:3]) # elemento 0, 1 e 2\n",
    "print(lista[5:2:-1]) # do 5 ao 3, de -1 em -1"
   ]
  },
  {
   "cell_type": "markdown",
   "metadata": {
    "slideshow": {
     "slide_type": "slide"
    }
   },
   "source": [
    "Podemos também alterar um elemento de uma lista utilizando os índices:"
   ]
  },
  {
   "cell_type": "code",
   "execution_count": 3,
   "metadata": {
    "collapsed": false,
    "slideshow": {
     "slide_type": "fragment"
    }
   },
   "outputs": [
    {
     "name": "stdout",
     "output_type": "stream",
     "text": [
      "[0, 2, 3, 4, 5, 6, 7, 8, 9, 10]\n"
     ]
    }
   ],
   "source": [
    "lista[0] = 0\n",
    "print(lista)"
   ]
  },
  {
   "cell_type": "markdown",
   "metadata": {
    "slideshow": {
     "slide_type": "slide"
    }
   },
   "source": [
    "Os operadores `+` e `*` tem a função de concatenação e repetição:"
   ]
  },
  {
   "cell_type": "code",
   "execution_count": 4,
   "metadata": {
    "collapsed": false,
    "slideshow": {
     "slide_type": "fragment"
    }
   },
   "outputs": [
    {
     "name": "stdout",
     "output_type": "stream",
     "text": [
      "[0, 1, 2, 3, 4, 5, 6, 7, 8, 9]\n",
      "[1, 2, 3, 1, 2, 3]\n"
     ]
    }
   ],
   "source": [
    "print(list(range(0,5)) + list(range(5,10)))\n",
    "print([1,2,3]*2)"
   ]
  },
  {
   "cell_type": "markdown",
   "metadata": {
    "slideshow": {
     "slide_type": "slide"
    }
   },
   "source": [
    "Para adicionar um elemento ao final da lista temos o comando `append`, que utilizado como mostrado a seguir:"
   ]
  },
  {
   "cell_type": "code",
   "execution_count": 5,
   "metadata": {
    "collapsed": false,
    "slideshow": {
     "slide_type": "fragment"
    }
   },
   "outputs": [
    {
     "name": "stdout",
     "output_type": "stream",
     "text": [
      "[0, 2, 3, 4, 5, 6, 7, 8, 9, 10]\n",
      "[0, 2, 3, 4, 5, 6, 7, 8, 9, 10, 11]\n"
     ]
    }
   ],
   "source": [
    "print(lista)\n",
    "lista.append(11)\n",
    "print(lista)"
   ]
  },
  {
   "cell_type": "markdown",
   "metadata": {
    "slideshow": {
     "slide_type": "slide"
    }
   },
   "source": [
    "Para remover um elemento, utilizamos o comando `del`:"
   ]
  },
  {
   "cell_type": "code",
   "execution_count": 6,
   "metadata": {
    "collapsed": false,
    "slideshow": {
     "slide_type": "fragment"
    }
   },
   "outputs": [
    {
     "name": "stdout",
     "output_type": "stream",
     "text": [
      "[0, 2, 3, 4, 5, 6, 7, 8, 9, 10, 11]\n",
      "[0, 2, 4, 5, 6, 7, 8, 9, 10, 11]\n"
     ]
    }
   ],
   "source": [
    "print(lista)\n",
    "del lista[2] # remove o elemento na posição 2\n",
    "print(lista)"
   ]
  },
  {
   "cell_type": "markdown",
   "metadata": {
    "slideshow": {
     "slide_type": "slide"
    }
   },
   "source": [
    "O tamanho de uma lista pode ser obtido com o comando `len`:"
   ]
  },
  {
   "cell_type": "code",
   "execution_count": 7,
   "metadata": {
    "collapsed": false,
    "slideshow": {
     "slide_type": "fragment"
    }
   },
   "outputs": [
    {
     "name": "stdout",
     "output_type": "stream",
     "text": [
      "10\n"
     ]
    }
   ],
   "source": [
    "print(len(lista))"
   ]
  },
  {
   "cell_type": "markdown",
   "metadata": {
    "slideshow": {
     "slide_type": "slide"
    }
   },
   "source": [
    "E podemos verificar se um certo elemento existe na lista com o comando `in`:"
   ]
  },
  {
   "cell_type": "code",
   "execution_count": 8,
   "metadata": {
    "collapsed": false,
    "slideshow": {
     "slide_type": "fragment"
    }
   },
   "outputs": [
    {
     "name": "stdout",
     "output_type": "stream",
     "text": [
      "True\n",
      "False\n"
     ]
    }
   ],
   "source": [
    "print(10 in lista)\n",
    "print(3 in lista)"
   ]
  },
  {
   "cell_type": "markdown",
   "metadata": {
    "slideshow": {
     "slide_type": "slide"
    }
   },
   "source": [
    "Digamos que queremos efetuar uma operação para cada elemento dessa lista.\n",
    "\n",
    "Por exemplo, imprimir o quadrado dos valores de um número:\n",
    "\n",
    "```python\n",
    "Para cada x em lista:\n",
    "    print (x*x)\n",
    "```    "
   ]
  },
  {
   "cell_type": "markdown",
   "metadata": {
    "slideshow": {
     "slide_type": "slide"
    }
   },
   "source": [
    "Para isso o Python utiliza a instrução `for` da seguinte maneira:"
   ]
  },
  {
   "cell_type": "code",
   "execution_count": 9,
   "metadata": {
    "collapsed": false,
    "slideshow": {
     "slide_type": "fragment"
    }
   },
   "outputs": [
    {
     "name": "stdout",
     "output_type": "stream",
     "text": [
      "0\n",
      "4\n",
      "16\n",
      "25\n",
      "36\n",
      "49\n",
      "64\n",
      "81\n",
      "100\n",
      "121\n"
     ]
    }
   ],
   "source": [
    "for x in lista:\n",
    "    print(x*x)"
   ]
  },
  {
   "cell_type": "markdown",
   "metadata": {
    "slideshow": {
     "slide_type": "slide"
    }
   },
   "source": [
    "A instrução for é outra estrutura de repetição que permite repertimos uma operação para cada elemento de uma lista ou por um determinado número de vezes."
   ]
  },
  {
   "cell_type": "markdown",
   "metadata": {
    "slideshow": {
     "slide_type": "slide"
    }
   },
   "source": [
    "Vamos criar uma função para calcular a soma dos N primeiros números, começando do 1."
   ]
  },
  {
   "cell_type": "code",
   "execution_count": 10,
   "metadata": {
    "collapsed": false,
    "slideshow": {
     "slide_type": "slide"
    }
   },
   "outputs": [
    {
     "name": "stdout",
     "output_type": "stream",
     "text": [
      "15\n",
      "55\n"
     ]
    }
   ],
   "source": [
    "def Soma(N):\n",
    "    soma = 0\n",
    "    for x in range(1,N+1):  # é um intervalo aberto [a,b[\n",
    "        soma = soma + x\n",
    "    return soma\n",
    "\n",
    "print (Soma(5))\n",
    "print (Soma(10))"
   ]
  },
  {
   "cell_type": "markdown",
   "metadata": {
    "slideshow": {
     "slide_type": "slide"
    }
   },
   "source": [
    "Podemos utilizar o comando `for` para criar listas diferentes das geradas pelo comando `range()`:"
   ]
  },
  {
   "cell_type": "code",
   "execution_count": 11,
   "metadata": {
    "collapsed": false,
    "slideshow": {
     "slide_type": "slide"
    }
   },
   "outputs": [
    {
     "name": "stdout",
     "output_type": "stream",
     "text": [
      "[1, 4, 9, 16, 25, 36, 49, 64, 81, 100]\n"
     ]
    }
   ],
   "source": [
    "listaQuad = []\n",
    "for x in range(1,11):\n",
    "    listaQuad.append(x*x)  # cria a lista dos números de 1 a 10 ao quadrado\n",
    "print (listaQuad)"
   ]
  },
  {
   "cell_type": "markdown",
   "metadata": {
    "slideshow": {
     "slide_type": "slide"
    }
   },
   "source": [
    "**FizzBuzz**: crie uma função que imprima os números de 1 até N substituindo certos números com a seguinte regra:\n",
    "\n",
    "* Se o número for múltiplo de 3, imprima Fizz\n",
    "* Se o número for múltiplo de 5, imprima Buzz\n",
    "* Se o número for múltiplo de 3 e 5, imprima FizzBuzz"
   ]
  },
  {
   "cell_type": "code",
   "execution_count": 15,
   "metadata": {
    "collapsed": false
   },
   "outputs": [
    {
     "name": "stdout",
     "output_type": "stream",
     "text": [
      "1\n",
      "2\n",
      "Fizz\n",
      "4\n",
      "Buzz\n",
      "Fizz\n",
      "7\n",
      "8\n",
      "Fizz\n",
      "Buzz\n"
     ]
    }
   ],
   "source": [
    "def FizzBuzz(N):\n",
    "\n",
    "    \n",
    "    \n",
    "    \n",
    "    \n",
    "FizzBuzz(10)"
   ]
  },
  {
   "cell_type": "markdown",
   "metadata": {
    "slideshow": {
     "slide_type": "slide"
    }
   },
   "source": [
    "**Potência**: Crie uma função que calcule $y^b$, dados $y$ e $b$, repetindo a multiplicação de $y$ por $y$ $b$ vezes.\n",
    "\n",
    "$3^4 = 3*3*3*3$"
   ]
  },
  {
   "cell_type": "markdown",
   "metadata": {
    "slideshow": {
     "slide_type": "slide"
    }
   },
   "source": [
    "Uma forma de pensar na resolução desse problema é reduzi-lo para um caso simplificado. \n",
    "\n",
    "Vamos tomar o exemplo anterior, $3^4$, podemos dizer que:\n",
    "\n",
    "$$3^4 = 3^3 * 3$$"
   ]
  },
  {
   "cell_type": "markdown",
   "metadata": {
    "slideshow": {
     "slide_type": "slide"
    }
   },
   "source": [
    "Agora nosso problema se reduziu em descobrir o valor de $3^3$ bastanto multiplicar $3$ nesse resultado.\n",
    "\n",
    "Seguindo o raciocínio temos:\n",
    "\n",
    "$$3^4 = 3^3 * 3 = (3^2 * 3) * 3 = (( 3^1 * 3) * 3) * 3 = 3*3*3*3$$"
   ]
  },
  {
   "cell_type": "markdown",
   "metadata": {
    "slideshow": {
     "slide_type": "slide"
    }
   },
   "source": [
    "Então iniciando com o valor $3$, basta multiplicarmos sucessivamente por $3$ por $b-1$ vezes."
   ]
  },
  {
   "cell_type": "code",
   "execution_count": 19,
   "metadata": {
    "collapsed": false
   },
   "outputs": [
    {
     "name": "stdout",
     "output_type": "stream",
     "text": [
      "81 81\n"
     ]
    }
   ],
   "source": [
    "def Potencia(y,b):\n",
    "    \"\"\"\n",
    "    Calcula y^b\n",
    "    \"\"\"\n",
    "\n",
    "    \n",
    "    \n",
    "    \n",
    "print (Potencia(3,4), 3**4)"
   ]
  },
  {
   "cell_type": "markdown",
   "metadata": {
    "slideshow": {
     "slide_type": "slide"
    }
   },
   "source": [
    "**Monte Carlo**: Na ciência experimental temos que realizar experimentos e medições para estimar certos valores. Ex.:\n",
    "\n",
    "* Distribuição da altura dos alunos\n",
    "* Relação entre Altura dos alunos e CR\n",
    "* Velocidade média do vôo de uma andorinha\n",
    "\n",
    "Porém, em certas ocasiões o custo de uma medição é elevado ou impossibilitado. Em muitos casos, o computador pode nos ajudar fazendo simulações."
   ]
  },
  {
   "cell_type": "markdown",
   "metadata": {
    "slideshow": {
     "slide_type": "slide"
    }
   },
   "source": [
    "Simulações Computacionais são simulações realizadas em um computador para reproduzir o comportamento de um sistema.\n",
    "\n",
    "A simulação utiliza um abstrato que aproxima o comportamento real."
   ]
  },
  {
   "cell_type": "markdown",
   "metadata": {
    "slideshow": {
     "slide_type": "slide"
    }
   },
   "source": [
    "Uma técnica de simulação é conhecida como Monte Carlo em que medições aleatórios, seguindo certa distribuição, são realizadas.\n",
    "\n",
    "Vamos exemplificar com um jogo de dardos."
   ]
  },
  {
   "cell_type": "markdown",
   "metadata": {
    "slideshow": {
     "slide_type": "slide"
    }
   },
   "source": [
    "Primeiro vamos plotar uma circunferência de raio $0.5$, para isso precisamos definir uma função que retorne o lado superior e outra para o lado inferior:\n",
    "\n",
    "$$ \\pm \\sqrt{0.25 - (x-0.5)^{2}} + 0.5 $$"
   ]
  },
  {
   "cell_type": "code",
   "execution_count": 27,
   "metadata": {
    "collapsed": false,
    "slideshow": {
     "slide_type": "fragment"
    }
   },
   "outputs": [],
   "source": [
    "# Biblioteca matemática\n",
    "import math\n",
    "\n",
    "# Retorna parte superior e inferior da circunferencia\n",
    "def Circ(x):\n",
    "    return math.sqrt(0.25 - (x - 0.5)**2) + 0.5\n",
    "\n",
    "def CircNeg(x):\n",
    "    return -math.sqrt(0.25 - (x - 0.5)**2) + 0.5"
   ]
  },
  {
   "cell_type": "markdown",
   "metadata": {
    "slideshow": {
     "slide_type": "slide"
    }
   },
   "source": [
    "Agora criaremos uma função `PlotaCirculo()` que desenha uma circunferência na área de plotagem atual."
   ]
  },
  {
   "cell_type": "code",
   "execution_count": 31,
   "metadata": {
    "collapsed": false,
    "slideshow": {
     "slide_type": "fragment"
    }
   },
   "outputs": [],
   "source": [
    "# Biblioteca de plotagem\n",
    "%matplotlib inline\n",
    "import matplotlib.pyplot as plt\n",
    "from numpy import arange\n",
    "\n",
    "def PlotaCirculo():\n",
    "    # vamos fazer uma lista com valores de 0 até 1, de 0.01 em 0.01\n",
    "    Xc = arange(0,1.01,0.01)\n",
    "        \n",
    "    # Vamos aplicar as funções Circ e CircB nessa lista\n",
    "    Y1 = list(map(Circ, Xc))\n",
    "    Y2 = list(map(CircNeg, Xc))\n",
    "    \n",
    "    # Agora plota cada parte da circunferência com o comando plot\n",
    "    plt.plot(Xc,Y1, color='blue')    \n",
    "    plt.plot(Xc,Y2, color='blue')"
   ]
  },
  {
   "cell_type": "code",
   "execution_count": 32,
   "metadata": {
    "collapsed": false,
    "slideshow": {
     "slide_type": "slide"
    }
   },
   "outputs": [
    {
     "data": {
      "image/png": "[encoded data removed]",
      "text/plain": [
       "<matplotlib.figure.Figure at 0x7f318903ab38>"
      ]
     },
     "metadata": {},
     "output_type": "display_data"
    }
   ],
   "source": [
    "# configura a área de plotagem\n",
    "plt.figure(figsize=(5,5))  \n",
    "plt.axis([-0.1, 1.1, -0.1, 1.1])\n",
    "plt.style.use('fivethirtyeight')\n",
    "plt.hold(True)  # indica que queremos plotar várias figuras na mesma área    \n",
    "PlotaCirculo()"
   ]
  },
  {
   "cell_type": "markdown",
   "metadata": {
    "slideshow": {
     "slide_type": "slide"
    }
   },
   "source": [
    "Agora vamos criar uma função `PlotaAlvo(X, Y)` que recebe uma lista de pontos X e Y para plotar."
   ]
  },
  {
   "cell_type": "code",
   "execution_count": 34,
   "metadata": {
    "collapsed": false,
    "slideshow": {
     "slide_type": "slide"
    }
   },
   "outputs": [
    {
     "data": {
      "image/png": "[encoded data removed]",
      "text/plain": [
       "<matplotlib.figure.Figure at 0x7f31890cf630>"
      ]
     },
     "metadata": {},
     "output_type": "display_data"
    }
   ],
   "source": [
    "def PlotaAlvo(X,Y):\n",
    "    # Prepara área de plotagem\n",
    "    plt.figure(figsize=(5,5))  \n",
    "    plt.axis([-0.1, 1.1, -0.1, 1.1])\n",
    "    plt.style.use('fivethirtyeight')\n",
    "    plt.hold(True)\n",
    "    PlotaCirculo()\n",
    "    \n",
    "    # Se existirem pontos X e Y, plota eles\n",
    "    if len(X) > 0 and len(Y) > 0:\n",
    "        plt.plot(X,Y,'.', color='red') # o '.' indica que não quero ligar os pontos na plotagem\n",
    "    plt.show()\n",
    "\n",
    "PlotaAlvo([],[])"
   ]
  },
  {
   "cell_type": "markdown",
   "metadata": {
    "slideshow": {
     "slide_type": "slide"
    }
   },
   "source": [
    "O alvo pode ser definido como um círculo inscrito em um quadrado de tamanho 1 x 1.\n",
    "\n",
    "Se atirarmos os dardos aleatoriamente, teremos a mesma chance de atingir qualquer ponto dentro do quadrado."
   ]
  },
  {
   "cell_type": "markdown",
   "metadata": {
    "slideshow": {
     "slide_type": "slide"
    }
   },
   "source": [
    "Se atirarmos dardos suficientes, cobriremos o quadrado por completo.\n",
    "\n",
    "Contando quantos dardos caíram dentro do círculo, podemos estimar a área dele.\n",
    "\n",
    "Tendo a área do círculo e do quadrado temos que:\n",
    "\n",
    "$$\n",
    "Ac = \\pi r^2 \\\\\n",
    "Aq = L^2 = (2r)^2 = 4r^2 \\\\\n",
    "\\frac{Ac}{Aq} = \\frac{\\pi}{4} \\\\\n",
    "\\pi = 4\\frac{Ac}{Aq}\n",
    "$$"
   ]
  },
  {
   "cell_type": "markdown",
   "metadata": {
    "slideshow": {
     "slide_type": "slide"
    }
   },
   "source": [
    "O algoritmo de Monte Carlos funciona da seguinte forma:\n",
    "\n",
    "```\n",
    "dentro = 0\n",
    "Para i na faixa de 0 a N:\n",
    "    x, y = GeraPontos()\n",
    "    \n",
    "    Se DentroCirc(x, y):\n",
    "        dentro = dentro + 1\n",
    "\n",
    "retorna 4 * dentro / N\n",
    "```"
   ]
  },
  {
   "cell_type": "markdown",
   "metadata": {
    "slideshow": {
     "slide_type": "slide"
    }
   },
   "source": [
    "Sendo `dentro` uma variável utilizada para contar quantos pontos estão dentro da Circunferência.\n",
    "\n",
    "A função `GeraPontos()` gera dois pontos aleatórios e `DentroCirc(x,y)` checa se o ponto (x,y) está dentro da circunferência."
   ]
  },
  {
   "cell_type": "code",
   "execution_count": 42,
   "metadata": {
    "collapsed": false,
    "slideshow": {
     "slide_type": "slide"
    }
   },
   "outputs": [],
   "source": [
    "import random\n",
    "\n",
    "def GeraPontos():\n",
    "    return random.random(), random.random()\n",
    "\n",
    "def DentroCirc(x,y):\n",
    "    return (x-0.5)**2 + (y-0.5)**2 <= 0.25"
   ]
  },
  {
   "cell_type": "code",
   "execution_count": 43,
   "metadata": {
    "collapsed": true,
    "slideshow": {
     "slide_type": "slide"
    }
   },
   "outputs": [],
   "source": [
    "def MonteCarlo(N):\n",
    "    X = []\n",
    "    Y = []\n",
    "    dentro = 0\n",
    "    for i in range(N):\n",
    "        x, y = GeraPontos()\n",
    "        X.append(x)\n",
    "        Y.append(y)\n",
    "        \n",
    "        if DentroCirc(x,y):\n",
    "            dentro = dentro + 1\n",
    "            \n",
    "    return 4*dentro/N, X, Y"
   ]
  },
  {
   "cell_type": "code",
   "execution_count": 44,
   "metadata": {
    "collapsed": false,
    "slideshow": {
     "slide_type": "slide"
    }
   },
   "outputs": [
    {
     "name": "stdout",
     "output_type": "stream",
     "text": [
      "O valor de pi é  3.192\n"
     ]
    },
    {
     "data": {
      "image/png": "[encoded data removed]",
      "text/plain": [
       "<matplotlib.figure.Figure at 0x7f3188f410b8>"
      ]
     },
     "metadata": {},
     "output_type": "display_data"
    }
   ],
   "source": [
    "pi, X, Y = MonteCarlo(1000)\n",
    "print (\"O valor de pi é \", pi)\n",
    "PlotaAlvo(X,Y)"
   ]
  },
  {
   "cell_type": "markdown",
   "metadata": {
    "slideshow": {
     "slide_type": "slide"
    }
   },
   "source": [
    "### Opcional"
   ]
  },
  {
   "cell_type": "markdown",
   "metadata": {
    "slideshow": {
     "slide_type": "slide"
    }
   },
   "source": [
    "**Syntactic Sugar:** Podemos criar uma lista utilizando uma notação mais próxima da matemática:\n",
    "\n",
    "```\n",
    "ListaQuad = [ x*x for x in range(1,101)]\n",
    "```\n",
    "\n",
    "Esse formato de geração de lista é conhecido como **list comprehension** e pode ser combinado com instruções condicionais:\n",
    "\n",
    "```\n",
    "ListaQuadImpar = [x*x for x in range(1,101) if (x*x) % 2 == 1]\n",
    "```"
   ]
  },
  {
   "cell_type": "code",
   "execution_count": 42,
   "metadata": {
    "collapsed": false,
    "slideshow": {
     "slide_type": "slide"
    }
   },
   "outputs": [
    {
     "name": "stdout",
     "output_type": "stream",
     "text": [
      "[1, 4, 9, 16, 25, 36, 49, 64, 81, 100]\n",
      "[1, 9, 25, 49, 81]\n"
     ]
    }
   ],
   "source": [
    "ListaQuad = [ x*x for x in range(1,11)]\n",
    "ListaQuadImpar = [x*x for x in range(1,11) if (x*x) % 2 == 1]\n",
    "\n",
    "print (ListaQuad)\n",
    "print (ListaQuadImpar)"
   ]
  },
  {
   "cell_type": "markdown",
   "metadata": {
    "slideshow": {
     "slide_type": "slide"
    }
   },
   "source": [
    "O comando `sum()` calcula a somatória dos elementos numéricos de uma lista.\n",
    "\n",
    "O comando `zip(Lista1, Lista2)` cria uma lista de duplas combinando as duas listas passadas como parâmetros."
   ]
  },
  {
   "cell_type": "code",
   "execution_count": 30,
   "metadata": {
    "collapsed": false,
    "slideshow": {
     "slide_type": "slide"
    }
   },
   "outputs": [
    {
     "name": "stdout",
     "output_type": "stream",
     "text": [
      "[(1, 4), (2, 5), (3, 6)]\n",
      "5\n",
      "7\n",
      "9\n",
      "6 15\n"
     ]
    }
   ],
   "source": [
    "X = [1,2,3]\n",
    "Y = [4,5,6]\n",
    "print(list(zip(X,Y)))\n",
    "\n",
    "for x,y in zip(X,Y):\n",
    "    print(x+y)\n",
    "    \n",
    "print (sum(X), sum(Y))"
   ]
  },
  {
   "cell_type": "code",
   "execution_count": 45,
   "metadata": {
    "collapsed": false,
    "slideshow": {
     "slide_type": "slide"
    }
   },
   "outputs": [
    {
     "name": "stdout",
     "output_type": "stream",
     "text": [
      "O valor de pi é  3.164\n"
     ]
    },
    {
     "data": {
      "image/png": "[encoded data removed]",
      "text/plain": [
       "<matplotlib.figure.Figure at 0x7f3189268c18>"
      ]
     },
     "metadata": {},
     "output_type": "display_data"
    }
   ],
   "source": [
    "def MonteCarlo(N):\n",
    "    dentro = 0\n",
    "    X=[random.random() for _ in range(N)]\n",
    "    Y=[random.random() for _ in range(N)]\n",
    "    pontosDentro = [1 for x,y in zip(X,Y) if DentroCirc(x,y)]\n",
    "    pi = 4.0*sum( pontosDentro)/N\n",
    "    return pi, X, Y \n",
    "\n",
    "pi, X, Y = MonteCarlo(1000)\n",
    "print (\"O valor de pi é \", pi)\n",
    "PlotaAlvo(X,Y)"
   ]
  }
 ],
 "metadata": {
  "celltoolbar": "Slideshow",
  "kernelspec": {
   "display_name": "Python 3",
   "language": "python",
   "name": "python3"
  },
  "language_info": {
   "codemirror_mode": {
    "name": "ipython",
    "version": 3
   },
   "file_extension": ".py",
   "mimetype": "text/x-python",
   "name": "python",
   "nbconvert_exporter": "python",
   "pygments_lexer": "ipython3",
   "version": "3.5.1"
  }
 },
 "nbformat": 4,
 "nbformat_minor": 0
}
