{
 "cells": [
  {
   "cell_type": "markdown",
   "metadata": {},
   "source": [
    "**Exercício 1:** Crie três funções:\n",
    "\n",
    "1) Uma função chamada `VerificaTriangulo()` que recebe como parâmetro o comprimento dos três lados de um possível triângulo. Essa função deve retornar `True` caso esses comprimentos podem formar um triângulo e `False` caso contrário. \n",
    "\n",
    "Para 3 segmentos com comprimento *x*, *y* e *z*, respectivamente, formarem um triângulo, eles devem obdecer a TODAS as seguintes condições:\n",
    "\n",
    "* x + y > z\n",
    "* x + z > y\n",
    "* y + z > x\n",
    "\n",
    "2) Uma função chamada `TipoTriangulo()` que recebe os mesmos parâmetros e retorna o tipo de triângulo que os segmentos formariam:\n",
    "\n",
    "* `\"equilátero\"` se os três lados forem iguais\n",
    "* `\"isóceles\"` se dois dos três lados forem iguais\n",
    "* `\"escaleno\"` se os três lados forem diferentes\n",
    "\n",
    "3) Uma função chamada `Triangulo()` que também receberá os mesmos parâmetros e retornará o tipo de triângulo, caso os segmentos formem um, ou a string `\"não é triângulo\"`, caso contrário."
   ]
  },
  {
   "cell_type": "code",
   "execution_count": 1,
   "metadata": {
    "collapsed": false
   },
   "outputs": [
    {
     "name": "stdout",
     "output_type": "stream",
     "text": [
      "equilátero\n",
      "isóceles\n",
      "escaleno\n",
      "não é triângulo\n"
     ]
    }
   ],
   "source": [
    "\n",
    "\n",
    "\n",
    "\n",
    "\n",
    "\n",
    "\n",
    "\n",
    "    \n",
    "print (Triangulo(5,5,5)) # equilatero\n",
    "print (Triangulo(5,5,7)) # isóceles\n",
    "print (Triangulo(3,4,5)) # escaleno\n",
    "print (Triangulo(5,5,11)) # não é triângulo"
   ]
  },
  {
   "cell_type": "markdown",
   "metadata": {},
   "source": [
    "**Exercício 2:** Crie uma função para determinar se um ano é bissexto. \n",
    "\n",
    "O ano é bissexto se for múltiplo de 400 ou múltiplo de 4 e não múltiplo de 100. Utilize o operador de resto da divisão (`%`) para determinar se um número é múltiplo de outro."
   ]
  },
  {
   "cell_type": "code",
   "execution_count": 72,
   "metadata": {
    "collapsed": false
   },
   "outputs": [
    {
     "name": "stdout",
     "output_type": "stream",
     "text": [
      "True\n",
      "True\n",
      "False\n"
     ]
    }
   ],
   "source": [
    "\n",
    "\n",
    "\n",
    "\n",
    "\n",
    "print (Bissexto(2000)) # True\n",
    "print (Bissexto(2004)) # True\n",
    "print (Bissexto(1900)) # False"
   ]
  },
  {
   "cell_type": "markdown",
   "metadata": {},
   "source": [
    "**Exercício 3:** Crie uma função que receba três valores *x*, *y*, *z* como parâmetros e retorne-os em ordem crescente.\n",
    "\n",
    "O Python permite que você faça comparações relacionais entre as 3 variáveis em uma única instrução:\n",
    "\n",
    "```Python\n",
    "x < y < z\n",
    "```"
   ]
  },
  {
   "cell_type": "code",
   "execution_count": 13,
   "metadata": {
    "collapsed": false
   },
   "outputs": [
    {
     "name": "stdout",
     "output_type": "stream",
     "text": [
      "(1, 2, 3)\n",
      "(1, 2, 3)\n",
      "(1, 2, 3)\n",
      "(1, 2, 3)\n",
      "(1, 2, 3)\n",
      "(1, 2, 3)\n",
      "(1, 2, 2)\n"
     ]
    }
   ],
   "source": [
    "\n",
    "\n",
    "\n",
    "\n",
    "\n",
    "\n",
    "\n",
    "print (Crescente(1,2,3))\n",
    "print (Crescente(1,3,2))\n",
    "print (Crescente(2,1,3))\n",
    "print (Crescente(2,3,1))\n",
    "print (Crescente(3,1,2))\n",
    "print (Crescente(3,2,1))\n",
    "print (Crescente(1,2,2))"
   ]
  },
  {
   "cell_type": "markdown",
   "metadata": {},
   "source": [
    "**Exercício 4:** O peso ideial de uma pessoa segue a seguinte tabela:\n",
    "\n",
    "|Altura|Peso Homem|Peso Mulher|\n",
    "|--|--|--|\n",
    "|1,5 m|50 kg|48 kg|\n",
    "|1,7 m|74 kg|68 kg|\n",
    "|1,9 m|98 kg|88 kg|\n",
    "|2,1 m|122 kg|108 kg|\n",
    "\n",
    "Faça uma função que receba como parâmetro o gênero, altura e peso da pessoa e retorne `True` se ela está com o peso ideal."
   ]
  },
  {
   "cell_type": "code",
   "execution_count": 75,
   "metadata": {
    "collapsed": false
   },
   "outputs": [
    {
     "name": "stdout",
     "output_type": "stream",
     "text": [
      "True\n",
      "False\n",
      "False\n",
      "True\n"
     ]
    }
   ],
   "source": [
    "\n",
    "\n",
    "\n",
    "\n",
    "\n",
    "\n",
    "\n",
    "\n",
    "\n",
    "\n",
    "\n",
    "\n",
    "\n",
    "\n",
    "\n",
    "\n",
    "\n",
    "print (PesoIdeal(\"masculino\", 1.87, 75)) # True\n",
    "print (PesoIdeal(\"masculino\", 1.92, 200)) # False\n",
    "print (PesoIdeal(\"feminino\", 1.87, 90)) # False\n",
    "print (PesoIdeal(\"feminino\", 1.6, 40)) # True"
   ]
  },
  {
   "cell_type": "markdown",
   "metadata": {},
   "source": [
    "**Exercício 5:** Crie uma função que receba as coordenadas *cx*, *cy*, o raio *r* correspondentes ao centro e raio de uma circunferência e receba também coordenadas *x*, *y* de um ponto.\n",
    "\n",
    "A função deve retornar `True` se o ponto está dentro da circunferência e `False`, caso contrário."
   ]
  },
  {
   "cell_type": "code",
   "execution_count": 80,
   "metadata": {
    "collapsed": false
   },
   "outputs": [
    {
     "name": "stdout",
     "output_type": "stream",
     "text": [
      "True\n",
      "False\n"
     ]
    }
   ],
   "source": [
    "\n",
    "\n",
    "\n",
    "\n",
    "\n",
    "\n",
    "    \n",
    "print (Circunferencia(0,0,10,5,5) ) # True\n",
    "print (Circunferencia(0,0,10,15,5))  # False"
   ]
  },
  {
   "cell_type": "markdown",
   "metadata": {},
   "source": [
    "**Exercício 5b:** Crie uma função chamada `Circunferencia` que recebe como entrada as coordenadas do centro `cx` e `cy` e o raio `r` da circunferência. Essa função deve criar uma outra função chamada `VerificaPonto` que recebe como entrada as coordenadas `x` e `y` de um ponto e retorna `True` caso o ponto esteja dentro da circunferência, ou `False` caso contrário. \n",
    "\n",
    "A função `Circunferencia` deve retornar a função `Verifica`."
   ]
  },
  {
   "cell_type": "code",
   "execution_count": 4,
   "metadata": {
    "collapsed": false
   },
   "outputs": [
    {
     "name": "stdout",
     "output_type": "stream",
     "text": [
      "True\n",
      "False\n"
     ]
    }
   ],
   "source": [
    "\n",
    "\n",
    "\n",
    "\n",
    "Verifica = Circunferencia(0,0,10)\n",
    "print (Verifica(5,5))\n",
    "print (Verifica(15,5))"
   ]
  },
  {
   "cell_type": "markdown",
   "metadata": {},
   "source": [
    "**Exercício 6:**\n",
    "\n",
    "A Estrela da Morte é uma arma desenvolvida pelo império para dominar o universo.\n",
    "\n",
    "![EstrelaMorte](images/DeathStar.jpg)\n",
    "\n",
    "Um telescópio digital foi desenvolvido pelas forças rebeldes para detectar o local dela.\n",
    "\n",
    "Mas tal telescópio só consegue mostrar o contorno das circunferências encontradas indicando o centro e o raio delas.\n",
    "\n",
    "Sabendo que uma Estrela da Morte é definida por:\n",
    "\n",
    "* O raio de uma circunferência for 10 vezes maior que o raio da outra\n",
    "* A circunferência menor se encontrar totalmente dentro da maior\n",
    "* O contorno da circunferência menor está a pelo menos 2 unidades de distância do contorno da maior\n",
    "\n",
    "Faça uma função (utilizando os exercícios anteriores), para detectar se duas circunferências definidas por (cx1,cy1,r1) e (cx2,cy2,r2) podem formar uma Estrela da Morte.\n",
    "\n",
    "**Bônus:** plote as circunferências utilizando a biblioteca gráfica."
   ]
  },
  {
   "cell_type": "code",
   "execution_count": 95,
   "metadata": {
    "collapsed": false
   },
   "outputs": [
    {
     "name": "stdout",
     "output_type": "stream",
     "text": [
      "False\n",
      "True\n",
      "False\n"
     ]
    }
   ],
   "source": [
    "import math\n",
    "\n",
    "\n",
    "\n",
    "\n",
    "\n",
    "\n",
    "\n",
    "\n",
    "\n",
    "\n",
    "\n",
    "print (EstrelaMorte(0,0,20,3,3,10))\n",
    "print (EstrelaMorte(0,0,200,3,3,10))\n",
    "print (EstrelaMorte(0,0,200,195,3,10))"
   ]
  },
  {
   "cell_type": "markdown",
   "metadata": {},
   "source": [
    "**Exercício 7:** Crie uma função para determinar as raízes reais da equação do segundo grau:\n",
    "\n",
    "$$\n",
    "a.x^{2} + b.x + c = 0\n",
    "$$\n",
    "\n",
    "Faça com que a função retorne:\n",
    "\n",
    "* Uma raíz quando $b^2 = 4*a*c$\n",
    "* Raízes complexas quando $b^2 < 4*a*c$\n",
    "* Raízes reais, caso contrário\n",
    "\n",
    "Utilize a biblioteca `cmath` para calcular a raíz quadrada para números complexos."
   ]
  },
  {
   "cell_type": "code",
   "execution_count": 112,
   "metadata": {
    "collapsed": false
   },
   "outputs": [
    {
     "name": "stdout",
     "output_type": "stream",
     "text": [
      "-1.0\n",
      "((-0.5-0.8660254037844386j), (-0.5+0.8660254037844386j))\n",
      "(-2.618033988749895, -0.3819660112501051)\n"
     ]
    }
   ],
   "source": [
    "import math, cmath\n",
    "\n",
    "\n",
    "\n",
    "\n",
    "\n",
    "\n",
    "\n",
    "\n",
    "\n",
    "print (RaizSegundoGrau(2,4,2) ) # -1.0\n",
    "print (RaizSegundoGrau(2,2,2))  # -0.5 - 0.9j, -0.5+0.9j\n",
    "print (RaizSegundoGrau(2,6,2))  # -2.6, -0.38"
   ]
  },
  {
   "cell_type": "code",
   "execution_count": null,
   "metadata": {
    "collapsed": false
   },
   "outputs": [],
   "source": []
  }
 ],
 "metadata": {
  "kernelspec": {
   "display_name": "Python 3",
   "language": "python",
   "name": "python3"
  },
  "language_info": {
   "codemirror_mode": {
    "name": "ipython",
    "version": 3
   },
   "file_extension": ".py",
   "mimetype": "text/x-python",
   "name": "python",
   "nbconvert_exporter": "python",
   "pygments_lexer": "ipython3",
   "version": "3.5.1"
  }
 },
 "nbformat": 4,
 "nbformat_minor": 0
}
