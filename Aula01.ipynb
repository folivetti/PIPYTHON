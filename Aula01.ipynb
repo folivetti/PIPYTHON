{
 "metadata": {
  "name": "",
  "signature": "sha256:57430ec971335c83dd8f77f901f5932c6285252edd66915006c9433724fa8ce6"
 },
 "nbformat": 3,
 "nbformat_minor": 0,
 "worksheets": [
  {
   "cells": [
    {
     "cell_type": "code",
     "collapsed": false,
     "input": [
      "# ignore esse c\u00f3digo inicial, \u00e9 apenas para preparar a p\u00e1gina\n",
      "from IPython.display import YouTubeVideo, HTML, Image, display\n",
      "css_file = './modelo.css'\n",
      "HTML(open(css_file, \"r\").read())"
     ],
     "language": "python",
     "metadata": {},
     "outputs": [
      {
       "html": [
        "<style>\n",
        "\n",
        "@font-face {\n",
        "    font-family: \"Computer Modern\";\n",
        "    src: url('http://mirrors.ctan.org/fonts/cm-unicode/fonts/otf/cmunss.otf');\n",
        "}\n",
        "\n",
        "#notebook_panel { /* main background */\n",
        "    background: #888;\n",
        "    color: #f6f6f6;\n",
        "}\n",
        "\n",
        "div.cell { /* set cell width to about 80 chars */\n",
        "    width: 900px;\n",
        "}\n",
        "\n",
        "div #notebook { /* centre the content */\n",
        "    background: #fff; /* white background for content */\n",
        "    width: 1000px;\n",
        "    margin: auto;\n",
        "    padding-left: 1em;\n",
        "}\n",
        "\n",
        "#notebook li { /* More space between bullet points */\n",
        "margin-top:0.8em;\n",
        "}\n",
        "/* draw border around running cells */\n",
        "div.cell.border-box-sizing.code_cell.running {\n",
        "    border: 3px solid #111;\n",
        "}\n",
        "/* Put a solid color box around each cell and its output, visually linking them together */\n",
        "div.cell.code_cell {\n",
        "    background-color: rgba(171,165,131,0.3); \n",
        "    border-radius: 10px; /* rounded borders */\n",
        "    padding: 1em;\n",
        "    margin-top: 1em;\n",
        "}\n",
        "div.text_cell_render{\n",
        "    font-family: 'Arvo' sans-serif;\n",
        "    line-height: 130%;\n",
        "    font-size: 115%;\n",
        "    width:700px;\n",
        "    margin-left:auto;\n",
        "    margin-right:auto;\n",
        "}\n",
        "/* Formatting for header cells */\n",
        ".text_cell_render h1 {\n",
        "    font-family: 'Philosopher', sans-serif;\n",
        "    font-weight: 400;\n",
        "    font-size: 64pt;\n",
        "    line-height: 100%;\n",
        "    color: rgb(12,85,97);\n",
        "    margin-bottom: 0.1em;\n",
        "    margin-top: 0.1em;\n",
        "    display: block;\n",
        "}\n",
        "\n",
        ".text_cell_render h2 {\n",
        "    font-family: 'Philosopher', serif;\n",
        "    font-weight: 700;\n",
        "    font-size: 24pt;\n",
        "    line-height: 100%;\n",
        "    color: rgb(171,165,131);\n",
        "    margin-bottom: 0.1em;\n",
        "    margin-top: 0.1em;\n",
        "    display: block;\n",
        "}    \n",
        "\n",
        ".text_cell_render h3 {\n",
        "    font-family: 'Philosopher', serif;\n",
        "    margin-top:12px;\n",
        "    margin-bottom: 3px;\n",
        "    font-style: italic;\n",
        "    color: rgb(95,92,72);\n",
        "}\n",
        "\n",
        ".text_cell_render h4 {\n",
        "    font-family: 'Philosopher', serif;\n",
        "}\n",
        "\n",
        ".text_cell_render h5 {\n",
        "    font-family: 'Alegreya Sans', sans-serif;\n",
        "    font-weight: 300;\n",
        "    font-size: 16pt;\n",
        "    color: grey;\n",
        "    font-style: italic;\n",
        "    margin-bottom: .1em;\n",
        "    margin-top: 0.1em;\n",
        "    display: block;\n",
        "}\n",
        "\n",
        ".text_cell_render h6 {\n",
        "    font-family: 'PT Mono', sans-serif;\n",
        "    font-weight: 300;\n",
        "    font-size: 10pt;\n",
        "    color: grey;\n",
        "    margin-bottom: 1px;\n",
        "    margin-top: 1px;\n",
        "}\n",
        ".CodeMirror{\n",
        "        font-family: \"PT Mono\";\n",
        "        font-size: 100%;\n",
        "}\n",
        "</style>\n"
       ],
       "metadata": {},
       "output_type": "pyout",
       "prompt_number": 1,
       "text": [
        "<IPython.core.display.HTML at 0x7f7bd4520850>"
       ]
      }
     ],
     "prompt_number": 1
    },
    {
     "cell_type": "heading",
     "level": 1,
     "metadata": {},
     "source": [
      "Introdu\u00e7\u00e3o \u00e0 Programa\u00e7\u00e3o em Python"
     ]
    },
    {
     "cell_type": "heading",
     "level": 2,
     "metadata": {},
     "source": [
      "T\u00f3picos"
     ]
    },
    {
     "cell_type": "markdown",
     "metadata": {},
     "source": [
      "* Opera\u00e7\u00f5es Aritm\u00e9ticas\n",
      "* Vari\u00e1veis e Tipos\n",
      "* Entrada e sa\u00edda de dados\n",
      "* Bibliotecas Extras"
     ]
    },
    {
     "cell_type": "heading",
     "level": 2,
     "metadata": {},
     "source": [
      "Opera\u00e7\u00f5es Aritm\u00e9ticas"
     ]
    },
    {
     "cell_type": "markdown",
     "metadata": {},
     "source": [
      "O computador \u00e9 essencialmente uma m\u00e1quina de calcular. Para tanto temos diversas opera\u00e7\u00f5es aritm\u00e9ticas dispon\u00edveis no Python:\n",
      "\n",
      "* soma (`+`): `1+2`\n",
      "* subtra\u00e7\u00e3o (`-`): `2-1`\n",
      "* multiplica\u00e7\u00e3o (`*`): `3*5`\n",
      "* divis\u00e3o (`/`): `7/2`\n",
      "* exponencia\u00e7\u00e3o (`**`): `2**3`\n",
      "* resto da divis\u00e3o (`%`): `5%2`\n",
      "\n",
      "Al\u00e9m disso temos dispon\u00edvel o comando `print` para mostrar na tela os resultados dessas opera\u00e7\u00f5es:\n",
      "\n",
      "```python\n",
      "print 1+2 # imprime o valor 3 na tela\n",
      "```\n",
      "\n",
      "Nota: Todo texto ap\u00f3s `#` se torna um coment\u00e1rio e n\u00e3o \u00e9 interpretado pelo computador."
     ]
    },
    {
     "cell_type": "code",
     "collapsed": false,
     "input": [
      "print 1+2\n",
      "print 2-1\n",
      "print 3*5\n",
      "print 7/2\n",
      "print 2**3\n",
      "print 5%2"
     ],
     "language": "python",
     "metadata": {},
     "outputs": [
      {
       "output_type": "stream",
       "stream": "stdout",
       "text": [
        "3\n",
        "1\n",
        "15\n",
        "3\n",
        "8\n",
        "1\n"
       ]
      }
     ],
     "prompt_number": 60
    },
    {
     "cell_type": "markdown",
     "metadata": {},
     "source": [
      "Repare que a opera\u00e7\u00e3o 7/2 retorna um n\u00famero inteiro, para retornar um valor real pelo menos um dos dois n\u00fameros tamb\u00e9m deve ser real."
     ]
    },
    {
     "cell_type": "code",
     "collapsed": false,
     "input": [
      "print 7/2.0"
     ],
     "language": "python",
     "metadata": {},
     "outputs": [
      {
       "output_type": "stream",
       "stream": "stdout",
       "text": [
        "3.5\n"
       ]
      }
     ],
     "prompt_number": 6
    },
    {
     "cell_type": "markdown",
     "metadata": {},
     "source": [
      "Note que a ordem que as opera\u00e7\u00f5es s\u00e3o executadas seguem uma ordem de preced\u00eancia, primeiro as opera\u00e7\u00f5es de divis\u00e3o e multiplica\u00e7\u00e3o, em seguida adi\u00e7\u00e3o e subtra\u00e7\u00e3o. Isso pode ser definido tamb\u00e9m atrav\u00e9s do uso de par\u00eanteses."
     ]
    },
    {
     "cell_type": "code",
     "collapsed": false,
     "input": [
      "print 1 + 2 * 3\n",
      "print (1+2)*3\n",
      "print 1 + (2*3)"
     ],
     "language": "python",
     "metadata": {},
     "outputs": [
      {
       "output_type": "stream",
       "stream": "stdout",
       "text": [
        "7\n",
        "9\n",
        "7\n"
       ]
      }
     ],
     "prompt_number": 36
    },
    {
     "cell_type": "markdown",
     "metadata": {},
     "source": [
      "Al\u00e9m das opera\u00e7\u00f5es b\u00e1sicas temos algumas opera\u00e7\u00f5es mais complexas dispon\u00edveis como padr\u00e3o. Para us\u00e1-las utilizamos a biblioteca `math`. Indicamos isso para o computador com o comando `import math`.\n",
      "\n",
      "Os comandos dispon\u00edveis podem ser consultados na [documenta\u00e7\u00e3o](https://docs.python.org/2/library/math.html)."
     ]
    },
    {
     "cell_type": "code",
     "collapsed": false,
     "input": [
      "import math\n",
      "\n",
      "print math.sqrt(2.0) # raiz de 2\n",
      "print math.exp(1.0), math.log(10) # e^1 e ln(10)\n",
      "print math.log(math.exp(1.0)) # ln(e)\n",
      "print math.cos(math.pi) # cos(pi)"
     ],
     "language": "python",
     "metadata": {},
     "outputs": [
      {
       "output_type": "stream",
       "stream": "stdout",
       "text": [
        "1.41421356237\n",
        "2.71828182846 2.30258509299\n",
        "1.0\n",
        "-1.0\n"
       ]
      }
     ],
     "prompt_number": 2
    },
    {
     "cell_type": "markdown",
     "metadata": {},
     "source": [
      "Os tipos num\u00e9ricos em Python s\u00e3o chamados de `int`, para n\u00fameros inteiros, e `float` para n\u00fameros reais. \n",
      "\n",
      "Complete o c\u00f3digo abaixo no *Interactive Python* e clique em *Run* para conferir se a sa\u00edda est\u00e1 correta:"
     ]
    },
    {
     "cell_type": "code",
     "collapsed": false,
     "input": [
      "# Exerc\u00edcio 01\n",
      "HTML('<iframe src=\"https://trinket.io/embed/python/e8b89a2de1\" width=\"100%\" height=\"400\" frameborder=\"0\" marginwidth=\"0\" marginheight=\"0\" allowfullscreen></iframe>')"
     ],
     "language": "python",
     "metadata": {},
     "outputs": [
      {
       "html": [
        "<iframe src=\"https://trinket.io/embed/python/e8b89a2de1\" width=\"100%\" height=\"400\" frameborder=\"0\" marginwidth=\"0\" marginheight=\"0\" allowfullscreen></iframe>"
       ],
       "metadata": {},
       "output_type": "pyout",
       "prompt_number": 7,
       "text": [
        "<IPython.core.display.HTML at 0x7f7bd4520150>"
       ]
      }
     ],
     "prompt_number": 7
    },
    {
     "cell_type": "markdown",
     "metadata": {},
     "source": [
      "Os valores `nan` representam que o resultado n\u00e3o \u00e9 um valor num\u00e9rico v\u00e1lido, tendo sido ocasionado pelo c\u00e1lculo de `log(0.0)`."
     ]
    },
    {
     "cell_type": "heading",
     "level": 2,
     "metadata": {},
     "source": [
      "Vari\u00e1veis"
     ]
    },
    {
     "cell_type": "markdown",
     "metadata": {},
     "source": [
      "Se quisermos fazer um programa que calcula a m\u00e9dia aritm\u00e9tica entre dois n\u00fameros precisamos seguir os seguintes passos:\n",
      "\n",
      "* Dados dois n\u00fameros\n",
      "* Calcule a soma deles\n",
      "* Divida o resultado por 2\n",
      "\n",
      "Se soubermos quais s\u00e3o esses dois n\u00fameros, digamos que s\u00e3o 2 e 3, basta escrevermos o seguinte c\u00f3digo:\n",
      "\n",
      "```python\n",
      "print (2+3)/2.0\n",
      "```\n",
      "\n",
      "Por\u00e9m seria interessante generalizar nosso algoritmo para quaisquer dois valores *x* e *y*. Da mesma forma que na matem\u00e1tica, podemos utilizar vari\u00e1veis para generalizar uma express\u00e3o e alterar apenas os valores de tais vari\u00e1veis. No computador, tais vari\u00e1veis armazenam valores em mem\u00f3ria para uso posterior.\n",
      "\n",
      "Para utilizarmos vari\u00e1veis no Python basta dar um nome a ela e, em seguida, atribuir um valor utilizando o operador `=`:\n",
      "\n",
      "```python\n",
      "# o computador armazena o valor 10 na vari\u00e1vel de nome x\n",
      "x = 10 \n",
      "```\n",
      "\n",
      "Uma vez que tal vari\u00e1vel tem um valor, podemos realizar qualquer opera\u00e7\u00e3o com ela:"
     ]
    },
    {
     "cell_type": "code",
     "collapsed": false,
     "input": [
      "x = 10\n",
      "print x + 2\n",
      "print x * 3"
     ],
     "language": "python",
     "metadata": {},
     "outputs": [
      {
       "output_type": "stream",
       "stream": "stdout",
       "text": [
        "12\n",
        "30\n"
       ]
      }
     ],
     "prompt_number": 41
    },
    {
     "cell_type": "markdown",
     "metadata": {},
     "source": [
      "Dessa forma o nosso programa de m\u00e9dia poderia ficar da seguinte forma:"
     ]
    },
    {
     "cell_type": "code",
     "collapsed": false,
     "input": [
      "x = 2\n",
      "y = 3\n",
      "print (x+y)/2.0"
     ],
     "language": "python",
     "metadata": {},
     "outputs": [
      {
       "output_type": "stream",
       "stream": "stdout",
       "text": [
        "2.5\n"
       ]
      }
     ],
     "prompt_number": 42
    },
    {
     "cell_type": "markdown",
     "metadata": {},
     "source": [
      "Ao alterar os valores de `x` e `y`, o programa retorna o resultado da nova m\u00e9dia.\n",
      "Podemos pedir que o usu\u00e1rio entre com os valores utilizando o comando `input()`.\n",
      "\n",
      "Esse comando vai esperar que o usu\u00e1rio digite algum valor e o atribuir\u00e1 em uma vari\u00e1vel."
     ]
    },
    {
     "cell_type": "code",
     "collapsed": false,
     "input": [
      "x = input(\"digite o primeiro valor: \")\n",
      "y = input(\"digite o segundo valor: \")\n",
      "print (x+y)/2.0"
     ],
     "language": "python",
     "metadata": {},
     "outputs": [
      {
       "name": "stdout",
       "output_type": "stream",
       "stream": "stdout",
       "text": [
        "digite o primeiro valor: 2\n"
       ]
      },
      {
       "name": "stdout",
       "output_type": "stream",
       "stream": "stdout",
       "text": [
        "digite o segundo valor: 3\n"
       ]
      },
      {
       "output_type": "stream",
       "stream": "stdout",
       "text": [
        "2.5\n"
       ]
      }
     ],
     "prompt_number": 6
    },
    {
     "cell_type": "heading",
     "level": 2,
     "metadata": {},
     "source": [
      "Outros tipos de dados"
     ]
    },
    {
     "cell_type": "markdown",
     "metadata": {},
     "source": [
      "Al\u00e9m dos tipos n\u00famericos int e float tamb\u00e9m podemos escrever n\u00fameros complexos da seguinte forma:\n",
      "\n",
      "`2+3j`\n",
      "\n",
      "As opera\u00e7\u00f5es b\u00e1sicas funcionam tamb\u00e9m para esse tipo."
     ]
    },
    {
     "cell_type": "code",
     "collapsed": false,
     "input": [
      "x = 2+3j\n",
      "y = 5+2j\n",
      "print x + y\n",
      "print x*y"
     ],
     "language": "python",
     "metadata": {},
     "outputs": [
      {
       "output_type": "stream",
       "stream": "stdout",
       "text": [
        "(7+5j)\n",
        "(4+19j)\n"
       ]
      }
     ],
     "prompt_number": 7
    },
    {
     "cell_type": "markdown",
     "metadata": {},
     "source": [
      "Para as fun\u00e7\u00f5es avan\u00e7adas devemos utilizar a biblioteca [cmath](https://docs.python.org/2/library/cmath.html).:"
     ]
    },
    {
     "cell_type": "code",
     "collapsed": false,
     "input": [
      "import cmath\n",
      "cmath.sqrt(-2)"
     ],
     "language": "python",
     "metadata": {},
     "outputs": [
      {
       "metadata": {},
       "output_type": "pyout",
       "prompt_number": 17,
       "text": [
        "1.4142135623730951j"
       ]
      }
     ],
     "prompt_number": 17
    },
    {
     "cell_type": "markdown",
     "metadata": {},
     "source": [
      "Al\u00e9m dos tipos num\u00e9ricos temos tamb\u00e9m os tipos l\u00f3gicos que podem conter o valor de verdadeiro (`True`) ou falso (`False`). Esses valores s\u00e3o gerados atrav\u00e9s de operadores relacionais:\n",
      "\n",
      "* Igualdade: `1 == 2` => `False`\n",
      "* Desigualdade: `1 != 2` => `True`\n",
      "* Maior e Maior ou igual: `1 > 2`, `1 >= 2` => `False`\n",
      "* Menor e Menor ou igual: `1 < 2`, `1 <= 2` => `True`\n",
      "\n",
      "E compostos com operadores booleanos:\n",
      "\n",
      "* E: `True and False` => `False`\n",
      "* Ou: `True or False` => `True`\n",
      "* N\u00e3o: `not True` => `False`"
     ]
    },
    {
     "cell_type": "code",
     "collapsed": false,
     "input": [
      "x = 1\n",
      "y = 2\n",
      "print x == y\n",
      "print x != y\n",
      "print x > y\n",
      "print x < y\n",
      "print x >= y\n",
      "print x <= y\n",
      "print x >= y or x != y\n",
      "print x <= y and x != y # x < y?\n",
      "print x <= y and not (x != y) # x >= y e x == y ==> x == y?"
     ],
     "language": "python",
     "metadata": {},
     "outputs": [
      {
       "output_type": "stream",
       "stream": "stdout",
       "text": [
        "False\n",
        "True\n",
        "False\n",
        "True\n",
        "False\n",
        "True\n",
        "True\n",
        "True\n",
        "False\n"
       ]
      }
     ],
     "prompt_number": 54
    },
    {
     "cell_type": "markdown",
     "metadata": {},
     "source": [
      "Temos tamb\u00e9m a op\u00e7\u00e3o de trabalhar com textos, ou *strings*, caracterizados por aspas simples ou duplas e capazes de manipular textos de diversas formas. Podemos usar os operadores `+` e `*`, representando concatena\u00e7\u00e3o e repeti\u00e7\u00e3o:"
     ]
    },
    {
     "cell_type": "code",
     "collapsed": false,
     "input": [
      "ola = \"Ol\u00e1\"\n",
      "espaco = \" \"\n",
      "mundo = \"Mundo\"\n",
      "print ola + espaco + mundo\n",
      "print (ola + espaco) * 6 + mundo"
     ],
     "language": "python",
     "metadata": {},
     "outputs": [
      {
       "output_type": "stream",
       "stream": "stdout",
       "text": [
        "Ol\u00e1 Mundo\n",
        "Ol\u00e1 Ol\u00e1 Ol\u00e1 Ol\u00e1 Ol\u00e1 Ol\u00e1 Mundo\n"
       ]
      }
     ],
     "prompt_number": 6
    },
    {
     "cell_type": "markdown",
     "metadata": {},
     "source": [
      "Existem maneiras mais interessantes de construir uma `string` que veremos futuramente.\n",
      "\n",
      "E, finalmente, podemos criar uma lista de valores, colocando todos eles entre colchetes separados por v\u00edrgula. Nessa lista podemos colocar qualquer um dos tipos acima, inclusive misturando-os."
     ]
    },
    {
     "cell_type": "code",
     "collapsed": false,
     "input": [
      "lista = [1,2,3.0,'batata',True]\n",
      "print lista, len(lista) # len = tamanho da lista"
     ],
     "language": "python",
     "metadata": {},
     "outputs": [
      {
       "output_type": "stream",
       "stream": "stdout",
       "text": [
        "[1, 2, 3.0, 'batata', True] 5\n"
       ]
      }
     ],
     "prompt_number": 4
    },
    {
     "cell_type": "markdown",
     "metadata": {},
     "source": [
      "Para acessar um elemento da lista utilizamos `[i]`, com `i` sendo o elemento que queremos acessar. A contagem do \u00edndice do elemento come\u00e7a do 0.\n",
      "Isso tamb\u00e9m funciona para strings. Adicionalmente podemos utilizar faixa de valores usando [i:j] em que retornar\u00e1 os elementos entre [i,j[, excluindo o j."
     ]
    },
    {
     "cell_type": "code",
     "collapsed": false,
     "input": [
      "print lista[0]  # imprime o primeiro elemento da lista\n",
      "print lista[0:3] # imprime os 3 primeiros elementos\n",
      "print mundo[0:2] # imprime as duas primeiras letras da string\n",
      "print lista[-1] # \u00faltimo elemento"
     ],
     "language": "python",
     "metadata": {},
     "outputs": [
      {
       "output_type": "stream",
       "stream": "stdout",
       "text": [
        "1\n",
        "[1, 2, 3.0]\n",
        "Mu\n",
        "True\n"
       ]
      }
     ],
     "prompt_number": 7
    },
    {
     "cell_type": "markdown",
     "metadata": {},
     "source": [
      "Existem outros tipos mais avan\u00e7ados que veremos ao longo do curso.\n",
      "\n",
      "Complete o c\u00f3digo abaixo para realizar o que \u00e9 pedido:\n"
     ]
    },
    {
     "cell_type": "code",
     "collapsed": false,
     "input": [
      "#Exerc\u00edcio 02\n",
      "HTML('<iframe src=\"https://trinket.io/embed/python/3679faf148\" width=\"100%\" height=\"400\" frameborder=\"0\" marginwidth=\"0\" marginheight=\"0\" allowfullscreen></iframe>')"
     ],
     "language": "python",
     "metadata": {},
     "outputs": [
      {
       "html": [
        "<iframe src=\"https://trinket.io/embed/python/3679faf148\" width=\"100%\" height=\"400\" frameborder=\"0\" marginwidth=\"0\" marginheight=\"0\" allowfullscreen></iframe>"
       ],
       "metadata": {},
       "output_type": "pyout",
       "prompt_number": 8,
       "text": [
        "<IPython.core.display.HTML at 0x7f7bd45200d0>"
       ]
      }
     ],
     "prompt_number": 8
    },
    {
     "cell_type": "code",
     "collapsed": false,
     "input": [
      "#Exerc\u00edcio 03\n",
      "HTML('<iframe src=\"https://trinket.io/embed/python/395e643359\" width=\"100%\" height=\"400\" frameborder=\"0\" marginwidth=\"0\" marginheight=\"0\" allowfullscreen></iframe>')"
     ],
     "language": "python",
     "metadata": {},
     "outputs": [
      {
       "html": [
        "<iframe src=\"https://trinket.io/embed/python/395e643359\" width=\"100%\" height=\"400\" frameborder=\"0\" marginwidth=\"0\" marginheight=\"0\" allowfullscreen></iframe>"
       ],
       "metadata": {},
       "output_type": "pyout",
       "prompt_number": 9,
       "text": [
        "<IPython.core.display.HTML at 0x7f7bd45202d0>"
       ]
      }
     ],
     "prompt_number": 9
    },
    {
     "cell_type": "heading",
     "level": 2,
     "metadata": {},
     "source": [
      "Entrada e Sa\u00edda de Dados"
     ]
    },
    {
     "cell_type": "markdown",
     "metadata": {},
     "source": [
      "Durante essa primeira aula vimos sobre os comandos ```input()``` para capturar valores digitados pelo usu\u00e1rio e ```print``` para imprimir os valores dos resultados.\n",
      "\n",
      "O comando ```input()``` aguarda por uma express\u00e3o v\u00e1lida do Python, seja ela um valor ou uma opera\u00e7\u00e3o, retornando o resultado da express\u00e3o. Ex.:\n",
      "\n",
      "```python\n",
      "x = input(\"entre com uma express\u00e3o\")\n",
      "print x\n",
      "```"
     ]
    },
    {
     "cell_type": "code",
     "collapsed": false,
     "input": [
      "x = input(\"Entre com uma express\u00e3o: \")\n",
      "print x"
     ],
     "language": "python",
     "metadata": {},
     "outputs": [
      {
       "name": "stdout",
       "output_type": "stream",
       "stream": "stdout",
       "text": [
        "Entre com uma express\u00e3o: 3+4\n"
       ]
      },
      {
       "output_type": "stream",
       "stream": "stdout",
       "text": [
        "7\n"
       ]
      }
     ],
     "prompt_number": 9
    },
    {
     "cell_type": "markdown",
     "metadata": {},
     "source": [
      "Por conta disso deve-se tomar cuidado com os valores que s\u00e3o digitados atrav\u00e9s desse comando. Em alguns ambientes, por seguran\u00e7a, a express\u00e3o digitada \u00e9 convertida em string, ficando a cargo do programador fazer a convers\u00e3o para o tipo necess\u00e1rio:"
     ]
    },
    {
     "cell_type": "code",
     "collapsed": false,
     "input": [
      "x = float(input(\"Entre com um valor num\u00e9rico: \")) # o valor digitado ser\u00e1 um n\u00famero em ponto flutuante\n",
      "print x/2"
     ],
     "language": "python",
     "metadata": {},
     "outputs": [
      {
       "name": "stdout",
       "output_type": "stream",
       "stream": "stdout",
       "text": [
        "Entre com um valor num\u00e9rico: 4\n"
       ]
      },
      {
       "output_type": "stream",
       "stream": "stdout",
       "text": [
        "2.0\n"
       ]
      }
     ],
     "prompt_number": 10
    },
    {
     "cell_type": "markdown",
     "metadata": {},
     "source": [
      "Alguns dos comandos de convers\u00e3o dispon\u00edveis s\u00e3o: ```int()``` para inteiros, ```float()``` para ponto flutuante e ```str()``` para strings."
     ]
    },
    {
     "cell_type": "code",
     "collapsed": false,
     "input": [
      "x = 10\n",
      "print int(x) + 2\n",
      "print float(x) * 2\n",
      "print str(x) * 2"
     ],
     "language": "python",
     "metadata": {},
     "outputs": [
      {
       "output_type": "stream",
       "stream": "stdout",
       "text": [
        "12\n",
        "20.0\n",
        "1010\n"
       ]
      }
     ],
     "prompt_number": 15
    },
    {
     "cell_type": "markdown",
     "metadata": {},
     "source": [
      "O comando ```print``` permite escrever o valor de uma vari\u00e1vel ou express\u00e3o na tela pulando para a pr\u00f3xima linha ao final. Esse comando permite a impress\u00e3o de diversos valores na mesma linha separando-os por \",\". Adicionalmente, ao terminar o comando com \",\" ele n\u00e3o pula para a pr\u00f3xima linha ap\u00f3s a impress\u00e3o."
     ]
    },
    {
     "cell_type": "code",
     "collapsed": false,
     "input": [
      "print 2 # imprime 2 e vai para a pr\u00f3xima linha\n",
      "print 3, \"ola\", 4+5 # imprime m\u00faltiplos valores de diferentes tipos e vai para a pr\u00f3xima linha\n",
      "print 1, 2, # imprime os dois valores mas n\u00e3o pula para a pr\u00f3xima linha\n",
      "print 3,4 # continua impress\u00e3o na mesma linha"
     ],
     "language": "python",
     "metadata": {},
     "outputs": [
      {
       "output_type": "stream",
       "stream": "stdout",
       "text": [
        "2\n",
        "3 ola 9\n",
        "1 2 3 4\n"
       ]
      }
     ],
     "prompt_number": 17
    },
    {
     "cell_type": "heading",
     "level": 2,
     "metadata": {},
     "source": [
      "Bibliotecas Extras"
     ]
    },
    {
     "cell_type": "markdown",
     "metadata": {},
     "source": [
      "O Python conta com diversas bibliotecas que automatizam muitas tarefas e permitem realizarmos experimentos interessantes.\n",
      "\n",
      "Uma biblioteca \u00fatil para o BC&T \u00e9 a `matplotlib` que permite plotar gr\u00e1ficos diversos. Para us\u00e1-la no iPython Notebook basta executar o comando:\n",
      "\n",
      "```python\n",
      "%pylab inline\n",
      "```\n",
      "\n",
      "Vamos plotar alguns pontos de nossa fun\u00e7\u00e3o quadr\u00e1tica utilizando o comando `plot(x,y)`, onde **x** e **y** s\u00e3o listas com valores correspondentes a abscissa e ordenada, respectivamente. Basicamente temos que **x** ser\u00e1 uma lista de pontos que queremos plotar e **y** a aplica\u00e7\u00e3o da fun\u00e7\u00e3o `f(x) = x**2` em cada ponto de **x**.\n"
     ]
    },
    {
     "cell_type": "code",
     "collapsed": false,
     "input": [
      "%pylab inline\n",
      "x = [-5,-4,-3,-2,-1,0,1,2,3,4,5]\n",
      "y = [25,16,9,4,1,0,1,4,9,16,25]\n",
      "plot(x,y)"
     ],
     "language": "python",
     "metadata": {},
     "outputs": [
      {
       "output_type": "stream",
       "stream": "stdout",
       "text": [
        "Populating the interactive namespace from numpy and matplotlib\n"
       ]
      },
      {
       "metadata": {},
       "output_type": "pyout",
       "prompt_number": 1,
       "text": [
        "[<matplotlib.lines.Line2D at 0x7ff4c2b95690>]"
       ]
      },
      {
       "metadata": {},
       "output_type": "display_data",
       "png": "[encoded data removed]",
       "text": [
        "<matplotlib.figure.Figure at 0x7ff4dcbb0250>"
       ]
      }
     ],
     "prompt_number": 1
    },
    {
     "cell_type": "markdown",
     "metadata": {},
     "source": [
      "Usualmente as bibliotecas, ou m\u00f3dulos, s\u00e3o importados atrav\u00e9s do comando ```import NOME``` e as fun\u00e7\u00f5es das bibliotecas s\u00e3o chamadas precedidas pelo NOME do m\u00f3dulo. Vimos isso anteriormente com a biblioteca math:\n",
      "\n",
      "```python\n",
      "import math\n",
      "print math.sqrt(2)\n",
      "```\n",
      "Se soubermos exatamente as fun\u00e7\u00f5es que iremos utilizar do m\u00f3dulo, podemos import\u00e1-los seletivamente com a sintaxe ```from NOME import FUNCAO```, nesse caso n\u00e3o precisamos preceder a fun\u00e7\u00e3o com NOME para execut\u00e1-la:\n",
      "\n",
      "```python\n",
      "from math import sqrt, exp\n",
      "print sqrt(2), exp(3)\n",
      "```\n",
      "Finalmente podemos apelidar o nome do m\u00f3dulo para facilitar a chamada de fun\u00e7\u00f5es:\n",
      "\n",
      "```python\n",
      "import math as mt\n",
      "print mt.sqrt(2), mt.exp(3)\n",
      "```\n",
      "\n",
      "**Exemplo**\n",
      "\n",
      "Para o pr\u00f3ximo exerc\u00edcio vamos utilizar a biblioteca `urlib.request` que permite obter dados de p\u00e1ginas da internet. \n",
      "Cadastre-se em http://api.yandex.com/ e obtenha um \"API KEY\" e coloque essa string na vari\u00e1vel APIKEY no c\u00f3digo abaixo.\n",
      "\n",
      "Verifique tamb\u00e9m as poss\u00edveis combina\u00e7\u00f5es de idiomas de tradu\u00e7\u00f5es na p\u00e1gina: http://api.yandex.com/translate/doc/dg/reference/getLangs.xml\n",
      "\n",
      "Para traduzir o texto 'To be or not to be' do ingl\u00eas para o portugu\u00eas, por exemplo, basta acessar a url:\n",
      "\n",
      "https://translate.yandex.net/api/v1.5/tr.json/translate?key=APIKEY&lang=en-pt&text=To+be,+or+not+to+be\n",
      "\n",
      "substituindo APIKEY pela sua chave.\n",
      "\n",
      "Repare que essa url \u00e9 composta de tr\u00eas vari\u00e1veis: \n",
      "\n",
      "* APIKEY\n",
      "* lang: representa o idioma de origem e destino\n",
      "* text: o texto a ser traduzido com os espa\u00e7os substitu\u00eddos por +\n",
      "\n",
      "Complete o programa abaixo para que:\n",
      "\n",
      "* a vari\u00e1vel APIKEY contenha a sua chave\n",
      "* ele pe\u00e7a para entrar com um texto a ser traduzido, substituindo o espa\u00e7o por + (veja a documenta\u00e7\u00e3o de [strings](https://docs.python.org/2/library/string.html) )\n",
      "* crie uma lista com poss\u00edveis idiomas de tradu\u00e7\u00e3o e pe\u00e7a para o usu\u00e1rio selecionar os idiomas\n",
      "* componha a url concatenando os dados obtidos para obter a tradu\u00e7\u00e3o utilizando o comando `urlopen()` para abrir a p\u00e1gina e `read()` para ler o conte\u00fado dela."
     ]
    },
    {
     "cell_type": "code",
     "collapsed": false,
     "input": [
      "HTML('<iframe src=\"https://trinket.io/embed/python/da11824ba1\" width=\"100%\" height=\"400\" frameborder=\"0\" marginwidth=\"0\" marginheight=\"0\" allowfullscreen></iframe>')"
     ],
     "language": "python",
     "metadata": {},
     "outputs": [
      {
       "html": [
        "<iframe src=\"https://trinket.io/embed/python/da11824ba1\" width=\"100%\" height=\"400\" frameborder=\"0\" marginwidth=\"0\" marginheight=\"0\" allowfullscreen></iframe>"
       ],
       "metadata": {},
       "output_type": "pyout",
       "prompt_number": 6,
       "text": [
        "<IPython.core.display.HTML at 0x7f7bd4500d90>"
       ]
      }
     ],
     "prompt_number": 6
    },
    {
     "cell_type": "code",
     "collapsed": false,
     "input": [
      "# no ipython notebook temos que usar a biblioteca requests\n",
      "import requests\n",
      "\n",
      "APIKEY = 'trnsl.1.1.20141019T153920Z.c2ea774a4c45ef4b.4d2fccbf061f8f6903690b716126f7cd8ff79345'\n",
      "saida = requests.get('https://translate.yandex.net/api/v1.5/tr.json/translate?key=%s&lang=en-pt&text=To+be,+or+not+to+be' % (APIKEY))\n",
      "print saida.text"
     ],
     "language": "python",
     "metadata": {},
     "outputs": [
      {
       "output_type": "stream",
       "stream": "stdout",
       "text": [
        "{\"code\":200,\"lang\":\"en-pt\",\"text\":[\"Ser ou n\u00e3o ser\"]}\n"
       ]
      }
     ],
     "prompt_number": 26
    }
   ],
   "metadata": {}
  }
 ]
}