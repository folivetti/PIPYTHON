{
 "metadata": {
  "name": "",
  "signature": "sha256:da358d7e3afbde90b62e46606b3b9debc510eb55ab07a675456346f226447f33"
 },
 "nbformat": 3,
 "nbformat_minor": 0,
 "worksheets": [
  {
   "cells": [
    {
     "cell_type": "code",
     "collapsed": false,
     "input": [
      "# ignore esse c\u00f3digo inicial, \u00e9 apenas para preparar a p\u00e1gina\n",
      "from IPython.display import YouTubeVideo, HTML, Image, display\n",
      "css_file = './modelo.css'\n",
      "HTML(open(css_file, \"r\").read())"
     ],
     "language": "python",
     "metadata": {},
     "outputs": [
      {
       "html": [
        "<style>\n",
        "\n",
        "@font-face {\n",
        "    font-family: \"Computer Modern\";\n",
        "    src: url('http://mirrors.ctan.org/fonts/cm-unicode/fonts/otf/cmunss.otf');\n",
        "}\n",
        "\n",
        "#notebook_panel { /* main background */\n",
        "    background: #888;\n",
        "    color: #f6f6f6;\n",
        "}\n",
        "\n",
        "div.cell { /* set cell width to about 80 chars */\n",
        "    width: 900px;\n",
        "}\n",
        "\n",
        "div #notebook { /* centre the content */\n",
        "    background: #fff; /* white background for content */\n",
        "    width: 1000px;\n",
        "    margin: auto;\n",
        "    padding-left: 1em;\n",
        "}\n",
        "\n",
        "#notebook li { /* More space between bullet points */\n",
        "margin-top:0.8em;\n",
        "}\n",
        "/* draw border around running cells */\n",
        "div.cell.border-box-sizing.code_cell.running {\n",
        "    border: 3px solid #111;\n",
        "}\n",
        "/* Put a solid color box around each cell and its output, visually linking them together */\n",
        "div.cell.code_cell {\n",
        "    background-color: rgba(171,165,131,0.3); \n",
        "    border-radius: 10px; /* rounded borders */\n",
        "    padding: 1em;\n",
        "    margin-top: 1em;\n",
        "}\n",
        "div.text_cell_render{\n",
        "    font-family: 'Arvo' sans-serif;\n",
        "    line-height: 130%;\n",
        "    font-size: 115%;\n",
        "    width:700px;\n",
        "    margin-left:auto;\n",
        "    margin-right:auto;\n",
        "}\n",
        "/* Formatting for header cells */\n",
        ".text_cell_render h1 {\n",
        "    font-family: 'Philosopher', sans-serif;\n",
        "    font-weight: 400;\n",
        "    font-size: 40pt;\n",
        "    text-align: center;\n",
        "    line-height: 100%;\n",
        "    color: rgb(12,85,97);\n",
        "    margin-bottom: 0.1em;\n",
        "    margin-top: 0.1em;\n",
        "    display: block;\n",
        "}\n",
        "\n",
        ".text_cell_render h2 {\n",
        "    font-family: 'Philosopher', serif;\n",
        "    font-weight: 700;\n",
        "    font-size: 24pt;\n",
        "    line-height: 100%;\n",
        "    color: rgb(171,165,131);\n",
        "    margin-bottom: 0.1em;\n",
        "    margin-top: 0.1em;\n",
        "    display: block;\n",
        "}    \n",
        "\n",
        ".text_cell_render h3 {\n",
        "    font-family: 'Philosopher', serif;\n",
        "    margin-top:12px;\n",
        "    margin-bottom: 3px;\n",
        "    font-style: italic;\n",
        "    color: rgb(95,92,72);\n",
        "}\n",
        "\n",
        ".text_cell_render h4 {\n",
        "    font-family: 'Philosopher', serif;\n",
        "}\n",
        "\n",
        ".text_cell_render h5 {\n",
        "    font-family: 'Alegreya Sans', sans-serif;\n",
        "    font-weight: 300;\n",
        "    font-size: 16pt;\n",
        "    color: grey;\n",
        "    font-style: italic;\n",
        "    margin-bottom: .1em;\n",
        "    margin-top: 0.1em;\n",
        "    display: block;\n",
        "}\n",
        "\n",
        ".text_cell_render h6 {\n",
        "    font-family: 'PT Mono', sans-serif;\n",
        "    font-weight: 300;\n",
        "    font-size: 10pt;\n",
        "    color: grey;\n",
        "    margin-bottom: 1px;\n",
        "    margin-top: 1px;\n",
        "}\n",
        ".CodeMirror{\n",
        "        font-family: \"PT Mono\";\n",
        "        font-size: 100%;\n",
        "}\n",
        ".raw_input_prompt{\n",
        "\tcolor: black;\n",
        "}\n",
        "input.raw_input{\n",
        "\tcolor: black;\n",
        "}\n",
        "</style>\n"
       ],
       "metadata": {},
       "output_type": "pyout",
       "prompt_number": 2,
       "text": [
        "<IPython.core.display.HTML at 0x7f66bd78fad0>"
       ]
      }
     ],
     "prompt_number": 2
    },
    {
     "cell_type": "heading",
     "level": 1,
     "metadata": {},
     "source": [
      "Introdu\u00e7\u00e3o \u00e0 Programa\u00e7\u00e3o em Python"
     ]
    },
    {
     "cell_type": "heading",
     "level": 2,
     "metadata": {},
     "source": [
      "T\u00f3picos"
     ]
    },
    {
     "cell_type": "markdown",
     "metadata": {},
     "source": [
      "* Opera\u00e7\u00f5es Aritm\u00e9ticas\n",
      "* Vari\u00e1veis e Tipos\n",
      "* Entrada e sa\u00edda de dados\n",
      "* Bibliotecas Extras"
     ]
    },
    {
     "cell_type": "heading",
     "level": 2,
     "metadata": {},
     "source": [
      "Opera\u00e7\u00f5es Aritm\u00e9ticas"
     ]
    },
    {
     "cell_type": "markdown",
     "metadata": {},
     "source": [
      "O computador \u00e9 essencialmente uma m\u00e1quina de calcular. Para tanto temos diversas opera\u00e7\u00f5es aritm\u00e9ticas dispon\u00edveis no Python:\n",
      "\n",
      "* soma (`+`): `1+2`\n",
      "* subtra\u00e7\u00e3o (`-`): `2-1`\n",
      "* multiplica\u00e7\u00e3o (`*`): `3*5`\n",
      "* divis\u00e3o (`/`): `7/2`\n",
      "* exponencia\u00e7\u00e3o (`**`): `2**3`\n",
      "* resto da divis\u00e3o (`%`): `5%2`\n",
      "\n",
      "Al\u00e9m disso temos dispon\u00edvel o comando `print` para mostrar na tela os resultados dessas opera\u00e7\u00f5es:\n",
      "\n",
      "```python\n",
      "print 1+2 # imprime o valor 3 na tela\n",
      "```\n",
      "\n",
      "Nota: Todo texto ap\u00f3s `#` se torna um coment\u00e1rio e n\u00e3o \u00e9 interpretado pelo computador."
     ]
    },
    {
     "cell_type": "code",
     "collapsed": false,
     "input": [
      "print 1+2\n",
      "print 2-1\n",
      "print 3*5\n",
      "print 7/2\n",
      "print 2**3\n",
      "print 5%2"
     ],
     "language": "python",
     "metadata": {},
     "outputs": [
      {
       "output_type": "stream",
       "stream": "stdout",
       "text": [
        "3\n",
        "1\n",
        "15\n",
        "3\n",
        "8\n",
        "1\n"
       ]
      }
     ],
     "prompt_number": 3
    },
    {
     "cell_type": "markdown",
     "metadata": {},
     "source": [
      "Repare que a opera\u00e7\u00e3o 7/2 retorna um n\u00famero inteiro, para retornar um valor real pelo menos um dos dois n\u00fameros tamb\u00e9m deve ser real."
     ]
    },
    {
     "cell_type": "code",
     "collapsed": false,
     "input": [
      "print 7/2.0"
     ],
     "language": "python",
     "metadata": {},
     "outputs": [
      {
       "output_type": "stream",
       "stream": "stdout",
       "text": [
        "3.5\n"
       ]
      }
     ],
     "prompt_number": 4
    },
    {
     "cell_type": "markdown",
     "metadata": {},
     "source": [
      "Note que a ordem que as opera\u00e7\u00f5es s\u00e3o executadas seguem uma ordem de preced\u00eancia, primeiro as opera\u00e7\u00f5es de divis\u00e3o e multiplica\u00e7\u00e3o, em seguida adi\u00e7\u00e3o e subtra\u00e7\u00e3o. Isso pode ser definido tamb\u00e9m atrav\u00e9s do uso de par\u00eanteses."
     ]
    },
    {
     "cell_type": "code",
     "collapsed": false,
     "input": [
      "print 1 + 2 * 3\n",
      "print (1+2)*3\n",
      "print 1 + (2*3)"
     ],
     "language": "python",
     "metadata": {},
     "outputs": [
      {
       "output_type": "stream",
       "stream": "stdout",
       "text": [
        "7\n",
        "9\n",
        "7\n"
       ]
      }
     ],
     "prompt_number": 5
    },
    {
     "cell_type": "markdown",
     "metadata": {},
     "source": [
      "Al\u00e9m das opera\u00e7\u00f5es b\u00e1sicas temos algumas opera\u00e7\u00f5es mais complexas dispon\u00edveis como padr\u00e3o. Para us\u00e1-las utilizamos a biblioteca `math`. Indicamos isso para o computador com o comando `import math`.\n",
      "\n",
      "Os comandos dispon\u00edveis podem ser consultados na [documenta\u00e7\u00e3o](https://docs.python.org/2/library/math.html)."
     ]
    },
    {
     "cell_type": "code",
     "collapsed": false,
     "input": [
      "import math\n",
      "\n",
      "print math.sqrt(2.0) # raiz de 2\n",
      "print math.exp(1.0), math.log(10) # e^1 e ln(10)\n",
      "print math.log(math.exp(1.0)) # ln(e)\n",
      "print math.cos(math.pi) # cos(pi)"
     ],
     "language": "python",
     "metadata": {},
     "outputs": [
      {
       "output_type": "stream",
       "stream": "stdout",
       "text": [
        "1.41421356237\n",
        "2.71828182846 2.30258509299\n",
        "1.0\n",
        "-1.0\n"
       ]
      }
     ],
     "prompt_number": 6
    },
    {
     "cell_type": "markdown",
     "metadata": {},
     "source": [
      "Os tipos num\u00e9ricos em Python s\u00e3o chamados de `int`, para n\u00fameros inteiros, e `float` para n\u00fameros reais. \n",
      "\n",
      "Complete o c\u00f3digo abaixo no *Interactive Python* e clique em *Run* para conferir se a sa\u00edda est\u00e1 correta:"
     ]
    },
    {
     "cell_type": "code",
     "collapsed": false,
     "input": [
      "# Exerc\u00edcio 01\n",
      "#HTML('<iframe src=\"https://trinket.io/embed/python/e8b89a2de1\" width=\"100%\" height=\"400\" frameborder=\"0\" marginwidth=\"0\" marginheight=\"0\" allowfullscreen></iframe>')\n",
      "import math\n",
      "\n",
      "# Vamos fazer algumas opera\u00e7\u00f5es b\u00e1sicas: escreva o c\u00f3digo logo abaixo das instru\u00e7\u00f5es, ao completar a tarefa aperte \"shift+enter\"\n",
      "# e verifique se a resposta est\u00e1 de acordo com o esperado\n",
      "\n",
      "# 1) A raz\u00e3o \u00e1urea \u00e9 dada pela eq. (1 + raiz(5))/2, imprima o resultado\n",
      "# resultado = 1.61803398875\n",
      "print \n",
      "\n",
      "# 2) A entropia \u00e9 dada por:   -p*log(p) - (1-p)*log(1-p), \n",
      "# Note que o logaritmo \u00e9 na base 2, procure na documenta\u00e7\u00e3o como calcular log2.\n",
      "# Calcule a entropia para:\n",
      "\n",
      "# p = 0.5, resultado = 1.0\n",
      "print \n",
      "\n",
      "# p = 1.0, resultado = nan\n",
      "print\n",
      "\n",
      "# p = 0.0, resultado = nan\n",
      "print\n",
      "\n",
      "# p = 0.4, resultado = 0.970950594455\n",
      "print"
     ],
     "language": "python",
     "metadata": {},
     "outputs": [
      {
       "output_type": "stream",
       "stream": "stdout",
       "text": [
        "\n",
        "\n",
        "\n",
        "\n",
        "\n"
       ]
      }
     ],
     "prompt_number": 11
    },
    {
     "cell_type": "markdown",
     "metadata": {},
     "source": [
      "Os valores `nan` representam que o resultado n\u00e3o \u00e9 um valor num\u00e9rico v\u00e1lido, tendo sido ocasionado pelo c\u00e1lculo de `log(0.0)`."
     ]
    },
    {
     "cell_type": "heading",
     "level": 2,
     "metadata": {},
     "source": [
      "Vari\u00e1veis"
     ]
    },
    {
     "cell_type": "markdown",
     "metadata": {},
     "source": [
      "Se quisermos fazer um programa que calcula a m\u00e9dia aritm\u00e9tica entre dois n\u00fameros precisamos seguir os seguintes passos:\n",
      "\n",
      "* Dados dois n\u00fameros\n",
      "* Calcule a soma deles\n",
      "* Divida o resultado por 2\n",
      "\n",
      "Se soubermos quais s\u00e3o esses dois n\u00fameros, digamos que s\u00e3o 2 e 3, basta escrevermos o seguinte c\u00f3digo:\n",
      "\n",
      "```python\n",
      "print (2+3)/2.0\n",
      "```\n",
      "\n",
      "Por\u00e9m seria interessante generalizar nosso algoritmo para quaisquer dois valores *x* e *y*. Da mesma forma que na matem\u00e1tica, podemos utilizar vari\u00e1veis para generalizar uma express\u00e3o e alterar apenas os valores de tais vari\u00e1veis. No computador, tais vari\u00e1veis armazenam valores em mem\u00f3ria para uso posterior.\n",
      "\n",
      "Para utilizarmos vari\u00e1veis no Python basta dar um nome a ela e, em seguida, atribuir um valor utilizando o operador `=`:\n",
      "\n",
      "```python\n",
      "# o computador armazena o valor 10 na vari\u00e1vel de nome x\n",
      "x = 10 \n",
      "```\n",
      "\n",
      "Uma vez que tal vari\u00e1vel tem um valor, podemos realizar qualquer opera\u00e7\u00e3o com ela:"
     ]
    },
    {
     "cell_type": "code",
     "collapsed": false,
     "input": [
      "x = 10\n",
      "print x + 2\n",
      "print x * 3"
     ],
     "language": "python",
     "metadata": {},
     "outputs": [
      {
       "output_type": "stream",
       "stream": "stdout",
       "text": [
        "12\n",
        "30\n"
       ]
      }
     ],
     "prompt_number": 8
    },
    {
     "cell_type": "markdown",
     "metadata": {},
     "source": [
      "Dessa forma o nosso programa de m\u00e9dia poderia ficar da seguinte forma:"
     ]
    },
    {
     "cell_type": "code",
     "collapsed": false,
     "input": [
      "x = 2\n",
      "y = 3\n",
      "print (x+y)/2.0"
     ],
     "language": "python",
     "metadata": {},
     "outputs": [
      {
       "output_type": "stream",
       "stream": "stdout",
       "text": [
        "2.5\n"
       ]
      }
     ],
     "prompt_number": 9
    },
    {
     "cell_type": "markdown",
     "metadata": {},
     "source": [
      "Ao alterar os valores de `x` e `y`, o programa retorna o resultado da nova m\u00e9dia.\n",
      "Podemos pedir que o usu\u00e1rio entre com os valores utilizando o comando `input()`.\n",
      "\n",
      "Esse comando vai esperar que o usu\u00e1rio digite algum valor e o atribuir\u00e1 em uma vari\u00e1vel."
     ]
    },
    {
     "cell_type": "code",
     "collapsed": false,
     "input": [
      "x = input(\"digite o primeiro valor: \")\n",
      "y = input(\"digite o segundo valor: \")\n",
      "print (x+y)/2.0"
     ],
     "language": "python",
     "metadata": {},
     "outputs": [
      {
       "name": "stdout",
       "output_type": "stream",
       "stream": "stdout",
       "text": [
        "digite o primeiro valor: 2\n"
       ]
      },
      {
       "name": "stdout",
       "output_type": "stream",
       "stream": "stdout",
       "text": [
        "digite o segundo valor: 3\n"
       ]
      },
      {
       "output_type": "stream",
       "stream": "stdout",
       "text": [
        "2.5\n"
       ]
      }
     ],
     "prompt_number": 12
    },
    {
     "cell_type": "heading",
     "level": 2,
     "metadata": {},
     "source": [
      "Outros tipos de dados"
     ]
    },
    {
     "cell_type": "markdown",
     "metadata": {},
     "source": [
      "Al\u00e9m dos tipos n\u00famericos int e float tamb\u00e9m podemos escrever n\u00fameros complexos da seguinte forma:\n",
      "\n",
      "`2+3j`\n",
      "\n",
      "As opera\u00e7\u00f5es b\u00e1sicas funcionam tamb\u00e9m para esse tipo."
     ]
    },
    {
     "cell_type": "code",
     "collapsed": false,
     "input": [
      "x = 2+3j\n",
      "y = 5+2j\n",
      "print x + y\n",
      "print x*y"
     ],
     "language": "python",
     "metadata": {},
     "outputs": [
      {
       "output_type": "stream",
       "stream": "stdout",
       "text": [
        "(7+5j)\n",
        "(4+19j)\n"
       ]
      }
     ],
     "prompt_number": 13
    },
    {
     "cell_type": "markdown",
     "metadata": {},
     "source": [
      "Para as fun\u00e7\u00f5es avan\u00e7adas devemos utilizar a biblioteca [cmath](https://docs.python.org/2/library/cmath.html).:"
     ]
    },
    {
     "cell_type": "code",
     "collapsed": false,
     "input": [
      "import cmath\n",
      "cmath.sqrt(-2)"
     ],
     "language": "python",
     "metadata": {},
     "outputs": [
      {
       "metadata": {},
       "output_type": "pyout",
       "prompt_number": 14,
       "text": [
        "1.4142135623730951j"
       ]
      }
     ],
     "prompt_number": 14
    },
    {
     "cell_type": "markdown",
     "metadata": {},
     "source": [
      "Al\u00e9m dos tipos num\u00e9ricos temos tamb\u00e9m os tipos l\u00f3gicos que podem conter o valor de verdadeiro (`True`) ou falso (`False`). Esses valores s\u00e3o gerados atrav\u00e9s de operadores relacionais:\n",
      "\n",
      "* Igualdade: `1 == 2` => `False`\n",
      "* Desigualdade: `1 != 2` => `True`\n",
      "* Maior e Maior ou igual: `1 > 2`, `1 >= 2` => `False`\n",
      "* Menor e Menor ou igual: `1 < 2`, `1 <= 2` => `True`\n",
      "\n",
      "E compostos com operadores booleanos:\n",
      "\n",
      "* E: `True and False` => `False`\n",
      "* Ou: `True or False` => `True`\n",
      "* N\u00e3o: `not True` => `False`"
     ]
    },
    {
     "cell_type": "code",
     "collapsed": false,
     "input": [
      "x = 1\n",
      "y = 2\n",
      "print x == y\n",
      "print x != y\n",
      "print x > y\n",
      "print x < y\n",
      "print x >= y\n",
      "print x <= y\n",
      "print x >= y or x != y\n",
      "print x <= y and x != y # x < y?\n",
      "print x <= y and not (x != y) # x >= y e x == y ==> x == y?"
     ],
     "language": "python",
     "metadata": {},
     "outputs": [
      {
       "output_type": "stream",
       "stream": "stdout",
       "text": [
        "False\n",
        "True\n",
        "False\n",
        "True\n",
        "False\n",
        "True\n",
        "True\n",
        "True\n",
        "False\n"
       ]
      }
     ],
     "prompt_number": 15
    },
    {
     "cell_type": "markdown",
     "metadata": {},
     "source": [
      "Temos tamb\u00e9m a op\u00e7\u00e3o de trabalhar com textos, ou *strings*, caracterizados por aspas simples ou duplas e capazes de manipular textos de diversas formas. Podemos usar os operadores `+` e `*`, representando concatena\u00e7\u00e3o e repeti\u00e7\u00e3o:"
     ]
    },
    {
     "cell_type": "code",
     "collapsed": false,
     "input": [
      "ola = \"Ol\u00e1\"\n",
      "espaco = \" \"\n",
      "mundo = \"Mundo\"\n",
      "print ola + espaco + mundo\n",
      "print (ola + espaco) * 6 + mundo"
     ],
     "language": "python",
     "metadata": {},
     "outputs": [
      {
       "output_type": "stream",
       "stream": "stdout",
       "text": [
        "Ol\u00e1 Mundo\n",
        "Ol\u00e1 Ol\u00e1 Ol\u00e1 Ol\u00e1 Ol\u00e1 Ol\u00e1 Mundo\n"
       ]
      }
     ],
     "prompt_number": 16
    },
    {
     "cell_type": "markdown",
     "metadata": {},
     "source": [
      "Existem maneiras mais interessantes de construir uma `string` que veremos futuramente.\n",
      "\n",
      "E, finalmente, podemos criar uma lista de valores, colocando todos eles entre colchetes separados por v\u00edrgula. Nessa lista podemos colocar qualquer um dos tipos acima, inclusive misturando-os."
     ]
    },
    {
     "cell_type": "code",
     "collapsed": false,
     "input": [
      "lista = [1,2,3.0,'batata',True]\n",
      "print lista, len(lista) # len = tamanho da lista"
     ],
     "language": "python",
     "metadata": {},
     "outputs": [
      {
       "output_type": "stream",
       "stream": "stdout",
       "text": [
        "[1, 2, 3.0, 'batata', True] 5\n"
       ]
      }
     ],
     "prompt_number": 17
    },
    {
     "cell_type": "markdown",
     "metadata": {},
     "source": [
      "Para acessar um elemento da lista utilizamos `[i]`, com `i` sendo o elemento que queremos acessar. A contagem do \u00edndice do elemento come\u00e7a do 0.\n",
      "Isso tamb\u00e9m funciona para strings. Adicionalmente podemos utilizar faixa de valores usando [i:j] em que retornar\u00e1 os elementos entre [i,j[, excluindo o j."
     ]
    },
    {
     "cell_type": "code",
     "collapsed": false,
     "input": [
      "print lista[0]  # imprime o primeiro elemento da lista\n",
      "print lista[0:3] # imprime os 3 primeiros elementos\n",
      "print mundo[0:2] # imprime as duas primeiras letras da string\n",
      "print lista[-1] # \u00faltimo elemento"
     ],
     "language": "python",
     "metadata": {},
     "outputs": [
      {
       "output_type": "stream",
       "stream": "stdout",
       "text": [
        "1\n",
        "[1, 2, 3.0]\n",
        "Mu\n",
        "True\n"
       ]
      }
     ],
     "prompt_number": 18
    },
    {
     "cell_type": "markdown",
     "metadata": {},
     "source": [
      "Existem outros tipos mais avan\u00e7ados que veremos ao longo do curso.\n",
      "\n",
      "Complete o c\u00f3digo abaixo para realizar o que \u00e9 pedido:\n"
     ]
    },
    {
     "cell_type": "code",
     "collapsed": false,
     "input": [
      "#Exerc\u00edcio 02\n",
      "#HTML('<iframe src=\"https://trinket.io/embed/python/3679faf148\" width=\"100%\" height=\"400\" frameborder=\"0\" marginwidth=\"0\" marginheight=\"0\" allowfullscreen></iframe>')\n",
      "import math\n",
      "# 1) entre com o numero do mes do seu nascimento na variavel 'mes' e siga as instru\u00e7\u00f5es abaixo colocando o resultado\n",
      "# na vari\u00e1vel 'resultado'.\n",
      "mes = input('Digite o mes do seu nascimento: ')\n",
      "resultado = 0\n",
      "\n",
      "# 1) multiplique o n\u00famero por 2 e armazene na variavel de nome resultado\n",
      "\n",
      "# 2) some 5 ao resultado e armazene nela mesma\n",
      "\n",
      "# 3) multiplique por 50 armazenando em resultado\n",
      "\n",
      "# 4) some sua idade ao resultado\n",
      "idade = input('Digite sua idade: ')\n",
      "\n",
      "# 5) subtraia resultado por 250\n",
      "\n",
      "# o primeiro digito deve ser o m\u00eas e os dois \u00faltimos sua idade\n",
      "print resultado"
     ],
     "language": "python",
     "metadata": {},
     "outputs": [
      {
       "name": "stdout",
       "output_type": "stream",
       "stream": "stdout",
       "text": [
        "Digite o mes do seu nascimento: 28\n"
       ]
      },
      {
       "name": "stdout",
       "output_type": "stream",
       "stream": "stdout",
       "text": [
        "Digite sua idade: 34\n"
       ]
      },
      {
       "output_type": "stream",
       "stream": "stdout",
       "text": [
        "0\n"
       ]
      }
     ],
     "prompt_number": 21
    },
    {
     "cell_type": "code",
     "collapsed": false,
     "input": [
      "#Exerc\u00edcio 03\n",
      "#HTML('<iframe src=\"https://trinket.io/embed/python/395e643359\" width=\"100%\" height=\"400\" frameborder=\"0\" marginwidth=\"0\" marginheight=\"0\" allowfullscreen></iframe>')\n",
      "\n",
      "# 1) Pe\u00e7a para o usuario digitar o nome e imprima \"Ola <nome>, como vai?\"\n",
      "nome = \n",
      "print \n",
      "\n",
      "# 2) Crie uma lista com 3 zeros pe\u00e7a para o usu\u00e1rio digitar 2 valores, armazenando nas 2 primeiras\n",
      "# posicoes. Calcule a media dos dois primeiros valores e armazene na terceira posi\u00e7\u00e3o.\n",
      "\n",
      "# utilize float(input()) para capturar os valores\n",
      "lista =\n",
      "\n",
      "print lista"
     ],
     "language": "python",
     "metadata": {},
     "outputs": []
    },
    {
     "cell_type": "heading",
     "level": 2,
     "metadata": {},
     "source": [
      "Entrada e Sa\u00edda de Dados"
     ]
    },
    {
     "cell_type": "markdown",
     "metadata": {},
     "source": [
      "Durante essa primeira aula vimos sobre os comandos ```input()``` para capturar valores digitados pelo usu\u00e1rio e ```print``` para imprimir os valores dos resultados.\n",
      "\n",
      "O comando ```input()``` aguarda por uma express\u00e3o v\u00e1lida do Python, seja ela um valor ou uma opera\u00e7\u00e3o, retornando o resultado da express\u00e3o. Ex.:\n",
      "\n",
      "```python\n",
      "x = input(\"entre com uma express\u00e3o\")\n",
      "print x\n",
      "```"
     ]
    },
    {
     "cell_type": "code",
     "collapsed": false,
     "input": [
      "x = input(\"Entre com uma express\u00e3o: \")\n",
      "print x"
     ],
     "language": "python",
     "metadata": {},
     "outputs": [
      {
       "name": "stdout",
       "output_type": "stream",
       "stream": "stdout",
       "text": [
        "Entre com uma express\u00e3o: 5+3\n"
       ]
      },
      {
       "output_type": "stream",
       "stream": "stdout",
       "text": [
        "8\n"
       ]
      }
     ],
     "prompt_number": 23
    },
    {
     "cell_type": "markdown",
     "metadata": {},
     "source": [
      "Por conta disso deve-se tomar cuidado com os valores que s\u00e3o digitados atrav\u00e9s desse comando. Em alguns ambientes, por seguran\u00e7a, a express\u00e3o digitada \u00e9 convertida em string, ficando a cargo do programador fazer a convers\u00e3o para o tipo necess\u00e1rio:"
     ]
    },
    {
     "cell_type": "code",
     "collapsed": false,
     "input": [
      "x = float(input(\"Entre com um valor num\u00e9rico: \")) # o valor digitado ser\u00e1 um n\u00famero em ponto flutuante\n",
      "print x/2"
     ],
     "language": "python",
     "metadata": {},
     "outputs": [
      {
       "name": "stdout",
       "output_type": "stream",
       "stream": "stdout",
       "text": [
        "Entre com um valor num\u00e9rico: 10\n"
       ]
      },
      {
       "output_type": "stream",
       "stream": "stdout",
       "text": [
        "5.0\n"
       ]
      }
     ],
     "prompt_number": 24
    },
    {
     "cell_type": "markdown",
     "metadata": {},
     "source": [
      "Alguns dos comandos de convers\u00e3o dispon\u00edveis s\u00e3o: ```int()``` para inteiros, ```float()``` para ponto flutuante e ```str()``` para strings."
     ]
    },
    {
     "cell_type": "code",
     "collapsed": false,
     "input": [
      "x = 10\n",
      "print int(x) + 2\n",
      "print float(x) * 2\n",
      "print str(x) * 2"
     ],
     "language": "python",
     "metadata": {},
     "outputs": [
      {
       "output_type": "stream",
       "stream": "stdout",
       "text": [
        "12\n",
        "20.0\n",
        "1010\n"
       ]
      }
     ],
     "prompt_number": 25
    },
    {
     "cell_type": "markdown",
     "metadata": {},
     "source": [
      "O comando ```print``` permite escrever o valor de uma vari\u00e1vel ou express\u00e3o na tela pulando para a pr\u00f3xima linha ao final. Esse comando permite a impress\u00e3o de diversos valores na mesma linha separando-os por \",\". Adicionalmente, ao terminar o comando com \",\" ele n\u00e3o pula para a pr\u00f3xima linha ap\u00f3s a impress\u00e3o."
     ]
    },
    {
     "cell_type": "code",
     "collapsed": false,
     "input": [
      "print 2 # imprime 2 e vai para a pr\u00f3xima linha\n",
      "print 3, \"ola\", 4+5 # imprime m\u00faltiplos valores de diferentes tipos e vai para a pr\u00f3xima linha\n",
      "print 1, 2, # imprime os dois valores mas n\u00e3o pula para a pr\u00f3xima linha\n",
      "print 3,4 # continua impress\u00e3o na mesma linha"
     ],
     "language": "python",
     "metadata": {},
     "outputs": [
      {
       "output_type": "stream",
       "stream": "stdout",
       "text": [
        "2\n",
        "3 ola 9\n",
        "1 2 3 4\n"
       ]
      }
     ],
     "prompt_number": 26
    },
    {
     "cell_type": "heading",
     "level": 2,
     "metadata": {},
     "source": [
      "Bibliotecas Extras"
     ]
    },
    {
     "cell_type": "markdown",
     "metadata": {},
     "source": [
      "O Python conta com diversas bibliotecas que automatizam muitas tarefas e permitem realizarmos experimentos interessantes.\n",
      "\n",
      "Uma biblioteca \u00fatil para o BC&T \u00e9 a `matplotlib` que permite plotar gr\u00e1ficos diversos. Para us\u00e1-la no iPython Notebook basta executar o comando:\n",
      "\n",
      "```python\n",
      "%pylab inline\n",
      "```\n",
      "\n",
      "Vamos plotar alguns pontos de nossa fun\u00e7\u00e3o quadr\u00e1tica utilizando o comando `plot(x,y)`, onde **x** e **y** s\u00e3o listas com valores correspondentes a abscissa e ordenada, respectivamente. Basicamente temos que **x** ser\u00e1 uma lista de pontos que queremos plotar e **y** a aplica\u00e7\u00e3o da fun\u00e7\u00e3o `f(x) = x**2` em cada ponto de **x**.\n"
     ]
    },
    {
     "cell_type": "code",
     "collapsed": false,
     "input": [
      "%pylab nbagg\n",
      "x = [-5,-4,-3,-2,-1,0,1,2,3,4,5]\n",
      "y = [25,16,9,4,1,0,1,4,9,16,25]\n",
      "plot(x,y)"
     ],
     "language": "python",
     "metadata": {},
     "outputs": [
      {
       "output_type": "stream",
       "stream": "stdout",
       "text": [
        "Populating the interactive namespace from numpy and matplotlib\n"
       ]
      },
      {
       "javascript": [
        "/* Put everything inside the global mpl namespace */\n",
        "window.mpl = {};\n",
        "\n",
        "mpl.get_websocket_type = function() {\n",
        "    if (typeof(WebSocket) !== 'undefined') {\n",
        "        return WebSocket;\n",
        "    } else if (typeof(MozWebSocket) !== 'undefined') {\n",
        "        return MozWebSocket;\n",
        "    } else {\n",
        "        alert('Your browser does not have WebSocket support.' +\n",
        "              'Please try Chrome, Safari or Firefox \u2265 6. ' +\n",
        "              'Firefox 4 and 5 are also supported but you ' +\n",
        "              'have to enable WebSockets in about:config.');\n",
        "    };\n",
        "}\n",
        "\n",
        "mpl.figure = function(figure_id, websocket, ondownload, parent_element) {\n",
        "    this.id = figure_id;\n",
        "\n",
        "    this.ws = websocket;\n",
        "\n",
        "    this.supports_binary = (this.ws.binaryType != undefined);\n",
        "\n",
        "    if (!this.supports_binary) {\n",
        "        var warnings = document.getElementById(\"mpl-warnings\");\n",
        "        if (warnings) {\n",
        "            warnings.style.display = 'block';\n",
        "            warnings.textContent = (\n",
        "                \"This browser does not support binary websocket messages. \" +\n",
        "                    \"Performance may be slow.\");\n",
        "        }\n",
        "    }\n",
        "\n",
        "    this.imageObj = new Image();\n",
        "\n",
        "    this.context = undefined;\n",
        "    this.message = undefined;\n",
        "    this.canvas = undefined;\n",
        "    this.rubberband_canvas = undefined;\n",
        "    this.rubberband_context = undefined;\n",
        "    this.format_dropdown = undefined;\n",
        "\n",
        "    this.focus_on_mousover = false;\n",
        "\n",
        "    this.root = $('<div/>');\n",
        "    this.root.attr('style', 'display: inline-block');\n",
        "    $(parent_element).append(this.root);\n",
        "\n",
        "    this._init_header(this);\n",
        "    this._init_canvas(this);\n",
        "    this._init_toolbar(this);\n",
        "\n",
        "    var fig = this;\n",
        "\n",
        "    this.waiting = false;\n",
        "\n",
        "    this.ws.onopen =  function () {\n",
        "            fig.send_message(\"supports_binary\", {value: fig.supports_binary});\n",
        "            fig.send_message(\"refresh\", {});\n",
        "        }\n",
        "\n",
        "    this.imageObj.onload = function() {\n",
        "            fig.context.drawImage(fig.imageObj, 0, 0);\n",
        "            fig.waiting = false;\n",
        "        };\n",
        "\n",
        "    this.imageObj.onunload = function() {\n",
        "        this.ws.close();\n",
        "    }\n",
        "\n",
        "    this.ws.onmessage = this._make_on_message_function(this);\n",
        "\n",
        "    this.ondownload = ondownload;\n",
        "}\n",
        "\n",
        "mpl.figure.prototype._init_header = function() {\n",
        "    var titlebar = $(\n",
        "        '<div class=\"ui-dialog-titlebar ui-widget-header ui-corner-all ' +\n",
        "        'ui-helper-clearfix\"/>');\n",
        "    var titletext = $(\n",
        "        '<div class=\"ui-dialog-title\" style=\"width: 100%; ' +\n",
        "        'text-align: center; padding: 3px;\"/>');\n",
        "    titlebar.append(titletext)\n",
        "    this.root.append(titlebar);\n",
        "    this.header = titletext[0];\n",
        "}\n",
        "\n",
        "mpl.figure.prototype._init_canvas = function() {\n",
        "    var fig = this;\n",
        "\n",
        "    var canvas_div = $('<div/>');\n",
        "    canvas_div.resizable({ resize: mpl.debounce_resize(\n",
        "        function(event, ui) { fig.request_resize(ui.size.width, ui.size.height); }\n",
        "        , 50)});\n",
        "\n",
        "    canvas_div.attr('style', 'position: relative; clear: both;');\n",
        "    this.root.append(canvas_div);\n",
        "\n",
        "    var canvas = $('<canvas/>');\n",
        "    canvas.addClass('mpl-canvas');\n",
        "    canvas.attr('style', \"left: 0; top: 0; z-index: 0;\")\n",
        "\n",
        "    function canvas_keyboard_event(event) {\n",
        "        return fig.key_event(event, event['data']);\n",
        "    }\n",
        "\n",
        "    this.canvas = canvas[0];\n",
        "    this.context = canvas[0].getContext(\"2d\");\n",
        "\n",
        "    var rubberband = $('<canvas/>');\n",
        "    rubberband.attr('style', \"position: absolute; left: 0; top: 0; z-index: 1;\")\n",
        "    function mouse_event_fn(event) {\n",
        "        return fig.mouse_event(event, event['data']);\n",
        "    }\n",
        "    rubberband.mousedown('button_press', mouse_event_fn);\n",
        "    rubberband.mouseup('button_release', mouse_event_fn);\n",
        "    // Throttle sequential mouse events to 1 every 20ms.\n",
        "    rubberband.mousemove('motion_notify', mouse_event_fn);\n",
        "\n",
        "    canvas_div.append(canvas);\n",
        "    canvas_div.append(rubberband);\n",
        "\n",
        "    canvas_div.keydown('key_press', canvas_keyboard_event);\n",
        "    canvas_div.keydown('key_release', canvas_keyboard_event);\n",
        "\n",
        "    this.rubberband = rubberband;\n",
        "    this.rubberband_canvas = rubberband[0];\n",
        "    this.rubberband_context = rubberband[0].getContext(\"2d\");\n",
        "    this.rubberband_context.strokeStyle = \"#000000\";\n",
        "\n",
        "    this._resize_canvas = function(width, height) {\n",
        "        // Keep the size of the canvas, canvas container, and rubber band\n",
        "        // canvas in synch.\n",
        "        canvas_div.css('width', width)\n",
        "        canvas_div.css('height', height)\n",
        "\n",
        "        canvas.attr('width', width);\n",
        "        canvas.attr('height', height);\n",
        "\n",
        "        rubberband.attr('width', width);\n",
        "        rubberband.attr('height', height);\n",
        "    }\n",
        "\n",
        "    // Set the figure to an initial 600x600px, this will subsequently be updated\n",
        "    // upon first draw.\n",
        "    this._resize_canvas(600, 600);\n",
        "}\n",
        "\n",
        "mpl.figure.prototype._init_toolbar = function() {\n",
        "    var fig = this;\n",
        "\n",
        "    var nav_element = $('<div/>')\n",
        "    nav_element.attr('style', 'width: 100%');\n",
        "    this.root.append(nav_element);\n",
        "\n",
        "    // Define a callback function for later on.\n",
        "    function toolbar_event(event) {\n",
        "        return fig.toolbar_button_onclick(event['data']);\n",
        "    }\n",
        "    function toolbar_mouse_event(event) {\n",
        "        return fig.toolbar_button_onmouseover(event['data']);\n",
        "    }\n",
        "\n",
        "    for(var toolbar_ind in mpl.toolbar_items){\n",
        "        var name = mpl.toolbar_items[toolbar_ind][0];\n",
        "        var tooltip = mpl.toolbar_items[toolbar_ind][1];\n",
        "        var image = mpl.toolbar_items[toolbar_ind][2];\n",
        "        var method_name = mpl.toolbar_items[toolbar_ind][3];\n",
        "\n",
        "        if (!name) {\n",
        "            // put a spacer in here.\n",
        "            continue;\n",
        "        }\n",
        "        var button = $('<button/>');\n",
        "        button.addClass('ui-button ui-widget ui-state-default ui-corner-all ' +\n",
        "                        'ui-button-icon-only');\n",
        "        button.attr('role', 'button');\n",
        "        button.attr('aria-disabled', 'false');\n",
        "        button.click(method_name, toolbar_event);\n",
        "        button.mouseover(tooltip, toolbar_mouse_event);\n",
        "\n",
        "        var icon_img = $('<span/>');\n",
        "        icon_img.addClass('ui-button-icon-primary ui-icon');\n",
        "        icon_img.addClass(image);\n",
        "        icon_img.addClass('ui-corner-all');\n",
        "\n",
        "        var tooltip_span = $('<span/>');\n",
        "        tooltip_span.addClass('ui-button-text');\n",
        "        tooltip_span.html(tooltip);\n",
        "\n",
        "        button.append(icon_img);\n",
        "        button.append(tooltip_span);\n",
        "\n",
        "        nav_element.append(button);\n",
        "    }\n",
        "\n",
        "    var fmt_picker_span = $('<span/>');\n",
        "\n",
        "    var fmt_picker = $('<select/>');\n",
        "    fmt_picker.addClass('mpl-toolbar-option ui-widget ui-widget-content');\n",
        "    fmt_picker_span.append(fmt_picker);\n",
        "    nav_element.append(fmt_picker_span);\n",
        "    this.format_dropdown = fmt_picker[0];\n",
        "\n",
        "    for (var ind in mpl.extensions) {\n",
        "        var fmt = mpl.extensions[ind];\n",
        "        var option = $(\n",
        "            '<option/>', {selected: fmt === mpl.default_extension}).html(fmt);\n",
        "        fmt_picker.append(option)\n",
        "    }\n",
        "\n",
        "    // Add hover states to the ui-buttons\n",
        "    $( \".ui-button\" ).hover(\n",
        "        function() { $(this).addClass(\"ui-state-hover\");},\n",
        "        function() { $(this).removeClass(\"ui-state-hover\");}\n",
        "    );\n",
        "\n",
        "    var status_bar = $('<span class=\"mpl-message\"/>');\n",
        "    nav_element.append(status_bar);\n",
        "    this.message = status_bar[0];\n",
        "}\n",
        "\n",
        "mpl.figure.prototype.request_resize = function(x_pixels, y_pixels) {\n",
        "    // Request matplotlib to resize the figure. Matplotlib will then trigger a resize in the client,\n",
        "    // which will in turn request a refresh of the image.\n",
        "    this.send_message('resize', {'width': x_pixels, 'height': y_pixels});\n",
        "}\n",
        "\n",
        "mpl.figure.prototype.send_message = function(type, properties) {\n",
        "    properties['type'] = type;\n",
        "    properties['figure_id'] = this.id;\n",
        "    this.ws.send(JSON.stringify(properties));\n",
        "}\n",
        "\n",
        "mpl.figure.prototype.send_draw_message = function() {\n",
        "    if (!this.waiting) {\n",
        "        this.waiting = true;\n",
        "        this.ws.send(JSON.stringify({type: \"draw\", figure_id: this.id}));\n",
        "    }\n",
        "}\n",
        "\n",
        "mpl.figure.prototype.handle_resize = function(fig, msg) {\n",
        "    var size = msg['size'];\n",
        "    if (size[0] != fig.canvas.width || size[1] != fig.canvas.height) {\n",
        "        fig._resize_canvas(size[0], size[1]);\n",
        "        fig.send_message(\"refresh\", {});\n",
        "    };\n",
        "}\n",
        "\n",
        "mpl.figure.prototype.handle_rubberband = function(fig, msg) {\n",
        "    var x0 = msg['x0'];\n",
        "    var y0 = fig.canvas.height - msg['y0'];\n",
        "    var x1 = msg['x1'];\n",
        "    var y1 = fig.canvas.height - msg['y1'];\n",
        "    x0 = Math.floor(x0) + 0.5;\n",
        "    y0 = Math.floor(y0) + 0.5;\n",
        "    x1 = Math.floor(x1) + 0.5;\n",
        "    y1 = Math.floor(y1) + 0.5;\n",
        "    var min_x = Math.min(x0, x1);\n",
        "    var min_y = Math.min(y0, y1);\n",
        "    var width = Math.abs(x1 - x0);\n",
        "    var height = Math.abs(y1 - y0);\n",
        "\n",
        "    fig.rubberband_context.clearRect(\n",
        "        0, 0, fig.canvas.width, fig.canvas.height);\n",
        "\n",
        "    fig.rubberband_context.strokeRect(min_x, min_y, width, height);\n",
        "}\n",
        "\n",
        "mpl.figure.prototype.handle_figure_label = function(fig, msg) {\n",
        "    // Updates the figure title.\n",
        "    fig.header.textContent = msg['label'];\n",
        "}\n",
        "\n",
        "mpl.figure.prototype.handle_cursor = function(fig, msg) {\n",
        "    var cursor = msg['cursor'];\n",
        "    switch(cursor)\n",
        "    {\n",
        "    case 0:\n",
        "        cursor = 'pointer';\n",
        "        break;\n",
        "    case 1:\n",
        "        cursor = 'default';\n",
        "        break;\n",
        "    case 2:\n",
        "        cursor = 'crosshair';\n",
        "        break;\n",
        "    case 3:\n",
        "        cursor = 'move';\n",
        "        break;\n",
        "    }\n",
        "    fig.rubberband_canvas.style.cursor = cursor;\n",
        "}\n",
        "\n",
        "mpl.figure.prototype.handle_message = function(fig, msg) {\n",
        "    fig.message.textContent = msg['message'];\n",
        "}\n",
        "\n",
        "mpl.figure.prototype.handle_draw = function(fig, msg) {\n",
        "    // Request the server to send over a new figure.\n",
        "    fig.send_draw_message();\n",
        "}\n",
        "\n",
        "mpl.figure.prototype.updated_canvas_event = function() {\n",
        "    // Called whenever the canvas gets updated.\n",
        "    this.send_message(\"ack\", {});\n",
        "}\n",
        "\n",
        "// A function to construct a web socket function for onmessage handling.\n",
        "// Called in the figure constructor.\n",
        "mpl.figure.prototype._make_on_message_function = function(fig) {\n",
        "    return function socket_on_message(evt) {\n",
        "        if (evt.data instanceof Blob) {\n",
        "            /* FIXME: We get \"Resource interpreted as Image but\n",
        "             * transferred with MIME type text/plain:\" errors on\n",
        "             * Chrome.  But how to set the MIME type?  It doesn't seem\n",
        "             * to be part of the websocket stream */\n",
        "            evt.data.type = \"image/png\";\n",
        "\n",
        "            /* Free the memory for the previous frames */\n",
        "            if (fig.imageObj.src) {\n",
        "                (window.URL || window.webkitURL).revokeObjectURL(\n",
        "                    fig.imageObj.src);\n",
        "            }\n",
        "            fig.imageObj.src = (window.URL || window.webkitURL).createObjectURL(\n",
        "                evt.data);\n",
        "            fig.updated_canvas_event();\n",
        "            return;\n",
        "        }\n",
        "        else if (typeof evt.data === 'string' && evt.data.slice(0, 21) == \"data:image/png;base64\") {\n",
        "            fig.imageObj.src = evt.data;\n",
        "            fig.updated_canvas_event();\n",
        "            return;\n",
        "        }\n",
        "\n",
        "        var msg = JSON.parse(evt.data);\n",
        "        var msg_type = msg['type'];\n",
        "\n",
        "        // Call the  \"handle_{type}\" callback, which takes\n",
        "        // the figure and JSON message as its only arguments.\n",
        "        try {\n",
        "            var callback = fig[\"handle_\" + msg_type];\n",
        "        } catch (e) {\n",
        "            console.log(\"No handler for the '\" + msg_type + \"' message type: \", msg);\n",
        "            return;\n",
        "        }\n",
        "\n",
        "        if (callback) {\n",
        "            try {\n",
        "                // console.log(\"Handling '\" + msg_type + \"' message: \", msg);\n",
        "                callback(fig, msg);\n",
        "            } catch (e) {\n",
        "                console.log(\"Exception inside the 'handler_\" + msg_type + \"' callback:\", e, e.stack, msg);\n",
        "            }\n",
        "        }\n",
        "    };\n",
        "}\n",
        "\n",
        "// from http://stackoverflow.com/questions/1114465/getting-mouse-location-in-canvas\n",
        "mpl.findpos = function(e) {\n",
        "    //this section is from http://www.quirksmode.org/js/events_properties.html\n",
        "    var targ;\n",
        "    if (!e)\n",
        "        e = window.event;\n",
        "    if (e.target)\n",
        "        targ = e.target;\n",
        "    else if (e.srcElement)\n",
        "        targ = e.srcElement;\n",
        "    if (targ.nodeType == 3) // defeat Safari bug\n",
        "        targ = targ.parentNode;\n",
        "\n",
        "    // jQuery normalizes the pageX and pageY\n",
        "    // pageX,Y are the mouse positions relative to the document\n",
        "    // offset() returns the position of the element relative to the document\n",
        "    var x = e.pageX - $(targ).offset().left;\n",
        "    var y = e.pageY - $(targ).offset().top;\n",
        "\n",
        "    return {\"x\": x, \"y\": y};\n",
        "};\n",
        "\n",
        "mpl.figure.prototype.mouse_event = function(event, name) {\n",
        "    var canvas_pos = mpl.findpos(event)\n",
        "\n",
        "    if (this.focus_on_mouseover && name === 'motion_notify')\n",
        "    {\n",
        "        this.canvas.focus();\n",
        "    }\n",
        "\n",
        "    var x = canvas_pos.x;\n",
        "    var y = canvas_pos.y;\n",
        "\n",
        "    this.send_message(name, {x: x, y: y, button: event.button});\n",
        "\n",
        "    /* This prevents the web browser from automatically changing to\n",
        "     * the text insertion cursor when the button is pressed.  We want\n",
        "     * to control all of the cursor setting manually through the\n",
        "     * 'cursor' event from matplotlib */\n",
        "    event.preventDefault();\n",
        "    return false;\n",
        "}\n",
        "\n",
        "mpl.figure.prototype.key_event = function(event, name) {\n",
        "    /* Don't fire events just when a modifier is changed.  Modifiers are\n",
        "       sent along with other keys. */\n",
        "    if (event.keyCode >= 16 && event.keyCode <= 20) {\n",
        "        return;\n",
        "    }\n",
        "\n",
        "    value = '';\n",
        "    if (event.ctrlKey) {\n",
        "        value += \"ctrl+\";\n",
        "    }\n",
        "    if (event.altKey) {\n",
        "        value += \"alt+\";\n",
        "    }\n",
        "    value += String.fromCharCode(event.keyCode).toLowerCase();\n",
        "\n",
        "    this.send_message(name, {key: value});\n",
        "}\n",
        "\n",
        "mpl.figure.prototype.toolbar_button_onclick = function(name) {\n",
        "    if (name == 'download') {\n",
        "        var format_dropdown = this.format_dropdown;\n",
        "        var format = format_dropdown.options[format_dropdown.selectedIndex].value;\n",
        "        this.ondownload(this, format);\n",
        "    } else {\n",
        "        this.send_message(\"toolbar_button\", {name: name});\n",
        "    }\n",
        "};\n",
        "\n",
        "mpl.figure.prototype.toolbar_button_onmouseover = function(tooltip) {\n",
        "    this.message.textContent = tooltip;\n",
        "};\n",
        "\n",
        "mpl.debounce_event = function(func, time){\n",
        "    var timer;\n",
        "    return function(event){\n",
        "        clearTimeout(timer);\n",
        "        timer = setTimeout(function(){ func(event); }, time);\n",
        "    };\n",
        "}\n",
        "\n",
        "mpl.debounce_resize = function(func, time){\n",
        "    var timer;\n",
        "    return function(event, ui){\n",
        "        clearTimeout(timer);\n",
        "        timer = setTimeout(function(){ func(event, ui); }, time);\n",
        "    };\n",
        "}\n",
        "mpl.toolbar_items = [[\"Home\", \"Reset original view\", \"icon-home\", \"home\"], [\"Back\", \"Back to  previous view\", \"icon-arrow-left\", \"back\"], [\"Forward\", \"Forward to next view\", \"icon-arrow-right\", \"forward\"], [\"\", \"\", \"\", \"\"], [\"Pan\", \"Pan axes with left mouse, zoom with right\", \"icon-move\", \"pan\"], [\"Zoom\", \"Zoom to rectangle\", \"icon-check-empty\", \"zoom\"], [\"\", \"\", \"\", \"\"]];\n",
        "\n",
        "mpl.extensions = [\"eps\", \"jpeg\", \"pgf\", \"pdf\", \"png\", \"ps\", \"raw\", \"svg\", \"tif\"];\n",
        "\n",
        "mpl.default_extension = \"png\";var comm_websocket_adapter = function(comm) {\n",
        "    // Create a \"websocket\"-like object which calls the given IPython comm\n",
        "    // object with the appropriate methods. Currently this is a non binary\n",
        "    // socket, so there is still some room for performance tuning.\n",
        "    var ws = {};\n",
        "\n",
        "    ws.close = function() {\n",
        "        comm.close()\n",
        "    };\n",
        "    ws.send = function(m) {\n",
        "        //console.log('sending', m);\n",
        "        comm.send(m);\n",
        "    };\n",
        "    // Register the callback with on_msg.\n",
        "    comm.on_msg(function(msg) {\n",
        "        //console.log('receiving', msg['content']['data'], msg);\n",
        "        // Pass the mpl event to the overriden (by mpl) onmessage function.\n",
        "        ws.onmessage(msg['content']['data'])\n",
        "    });\n",
        "    return ws;\n",
        "}\n",
        "\n",
        "mpl.mpl_figure_comm = function(comm, msg) {\n",
        "    // This is the function which gets called when the mpl process\n",
        "    // starts-up an IPython Comm through the \"matplotlib\" channel.\n",
        "\n",
        "    var id = msg.content.data.id;\n",
        "    var element = $(\"#\" + id);\n",
        "    var ws_proxy = comm_websocket_adapter(comm)\n",
        "\n",
        "    var fig = new mpl.figure(id, ws_proxy,\n",
        "                           function() { },\n",
        "                           element.get(0));\n",
        "\n",
        "    // Call onopen now - mpl needs it, as it is assuming we've passed it a real\n",
        "    // web socket which is closed, not our websocket->open comm proxy.\n",
        "    ws_proxy.onopen();\n",
        "\n",
        "    fig.parent_element = element.get(0);\n",
        "    fig.cell_info = mpl.find_output_cell(\"<div id='\" + id + \"'></div>\");\n",
        "\n",
        "    var output_index = fig.cell_info[2]\n",
        "    var cell = fig.cell_info[0];\n",
        "\n",
        "    // Disable right mouse context menu.\n",
        "    $(fig.rubberband_canvas).bind(\"contextmenu\",function(e){\n",
        "              return false;\n",
        "    });\n",
        "\n",
        "};\n",
        "\n",
        "mpl.figure.prototype.handle_close = function(fig, msg) {\n",
        "    // Update the output cell to use the data from the current canvas.\n",
        "    fig.push_to_output();\n",
        "    var dataURL = fig.canvas.toDataURL();\n",
        "    $(fig.parent_element).html('<img src=\"' + dataURL + '\">');\n",
        "    fig.send_message('closing', {});\n",
        "    fig.ws.close()\n",
        "}\n",
        "\n",
        "mpl.figure.prototype.push_to_output = function(remove_interactive) {\n",
        "    var dataURL = this.canvas.toDataURL();\n",
        "    this.cell_info[1]['text/html'] = '<img src=\"' + dataURL + '\">';\n",
        "}\n",
        "\n",
        "mpl.figure.prototype.updated_canvas_event = function() {\n",
        "    // Tell IPython that the notebook contents must change.\n",
        "    IPython.notebook.set_dirty(true);\n",
        "    this.send_message(\"ack\", {});\n",
        "    var fig = this;\n",
        "    // Wait a second, then push the new image to the DOM so\n",
        "    // that it is saved nicely (might be nice to debounce this).\n",
        "    setTimeout(function () { fig.push_to_output() }, 1000);\n",
        "}\n",
        "\n",
        "mpl.figure.prototype._init_toolbar = function() {\n",
        "    var fig = this;\n",
        "\n",
        "    var nav_element = $('<div/>')\n",
        "    nav_element.attr('style', 'width: 100%');\n",
        "    this.root.append(nav_element);\n",
        "\n",
        "    // Define a callback function for later on.\n",
        "    function toolbar_event(event) {\n",
        "        return fig.toolbar_button_onclick(event['data']);\n",
        "    }\n",
        "    function toolbar_mouse_event(event) {\n",
        "        return fig.toolbar_button_onmouseover(event['data']);\n",
        "    }\n",
        "\n",
        "    for(var toolbar_ind in mpl.toolbar_items){\n",
        "        var name = mpl.toolbar_items[toolbar_ind][0];\n",
        "        var tooltip = mpl.toolbar_items[toolbar_ind][1];\n",
        "        var image = mpl.toolbar_items[toolbar_ind][2];\n",
        "        var method_name = mpl.toolbar_items[toolbar_ind][3];\n",
        "\n",
        "        if (!name) { continue; };\n",
        "\n",
        "        var button = $('<button class=\"btn btn-default\" href=\"#\" title=\"' + name + '\"><i class=\"fa ' + image + ' fa-lg\"></i></button>');\n",
        "        button.click(method_name, toolbar_event);\n",
        "        button.mouseover(tooltip, toolbar_mouse_event);\n",
        "        nav_element.append(button);\n",
        "    }\n",
        "\n",
        "    // Add the status bar.\n",
        "    var status_bar = $('<span class=\"mpl-message\" style=\"text-align:right; float: right;\"/>');\n",
        "    nav_element.append(status_bar);\n",
        "    this.message = status_bar[0];\n",
        "\n",
        "    // Add the close button to the window.\n",
        "    var buttongrp = $('<div class=\"btn-group inline pull-right\"></div>');\n",
        "    var button = $('<button class=\"btn btn-mini btn-danger\" href=\"#\" title=\"Close figure\"><i class=\"fa icon-remove icon-large\"></i></button>');\n",
        "    button.click(function (evt) { fig.handle_close(fig, {}); } );\n",
        "    button.mouseover('Close figure', toolbar_mouse_event);\n",
        "    buttongrp.append(button);\n",
        "    var titlebar = this.root.find($('.ui-dialog-titlebar'));\n",
        "    titlebar.prepend(buttongrp);\n",
        "}\n",
        "\n",
        "mpl.find_output_cell = function(html_output) {\n",
        "    // Return the cell and output element which can be found *uniquely* in the notebook.\n",
        "    // Note - this is a bit hacky, but it is done because the \"notebook_saving.Notebook\"\n",
        "    // IPython event is triggered only after the cells have been serialised, which for\n",
        "    // our purposes (turning an active figure into a static one), is too late.\n",
        "    var cells = IPython.notebook.get_cells();\n",
        "    var ncells = cells.length;\n",
        "    for (var i=0; i<ncells; i++) {\n",
        "        var cell = cells[i];\n",
        "        if (cell.cell_type == 'code'){\n",
        "            for (var j=0; j<cell.output_area.outputs.length; j++) {\n",
        "                var data = cell.output_area.outputs[j];\n",
        "                if (cell.output_area.outputs[j]['text/html'] == html_output) {\n",
        "                    var output = cell.output_area.outputs[j];\n",
        "                    return [cell, output, j];\n",
        "                }\n",
        "            }\n",
        "        }\n",
        "    }\n",
        "}\n",
        "\n",
        "// Register the function which deals with the matplotlib target/channel.\n",
        "// The kernel may be null if the page has been refreshed.\n",
        "if (IPython.notebook.kernel != null) {\n",
        "    IPython.notebook.kernel.comm_manager.register_target('matplotlib', mpl.mpl_figure_comm);\n",
        "}\n"
       ],
       "metadata": {},
       "output_type": "display_data",
       "text": [
        "<IPython.core.display.Javascript at 0x7f66a386e810>"
       ]
      },
      {
       "html": [
        "<img src=\"data:image/png;base64,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\">"
       ],
       "metadata": {},
       "output_type": "display_data",
       "text": [
        "<IPython.core.display.HTML at 0x7f66a386e890>"
       ]
      },
      {
       "metadata": {},
       "output_type": "pyout",
       "prompt_number": 27,
       "text": [
        "[<matplotlib.lines.Line2D at 0x7f66a3510b10>]"
       ]
      }
     ],
     "prompt_number": 27
    },
    {
     "cell_type": "markdown",
     "metadata": {},
     "source": [
      "Usualmente as bibliotecas, ou m\u00f3dulos, s\u00e3o importados atrav\u00e9s do comando ```import NOME``` e as fun\u00e7\u00f5es das bibliotecas s\u00e3o chamadas precedidas pelo NOME do m\u00f3dulo. Vimos isso anteriormente com a biblioteca math:\n",
      "\n",
      "```python\n",
      "import math\n",
      "print math.sqrt(2)\n",
      "```\n",
      "Se soubermos exatamente as fun\u00e7\u00f5es que iremos utilizar do m\u00f3dulo, podemos import\u00e1-los seletivamente com a sintaxe ```from NOME import FUNCAO```, nesse caso n\u00e3o precisamos preceder a fun\u00e7\u00e3o com NOME para execut\u00e1-la:\n",
      "\n",
      "```python\n",
      "from math import sqrt, exp\n",
      "print sqrt(2), exp(3)\n",
      "```\n",
      "Finalmente podemos apelidar o nome do m\u00f3dulo para facilitar a chamada de fun\u00e7\u00f5es:\n",
      "\n",
      "```python\n",
      "import math as mt\n",
      "print mt.sqrt(2), mt.exp(3)\n",
      "```\n",
      "\n",
      "**Exemplo**\n",
      "\n",
      "Para o pr\u00f3ximo exerc\u00edcio vamos utilizar a biblioteca `urlib.request` que permite obter dados de p\u00e1ginas da internet. \n",
      "Cadastre-se em http://api.yandex.com/ e obtenha um \"API KEY\" e coloque essa string na vari\u00e1vel APIKEY no c\u00f3digo abaixo.\n",
      "\n",
      "Verifique tamb\u00e9m as poss\u00edveis combina\u00e7\u00f5es de idiomas de tradu\u00e7\u00f5es na p\u00e1gina: http://api.yandex.com/translate/doc/dg/reference/getLangs.xml\n",
      "\n",
      "Para traduzir o texto 'To be or not to be' do ingl\u00eas para o portugu\u00eas, por exemplo, basta acessar a url:\n",
      "\n",
      "https://translate.yandex.net/api/v1.5/tr.json/translate?key=APIKEY&lang=en-pt&text=To+be,+or+not+to+be\n",
      "\n",
      "substituindo APIKEY pela sua chave.\n",
      "\n",
      "Repare que essa url \u00e9 composta de tr\u00eas vari\u00e1veis: \n",
      "\n",
      "* APIKEY\n",
      "* lang: representa o idioma de origem e destino\n",
      "* text: o texto a ser traduzido com os espa\u00e7os substitu\u00eddos por +\n",
      "\n",
      "Complete o programa abaixo para que:\n",
      "\n",
      "* a vari\u00e1vel APIKEY contenha a sua chave\n",
      "* ele pe\u00e7a para entrar com um texto a ser traduzido, substituindo o espa\u00e7o por + (veja a documenta\u00e7\u00e3o de [strings](https://docs.python.org/2/library/string.html) )\n",
      "* crie uma lista com poss\u00edveis idiomas de tradu\u00e7\u00e3o e pe\u00e7a para o usu\u00e1rio selecionar os idiomas\n",
      "* componha a url concatenando os dados obtidos para obter a tradu\u00e7\u00e3o utilizando o comando `urlopen()` para abrir a p\u00e1gina e `read()` para ler o conte\u00fado dela."
     ]
    },
    {
     "cell_type": "code",
     "collapsed": false,
     "input": [
      "HTML('<iframe src=\"https://trinket.io/embed/python/da11824ba1\" width=\"100%\" height=\"400\" frameborder=\"0\" marginwidth=\"0\" marginheight=\"0\" allowfullscreen></iframe>')"
     ],
     "language": "python",
     "metadata": {},
     "outputs": [
      {
       "html": [
        "<iframe src=\"https://trinket.io/embed/python/da11824ba1\" width=\"100%\" height=\"400\" frameborder=\"0\" marginwidth=\"0\" marginheight=\"0\" allowfullscreen></iframe>"
       ],
       "metadata": {},
       "output_type": "pyout",
       "prompt_number": 28,
       "text": [
        "<IPython.core.display.HTML at 0x7f66a3225450>"
       ]
      }
     ],
     "prompt_number": 28
    },
    {
     "cell_type": "code",
     "collapsed": false,
     "input": [
      "# no ipython notebook temos que usar a biblioteca requests\n",
      "import requests\n",
      "\n",
      "APIKEY = 'trnsl.1.1.20141019T153920Z.c2ea774a4c45ef4b.4d2fccbf061f8f6903690b716126f7cd8ff79345'\n",
      "saida = requests.get('https://translate.yandex.net/api/v1.5/tr.json/translate?key=%s&lang=en-pt&text=To+be,+or+not+to+be' % (APIKEY))\n",
      "print saida.text"
     ],
     "language": "python",
     "metadata": {},
     "outputs": []
    }
   ],
   "metadata": {}
  }
 ]
}