{
 "metadata": {
  "name": "",
  "signature": "sha256:80b672ab4dc1788e90ce3c2c2fc3eeb0b44226e1b7706e3e64b96510f091e198"
 },
 "nbformat": 3,
 "nbformat_minor": 0,
 "worksheets": [
  {
   "cells": [
    {
     "cell_type": "code",
     "collapsed": false,
     "input": [
      "# ignore esse c\u00f3digo inicial, \u00e9 apenas para preparar a p\u00e1gina\n",
      "from IPython.display import YouTubeVideo, HTML, Image, display\n",
      "css_file = './modelo.css'\n",
      "HTML(open(css_file, \"r\").read())"
     ],
     "language": "python",
     "metadata": {},
     "outputs": [
      {
       "html": [
        "<style>\n",
        "\n",
        "@font-face {\n",
        "    font-family: \"Computer Modern\";\n",
        "    src: url('http://mirrors.ctan.org/fonts/cm-unicode/fonts/otf/cmunss.otf');\n",
        "}\n",
        "\n",
        "#notebook_panel { /* main background */\n",
        "    background: #888;\n",
        "    color: #f6f6f6;\n",
        "}\n",
        "\n",
        "div.cell { /* set cell width to about 80 chars */\n",
        "    width: 900px;\n",
        "}\n",
        "\n",
        "div #notebook { /* centre the content */\n",
        "    background: #fff; /* white background for content */\n",
        "    width: 1000px;\n",
        "    margin: auto;\n",
        "    padding-left: 1em;\n",
        "}\n",
        "\n",
        "#notebook li { /* More space between bullet points */\n",
        "margin-top:0.8em;\n",
        "}\n",
        "/* draw border around running cells */\n",
        "div.cell.border-box-sizing.code_cell.running {\n",
        "    border: 3px solid #111;\n",
        "}\n",
        "/* Put a solid color box around each cell and its output, visually linking them together */\n",
        "div.cell.code_cell {\n",
        "    background-color: rgba(171,165,131,0.3); \n",
        "    border-radius: 10px; /* rounded borders */\n",
        "    padding: 1em;\n",
        "    margin-top: 1em;\n",
        "}\n",
        "div.text_cell_render{\n",
        "    font-family: 'Arvo' sans-serif;\n",
        "    line-height: 130%;\n",
        "    font-size: 115%;\n",
        "    width:700px;\n",
        "    margin-left:auto;\n",
        "    margin-right:auto;\n",
        "}\n",
        "/* Formatting for header cells */\n",
        ".text_cell_render h1 {\n",
        "    font-family: 'Philosopher', sans-serif;\n",
        "    font-weight: 400;\n",
        "    font-size: 40pt;\n",
        "    text-align: center;\n",
        "    line-height: 100%;\n",
        "    color: rgb(12,85,97);\n",
        "    margin-bottom: 0.1em;\n",
        "    margin-top: 0.1em;\n",
        "    display: block;\n",
        "}\n",
        "\n",
        ".text_cell_render h2 {\n",
        "    font-family: 'Philosopher', serif;\n",
        "    font-weight: 700;\n",
        "    font-size: 24pt;\n",
        "    line-height: 100%;\n",
        "    color: rgb(171,165,131);\n",
        "    margin-bottom: 0.1em;\n",
        "    margin-top: 0.1em;\n",
        "    display: block;\n",
        "}    \n",
        "\n",
        ".text_cell_render h3 {\n",
        "    font-family: 'Philosopher', serif;\n",
        "    margin-top:12px;\n",
        "    margin-bottom: 3px;\n",
        "    font-style: italic;\n",
        "    color: rgb(95,92,72);\n",
        "}\n",
        "\n",
        ".text_cell_render h4 {\n",
        "    font-family: 'Philosopher', serif;\n",
        "}\n",
        "\n",
        ".text_cell_render h5 {\n",
        "    font-family: 'Alegreya Sans', sans-serif;\n",
        "    font-weight: 300;\n",
        "    font-size: 16pt;\n",
        "    color: grey;\n",
        "    font-style: italic;\n",
        "    margin-bottom: .1em;\n",
        "    margin-top: 0.1em;\n",
        "    display: block;\n",
        "}\n",
        "\n",
        ".text_cell_render h6 {\n",
        "    font-family: 'PT Mono', sans-serif;\n",
        "    font-weight: 300;\n",
        "    font-size: 10pt;\n",
        "    color: grey;\n",
        "    margin-bottom: 1px;\n",
        "    margin-top: 1px;\n",
        "}\n",
        ".CodeMirror{\n",
        "        font-family: \"PT Mono\";\n",
        "        font-size: 100%;\n",
        "}\n",
        ".raw_input_prompt{\n",
        "\tcolor: black;\n",
        "}\n",
        "input.raw_input{\n",
        "\tcolor: black;\n",
        "}\n",
        "</style>\n"
       ],
       "metadata": {},
       "output_type": "pyout",
       "prompt_number": 1,
       "text": [
        "<IPython.core.display.HTML at 0x7f61e82c46d0>"
       ]
      }
     ],
     "prompt_number": 1
    },
    {
     "cell_type": "heading",
     "level": 1,
     "metadata": {},
     "source": [
      "Introdu\u00e7\u00e3o \u00e0 Programa\u00e7\u00e3o em Python"
     ]
    },
    {
     "cell_type": "heading",
     "level": 2,
     "metadata": {},
     "source": [
      "Dicion\u00e1rios"
     ]
    },
    {
     "cell_type": "markdown",
     "metadata": {},
     "source": [
      "Vamos criar um programa que gerencia uma agenda telef\u00f4nica.\n",
      "\n",
      "Para esse fim, armazenaremos nossos contatos em uma lista.\n",
      "\n",
      "Teremos que criar uma fun\u00e7\u00e3o para adicionar um contato e outra para procurar pelo contato (vamos supor que nunca apagaremos um contato da lista)."
     ]
    },
    {
     "cell_type": "code",
     "collapsed": false,
     "input": [
      "\"\"\"\n",
      "A lista de contatos ter\u00e1 o formato:\n",
      "[ [\"nome\", \"telefone\"] ]\n",
      "\"\"\"\n",
      "\n",
      "def Procura(nome, agenda):\n",
      "    for contato in agenda:\n",
      "        if contato[0] == nome:\n",
      "            return contato[1]\n",
      "    return None\n",
      "\n",
      "def Adiciona(nome, telefone, agenda):\n",
      "    if Procura(nome, agenda) == None:\n",
      "        agenda.append([nome,telefone])\n",
      "\n",
      "agenda = []\n",
      "Adiciona(\"Joao\",\"3333-2332\", agenda)\n",
      "print agenda\n",
      "Adiciona(\"Maria\",\"444-2332\", agenda)\n",
      "print agenda\n",
      "Adiciona(\"Jose\",\"2233-2332\", agenda)\n",
      "print agenda\n",
      "Adiciona(\"Joao\",\"3333-2332\", agenda)\n",
      "print agenda"
     ],
     "language": "python",
     "metadata": {},
     "outputs": [
      {
       "output_type": "stream",
       "stream": "stdout",
       "text": [
        "[['Joao', '3333-2332']]\n",
        "[['Joao', '3333-2332'], ['Maria', '444-2332']]\n",
        "[['Joao', '3333-2332'], ['Maria', '444-2332'], ['Jose', '2233-2332']]\n",
        "[['Joao', '3333-2332'], ['Maria', '444-2332'], ['Jose', '2233-2332']]\n"
       ]
      }
     ],
     "prompt_number": 3
    },
    {
     "cell_type": "markdown",
     "metadata": {},
     "source": [
      "A palavra-chave `None` significa que voc\u00ea n\u00e3o quer retornar nada!\n",
      "\n",
      "**Cuidado:** Note que n\u00e3o \u00e9 necess\u00e1rio retornar a lista na fun\u00e7\u00e3o `Adiciona()`. As listas passadas como par\u00e2metros de uma fun\u00e7\u00e3o s\u00e3o alteradas diretamente!"
     ]
    },
    {
     "cell_type": "markdown",
     "metadata": {},
     "source": [
      "O Python possui um tipo de vari\u00e1vel que facilita o uso de estruturas desse tipo, conhecida como **dicion\u00e1rios**."
     ]
    },
    {
     "cell_type": "code",
     "collapsed": false,
     "input": [
      "agenda = {}\n",
      "agenda['Joao'] = \"3333-2332\"\n",
      "print agenda\n",
      "agenda[\"Maria\"] = \"444-2332\"\n",
      "print agenda\n",
      "agenda[\"Jose\"] = \"2233-2332\"\n",
      "print agenda\n",
      "agenda['Joao'] = \"3333-2332\"\n",
      "print agenda"
     ],
     "language": "python",
     "metadata": {},
     "outputs": [
      {
       "output_type": "stream",
       "stream": "stdout",
       "text": [
        "{'Joao': '3333-2332'}\n",
        "{'Joao': '3333-2332', 'Maria': '444-2332'}\n",
        "{'Jose': '2233-2332', 'Joao': '3333-2332', 'Maria': '444-2332'}\n",
        "{'Jose': '2233-2332', 'Joao': '3333-2332', 'Maria': '444-2332'}\n"
       ]
      }
     ],
     "prompt_number": 4
    },
    {
     "cell_type": "code",
     "collapsed": false,
     "input": [
      "agenda = {'Jose': '2233-2332', 'Joao': '3333-2332', 'Maria': '444-2332'}\n",
      "print agenda"
     ],
     "language": "python",
     "metadata": {},
     "outputs": [
      {
       "output_type": "stream",
       "stream": "stdout",
       "text": [
        "{'Jose': '2233-2332', 'Joao': '3333-2332', 'Maria': '444-2332'}\n"
       ]
      }
     ],
     "prompt_number": 47
    },
    {
     "cell_type": "markdown",
     "metadata": {},
     "source": [
      "Essa estrutura permite adicionar telefones indexados pelo nome!\n",
      "\n",
      "Dessa forma podemos acessar um telefone da seguinte forma:"
     ]
    },
    {
     "cell_type": "code",
     "collapsed": false,
     "input": [
      "print agenda['Joao']"
     ],
     "language": "python",
     "metadata": {},
     "outputs": [
      {
       "output_type": "stream",
       "stream": "stdout",
       "text": [
        "3333-2332\n"
       ]
      }
     ],
     "prompt_number": 5
    },
    {
     "cell_type": "markdown",
     "metadata": {},
     "source": [
      "Tamb\u00e9m podemos verificar se um elemento existe nessa agenda:"
     ]
    },
    {
     "cell_type": "code",
     "collapsed": false,
     "input": [
      "print \"Joao\" in agenda, \"Mario\" in agenda"
     ],
     "language": "python",
     "metadata": {},
     "outputs": [
      {
       "output_type": "stream",
       "stream": "stdout",
       "text": [
        "True False\n"
       ]
      }
     ],
     "prompt_number": 6
    },
    {
     "cell_type": "markdown",
     "metadata": {},
     "source": [
      "Tamb\u00e9m \u00e9 poss\u00edvel obter a lista de nomes e de telefones:"
     ]
    },
    {
     "cell_type": "code",
     "collapsed": false,
     "input": [
      "print agenda.keys()\n",
      "print agenda.values()"
     ],
     "language": "python",
     "metadata": {},
     "outputs": [
      {
       "output_type": "stream",
       "stream": "stdout",
       "text": [
        "['Jose', 'Joao', 'Maria']\n",
        "['2233-2332', '3333-2332', '444-2332']\n"
       ]
      }
     ],
     "prompt_number": 7
    },
    {
     "cell_type": "markdown",
     "metadata": {},
     "source": [
      "E percorrer todos os nomes e valores ao mesmo tempo:"
     ]
    },
    {
     "cell_type": "code",
     "collapsed": false,
     "input": [
      "for nome, telefone in agenda.iteritems():\n",
      "    print \"O telefone de\", nome, \"\u00e9\", telefone"
     ],
     "language": "python",
     "metadata": {},
     "outputs": [
      {
       "output_type": "stream",
       "stream": "stdout",
       "text": [
        "O telefone de Jose \u00e9 2233-2332\n",
        "O telefone de Joao \u00e9 3333-2332\n",
        "O telefone de Maria \u00e9 444-2332\n"
       ]
      }
     ],
     "prompt_number": 9
    },
    {
     "cell_type": "markdown",
     "metadata": {},
     "source": [
      "**Anagrama:** determine se uma palavra $p1$ \u00e9 anagrama da palavra $p2$.\n",
      "\n",
      "$p1$ e $p2$ s\u00e3o anagramas se for poss\u00edvel escrever $p1$ utilizando as letras de $p2$. Ex.:\n",
      "\n",
      "* amor, roma\n",
      "* pedro, poder\n",
      "* rato, rota\n",
      "* assim, missa"
     ]
    },
    {
     "cell_type": "markdown",
     "metadata": {},
     "source": [
      "Para resolver esse problema basta verificar se a lista de frequ\u00eancias das letras de $p1$ \u00e9 igual a de $p2$:"
     ]
    },
    {
     "cell_type": "code",
     "collapsed": false,
     "input": [
      "def Anagrama(p1,p2):\n",
      "    return FreqLetras(p1) == FreqLetras(p2)"
     ],
     "language": "python",
     "metadata": {},
     "outputs": [],
     "prompt_number": 46
    },
    {
     "cell_type": "markdown",
     "metadata": {},
     "source": [
      "Uma lista de frequ\u00eancias de letras pode ser feita na forma (ex.: amar):\n",
      "\n",
      "```\n",
      "Freq['a'] = 2\n",
      "Freq['b'] = 0\n",
      "...\n",
      "Freq['m'] = 1\n",
      "...\n",
      "Freq['r'] = 1\n",
      "...\n",
      "Freq['z'] = 0\n",
      "```"
     ]
    },
    {
     "cell_type": "markdown",
     "metadata": {},
     "source": [
      "Ou ignorando as letras com frequ\u00eancia igual a $0$:\n",
      "\n",
      "```\n",
      "Freq = { 'a':2, 'm':1, 'r':1' }\n",
      "```"
     ]
    },
    {
     "cell_type": "code",
     "collapsed": false,
     "input": [
      "def FreqLetras(palavra):\n",
      "    Freq = {}\n",
      "    for letra in palavra:\n",
      "        # se a letra j\u00e1 existe, acrescenta mais 1\n",
      "        if letra in Freq:\n",
      "            Freq[letra] += 1  # Syntactic sugar para Freq[letra] = Freq[letra] + 1\n",
      "        else:\n",
      "            Freq[letra] = 1\n",
      "    return Freq\n",
      "\n",
      "print Anagrama(\"amor\", \"roma\")\n",
      "print Anagrama(\"amor\", \"terror\")"
     ],
     "language": "python",
     "metadata": {},
     "outputs": [
      {
       "output_type": "stream",
       "stream": "stdout",
       "text": [
        "True\n",
        "False\n"
       ]
      }
     ],
     "prompt_number": 48
    },
    {
     "cell_type": "markdown",
     "metadata": {},
     "source": [
      "Para facilitar podemos utilizar a fun\u00e7\u00e3o `defaultdict` da biblioteca [`collections`](https://docs.python.org/2/library/collections.html#collections.defaultdict) que permite criar um dicion\u00e1rio em que toda chave inexistente cont\u00e9m um valor padr\u00e3o:"
     ]
    },
    {
     "cell_type": "code",
     "collapsed": false,
     "input": [
      "from collections import defaultdict\n",
      "\n",
      "def Padrao():\n",
      "    return 0\n",
      "\n",
      "Freq = defaultdict( Padrao )\n",
      "print Freq['a']\n",
      "Freq['a'] += 10\n",
      "print Freq['a']"
     ],
     "language": "python",
     "metadata": {},
     "outputs": [
      {
       "output_type": "stream",
       "stream": "stdout",
       "text": [
        "0\n",
        "10\n"
       ]
      }
     ],
     "prompt_number": 52
    },
    {
     "cell_type": "markdown",
     "metadata": {},
     "source": [
      "De forma conveniente, a fun\u00e7\u00e3o `int()`, usada para converter um valor para inteiro, retorna `0` caso nenhum par\u00e2metro seja passado para ela.\n",
      "\n",
      "*Nota:* da mesma forma, `float()`  retorna `0.0` e `str()` retorna `''`."
     ]
    },
    {
     "cell_type": "code",
     "collapsed": false,
     "input": [
      "from collections import defaultdict\n",
      "\n",
      "print int()\n",
      "Freq = defaultdict( int )\n",
      "print Freq['a']\n",
      "Freq['a'] += 10\n",
      "print Freq['a']"
     ],
     "language": "python",
     "metadata": {},
     "outputs": [
      {
       "output_type": "stream",
       "stream": "stdout",
       "text": [
        "0\n",
        "0\n",
        "10\n"
       ]
      }
     ],
     "prompt_number": 53
    },
    {
     "cell_type": "code",
     "collapsed": false,
     "input": [
      "def FreqLetras(palavra):\n",
      "    Freq = defaultdict( int )\n",
      "    for letra in palavra:\n",
      "        Freq[letra] += 1\n",
      "    return Freq\n",
      "\n",
      "print Anagrama(\"amor\", \"roma\")\n",
      "print Anagrama(\"amor\", \"terror\")"
     ],
     "language": "python",
     "metadata": {},
     "outputs": [
      {
       "output_type": "stream",
       "stream": "stdout",
       "text": [
        "True\n",
        "False\n"
       ]
      }
     ],
     "prompt_number": 54
    },
    {
     "cell_type": "heading",
     "level": 2,
     "metadata": {},
     "source": [
      "Dicion\u00e1rios como Mapa de Substitui\u00e7\u00e3o"
     ]
    },
    {
     "cell_type": "markdown",
     "metadata": {},
     "source": [
      "**Escrita L337:** no submundo hacker \u00e9 comum escrever as palavras com a substitui\u00e7\u00e3o de algumas letras por n\u00fameros ou s\u00edmbolos como exemplificado abaixo:\n",
      "\n",
      "|Letra|L337|\n",
      "|--|--|\n",
      "|A|4|\n",
      "|C|(|\n",
      "|E|3|\n",
      "|G|6|\n",
      "|H|#|\n",
      "|I|!|\n",
      "|O|0|\n",
      "|S|$|\n",
      "|T|7|\n",
      "|X|%|"
     ]
    },
    {
     "cell_type": "markdown",
     "metadata": {},
     "source": [
      "Podemos criar um dicion\u00e1rio que mapeia cada letra do alfabeto para seu correspondente L337, se houver, ou a pr\u00f3pria letra caso contr\u00e1rio.\n",
      "\n",
      "Temos que tomar o cuidado de fazer o mapa para mai\u00fasculas ou m\u00ednusculas."
     ]
    },
    {
     "cell_type": "markdown",
     "metadata": {},
     "source": [
      "Vamos primeiro criar uma lista de *tuplas* contendo as letras que queremos mapear.\n",
      "\n",
      "**tuplas** s\u00e3o listas que n\u00e3o podem ser alteradas, elas s\u00e3o definidas por par\u00eanteses ao inv\u00e9s de colchetes."
     ]
    },
    {
     "cell_type": "code",
     "collapsed": false,
     "input": [
      "trocas = [ ('A', '4'), ('C', '('), ('E', '3'), ('G','6'), ('H','#'), ('I','!'), ('O','0'), ('S','$'), ('T','7'), ('X','%') ]"
     ],
     "language": "python",
     "metadata": {},
     "outputs": [],
     "prompt_number": 55
    },
    {
     "cell_type": "markdown",
     "metadata": {},
     "source": [
      "Em seguida percorremos essa lista de trocas para gerar nosso dicion\u00e1rio `Mapa`.\n",
      "\n",
      "Sabendo que todas as tuplas tem apenas dois elementos podemos percorrer essa lista de uma forma conveniente:"
     ]
    },
    {
     "cell_type": "code",
     "collapsed": false,
     "input": [
      "Mapa = {}\n",
      "for letra, l337 in trocas:\n",
      "    Mapa[letra.lower()] = l337 # converte a letra para min\u00fascula\n",
      "    Mapa[letra.upper()] = l337 # converte a letra para mai\u00fascula"
     ],
     "language": "python",
     "metadata": {},
     "outputs": [],
     "prompt_number": 57
    },
    {
     "cell_type": "markdown",
     "metadata": {},
     "source": [
      "Agora basta que a nossa fun\u00e7\u00e3o fa\u00e7a o seguinte, dado um mapa de trocas e uma frase, construir uma string da seguinte maneira:\n",
      "\n",
      "* Para cada letra da palavra:\n",
      "  - Se a letra existir no Mapa, adiciona a letra convertida na nova palavra\n",
      "  - Sen\u00e3o, adiciona a pr\u00f3pria letra\n",
      "  \n",
      "Para facilitar a constru\u00e7\u00e3o da string, vamos adicionar cada letra da nova palavra em uma lista.\n",
      "\n",
      "Em seguida podemos usar o seguinte comando para construir uma string a partir de uma lista de letras:\n",
      "\n",
      "```\n",
      "palavra = ''.join(listaLetras)\n",
      "```"
     ]
    },
    {
     "cell_type": "code",
     "collapsed": false,
     "input": [
      "def converte(palavra, Mapa):\n",
      "    listaLetras = []\n",
      "    for letra in palavra:\n",
      "        if letra in Mapa:\n",
      "            listaLetras.append(Mapa[letra])\n",
      "        else:\n",
      "            listaLetras.append(letra)\n",
      "    return ''.join(listaLetras)\n",
      "\n",
      "print converte('Agora somos hackers', Mapa)"
     ],
     "language": "python",
     "metadata": {},
     "outputs": [
      {
       "output_type": "stream",
       "stream": "stdout",
       "text": [
        "460r4 $0m0$ #4(k3r$\n"
       ]
      }
     ],
     "prompt_number": 58
    },
    {
     "cell_type": "markdown",
     "metadata": {},
     "source": [
      "Para evitar a condicional para verificar se a letra existe no Mapa, podemos usar o comando `.get(chave, padrao)` que recebe dois par\u00e2metros:\n",
      "\n",
      "* a chave que queremos recuperar do dicion\u00e1rio\n",
      "* valor padr\u00e3o caso a chave n\u00e3o seja encontrada"
     ]
    },
    {
     "cell_type": "code",
     "collapsed": false,
     "input": [
      "def converte(palavra, Mapa):\n",
      "    listaLetras = []\n",
      "    for letra in palavra:\n",
      "        listaLetras.append( Mapa.get(letra, letra) )  # se n\u00e3o encontrar a letra, queremos que retorne a mesma letra\n",
      "    return ''.join(listaLetras)\n",
      "\n",
      "print Mapa.get('A', 'A')\n",
      "print Mapa.get('B', 'B')\n",
      "print converte('Agora somos mais hackers', Mapa)"
     ],
     "language": "python",
     "metadata": {},
     "outputs": [
      {
       "output_type": "stream",
       "stream": "stdout",
       "text": [
        "4\n",
        "B\n",
        "460r4 $0m0$ m4!$ #4(k3r$\n"
       ]
      }
     ],
     "prompt_number": 61
    },
    {
     "cell_type": "markdown",
     "metadata": {},
     "source": [
      "Podemos reduzir ainda mais essa fun\u00e7\u00e3o usando **list comprehension**:"
     ]
    },
    {
     "cell_type": "code",
     "collapsed": false,
     "input": [
      "def converte(palavra, Mapa):\n",
      "    return ''.join( [ Mapa.get(letra, letra) for letra in palavra ] )\n",
      "\n",
      "print converte('Agora somos muito hackers', Mapa)"
     ],
     "language": "python",
     "metadata": {},
     "outputs": [
      {
       "output_type": "stream",
       "stream": "stdout",
       "text": [
        "460r4 $0m0$ mu!70 #4(k3r$\n"
       ]
      }
     ],
     "prompt_number": 60
    }
   ],
   "metadata": {}
  }
 ]
}