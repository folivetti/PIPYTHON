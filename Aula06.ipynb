{
 "metadata": {
  "name": "",
  "signature": "sha256:3313b4f30101a2d491f5ed3bc04eb1c45f00acd9ae292c3303b8eee78ff0cdf2"
 },
 "nbformat": 3,
 "nbformat_minor": 0,
 "worksheets": [
  {
   "cells": [
    {
     "cell_type": "code",
     "collapsed": false,
     "input": [
      "# ignore esse c\u00f3digo inicial, \u00e9 apenas para preparar a p\u00e1gina\n",
      "from IPython.display import YouTubeVideo, HTML, Image, display\n",
      "css_file = './modelo.css'\n",
      "HTML(open(css_file, \"r\").read())"
     ],
     "language": "python",
     "metadata": {},
     "outputs": [
      {
       "html": [
        "<style>\n",
        "\n",
        "@font-face {\n",
        "    font-family: \"Computer Modern\";\n",
        "    src: url('http://mirrors.ctan.org/fonts/cm-unicode/fonts/otf/cmunss.otf');\n",
        "}\n",
        "\n",
        "#notebook_panel { /* main background */\n",
        "    background: #888;\n",
        "    color: #f6f6f6;\n",
        "}\n",
        "\n",
        "div.cell { /* set cell width to about 80 chars */\n",
        "    width: 900px;\n",
        "}\n",
        "\n",
        "div #notebook { /* centre the content */\n",
        "    background: #fff; /* white background for content */\n",
        "    width: 1000px;\n",
        "    margin: auto;\n",
        "    padding-left: 1em;\n",
        "}\n",
        "\n",
        "#notebook li { /* More space between bullet points */\n",
        "margin-top:0.8em;\n",
        "}\n",
        "/* draw border around running cells */\n",
        "div.cell.border-box-sizing.code_cell.running {\n",
        "    border: 3px solid #111;\n",
        "}\n",
        "/* Put a solid color box around each cell and its output, visually linking them together */\n",
        "div.cell.code_cell {\n",
        "    background-color: rgba(171,165,131,0.3); \n",
        "    border-radius: 10px; /* rounded borders */\n",
        "    padding: 1em;\n",
        "    margin-top: 1em;\n",
        "}\n",
        "div.text_cell_render{\n",
        "    font-family: 'Arvo' sans-serif;\n",
        "    line-height: 130%;\n",
        "    font-size: 115%;\n",
        "    width:700px;\n",
        "    margin-left:auto;\n",
        "    margin-right:auto;\n",
        "}\n",
        "/* Formatting for header cells */\n",
        ".text_cell_render h1 {\n",
        "    font-family: 'Philosopher', sans-serif;\n",
        "    font-weight: 400;\n",
        "    font-size: 40pt;\n",
        "    text-align: center;\n",
        "    line-height: 100%;\n",
        "    color: rgb(12,85,97);\n",
        "    margin-bottom: 0.1em;\n",
        "    margin-top: 0.1em;\n",
        "    display: block;\n",
        "}\n",
        "\n",
        ".text_cell_render h2 {\n",
        "    font-family: 'Philosopher', serif;\n",
        "    font-weight: 700;\n",
        "    font-size: 24pt;\n",
        "    line-height: 100%;\n",
        "    color: rgb(171,165,131);\n",
        "    margin-bottom: 0.1em;\n",
        "    margin-top: 0.1em;\n",
        "    display: block;\n",
        "}    \n",
        "\n",
        ".text_cell_render h3 {\n",
        "    font-family: 'Philosopher', serif;\n",
        "    margin-top:12px;\n",
        "    margin-bottom: 3px;\n",
        "    font-style: italic;\n",
        "    color: rgb(95,92,72);\n",
        "}\n",
        "\n",
        ".text_cell_render h4 {\n",
        "    font-family: 'Philosopher', serif;\n",
        "}\n",
        "\n",
        ".text_cell_render h5 {\n",
        "    font-family: 'Alegreya Sans', sans-serif;\n",
        "    font-weight: 300;\n",
        "    font-size: 16pt;\n",
        "    color: grey;\n",
        "    font-style: italic;\n",
        "    margin-bottom: .1em;\n",
        "    margin-top: 0.1em;\n",
        "    display: block;\n",
        "}\n",
        "\n",
        ".text_cell_render h6 {\n",
        "    font-family: 'PT Mono', sans-serif;\n",
        "    font-weight: 300;\n",
        "    font-size: 10pt;\n",
        "    color: grey;\n",
        "    margin-bottom: 1px;\n",
        "    margin-top: 1px;\n",
        "}\n",
        ".CodeMirror{\n",
        "        font-family: \"PT Mono\";\n",
        "        font-size: 100%;\n",
        "}\n",
        ".raw_input_prompt{\n",
        "\tcolor: black;\n",
        "}\n",
        "input.raw_input{\n",
        "\tcolor: black;\n",
        "}\n",
        "</style>\n"
       ],
       "metadata": {},
       "output_type": "pyout",
       "prompt_number": 1,
       "text": [
        "<IPython.core.display.HTML at 0x7f61e82c46d0>"
       ]
      }
     ],
     "prompt_number": 1
    },
    {
     "cell_type": "heading",
     "level": 1,
     "metadata": {},
     "source": [
      "Introdu\u00e7\u00e3o \u00e0 Programa\u00e7\u00e3o em Python"
     ]
    },
    {
     "cell_type": "heading",
     "level": 2,
     "metadata": {},
     "source": [
      "Dicion\u00e1rios"
     ]
    },
    {
     "cell_type": "markdown",
     "metadata": {},
     "source": [
      "Vamos criar um programa que gerencia uma agenda telef\u00f4nica.\n",
      "\n",
      "Para esse fim, armazenaremos nossos contatos em uma lista.\n",
      "\n",
      "Teremos que criar uma fun\u00e7\u00e3o para adicionar um contato e outra para procurar pelo contato (vamos supor que nunca apagaremos um contato da lista)."
     ]
    },
    {
     "cell_type": "code",
     "collapsed": false,
     "input": [
      "\"\"\"\n",
      "A lista de contatos ter\u00e1 o formato:\n",
      "[ [\"nome\", \"telefone\"] ]\n",
      "\"\"\"\n",
      "\n",
      "def Procura(nome, agenda):\n",
      "    for contato in agenda:\n",
      "        if contato[0] == nome:\n",
      "            return contato[1]\n",
      "    return None\n",
      "\n",
      "def Adiciona(nome, telefone, agenda):\n",
      "    if Procura(nome, agenda) == None:\n",
      "        agenda.append([nome,telefone])\n",
      "\n",
      "agenda = []\n",
      "Adiciona(\"Joao\",\"3333-2332\", agenda)\n",
      "print agenda\n",
      "Adiciona(\"Maria\",\"444-2332\", agenda)\n",
      "print agenda\n",
      "Adiciona(\"Jose\",\"2233-2332\", agenda)\n",
      "print agenda\n",
      "Adiciona(\"Joao\",\"3333-2332\", agenda)\n",
      "print agenda"
     ],
     "language": "python",
     "metadata": {},
     "outputs": [
      {
       "output_type": "stream",
       "stream": "stdout",
       "text": [
        "[['Joao', '3333-2332']]\n",
        "[['Joao', '3333-2332'], ['Maria', '444-2332']]\n",
        "[['Joao', '3333-2332'], ['Maria', '444-2332'], ['Jose', '2233-2332']]\n",
        "[['Joao', '3333-2332'], ['Maria', '444-2332'], ['Jose', '2233-2332']]\n"
       ]
      }
     ],
     "prompt_number": 3
    },
    {
     "cell_type": "markdown",
     "metadata": {},
     "source": [
      "A palavra-chave `None` significa que voc\u00ea n\u00e3o quer retornar nada!\n",
      "\n",
      "**Cuidado:** Note que n\u00e3o \u00e9 necess\u00e1rio retornar a lista na fun\u00e7\u00e3o `Adiciona()`. As listas passadas como par\u00e2metros de uma fun\u00e7\u00e3o s\u00e3o alteradas diretamente!"
     ]
    },
    {
     "cell_type": "markdown",
     "metadata": {},
     "source": [
      "O Python possui um tipo de vari\u00e1vel que facilita o uso de estruturas desse tipo, conhecida como **dicion\u00e1rios**."
     ]
    },
    {
     "cell_type": "code",
     "collapsed": false,
     "input": [
      "agenda = {}\n",
      "agenda['Joao'] = \"3333-2332\"\n",
      "print agenda\n",
      "agenda[\"Maria\"] = \"444-2332\"\n",
      "print agenda\n",
      "agenda[\"Jose\"] = \"2233-2332\"\n",
      "print agenda\n",
      "agenda['Joao'] = \"3333-2332\"\n",
      "print agenda"
     ],
     "language": "python",
     "metadata": {},
     "outputs": [
      {
       "output_type": "stream",
       "stream": "stdout",
       "text": [
        "{'Joao': '3333-2332'}\n",
        "{'Joao': '3333-2332', 'Maria': '444-2332'}\n",
        "{'Jose': '2233-2332', 'Joao': '3333-2332', 'Maria': '444-2332'}\n",
        "{'Jose': '2233-2332', 'Joao': '3333-2332', 'Maria': '444-2332'}\n"
       ]
      }
     ],
     "prompt_number": 4
    },
    {
     "cell_type": "markdown",
     "metadata": {},
     "source": [
      "Essa estrutura permite adicionar telefones indexados pelo nome!\n",
      "\n",
      "Dessa forma podemos acessar um telefone da seguinte forma:"
     ]
    },
    {
     "cell_type": "code",
     "collapsed": false,
     "input": [
      "print agenda['Joao']"
     ],
     "language": "python",
     "metadata": {},
     "outputs": [
      {
       "output_type": "stream",
       "stream": "stdout",
       "text": [
        "3333-2332\n"
       ]
      }
     ],
     "prompt_number": 5
    },
    {
     "cell_type": "markdown",
     "metadata": {},
     "source": [
      "Tamb\u00e9m podemos verificar se um elemento existe nessa agenda:"
     ]
    },
    {
     "cell_type": "code",
     "collapsed": false,
     "input": [
      "print \"Joao\" in agenda, \"Mario\" in agenda"
     ],
     "language": "python",
     "metadata": {},
     "outputs": [
      {
       "output_type": "stream",
       "stream": "stdout",
       "text": [
        "True False\n"
       ]
      }
     ],
     "prompt_number": 6
    },
    {
     "cell_type": "markdown",
     "metadata": {},
     "source": [
      "Tamb\u00e9m \u00e9 poss\u00edvel obter a lista de nomes e de telefones:"
     ]
    },
    {
     "cell_type": "code",
     "collapsed": false,
     "input": [
      "print agenda.keys()\n",
      "print agenda.values()"
     ],
     "language": "python",
     "metadata": {},
     "outputs": [
      {
       "output_type": "stream",
       "stream": "stdout",
       "text": [
        "['Jose', 'Joao', 'Maria']\n",
        "['2233-2332', '3333-2332', '444-2332']\n"
       ]
      }
     ],
     "prompt_number": 7
    },
    {
     "cell_type": "markdown",
     "metadata": {},
     "source": [
      "E percorrer todos os nomes e valores ao mesmo tempo:"
     ]
    },
    {
     "cell_type": "code",
     "collapsed": false,
     "input": [
      "for nome, telefone in agenda.iteritems():\n",
      "    print \"O telefone de\", nome, \"\u00e9\", telefone"
     ],
     "language": "python",
     "metadata": {},
     "outputs": [
      {
       "output_type": "stream",
       "stream": "stdout",
       "text": [
        "O telefone de Jose \u00e9 2233-2332\n",
        "O telefone de Joao \u00e9 3333-2332\n",
        "O telefone de Maria \u00e9 444-2332\n"
       ]
      }
     ],
     "prompt_number": 9
    },
    {
     "cell_type": "markdown",
     "metadata": {},
     "source": [
      "Vamos fazer um Gerador de Lero-Lero utilizando dicion\u00e1rios.\n",
      "\n",
      "\n",
      "bla bla bla teoria"
     ]
    },
    {
     "cell_type": "code",
     "collapsed": false,
     "input": [],
     "language": "python",
     "metadata": {},
     "outputs": []
    }
   ],
   "metadata": {}
  }
 ]
}