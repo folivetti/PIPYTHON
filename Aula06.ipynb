{
 "cells": [
  {
   "cell_type": "code",
   "execution_count": 3,
   "metadata": {
    "collapsed": false,
    "slideshow": {
     "slide_type": "skip"
    }
   },
   "outputs": [
    {
     "data": {
      "text/html": [
       "<style>\n",
       "\n",
       "@font-face {\n",
       "    font-family: \"Computer Modern\";\n",
       "    src: url('http://mirrors.ctan.org/fonts/cm-unicode/fonts/otf/cmunss.otf');\n",
       "}\n",
       "\n",
       "#notebook_panel { /* main background */\n",
       "    background: #888;\n",
       "    color: #f6f6f6;\n",
       "}\n",
       "\n",
       "div.cell { /* set cell width to about 80 chars */\n",
       "    width: 900px;\n",
       "}\n",
       "\n",
       "div #notebook { /* centre the content */\n",
       "    background: #fff; /* white background for content */\n",
       "    width: 1000px;\n",
       "    margin: auto;\n",
       "    padding-left: 1em;\n",
       "}\n",
       "\n",
       "#notebook li { /* More space between bullet points */\n",
       "margin-top:0.8em;\n",
       "}\n",
       "/* draw border around running cells */\n",
       "div.cell.border-box-sizing.code_cell.running {\n",
       "    border: 3px solid #111;\n",
       "}\n",
       "/* Put a solid color box around each cell and its output, visually linking them together */\n",
       "div.cell.code_cell {\n",
       "    background-color: rgba(171,165,131,0.3); \n",
       "    border-radius: 10px; /* rounded borders */\n",
       "    padding: 1em;\n",
       "    margin-top: 1em;\n",
       "}\n",
       "div.text_cell_render{\n",
       "    font-family: 'Arvo' sans-serif;\n",
       "    line-height: 130%;\n",
       "    font-size: 115%;\n",
       "    width:700px;\n",
       "    margin-left:auto;\n",
       "    margin-right:auto;\n",
       "}\n",
       "/* Formatting for header cells */\n",
       ".text_cell_render h1 {\n",
       "    font-family: 'Philosopher', sans-serif;\n",
       "    font-weight: 400;\n",
       "    font-size: 40pt;\n",
       "    text-align: center;\n",
       "    line-height: 100%;\n",
       "    color: rgb(12,85,97);\n",
       "    margin-bottom: 0.1em;\n",
       "    margin-top: 0.1em;\n",
       "    display: block;\n",
       "}\n",
       "\n",
       ".text_cell_render h2 {\n",
       "    font-family: 'Philosopher', serif;\n",
       "    font-weight: 700;\n",
       "    font-size: 24pt;\n",
       "    line-height: 100%;\n",
       "    color: rgb(171,165,131);\n",
       "    margin-bottom: 0.1em;\n",
       "    margin-top: 0.1em;\n",
       "    display: block;\n",
       "}    \n",
       "\n",
       ".text_cell_render h3 {\n",
       "    font-family: 'Philosopher', serif;\n",
       "    margin-top:12px;\n",
       "    margin-bottom: 3px;\n",
       "    font-style: italic;\n",
       "    color: rgb(95,92,72);\n",
       "}\n",
       "\n",
       ".text_cell_render h4 {\n",
       "    font-family: 'Philosopher', serif;\n",
       "}\n",
       "\n",
       ".text_cell_render h5 {\n",
       "    font-family: 'Alegreya Sans', sans-serif;\n",
       "    font-weight: 300;\n",
       "    font-size: 16pt;\n",
       "    color: grey;\n",
       "    font-style: italic;\n",
       "    margin-bottom: .1em;\n",
       "    margin-top: 0.1em;\n",
       "    display: block;\n",
       "}\n",
       "\n",
       ".text_cell_render h6 {\n",
       "    font-family: 'PT Mono', sans-serif;\n",
       "    font-weight: 300;\n",
       "    font-size: 10pt;\n",
       "    color: grey;\n",
       "    margin-bottom: 1px;\n",
       "    margin-top: 1px;\n",
       "}\n",
       ".CodeMirror{\n",
       "        font-family: \"PT Mono\";\n",
       "        font-size: 100%;\n",
       "}\n",
       ".raw_input_prompt{\n",
       "\tcolor: black;\n",
       "}\n",
       "input.raw_input{\n",
       "\tcolor: black;\n",
       "}\n",
       "</style>\n"
      ],
      "text/plain": [
       "<IPython.core.display.HTML object>"
      ]
     },
     "execution_count": 3,
     "metadata": {},
     "output_type": "execute_result"
    }
   ],
   "source": [
    "# ignore esse código inicial, é apenas para preparar a página\n",
    "from IPython.display import YouTubeVideo, HTML, Image, display\n",
    "css_file = './modelo.css'\n",
    "HTML(open(css_file, \"r\").read())"
   ]
  },
  {
   "cell_type": "markdown",
   "metadata": {
    "slideshow": {
     "slide_type": "slide"
    }
   },
   "source": [
    "# Introdução à Programação em Python"
   ]
  },
  {
   "cell_type": "markdown",
   "metadata": {
    "slideshow": {
     "slide_type": "slide"
    }
   },
   "source": [
    "## Dicionários"
   ]
  },
  {
   "cell_type": "markdown",
   "metadata": {
    "slideshow": {
     "slide_type": "slide"
    }
   },
   "source": [
    "Vamos criar um programa que gerencia uma agenda telefônica.\n",
    "\n",
    "Para esse fim, armazenaremos nossos contatos em uma lista.\n",
    "\n",
    "Teremos que criar uma função para adicionar um contato e outra para procurar pelo contato (vamos supor que nunca apagaremos um contato da lista)."
   ]
  },
  {
   "cell_type": "code",
   "execution_count": 3,
   "metadata": {
    "collapsed": false,
    "slideshow": {
     "slide_type": "slide"
    }
   },
   "outputs": [
    {
     "name": "stdout",
     "output_type": "stream",
     "text": [
      "[['Joao', '3333-2332']]\n",
      "[['Joao', '3333-2332'], ['Maria', '444-2332']]\n",
      "[['Joao', '3333-2332'], ['Maria', '444-2332'], ['Jose', '2233-2332']]\n",
      "[['Joao', '3333-2332'], ['Maria', '444-2332'], ['Jose', '2233-2332']]\n"
     ]
    }
   ],
   "source": [
    "\"\"\"\n",
    "A lista de contatos terá o formato:\n",
    "[ [\"nome\", \"telefone\"] ]\n",
    "\"\"\"\n",
    "\n",
    "def Procura(nome, agenda):\n",
    "    for contato in agenda:\n",
    "        if contato[0] == nome:\n",
    "            return contato[1]\n",
    "    return None\n",
    "\n",
    "def Adiciona(nome, telefone, agenda):\n",
    "    if Procura(nome, agenda) == None:\n",
    "        agenda.append([nome,telefone])\n",
    "\n",
    "agenda = []\n",
    "Adiciona(\"Joao\",\"3333-2332\", agenda)\n",
    "print agenda\n",
    "Adiciona(\"Maria\",\"444-2332\", agenda)\n",
    "print agenda\n",
    "Adiciona(\"Jose\",\"2233-2332\", agenda)\n",
    "print agenda\n",
    "Adiciona(\"Joao\",\"3333-2332\", agenda)\n",
    "print agenda"
   ]
  },
  {
   "cell_type": "markdown",
   "metadata": {
    "slideshow": {
     "slide_type": "slide"
    }
   },
   "source": [
    "A palavra-chave `None` significa que você não quer retornar nada!\n",
    "\n",
    "**Cuidado:** Note que não é necessário retornar a lista na função `Adiciona()`. As listas passadas como parâmetros de uma função são alteradas diretamente!"
   ]
  },
  {
   "cell_type": "markdown",
   "metadata": {
    "slideshow": {
     "slide_type": "slide"
    }
   },
   "source": [
    "O Python possui um tipo de variável que facilita o uso de estruturas desse tipo, conhecida como **dicionários**."
   ]
  },
  {
   "cell_type": "code",
   "execution_count": 4,
   "metadata": {
    "collapsed": false,
    "slideshow": {
     "slide_type": "slide"
    }
   },
   "outputs": [
    {
     "name": "stdout",
     "output_type": "stream",
     "text": [
      "{'Joao': '3333-2332'}\n",
      "{'Joao': '3333-2332', 'Maria': '444-2332'}\n",
      "{'Jose': '2233-2332', 'Joao': '3333-2332', 'Maria': '444-2332'}\n",
      "{'Jose': '2233-2332', 'Joao': '3333-2332', 'Maria': '444-2332'}\n"
     ]
    }
   ],
   "source": [
    "agenda = {}\n",
    "agenda['Joao'] = \"3333-2332\"\n",
    "print agenda\n",
    "agenda[\"Maria\"] = \"444-2332\"\n",
    "print agenda\n",
    "agenda[\"Jose\"] = \"2233-2332\"\n",
    "print agenda\n",
    "agenda['Joao'] = \"3333-2332\"\n",
    "print agenda"
   ]
  },
  {
   "cell_type": "code",
   "execution_count": 47,
   "metadata": {
    "collapsed": false,
    "slideshow": {
     "slide_type": "slide"
    }
   },
   "outputs": [
    {
     "name": "stdout",
     "output_type": "stream",
     "text": [
      "{'Jose': '2233-2332', 'Joao': '3333-2332', 'Maria': '444-2332'}\n"
     ]
    }
   ],
   "source": [
    "agenda = {'Jose': '2233-2332', 'Joao': '3333-2332', 'Maria': '444-2332'}\n",
    "print agenda"
   ]
  },
  {
   "cell_type": "markdown",
   "metadata": {
    "slideshow": {
     "slide_type": "slide"
    }
   },
   "source": [
    "Essa estrutura permite adicionar telefones indexados pelo nome!\n",
    "\n",
    "Dessa forma podemos acessar um telefone da seguinte forma:"
   ]
  },
  {
   "cell_type": "code",
   "execution_count": 5,
   "metadata": {
    "collapsed": false,
    "slideshow": {
     "slide_type": "fragment"
    }
   },
   "outputs": [
    {
     "name": "stdout",
     "output_type": "stream",
     "text": [
      "3333-2332\n"
     ]
    }
   ],
   "source": [
    "print agenda['Joao']"
   ]
  },
  {
   "cell_type": "markdown",
   "metadata": {
    "slideshow": {
     "slide_type": "slide"
    }
   },
   "source": [
    "Também podemos verificar se um elemento existe nessa agenda:"
   ]
  },
  {
   "cell_type": "code",
   "execution_count": 6,
   "metadata": {
    "collapsed": false,
    "slideshow": {
     "slide_type": "fragment"
    }
   },
   "outputs": [
    {
     "name": "stdout",
     "output_type": "stream",
     "text": [
      "True False\n"
     ]
    }
   ],
   "source": [
    "print \"Joao\" in agenda, \"Mario\" in agenda"
   ]
  },
  {
   "cell_type": "markdown",
   "metadata": {
    "slideshow": {
     "slide_type": "slide"
    }
   },
   "source": [
    "Também é possível obter a lista de nomes e de telefones:"
   ]
  },
  {
   "cell_type": "code",
   "execution_count": 7,
   "metadata": {
    "collapsed": false,
    "slideshow": {
     "slide_type": "fragment"
    }
   },
   "outputs": [
    {
     "name": "stdout",
     "output_type": "stream",
     "text": [
      "['Jose', 'Joao', 'Maria']\n",
      "['2233-2332', '3333-2332', '444-2332']\n"
     ]
    }
   ],
   "source": [
    "print agenda.keys()\n",
    "print agenda.values()"
   ]
  },
  {
   "cell_type": "markdown",
   "metadata": {
    "slideshow": {
     "slide_type": "slide"
    }
   },
   "source": [
    "E percorrer todos os nomes e valores ao mesmo tempo:"
   ]
  },
  {
   "cell_type": "code",
   "execution_count": 9,
   "metadata": {
    "collapsed": false,
    "slideshow": {
     "slide_type": "fragment"
    }
   },
   "outputs": [
    {
     "name": "stdout",
     "output_type": "stream",
     "text": [
      "O telefone de Jose é 2233-2332\n",
      "O telefone de Joao é 3333-2332\n",
      "O telefone de Maria é 444-2332\n"
     ]
    }
   ],
   "source": [
    "for nome, telefone in agenda.iteritems():\n",
    "    print \"O telefone de\", nome, \"é\", telefone"
   ]
  },
  {
   "cell_type": "markdown",
   "metadata": {
    "slideshow": {
     "slide_type": "slide"
    }
   },
   "source": [
    "**Anagrama:** determine se uma palavra $p1$ é anagrama da palavra $p2$.\n",
    "\n",
    "$p1$ e $p2$ são anagramas se for possível escrever $p1$ utilizando as letras de $p2$. Ex.:\n",
    "\n",
    "* amor, roma\n",
    "* pedro, poder\n",
    "* rato, rota\n",
    "* assim, missa"
   ]
  },
  {
   "cell_type": "markdown",
   "metadata": {
    "slideshow": {
     "slide_type": "slide"
    }
   },
   "source": [
    "Para resolver esse problema basta verificar se a lista de frequências das letras de $p1$ é igual a de $p2$:"
   ]
  },
  {
   "cell_type": "code",
   "execution_count": 46,
   "metadata": {
    "collapsed": false,
    "slideshow": {
     "slide_type": "fragment"
    }
   },
   "outputs": [],
   "source": [
    "def Anagrama(p1,p2):\n",
    "    return FreqLetras(p1) == FreqLetras(p2)"
   ]
  },
  {
   "cell_type": "markdown",
   "metadata": {
    "slideshow": {
     "slide_type": "slide"
    }
   },
   "source": [
    "Uma lista de frequências de letras pode ser feita na forma (ex.: amar):\n",
    "\n",
    "```\n",
    "Freq['a'] = 2\n",
    "Freq['b'] = 0\n",
    "...\n",
    "Freq['m'] = 1\n",
    "...\n",
    "Freq['r'] = 1\n",
    "...\n",
    "Freq['z'] = 0\n",
    "```"
   ]
  },
  {
   "cell_type": "markdown",
   "metadata": {
    "slideshow": {
     "slide_type": "slide"
    }
   },
   "source": [
    "Ou ignorando as letras com frequência igual a $0$:\n",
    "\n",
    "```\n",
    "Freq = { 'a':2, 'm':1, 'r':1' }\n",
    "```"
   ]
  },
  {
   "cell_type": "code",
   "execution_count": 48,
   "metadata": {
    "collapsed": false,
    "slideshow": {
     "slide_type": "slide"
    }
   },
   "outputs": [
    {
     "name": "stdout",
     "output_type": "stream",
     "text": [
      "True\n",
      "False\n"
     ]
    }
   ],
   "source": [
    "def FreqLetras(palavra):\n",
    "\n",
    "    \n",
    "    \n",
    "    \n",
    "print Anagrama(\"amor\", \"roma\")\n",
    "print Anagrama(\"amor\", \"terror\")"
   ]
  },
  {
   "cell_type": "markdown",
   "metadata": {
    "slideshow": {
     "slide_type": "slide"
    }
   },
   "source": [
    "Para facilitar podemos utilizar a função `defaultdict` da biblioteca [`collections`](https://docs.python.org/2/library/collections.html#collections.defaultdict) que permite criar um dicionário em que toda chave inexistente contém um valor padrão:"
   ]
  },
  {
   "cell_type": "code",
   "execution_count": 52,
   "metadata": {
    "collapsed": false,
    "slideshow": {
     "slide_type": "slide"
    }
   },
   "outputs": [
    {
     "name": "stdout",
     "output_type": "stream",
     "text": [
      "0\n",
      "10\n"
     ]
    }
   ],
   "source": [
    "from collections import defaultdict\n",
    "\n",
    "def Padrao():\n",
    "    return 0\n",
    "\n",
    "Freq = defaultdict( Padrao )\n",
    "print Freq['a']\n",
    "Freq['a'] += 10\n",
    "print Freq['a']"
   ]
  },
  {
   "cell_type": "markdown",
   "metadata": {
    "slideshow": {
     "slide_type": "slide"
    }
   },
   "source": [
    "De forma conveniente, a função `int()`, usada para converter um valor para inteiro, retorna `0` caso nenhum parâmetro seja passado para ela.\n",
    "\n",
    "*Nota:* da mesma forma, `float()`  retorna `0.0` e `str()` retorna `''`."
   ]
  },
  {
   "cell_type": "code",
   "execution_count": 53,
   "metadata": {
    "collapsed": false,
    "slideshow": {
     "slide_type": "slide"
    }
   },
   "outputs": [
    {
     "name": "stdout",
     "output_type": "stream",
     "text": [
      "0\n",
      "0\n",
      "10\n"
     ]
    }
   ],
   "source": [
    "from collections import defaultdict\n",
    "\n",
    "print int()\n",
    "Freq = defaultdict( int )\n",
    "print Freq['a']\n",
    "Freq['a'] += 10\n",
    "print Freq['a']"
   ]
  },
  {
   "cell_type": "code",
   "execution_count": 54,
   "metadata": {
    "collapsed": false,
    "slideshow": {
     "slide_type": "slide"
    }
   },
   "outputs": [
    {
     "name": "stdout",
     "output_type": "stream",
     "text": [
      "True\n",
      "False\n"
     ]
    }
   ],
   "source": [
    "def FreqLetras(palavra):\n",
    "    Freq = defaultdict( int )\n",
    "    for letra in palavra:\n",
    "        Freq[letra] += 1\n",
    "    return Freq\n",
    "\n",
    "print Anagrama(\"amor\", \"roma\")\n",
    "print Anagrama(\"amor\", \"terror\")"
   ]
  },
  {
   "cell_type": "markdown",
   "metadata": {
    "slideshow": {
     "slide_type": "slide"
    }
   },
   "source": [
    "## Dicionários como Mapa de Substituição"
   ]
  },
  {
   "cell_type": "markdown",
   "metadata": {
    "slideshow": {
     "slide_type": "slide"
    }
   },
   "source": [
    "**Escrita L337:** no submundo hacker é comum escrever as palavras com a substituição de algumas letras por números ou símbolos como exemplificado abaixo:\n",
    "\n",
    "|Letra|L337|\n",
    "|--|--|\n",
    "|A|4|\n",
    "|C|(|\n",
    "|E|3|\n",
    "|G|6|\n",
    "|H|#|\n",
    "|I|!|\n",
    "|O|0|\n",
    "|S|$|\n",
    "|T|7|\n",
    "|X|%|"
   ]
  },
  {
   "cell_type": "markdown",
   "metadata": {
    "slideshow": {
     "slide_type": "slide"
    }
   },
   "source": [
    "Podemos criar um dicionário que mapeia cada letra do alfabeto para seu correspondente L337, se houver, ou a própria letra caso contrário.\n",
    "\n",
    "Temos que tomar o cuidado de fazer o mapa para maiúsculas ou mínusculas."
   ]
  },
  {
   "cell_type": "markdown",
   "metadata": {
    "slideshow": {
     "slide_type": "slide"
    }
   },
   "source": [
    "Vamos primeiro criar uma lista de *tuplas* contendo as letras que queremos mapear.\n",
    "\n",
    "**tuplas** são listas que não podem ser alteradas, elas são definidas por parênteses ao invés de colchetes."
   ]
  },
  {
   "cell_type": "code",
   "execution_count": 55,
   "metadata": {
    "collapsed": false,
    "slideshow": {
     "slide_type": "slide"
    }
   },
   "outputs": [],
   "source": [
    "trocas = [ ('A', '4'), ('C', '('), ('E', '3'), ('G','6'), ('H','#'), ('I','!'), ('O','0'), ('S','$'), ('T','7'), ('X','%') ]"
   ]
  },
  {
   "cell_type": "markdown",
   "metadata": {
    "slideshow": {
     "slide_type": "slide"
    }
   },
   "source": [
    "Em seguida percorremos essa lista de trocas para gerar nosso dicionário `Mapa`.\n",
    "\n",
    "Sabendo que todas as tuplas tem apenas dois elementos podemos percorrer essa lista de uma forma conveniente:"
   ]
  },
  {
   "cell_type": "code",
   "execution_count": 57,
   "metadata": {
    "collapsed": false,
    "slideshow": {
     "slide_type": "slide"
    }
   },
   "outputs": [],
   "source": [
    "Mapa = {}\n",
    "for letra, l337 in trocas:\n",
    "    Mapa[letra.lower()] = l337 # converte a letra para minúscula\n",
    "    Mapa[letra.upper()] = l337 # converte a letra para maiúscula"
   ]
  },
  {
   "cell_type": "markdown",
   "metadata": {
    "slideshow": {
     "slide_type": "slide"
    }
   },
   "source": [
    "Agora basta que a nossa função faça o seguinte, dado um mapa de trocas e uma frase, construir uma string da seguinte maneira:\n",
    "\n",
    "* Para cada letra da palavra:\n",
    "  - Se a letra existir no Mapa, adiciona a letra convertida na nova palavra\n",
    "  - Senão, adiciona a própria letra\n",
    "  \n",
    "Para facilitar a construção da string, vamos adicionar cada letra da nova palavra em uma lista.\n",
    "\n",
    "Em seguida podemos usar o seguinte comando para construir uma string a partir de uma lista de letras:\n",
    "\n",
    "```\n",
    "palavra = ''.join(listaLetras)\n",
    "```"
   ]
  },
  {
   "cell_type": "code",
   "execution_count": 58,
   "metadata": {
    "collapsed": false,
    "slideshow": {
     "slide_type": "slide"
    }
   },
   "outputs": [
    {
     "name": "stdout",
     "output_type": "stream",
     "text": [
      "460r4 $0m0$ #4(k3r$\n"
     ]
    }
   ],
   "source": [
    "def converte(palavra, Mapa):\n",
    "\n",
    "    \n",
    "    \n",
    "print converte('Agora somos hackers', Mapa)"
   ]
  },
  {
   "cell_type": "markdown",
   "metadata": {
    "slideshow": {
     "slide_type": "slide"
    }
   },
   "source": [
    "Para evitar a condicional para verificar se a letra existe no Mapa, podemos usar o comando `.get(chave, padrao)` que recebe dois parâmetros:\n",
    "\n",
    "* a chave que queremos recuperar do dicionário\n",
    "* valor padrão caso a chave não seja encontrada"
   ]
  },
  {
   "cell_type": "code",
   "execution_count": 61,
   "metadata": {
    "collapsed": false,
    "slideshow": {
     "slide_type": "slide"
    }
   },
   "outputs": [
    {
     "name": "stdout",
     "output_type": "stream",
     "text": [
      "4\n",
      "B\n",
      "460r4 $0m0$ m4!$ #4(k3r$\n"
     ]
    }
   ],
   "source": [
    "def converte(palavra, Mapa):\n",
    "    listaLetras = []\n",
    "    for letra in palavra:\n",
    "        listaLetras.append( Mapa.get(letra, letra) )  # se não encontrar a letra, queremos que retorne a mesma letra\n",
    "    return ''.join(listaLetras)\n",
    "\n",
    "print Mapa.get('A', 'A')\n",
    "print Mapa.get('B', 'B')\n",
    "print converte('Agora somos mais hackers', Mapa)"
   ]
  },
  {
   "cell_type": "markdown",
   "metadata": {
    "slideshow": {
     "slide_type": "slide"
    }
   },
   "source": [
    "Podemos reduzir ainda mais essa função usando **list comprehension**:"
   ]
  },
  {
   "cell_type": "code",
   "execution_count": 60,
   "metadata": {
    "collapsed": false,
    "slideshow": {
     "slide_type": "slide"
    }
   },
   "outputs": [
    {
     "name": "stdout",
     "output_type": "stream",
     "text": [
      "460r4 $0m0$ mu!70 #4(k3r$\n"
     ]
    }
   ],
   "source": [
    "def converte(palavra, Mapa):\n",
    "    return ''.join( [ Mapa.get(letra, letra) for letra in palavra ] )\n",
    "\n",
    "print converte('Agora somos muito hackers', Mapa)"
   ]
  },
  {
   "cell_type": "markdown",
   "metadata": {
    "slideshow": {
     "slide_type": "slide"
    }
   },
   "source": [
    "## Leitura de Arquivos\n"
   ]
  },
  {
   "cell_type": "markdown",
   "metadata": {
    "slideshow": {
     "slide_type": "fragment"
    }
   },
   "source": [
    "Nos próximos exercícios utilizaremos textos lidos diretamente de um arquivo externo.\n",
    "\n",
    "O Python conta com diversas opções de leitura de arquivos, vamos aprender a usar uma delas para arquivos com textos acentuados."
   ]
  },
  {
   "cell_type": "code",
   "execution_count": 2,
   "metadata": {
    "collapsed": false,
    "slideshow": {
     "slide_type": "slide"
    }
   },
   "outputs": [
    {
     "name": "stdout",
     "output_type": "stream",
     "text": [
      "Esse exemplo será usado para aprender o mínimo sobre leituras de arquivos textos\n",
      "\n",
      "e como o texto pode ser usado em uma estrutura de dicionário\n",
      "\n",
      "Se o resultado for correto teremos a ocorrência da palavra o em quatro vezes\n",
      "\n"
     ]
    }
   ],
   "source": [
    "import codecs\n",
    "\n",
    "f = codecs.open('exemplo.txt', 'r', 'utf-8')\n",
    "for linha in f:\n",
    "    print linha\n",
    "f.close()"
   ]
  },
  {
   "cell_type": "markdown",
   "metadata": {
    "slideshow": {
     "slide_type": "slide"
    }
   },
   "source": [
    "A função `open()` da biblioteca codec recebe três parâmetros. \n",
    "\n",
    "O primeiro é o nome do arquivo a ser aberto.\n",
    "\n",
    "O segundo é uma letra que representa o que eu quero fazer com o arquivo:\n",
    "- 'r': ler o arquivo\n",
    "- 'w': escrever no arquivo (apagando todo seu conteúdo)\n",
    "- 'a': escrever a partir do final do arquivo (sem apagar o conteúdo anterior)"
   ]
  },
  {
   "cell_type": "markdown",
   "metadata": {
    "slideshow": {
     "slide_type": "slide"
    }
   },
   "source": [
    "Ao abrir o arquivo, posso usar a variável associada a ele (f, no exemplo) para realizar as operações de leitura e escrita.\n",
    "\n",
    "Para guardar todas as linhas em uma lista, temos o comando:\n",
    "\n",
    "```\n",
    "listaLinhas = f.readlines()\n",
    "```\n",
    "\n",
    "Ou podemos percorrer as linhas utilizando o for, como no exemplo."
   ]
  },
  {
   "cell_type": "markdown",
   "metadata": {
    "slideshow": {
     "slide_type": "slide"
    }
   },
   "source": [
    "Para escrever um conteúdo em um arquivo utilizamos o comando `print` conforme o seguinte exemplo:"
   ]
  },
  {
   "cell_type": "code",
   "execution_count": 5,
   "metadata": {
    "collapsed": false,
    "slideshow": {
     "slide_type": "slide"
    }
   },
   "outputs": [],
   "source": [
    "import codecs\n",
    "\n",
    "f = codecs.open('exemploEscrita.txt', 'w', 'utf-8')\n",
    "print >>f, \"Linha de Exemplo\"\n",
    "f.close()"
   ]
  },
  {
   "cell_type": "code",
   "execution_count": 7,
   "metadata": {
    "collapsed": false,
    "slideshow": {
     "slide_type": "slide"
    }
   },
   "outputs": [
    {
     "name": "stdout",
     "output_type": "stream",
     "text": [
      "Linha de Exemplo\n",
      "\n"
     ]
    }
   ],
   "source": [
    "import codecs\n",
    "\n",
    "f = codecs.open('exemploEscrita.txt', 'r', 'utf-8')\n",
    "for linha in f:\n",
    "    print linha\n",
    "f.close()"
   ]
  }
 ],
 "metadata": {
  "celltoolbar": "Slideshow",
  "kernelspec": {
   "display_name": "Python 2",
   "language": "python",
   "name": "python2"
  },
  "language_info": {
   "codemirror_mode": {
    "name": "ipython",
    "version": 2
   },
   "file_extension": ".py",
   "mimetype": "text/x-python",
   "name": "python",
   "nbconvert_exporter": "python",
   "pygments_lexer": "ipython2",
   "version": "2.7.9"
  }
 },
 "nbformat": 4,
 "nbformat_minor": 0
}
