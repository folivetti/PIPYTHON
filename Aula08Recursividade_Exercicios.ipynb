{
 "cells": [
  {
   "cell_type": "markdown",
   "metadata": {},
   "source": [
    "**Exercício 01:** Usando recursividade, calcule a soma de todos os valores de um vetor."
   ]
  },
  {
   "cell_type": "code",
   "execution_count": null,
   "metadata": {
    "collapsed": true
   },
   "outputs": [],
   "source": []
  },
  {
   "cell_type": "markdown",
   "metadata": {},
   "source": [
    "**Exercício 02:** Usando recursividade, encontre o maior elemento de um vetor."
   ]
  },
  {
   "cell_type": "code",
   "execution_count": null,
   "metadata": {
    "collapsed": true
   },
   "outputs": [],
   "source": []
  },
  {
   "cell_type": "markdown",
   "metadata": {},
   "source": [
    "**Exercício 03:** Faça uma função recursiva que inverta os elementos de um vetor."
   ]
  },
  {
   "cell_type": "code",
   "execution_count": null,
   "metadata": {
    "collapsed": true
   },
   "outputs": [],
   "source": []
  },
  {
   "cell_type": "markdown",
   "metadata": {},
   "source": [
    "**Exercício 04:** Crie uma função recursiva que recebe os argumentos `base` e `exp` e calcule $base^{exp}$. Considere que `exp` é sempre inteiro. Não é permitido utilizar o operador `**` ou laço de repetição em nenhum momento."
   ]
  },
  {
   "cell_type": "code",
   "execution_count": null,
   "metadata": {
    "collapsed": true
   },
   "outputs": [],
   "source": []
  },
  {
   "cell_type": "markdown",
   "metadata": {},
   "source": [
    "**Exercício 05:** Crie uma função recursiva que verifica se um número `n` é primo."
   ]
  },
  {
   "cell_type": "code",
   "execution_count": null,
   "metadata": {
    "collapsed": true
   },
   "outputs": [],
   "source": []
  },
  {
   "cell_type": "markdown",
   "metadata": {},
   "source": [
    "**Exercício 06:** Escreva um algoritmo recursivo capaz de gerar todas as permutações de uma string. Utilzie o código abaixo como referência."
   ]
  },
  {
   "cell_type": "code",
   "execution_count": 1,
   "metadata": {
    "collapsed": false
   },
   "outputs": [
    {
     "name": "stdout",
     "output_type": "stream",
     "text": [
      "['AB', 'BA']\n",
      "['XYZ', 'XZY', 'YXZ', 'YZX', 'ZXY', 'ZYX']\n",
      "['1234', '1243', '1324', '1342', '1423', '1432', '2134', '2143', '2314', '2341', '2413', '2431', '3124', '3142', '3214', '3241', '3412', '3421', '4123', '4132', '4213', '4231', '4312', '4321']\n"
     ]
    }
   ],
   "source": [
    "def Permuta_NAO_RECURSIVO(s):\n",
    "    l, p = [([], list(s))], []\n",
    "    while len(l) > 0:\n",
    "        i, j = l.pop(0)\n",
    "        if len(j) > 0:\n",
    "            for c in range(len(j)):\n",
    "                l.append((i+[j[c]],j[:c]+j[c+1:]))\n",
    "        else:\n",
    "            p += [\"\".join(i)]\n",
    "    return p\n",
    "\n",
    "print(Permuta_NAO_RECURSIVO(\"AB\"))\n",
    "print(Permuta_NAO_RECURSIVO(\"XYZ\"))\n",
    "print(Permuta_NAO_RECURSIVO(\"1234\"))"
   ]
  },
  {
   "cell_type": "markdown",
   "metadata": {},
   "source": [
    "**Exercício 07:** Uma imagem discreta pode ser representada através de uma matriz. Se considerar que o valor 0 de cada pixel representa espaço vazio, valor 2 representa um contorno e valor 1 representa preenchimento, implemente uma função recursiva que preencha o conteúdo interno de uma imagem delimitada pelo contorno (*Boundary-fill*). Utilize o código abaixo como referência. Note que é fornecido a posição inicial para realizar o preenchimento."
   ]
  },
  {
   "cell_type": "code",
   "execution_count": 2,
   "metadata": {
    "collapsed": false
   },
   "outputs": [
    {
     "name": "stdout",
     "output_type": "stream",
     "text": [
      "Populating the interactive namespace from numpy and matplotlib\n"
     ]
    },
    {
     "name": "stderr",
     "output_type": "stream",
     "text": [
      "/home/olivetti/anaconda/envs/py3/lib/python3.5/site-packages/matplotlib/figure.py:1718: UserWarning: This figure includes Axes that are not compatible with tight_layout, so its results might be incorrect.\n",
      "  warnings.warn(\"This figure includes Axes that are not \"\n"
     ]
    },
    {
     "data": {
      "image/png": "[encoded data removed]",
      "text/plain": [
       "<matplotlib.figure.Figure at 0x7fda77d33a20>"
      ]
     },
     "metadata": {},
     "output_type": "display_data"
    }
   ],
   "source": [
    "%pylab inline\n",
    "import matplotlib.pyplot as plt\n",
    "\n",
    "\n",
    "img =          [[2,2,2,2,2,2,2,0,2,2,2,0],\n",
    "                [2,0,0,0,2,0,2,2,2,0,2,0],\n",
    "                [2,0,2,0,0,0,0,0,0,0,2,0],\n",
    "                [2,2,2,2,0,2,2,0,2,2,2,0],\n",
    "                [2,0,0,2,0,0,0,0,0,0,2,0],\n",
    "                [2,2,2,2,0,0,2,2,0,0,2,2],\n",
    "                [2,0,0,0,0,2,2,2,2,0,0,2],\n",
    "                [2,0,2,2,0,2,0,2,0,0,2,2],\n",
    "                [2,0,0,2,0,0,0,0,0,2,2,0],\n",
    "                [2,2,0,2,2,2,2,2,0,2,2,0],\n",
    "                [2,0,0,0,2,0,0,2,0,0,2,0],\n",
    "                [2,2,2,2,2,0,0,2,2,2,2,0]]\n",
    "\n",
    "def Mostrar(img):\n",
    "    fig, ax = plt.subplots(1, 1, tight_layout=True)\n",
    "    my_cmap = matplotlib.colors.ListedColormap(['white', 'blue', 'black'])\n",
    "    my_cmap.set_bad(color='white', alpha=0)\n",
    "    for x in range(len(img)):\n",
    "        ax.axhline(x, lw=1, color='black', zorder=5)\n",
    "        ax.axvline(x, lw=1, color='black', zorder=5)\n",
    "    ax.imshow(img, interpolation='none', cmap=my_cmap, extent=[0, len(img), 0, len(img)], zorder=0)\n",
    "    ax.axis('off')\n",
    "    plt.show()\n",
    "\n",
    "def Preencher_NAO_RECURSIVO(img, i, j):\n",
    "    def Verifica(u, v):\n",
    "            if u < 0 or u >= len(img) or j < 0 or j >= len(img[u]): # Se fora da imagem...\n",
    "                return False\n",
    "            elif img[u][v] == 1 or img[u][v] == 2: # Fim da imagem ou já preenchido...\n",
    "                return False\n",
    "            return True\n",
    "    l = [(i,j)] # Lista dos pixels que deversão ser preenchidos.\n",
    "    while(len(l) > 0): # Enquanto houver pixels para serem verificados/preenchidos, faça...\n",
    "        i, j = l.pop(0) # Remove e atribui o primeiro item da lista.\n",
    "        \n",
    "        if Verifica(i,j):\n",
    "            img[i][j] = 1\n",
    "\n",
    "        # Coloca na fila os pixels vizinhos, se possível...\n",
    "        for di, dj in [(1,0), (-1,0), (0,1), (0,-1)]:\n",
    "            if Verifica(i+di,j+dj):\n",
    "                l.append((i+di,j+dj))\n",
    "\n",
    "\n",
    "Preencher_NAO_RECURSIVO(img, 3, 4) # Implemente a função de forma RECURSIVA\n",
    "Mostrar(img)\n"
   ]
  },
  {
   "cell_type": "code",
   "execution_count": 5,
   "metadata": {
    "collapsed": false,
    "scrolled": true
   },
   "outputs": [
    {
     "name": "stdout",
     "output_type": "stream",
     "text": [
      "Populating the interactive namespace from numpy and matplotlib\n"
     ]
    },
    {
     "data": {
      "image/png": "[encoded data removed]",
      "text/plain": [
       "<matplotlib.figure.Figure at 0x7f260c4b6198>"
      ]
     },
     "metadata": {},
     "output_type": "display_data"
    }
   ],
   "source": [
    "%pylab inline\n",
    "import matplotlib.pyplot as plt\n",
    "\n",
    "\n",
    "img =          [[2,2,2,2,2,2,2,0,2,2,2,0],\n",
    "                [2,0,0,0,2,0,2,2,2,0,2,0],\n",
    "                [2,0,2,0,0,0,0,0,0,0,2,0],\n",
    "                [2,2,2,2,0,2,2,0,2,2,2,0],\n",
    "                [2,0,0,2,0,0,0,0,0,0,2,0],\n",
    "                [2,2,2,2,0,0,2,2,0,0,2,2],\n",
    "                [2,0,0,0,0,2,2,2,2,0,0,2],\n",
    "                [2,0,2,2,0,2,0,2,0,0,2,2],\n",
    "                [2,0,0,2,0,0,0,0,0,2,2,0],\n",
    "                [2,2,0,2,2,2,2,2,0,2,2,0],\n",
    "                [2,0,0,0,2,0,0,2,0,0,2,0],\n",
    "                [2,2,2,2,2,0,0,2,2,2,2,0]]\n",
    "\n",
    "def Mostrar(img):\n",
    "    fig = plt.figure()\n",
    "    my_cmap = matplotlib.colors.ListedColormap(['white', 'blue', 'black'])\n",
    "    my_cmap.set_bad(color='white', alpha=0)\n",
    "    plt.imshow(img, interpolation='none', cmap=my_cmap, extent=[0, len(img), 0, len(img)], zorder=0)\n",
    "    plt.grid(b=True, which='both', color='0.65',linestyle='-')\n",
    "    plt.xticks(range(len(img)), [])\n",
    "    plt.yticks(range(len(img)), [])\n",
    "    plt.show()\n",
    "\n",
    "def Preencher_NAO_RECURSIVO(img, i, j):\n",
    "    def Verifica(u, v):\n",
    "            if u < 0 or u >= len(img) or j < 0 or j >= len(img[u]): # Se fora da imagem...\n",
    "                return False\n",
    "            elif img[u][v] == 1 or img[u][v] == 2: # Fim da imagem ou já preenchido...\n",
    "                return False\n",
    "            return True\n",
    "        \n",
    "    l = [(i,j)] # Lista dos pixels que deversão ser preenchidos.\n",
    "    while(len(l) > 0): # Enquanto houver pixels para serem verificados/preenchidos, faça...\n",
    "        i, j = l.pop(0) # Remove e atribui o primeiro item da lista.\n",
    "        \n",
    "        if Verifica(i,j):\n",
    "            img[i][j] = 1\n",
    "\n",
    "        # Coloca na fila os pixels vizinhos, se possível...\n",
    "        for di, dj in [(1,0), (-1,0), (0,1), (0,-1)]:\n",
    "            if Verifica(i+di,j+dj):\n",
    "                l.append((i+di,j+dj))\n",
    "\n",
    "\n",
    "Preencher_NAO_RECURSIVO(img, 3, 4) # Implemente a função de forma RECURSIVA\n",
    "Mostrar(img)"
   ]
  },
  {
   "cell_type": "code",
   "execution_count": null,
   "metadata": {
    "collapsed": true
   },
   "outputs": [],
   "source": []
  }
 ],
 "metadata": {
  "kernelspec": {
   "display_name": "Python 3",
   "language": "python",
   "name": "python3"
  },
  "language_info": {
   "codemirror_mode": {
    "name": "ipython",
    "version": 3
   },
   "file_extension": ".py",
   "mimetype": "text/x-python",
   "name": "python",
   "nbconvert_exporter": "python",
   "pygments_lexer": "ipython3",
   "version": "3.5.1"
  }
 },
 "nbformat": 4,
 "nbformat_minor": 0
}
