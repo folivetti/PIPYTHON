{
 "cells": [
  {
   "cell_type": "markdown",
   "metadata": {},
   "source": [
    "**Exercício 01:** Uma matriz xadrez segue o seguinte padrão:\n",
    "\n",
    "```\n",
    "[[0,1]\n",
    "[1,0]]\n",
    "```\n",
    "\n",
    "Construa uma matriz 8x8 na variável `matriz` com esse padrão.\n",
    "\n",
    "Faça uma variável `matriz2`, também 8x8, sem utilizar o comando `for`."
   ]
  },
  {
   "cell_type": "code",
   "execution_count": 17,
   "metadata": {
    "collapsed": false,
    "scrolled": true
   },
   "outputs": [
    {
     "name": "stdout",
     "output_type": "stream",
     "text": [
      "[[ 0.  1.  0.  1.  0.  1.  0.  1.]\n",
      " [ 1.  0.  1.  0.  1.  0.  1.  0.]\n",
      " [ 0.  1.  0.  1.  0.  1.  0.  1.]\n",
      " [ 1.  0.  1.  0.  1.  0.  1.  0.]\n",
      " [ 0.  1.  0.  1.  0.  1.  0.  1.]\n",
      " [ 1.  0.  1.  0.  1.  0.  1.  0.]\n",
      " [ 0.  1.  0.  1.  0.  1.  0.  1.]\n",
      " [ 1.  0.  1.  0.  1.  0.  1.  0.]]\n",
      "\n",
      "[[ 0.  1.  0.  1.  0.  1.  0.  1.]\n",
      " [ 1.  0.  1.  0.  1.  0.  1.  0.]\n",
      " [ 0.  1.  0.  1.  0.  1.  0.  1.]\n",
      " [ 1.  0.  1.  0.  1.  0.  1.  0.]\n",
      " [ 0.  1.  0.  1.  0.  1.  0.  1.]\n",
      " [ 1.  0.  1.  0.  1.  0.  1.  0.]\n",
      " [ 0.  1.  0.  1.  0.  1.  0.  1.]\n",
      " [ 1.  0.  1.  0.  1.  0.  1.  0.]]\n"
     ]
    }
   ],
   "source": [
    "# crie uma matriz 8 x 8 com valores em forma de xadrez 0,1\n",
    "import numpy as np\n",
    "\n",
    "print (matriz)\n",
    "print ()\n",
    "print (matriz2   )  "
   ]
  },
  {
   "cell_type": "markdown",
   "metadata": {},
   "source": [
    "**Exercício 02:** Uma matriz normalizada é definda por:\n",
    "\n",
    "$$\n",
    "n_{ij} = \\frac{a_{ij} - min(A)}{max(A)-min(A)}\n",
    "$$\n",
    "\n",
    "Normalize a matriz abaixo."
   ]
  },
  {
   "cell_type": "code",
   "execution_count": 19,
   "metadata": {
    "collapsed": false
   },
   "outputs": [
    {
     "name": "stdout",
     "output_type": "stream",
     "text": [
      "[[ 0.5   0.25  0.    1.    0.  ]\n",
      " [ 0.25  0.    0.75  1.    0.  ]\n",
      " [ 1.    0.25  0.    1.    0.5 ]]\n"
     ]
    }
   ],
   "source": [
    "# normalize uma matriz\n",
    "matriz = np.array( [[3.,2.,1.,5.,1.],[2.,1.,4.,5.,1.],[5.,2.,1.,5.,3.] ] )\n",
    "\n",
    "\n",
    "\n",
    "print (matriz)"
   ]
  },
  {
   "cell_type": "markdown",
   "metadata": {},
   "source": [
    "**Exercício 03:** A matriz Z representa uma matriz com coordenadas cartesianas, converta cada linha para coordenada polar, dado que:\n",
    "\n",
    "$$\n",
    "X, Y -> \\rho, \\theta \\\\\n",
    "\\rho = \\sqrt(X^2 + Y^2) \\\\\n",
    "\\theta = arctan2(Y,X)\n",
    "$$\n",
    "\n",
    "Faça utilizando laço `for` (em Z2) e sem usar laços (Z3)."
   ]
  },
  {
   "cell_type": "code",
   "execution_count": 22,
   "metadata": {
    "collapsed": false
   },
   "outputs": [
    {
     "name": "stdout",
     "output_type": "stream",
     "text": [
      "[[ 10.19803903   0.19739556]\n",
      " [  6.10327781   0.61072596]\n",
      " [  4.27200187   1.28606589]\n",
      " [  4.48325774   0.77593472]]\n",
      "\n",
      "[[ 10.19803903   0.19739556]\n",
      " [  6.10327781   0.61072596]\n",
      " [  4.27200187   1.28606589]\n",
      " [  4.48325774   0.77593472]]\n"
     ]
    }
   ],
   "source": [
    "# converter matriz N x 2 representando coordenadas cartesianas em polares\n",
    "Z = np.array([[10.,2.],[5.,3.5],[1.2,4.1],[3.2,3.14]])\n",
    "Z2 = np.zeros_like(Z)\n",
    "Z3 = np.zeros_like(Z)\n",
    "\n",
    "\n",
    "\n",
    "print (Z2)\n",
    "print ()\n",
    "print (Z3)"
   ]
  },
  {
   "cell_type": "markdown",
   "metadata": {},
   "source": [
    "**Exercício 04:** Substitua o maior valor da matriz Z por 0 e mostre o novo maior valor"
   ]
  },
  {
   "cell_type": "code",
   "execution_count": 23,
   "metadata": {
    "collapsed": false
   },
   "outputs": [
    {
     "name": "stdout",
     "output_type": "stream",
     "text": [
      "6.0\n",
      "5.0\n"
     ]
    }
   ],
   "source": [
    "# função que substitui o maior valor por 0 e retorna o maior valor\n",
    "Z = np.array([1.,2.,3.,4.,5.,6.])\n",
    "print (Z.max())\n"
   ]
  },
  {
   "cell_type": "markdown",
   "metadata": {},
   "source": [
    "**Exercício 05:** Dado um vetor X e uma matriz Y, construa um vetor D em que cada elemento i é a distância Euclidiana entre X e o i-ésimo elemento de Y."
   ]
  },
  {
   "cell_type": "code",
   "execution_count": 27,
   "metadata": {
    "collapsed": false
   },
   "outputs": [
    {
     "name": "stdout",
     "output_type": "stream",
     "text": [
      "[ 1.52019736  1.51921032  1.04904719  1.45684591  1.27031492]\n"
     ]
    }
   ],
   "source": [
    "# calcule a distância euclidiana entre x e uma matriz de pontos Y\n",
    "X = np.array([ 0.17, 0.59, 0.75, 0.78,0.47, 0.10, 0.06,0.37,0.66,0.10])\n",
    "Y = np.array( [[ 0.82,  0.96,  0.53,  0.61,  0.76,  0.3,   0.95,  0.81,  0.53,  0.84],\n",
    " [ 0.7,   0.49,  0.07,  0.12,  0.87,  0.73,  0.73,  0.39,  0.46,  0.37],\n",
    " [ 0.54,  0.79,  0.66,  0.27,  0.79,  0.33,  0.36,  0.83,  0.22,  0.17],\n",
    " [ 0.96,  0.63,  0.5 ,  0.88,  0.45,  0.9,   0.12,  0.92,  0.7 ,  0.79],\n",
    " [ 0.6 ,  0.02,  0.39,  0.29,  0.33,  0.07,  0.35,  0.31,  0.38,  0.84]])\n",
    "\n",
    "\n",
    "print (D)"
   ]
  },
  {
   "cell_type": "markdown",
   "metadata": {},
   "source": [
    "**Exercício 06:** Mostre o elemento com a menor distância de X e qual é essa distância."
   ]
  },
  {
   "cell_type": "code",
   "execution_count": 28,
   "metadata": {
    "collapsed": false
   },
   "outputs": [
    {
     "name": "stdout",
     "output_type": "stream",
     "text": [
      "1.04904718674 2\n"
     ]
    }
   ],
   "source": [
    "# encontre o ponto mais próximo do exercicio anterior\n"
   ]
  },
  {
   "cell_type": "markdown",
   "metadata": {},
   "source": [
    "**Exercício 07: ** Esse é o Mario, personagem famoso da Nintendo:"
   ]
  },
  {
   "cell_type": "code",
   "execution_count": 44,
   "metadata": {
    "collapsed": false
   },
   "outputs": [
    {
     "data": {
      "image/png": "[encoded data removed]",
      "text/plain": [
       "<matplotlib.figure.Figure at 0x7f9548636860>"
      ]
     },
     "metadata": {},
     "output_type": "display_data"
    }
   ],
   "source": [
    "# antes de tentar esse exercício, digite no prompt de comando: conda install scikit-image e reinicie o notebook\n",
    "%matplotlib inline\n",
    "import matplotlib.pyplot as plt\n",
    "from skimage import data, io, filters\n",
    "\n",
    "mario = io.imread('mario.gif')\n",
    "plt.figure(figsize=(4, 4))\n",
    "plt.imshow(mario)\n",
    "plt.axis('on')\n",
    "plt.grid(True)\n",
    "plt.show()"
   ]
  },
  {
   "cell_type": "markdown",
   "metadata": {},
   "source": [
    "Ele é representado por uma matriz tridimensional de dimensões $133 \\times 100 \\times 3$, representando a altura, largura e as cores. A dimensão das cores representa a intensidade das cores Vermelho, Verde e Azul, respectivamente, com um valorde 0 a 255.\n",
    "\n",
    "Exemplo:\n",
    "\n",
    "mario[0,0,:] = [255, 255, 255]\n",
    "\n",
    "Temos intensidade máxima nas três cores, que forma a cor branca.\n",
    "Faça um algoritmo que percorra a imagem do Mario e, toda vez que encontrar um pixel de cor (112, 104, 0), troque ele para azul ([0,0,255]) ou preto ([0,0,0]) dependendo da altura desse pixel (o cabelo, bigode e sapato devem ser pretos, a blusa deve ser azul)."
   ]
  },
  {
   "cell_type": "code",
   "execution_count": 45,
   "metadata": {
    "collapsed": false
   },
   "outputs": [],
   "source": []
  },
  {
   "cell_type": "code",
   "execution_count": 46,
   "metadata": {
    "collapsed": false
   },
   "outputs": [
    {
     "data": {
      "image/png": "[encoded data removed]",
      "text/plain": [
       "<matplotlib.figure.Figure at 0x7f95487bc908>"
      ]
     },
     "metadata": {},
     "output_type": "display_data"
    }
   ],
   "source": [
    "plt.figure(figsize=(4, 4))\n",
    "plt.imshow(mario)\n",
    "plt.axis('off')\n",
    "plt.show()"
   ]
  }
 ],
 "metadata": {
  "kernelspec": {
   "display_name": "Python 3",
   "language": "python",
   "name": "python3"
  },
  "language_info": {
   "codemirror_mode": {
    "name": "ipython",
    "version": 3
   },
   "file_extension": ".py",
   "mimetype": "text/x-python",
   "name": "python",
   "nbconvert_exporter": "python",
   "pygments_lexer": "ipython3",
   "version": "3.5.1"
  }
 },
 "nbformat": 4,
 "nbformat_minor": 0
}
