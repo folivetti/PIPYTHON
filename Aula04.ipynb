{
 "cells": [
  {
   "cell_type": "code",
   "execution_count": 1,
   "metadata": {
    "collapsed": false,
    "slideshow": {
     "slide_type": "skip"
    }
   },
   "outputs": [
    {
     "data": {
      "text/html": [
       "<style>\n",
       "\n",
       "@font-face {\n",
       "    font-family: \"Computer Modern\";\n",
       "    src: url('http://mirrors.ctan.org/fonts/cm-unicode/fonts/otf/cmunss.otf');\n",
       "}\n",
       "\n",
       "#notebook_panel { /* main background */\n",
       "    background: #888;\n",
       "    color: #f6f6f6;\n",
       "}\n",
       "\n",
       "div.cell { /* set cell width to about 80 chars */\n",
       "    width: 900px;\n",
       "}\n",
       "\n",
       "div #notebook { /* centre the content */\n",
       "    background: #fff; /* white background for content */\n",
       "    width: 1000px;\n",
       "    margin: auto;\n",
       "    padding-left: 1em;\n",
       "}\n",
       "\n",
       "#notebook li { /* More space between bullet points */\n",
       "margin-top:0.8em;\n",
       "}\n",
       "/* draw border around running cells */\n",
       "div.cell.border-box-sizing.code_cell.running {\n",
       "    border: 3px solid #111;\n",
       "}\n",
       "/* Put a solid color box around each cell and its output, visually linking them together */\n",
       "div.cell.code_cell {\n",
       "    background-color: rgba(171,165,131,0.3); \n",
       "    border-radius: 10px; /* rounded borders */\n",
       "    padding: 1em;\n",
       "    margin-top: 1em;\n",
       "}\n",
       "div.text_cell_render{\n",
       "    font-family: 'Arvo' sans-serif;\n",
       "    line-height: 130%;\n",
       "    font-size: 115%;\n",
       "    width:700px;\n",
       "    margin-left:auto;\n",
       "    margin-right:auto;\n",
       "}\n",
       "/* Formatting for header cells */\n",
       ".text_cell_render h1 {\n",
       "    font-family: 'Philosopher', sans-serif;\n",
       "    font-weight: 400;\n",
       "    font-size: 40pt;\n",
       "    text-align: center;\n",
       "    line-height: 100%;\n",
       "    color: rgb(12,85,97);\n",
       "    margin-bottom: 0.1em;\n",
       "    margin-top: 0.1em;\n",
       "    display: block;\n",
       "}\n",
       "\n",
       ".text_cell_render h2 {\n",
       "    font-family: 'Philosopher', serif;\n",
       "    font-weight: 700;\n",
       "    font-size: 24pt;\n",
       "    line-height: 100%;\n",
       "    color: rgb(171,165,131);\n",
       "    margin-bottom: 0.1em;\n",
       "    margin-top: 0.1em;\n",
       "    display: block;\n",
       "}    \n",
       "\n",
       ".text_cell_render h3 {\n",
       "    font-family: 'Philosopher', serif;\n",
       "    margin-top:12px;\n",
       "    margin-bottom: 3px;\n",
       "    font-style: italic;\n",
       "    color: rgb(95,92,72);\n",
       "}\n",
       "\n",
       ".text_cell_render h4 {\n",
       "    font-family: 'Philosopher', serif;\n",
       "}\n",
       "\n",
       ".text_cell_render h5 {\n",
       "    font-family: 'Alegreya Sans', sans-serif;\n",
       "    font-weight: 300;\n",
       "    font-size: 16pt;\n",
       "    color: grey;\n",
       "    font-style: italic;\n",
       "    margin-bottom: .1em;\n",
       "    margin-top: 0.1em;\n",
       "    display: block;\n",
       "}\n",
       "\n",
       ".text_cell_render h6 {\n",
       "    font-family: 'PT Mono', sans-serif;\n",
       "    font-weight: 300;\n",
       "    font-size: 10pt;\n",
       "    color: grey;\n",
       "    margin-bottom: 1px;\n",
       "    margin-top: 1px;\n",
       "}\n",
       ".CodeMirror{\n",
       "        font-family: \"PT Mono\";\n",
       "        font-size: 100%;\n",
       "}\n",
       ".raw_input_prompt{\n",
       "\tcolor: black;\n",
       "}\n",
       "input.raw_input{\n",
       "\tcolor: black;\n",
       "}\n",
       "</style>\n"
      ],
      "text/plain": [
       "<IPython.core.display.HTML object>"
      ]
     },
     "execution_count": 1,
     "metadata": {},
     "output_type": "execute_result"
    }
   ],
   "source": [
    "# ignore esse código inicial, é apenas para preparar a página\n",
    "from IPython.display import YouTubeVideo, HTML, Image, display\n",
    "css_file = './modelo.css'\n",
    "HTML(open(css_file, \"r\").read())"
   ]
  },
  {
   "cell_type": "markdown",
   "metadata": {
    "slideshow": {
     "slide_type": "slide"
    }
   },
   "source": [
    "# Introdução à Programação em Python"
   ]
  },
  {
   "cell_type": "markdown",
   "metadata": {
    "slideshow": {
     "slide_type": "slide"
    }
   },
   "source": [
    "## Estruturas de Repetição"
   ]
  },
  {
   "cell_type": "markdown",
   "metadata": {
    "slideshow": {
     "slide_type": "slide"
    }
   },
   "source": [
    "Vamos lembrar das aulas de Natureza da Informação quando aprendemos a converter um número decimal para binário.\n",
    "\n",
    "Começando com o exemplo de dec = 14.\n",
    "\n",
    "|dec|dec/2|dec%2|bin|\n",
    "|--|--|--|--|\n",
    "|14|7|0|0|\n",
    "|7|3|1|10|\n",
    "|3|1|1|110|\n",
    "|1|0|1|1110|\n",
    "|0|-|-|1110|\n",
    "\n",
    "\n",
    "O número binário é **1110**."
   ]
  },
  {
   "cell_type": "markdown",
   "metadata": {
    "slideshow": {
     "slide_type": "slide"
    }
   },
   "source": [
    "Vamos descrever o processo que realizamos:\n",
    "\n",
    "* enquanto dec era maior que zero\n",
    "* dividimos dec por 2\n",
    "* o quociente guardamos em dec, o resto concatenamos a esquerda do número binário\n",
    "* para facilitar vamos escrever o número binário como uma string!"
   ]
  },
  {
   "cell_type": "markdown",
   "metadata": {
    "slideshow": {
     "slide_type": "slide"
    }
   },
   "source": [
    "Os 3 últimos itens podem ser resolvidos com nosso conhecimento atual. \n",
    "\n",
    "Vamos fazer um rascunho desses itens:"
   ]
  },
  {
   "cell_type": "code",
   "execution_count": 5,
   "metadata": {
    "collapsed": false,
    "slideshow": {
     "slide_type": "slide"
    }
   },
   "outputs": [],
   "source": [
    "def DivResto(num, base):\n",
    "    \"\"\"\n",
    "    Retorna o quociente e resto da divisão de num por base\n",
    "    \"\"\"\n",
    "    return num//base, num%base"
   ]
  },
  {
   "cell_type": "code",
   "execution_count": 6,
   "metadata": {
    "collapsed": false,
    "slideshow": {
     "slide_type": "slide"
    }
   },
   "outputs": [
    {
     "name": "stdout",
     "output_type": "stream",
     "text": [
      "0\n"
     ]
    }
   ],
   "source": [
    "dec = 14\n",
    "bin = \"\"   # string vazia\n",
    "div, resto = DivResto(dec,2)\n",
    "dec = div\n",
    "bin = str(resto) + bin\n",
    "print(bin)"
   ]
  },
  {
   "cell_type": "code",
   "execution_count": 7,
   "metadata": {
    "collapsed": false,
    "slideshow": {
     "slide_type": "slide"
    }
   },
   "outputs": [
    {
     "name": "stdout",
     "output_type": "stream",
     "text": [
      "10\n"
     ]
    }
   ],
   "source": [
    "# repete mais uma vez, pois temos outro dígito\n",
    "div, resto = DivResto(dec,2)\n",
    "dec = div\n",
    "bin = str(resto) + bin\n",
    "print(bin)"
   ]
  },
  {
   "cell_type": "markdown",
   "metadata": {
    "slideshow": {
     "slide_type": "slide"
    }
   },
   "source": [
    "Para resolver o primeiro item, utilizamos o comando `while` que significa *enquanto*:\n",
    "\n",
    "```python\n",
    "while condicao verdadeira:\n",
    "    faça alguma coisa\n",
    "```"
   ]
  },
  {
   "cell_type": "markdown",
   "metadata": {
    "slideshow": {
     "slide_type": "slide"
    }
   },
   "source": [
    "Esse comando instrui o Python a repetir o bloco de instruções abaixo enquanto certa condição for verdadeira.\n",
    "\n",
    "No nosso caso a condição é que `dec` seja maior que zero."
   ]
  },
  {
   "cell_type": "code",
   "execution_count": 8,
   "metadata": {
    "collapsed": false,
    "slideshow": {
     "slide_type": "slide"
    }
   },
   "outputs": [
    {
     "name": "stdout",
     "output_type": "stream",
     "text": [
      "1110\n"
     ]
    }
   ],
   "source": [
    "def Converte(dec,base):\n",
    "\n",
    "    num = \"\"\n",
    "\n",
    "    while dec > 0:\n",
    "        div, resto = DivResto(dec,base)\n",
    "        dec = div\n",
    "        num = str(resto) + num\n",
    "    return num\n",
    "\n",
    "print(Converte(14,2))"
   ]
  },
  {
   "cell_type": "markdown",
   "metadata": {
    "slideshow": {
     "slide_type": "slide"
    }
   },
   "source": [
    "Reparem que substituindo $2$ por qualquer outro número, convertemos o número para outras bases menores do que $10$."
   ]
  },
  {
   "cell_type": "markdown",
   "metadata": {
    "slideshow": {
     "slide_type": "slide"
    }
   },
   "source": [
    "**Nota:** Podemos indicar para uma função um valor padrão para sua variável."
   ]
  },
  {
   "cell_type": "code",
   "execution_count": 9,
   "metadata": {
    "collapsed": false,
    "slideshow": {
     "slide_type": "slide"
    }
   },
   "outputs": [
    {
     "name": "stdout",
     "output_type": "stream",
     "text": [
      "1110\n",
      "112\n",
      "112\n"
     ]
    }
   ],
   "source": [
    "def Converte(dec,base=2):\n",
    "\n",
    "    num = ''\n",
    "\n",
    "    while dec > 0:\n",
    "        div, resto = DivResto(dec,base)\n",
    "        dec = div\n",
    "        num = str(resto) + num\n",
    "    return num\n",
    "\n",
    "print(Converte(14)) # usará a base 2\n",
    "print(Converte(14, 3)) # usará a base 3\n",
    "print(Converte(14, base=3)) # usará a base 3"
   ]
  },
  {
   "cell_type": "markdown",
   "metadata": {
    "slideshow": {
     "slide_type": "slide"
    }
   },
   "source": [
    "Como podemos adaptar nossa função para que possamos converter também para bases maiores que 10?"
   ]
  },
  {
   "cell_type": "code",
   "execution_count": 8,
   "metadata": {
    "collapsed": false,
    "slideshow": {
     "slide_type": "slide"
    }
   },
   "outputs": [
    {
     "name": "stdout",
     "output_type": "stream",
     "text": [
      "14 0xe\n"
     ]
    }
   ],
   "source": [
    "def Converte(dec,base):\n",
    "\n",
    "    num = ''        \n",
    "\n",
    "    while dec > 0:\n",
    "        div, resto = DivResto(dec,base)\n",
    "        dec = div\n",
    "        num = ??? + num\n",
    "    return num\n",
    "\n",
    "print(Converte(14,16), hex(14)) # hexadecimal"
   ]
  },
  {
   "cell_type": "code",
   "execution_count": 11,
   "metadata": {
    "collapsed": false,
    "slideshow": {
     "slide_type": "slide"
    }
   },
   "outputs": [
    {
     "name": "stdout",
     "output_type": "stream",
     "text": [
      "['ChainMap', 'Formatter', 'Template', '_TemplateMetaclass', '__builtins__', '__cached__', '__doc__', '__file__', '__loader__', '__name__', '__package__', '__spec__', '_re', '_string', 'ascii_letters', 'ascii_lowercase', 'ascii_uppercase', 'capwords', 'digits', 'hexdigits', 'octdigits', 'printable', 'punctuation', 'whitespace']\n",
      "\n",
      "0123456789 ABCDEFGHIJKLMNOPQRSTUVWXYZ\n"
     ]
    }
   ],
   "source": [
    "import string\n",
    "print(dir(string))\n",
    "print()\n",
    "print(string.digits, string.ascii_uppercase)"
   ]
  },
  {
   "cell_type": "code",
   "execution_count": 12,
   "metadata": {
    "collapsed": false,
    "slideshow": {
     "slide_type": "slide"
    }
   },
   "outputs": [
    {
     "name": "stdout",
     "output_type": "stream",
     "text": [
      "0 A\n"
     ]
    }
   ],
   "source": [
    "digitos = string.digits+string.ascii_uppercase\n",
    "print(digitos[0], digitos[10])"
   ]
  },
  {
   "cell_type": "code",
   "execution_count": 13,
   "metadata": {
    "collapsed": false,
    "slideshow": {
     "slide_type": "slide"
    }
   },
   "outputs": [
    {
     "name": "stdout",
     "output_type": "stream",
     "text": [
      "E 0xe\n"
     ]
    }
   ],
   "source": [
    "def Converte(dec,base):\n",
    "\n",
    "    digitos = string.digits+string.ascii_uppercase\n",
    "    num = ''        \n",
    "\n",
    "    while dec > 0:\n",
    "        div, resto = DivResto(dec,base)\n",
    "        dec = div\n",
    "        num = digitos[resto] + num\n",
    "    return num\n",
    "\n",
    "print(Converte(14,16), hex(14)) # hexadecimal"
   ]
  },
  {
   "cell_type": "markdown",
   "metadata": {
    "slideshow": {
     "slide_type": "slide"
    }
   },
   "source": [
    "Faça um programa que sorteie um número e peça para o usuário adivinhar. \n",
    "\n",
    "Informe o usuário se o número sorteado é maior ou menor que o chute dele e repita a operação até que ele adivinhe.\n",
    "\n",
    "Para sortear um número use a função `randint(a,b)` da biblioteca `random`, ele sorteia um número inteiro entre a e b."
   ]
  },
  {
   "cell_type": "code",
   "execution_count": 2,
   "metadata": {
    "collapsed": false
   },
   "outputs": [
    {
     "name": "stdout",
     "output_type": "stream",
     "text": [
      "Entre com um valor: 50\n",
      "O número é menor\n",
      "Entre com um valor: 25\n",
      "O número é maior\n",
      "Entre com um valor: 35\n",
      "O número é menor\n",
      "Entre com um valor: 30\n",
      "O número é menor\n",
      "Entre com um valor: 28\n",
      "O número é menor\n",
      "Entre com um valor: 27\n",
      "O número é menor\n",
      "Entre com um valor: 26\n",
      "Acertou\n"
     ]
    }
   ],
   "source": [
    "import random\n",
    "\n",
    "def Adivinhe():\n",
    "    x = random.randint(0,100)\n",
    "\n",
    "    \n",
    "    \n",
    "    \n",
    "    \n",
    "    \n",
    "Adivinhe()            "
   ]
  },
  {
   "cell_type": "markdown",
   "metadata": {
    "slideshow": {
     "slide_type": "slide"
    }
   },
   "source": [
    "A multiplicação Etíope é um método de multiplicação que utiliza apenas a divisão e multiplicação por $2$. \n",
    "\n",
    "Dado $m$ e $n$, faça:\n",
    "\n",
    "* Se $m$ for ímpar some $n$ ao resultado\n",
    "* Enquanto $m$ for maior ou igual a 1 repita:    \n",
    "    - Divida $m$ por $2$, multiplique $n$ por $2$\n",
    "    - Se $m$ for ímpar, some $n$ ao resultado"
   ]
  },
  {
   "cell_type": "code",
   "execution_count": 4,
   "metadata": {
    "collapsed": false,
    "slideshow": {
     "slide_type": "slide"
    }
   },
   "outputs": [
    {
     "name": "stdout",
     "output_type": "stream",
     "text": [
      "156 156\n",
      "396 396\n"
     ]
    }
   ],
   "source": [
    "def Etiope(m, n):\n",
    "\n",
    "    \n",
    "    \n",
    "    \n",
    "    \n",
    "    \n",
    "    \n",
    "print(Etiope(12,13), 12*13)\n",
    "print(Etiope(22,18), 22*18)"
   ]
  },
  {
   "cell_type": "markdown",
   "metadata": {
    "slideshow": {
     "slide_type": "slide"
    }
   },
   "source": [
    "Existem algumas sintaxes no Python conhecidas como **Syntactic sugar** que são formas de reduzir longas sequências de instruções de uma forma mais simples para leitura."
   ]
  },
  {
   "cell_type": "markdown",
   "metadata": {
    "slideshow": {
     "slide_type": "slide"
    }
   },
   "source": [
    "Um exemplo são instruções `if-else` que contém apenas uma instrução a serem executadas:\n",
    "\n",
    "```python\n",
    "variavel = valor1 if condicao else valor2\n",
    "```\n",
    "\n",
    "A variável irá receber o `valor1` caso a condição seja verdadeira, caso contrário receberá o `valor2`."
   ]
  },
  {
   "cell_type": "markdown",
   "metadata": {
    "slideshow": {
     "slide_type": "slide"
    }
   },
   "source": [
    "Outra Syntactic Sugar é atribuição de valores para múltiplas variáveis em uma linha:\n",
    "\n",
    "```python\n",
    "variavel1, variavel2 = valor1, valor\n",
    "```\n",
    "\n",
    "A `variavel1` receberá o `valor1`, enquanto a `variavel2` receberá o `valor2`."
   ]
  },
  {
   "cell_type": "code",
   "execution_count": 5,
   "metadata": {
    "collapsed": false
   },
   "outputs": [
    {
     "name": "stdout",
     "output_type": "stream",
     "text": [
      "156 156\n",
      "396 396\n"
     ]
    }
   ],
   "source": [
    "def Etiope(m, n):\n",
    "\n",
    "    \n",
    "    \n",
    "    \n",
    "print(Etiope(12,13), 12*13)\n",
    "print(Etiope(22,18), 22*18)"
   ]
  },
  {
   "cell_type": "markdown",
   "metadata": {
    "slideshow": {
     "slide_type": "slide"
    }
   },
   "source": [
    "Crie uma função para calcular a soma dos dígitos de um número.\n",
    "\n",
    "Primeiro, faça o procedimento sem auxílio do computador e tente abstrair a solução do problema.\n",
    "\n",
    "**DICA:** Utilize a nossa função `DivResto()` criada anteriormente."
   ]
  },
  {
   "cell_type": "code",
   "execution_count": 14,
   "metadata": {
    "collapsed": false
   },
   "outputs": [
    {
     "name": "stdout",
     "output_type": "stream",
     "text": [
      "15\n"
     ]
    }
   ],
   "source": [
    "def SomaDigitos(num):\n",
    "   \n",
    "    \n",
    "    \n",
    "print(SomaDigitos(12345))"
   ]
  },
  {
   "cell_type": "markdown",
   "metadata": {
    "slideshow": {
     "slide_type": "slide"
    }
   },
   "source": [
    "Crie uma função para verificar se um número é primo!\n",
    "\n",
    "Pense na condição de repetição e quando podemos retornar o resultado para fazer o menor número de repetições."
   ]
  },
  {
   "cell_type": "code",
   "execution_count": 9,
   "metadata": {
    "collapsed": false
   },
   "outputs": [
    {
     "name": "stdout",
     "output_type": "stream",
     "text": [
      "False\n",
      "True\n",
      "True\n"
     ]
    }
   ],
   "source": [
    "def Primo(num):\n",
    "    # ele não pode ser divisível por nenhum número de 2 a num-1\n",
    "\n",
    "    \n",
    "    \n",
    "    \n",
    "    \n",
    "print(Primo(10))\n",
    "print(Primo(13))\n",
    "print(Primo(131))"
   ]
  }
 ],
 "metadata": {
  "celltoolbar": "Slideshow",
  "kernelspec": {
   "display_name": "Python 3",
   "language": "python",
   "name": "python3"
  },
  "language_info": {
   "codemirror_mode": {
    "name": "ipython",
    "version": 3
   },
   "file_extension": ".py",
   "mimetype": "text/x-python",
   "name": "python",
   "nbconvert_exporter": "python",
   "pygments_lexer": "ipython3",
   "version": "3.5.1"
  }
 },
 "nbformat": 4,
 "nbformat_minor": 0
}
