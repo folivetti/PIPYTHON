{
 "cells": [
  {
   "cell_type": "code",
   "execution_count": 2,
   "metadata": {
    "collapsed": false,
    "slideshow": {
     "slide_type": "skip"
    }
   },
   "outputs": [],
   "source": [
    "from IPython.display import YouTubeVideo, HTML, Image, display"
   ]
  },
  {
   "cell_type": "markdown",
   "metadata": {
    "slideshow": {
     "slide_type": "slide"
    }
   },
   "source": [
    "![CMCC](http://cmcc.ufabc.edu.br/images/logo_site.jpg)\n",
    "\n",
    "# Introdução à Programação em Python\n",
    "\n",
    "#### Esse notebook serve como introdução para a interface que utilizaremos durante o curso de Processamento da Informação. Nele, introduziremos os conceitos básicos de instalação e utilização do Jupyter Notebook.\n",
    "\n",
    "\n",
    "#### ** Nesse notebook: **\n",
    "\n",
    "#### * Instalando o Anaconda Python\n",
    "#### * Utilizando o Jupyter Notebook\n",
    "#### * Copiando os notebooks de aula"
   ]
  },
  {
   "cell_type": "markdown",
   "metadata": {
    "slideshow": {
     "slide_type": "fragment"
    }
   },
   "source": [
    "## ** Instalando o Anaconda Python **\n",
    "\n",
    "#### No site [Anaconda Python](https://www.continuum.io/downloads) clique no nome de seu Sistema Operacional (Windows, OSX, Linux).\n",
    "\n",
    "![Anaconda](images/anacondaDown.png)"
   ]
  },
  {
   "cell_type": "markdown",
   "metadata": {
    "slideshow": {
     "slide_type": "slide"
    }
   },
   "source": [
    "#### Em seguida, clique no quadrado azul correspondente ao Python 3.5 e siga as instruções de instalação descritas logo abaixo do quadro de download.\n",
    "\n",
    "![Anaconda2](images/anacondaInstall.png)\n",
    "\n",
    "#### Para Windows e OS X, basta clicar duas vezes no arquivo salvo e seguir as instruções na tela. Para o Linux, basta digitar as instruções no terminal:\n",
    "\n",
    "`./Anaconda2-2.4.0-Linux-x86_64.sh`\n",
    "\n",
    "#### no diretório de Downloads."
   ]
  },
  {
   "cell_type": "markdown",
   "metadata": {
    "slideshow": {
     "slide_type": "fragment"
    }
   },
   "source": [
    "## ** Utilizando o Jupyter Notebook **\n",
    "\n",
    "#### * No Windows:\n",
    "\n",
    "#### Na pasta Documentos crie um diretório chamado Notebooks, abra um *prompt de comando* e digite:\n",
    "\n",
    "```cd \\User\\login\\Documents\\Notebooks\n",
    "echo jupyter notebook > jup.bat\n",
    "```\n",
    "\n",
    "onde *login* é o nome de seu usuário no computador. Em seguida, basta clicar duas vezes em *jup*.\n",
    "\n",
    "#### e salve com o nome jup.bat. Para utilizar o Jupyter Notebook, clique duas vezes nesse arquivo.\n",
    "\n",
    "#### * No Mac:\n",
    "\n",
    "#### execute **Launcher.app** no diretório ~/anaconda. Em seguida, clique no botão Launch ao lado do texto ipython-notebook.\n",
    "\n",
    "#### * no Linux:\n",
    "\n",
    "#### execute **jupyter notebook** em uma janela de terminal."
   ]
  },
  {
   "cell_type": "markdown",
   "metadata": {
    "slideshow": {
     "slide_type": "slide"
    }
   },
   "source": [
    "#### A seguinte página abrirá no seu navegador de internet:\n",
    "\n",
    "![ipython1](images/ipython1.png)"
   ]
  },
  {
   "cell_type": "markdown",
   "metadata": {
    "slideshow": {
     "slide_type": "slide"
    }
   },
   "source": [
    "#### Nessa página é possível navegar pelos diretórios de seu computador em busca de Notebooks. \n",
    "\n",
    "#### Clicando em **New Notebook** abrirá um novo notebook em outra aba de seu navegador.\n",
    "#### A tela inicial é apresentada e descrita a seguir:\n",
    "\n",
    "![ipython2](images/ipython2.png)\n",
    "\n",
    "#### No retângulo número 1 temos o nome do Notebook, esse nome é o mesmo do arquivo .ipynb encontrado no diretório atual. \n",
    "\n",
    "#### O retângulo número 2 contém os menus e comandos possíveis do Notebook.\n",
    "\n",
    "#### Finalmente, a área do retângulo número 3 é a área de código e texto do seu Notebook, chamada de célula. Um Notebook pode ter múltiplas células com diferentes conteúdos."
   ]
  },
  {
   "cell_type": "markdown",
   "metadata": {
    "slideshow": {
     "slide_type": "slide"
    }
   },
   "source": [
    "#### Para alterar o nome do Notebook basta clicar no nome atual (Untitled0) e digitar o novo nome.\n",
    "\n",
    "#### O tipo padrão de célula é o **Code** que permite digitar e executar códigos em Python. Digite o seguinte código nessa célula e aperte **Shift+Enter**:\n",
    "\n",
    "```python\n",
    "print (2+3)\n",
    "```\n",
    "\n",
    "#### Em **In [??]** aparece o comando digitado, o **??** representa o número da célula. Em **Out[??]** aparecerá o resultado da sequência de comandos digitados, em nosso exemplo o resultado da soma de 2 com 3.\n"
   ]
  },
  {
   "cell_type": "markdown",
   "metadata": {},
   "source": [
    "#### O outro tipo de célula é o Markdown, que permite digitar textos formatados, como o desse quadro. Algumas marcações possíveis são:\n",
    "\n",
    "\\* *Todo texto em torno de um asterisco fica em itálico* \\*\n",
    "\\*\\* **Todo texto em torno de dois asteriscos fica em negrito** \\*\\*\n",
    "\n",
    "* \\* Sequências de linhas iniciando com asterísco forma uma lista\n",
    "* \\* isso pode ajudar na organização\n",
    "\n",
    "#### Links para páginas externas podem ser feitos colocando um nome entre colchetes e o link entre parênteses \\[NOMELINK\\]\\(url\\). Ex.:\n",
    "\n",
    "\\[UFABC\\]\\(http://www.ufabc.edu.br\\) se torna:\n",
    "\n",
    "[UFABC](http://www.ufabc.edu.br)\n",
    "\n",
    "#### Se na primeira célula de código você executar o seguinte comando:\n",
    "\n",
    "```python\n",
    "from IPython.display import YouTubeVideo, HTML, Image, display\n",
    "```\n",
    "\n",
    "#### Nas células de código subsequentes você poderá inserir imagens com o comando:\n",
    "```python\n",
    "Image('link da imagem')\n",
    "```\n",
    "\n",
    "#### E vídeos com o comando:\n",
    "\n",
    "```python\n",
    "YouTubeVideo('id do video',640,480)\n",
    "```\n",
    "\n",
    "#### onde **link da imagem** é a url onde a imagem é encontrada e **id do video** é o ID do vídeo do youtube (código no final da url).\n",
    "\n",
    "#### Todo parágrafo precedido de uma sequência de símbolos # formata tal parágrafo com um tamanho de fonte correspondente (um # representa a maior fonte e ###### representa a menor fonte).\n",
    "\n",
    "#### O intuito dos notebooks é permitir que os alunos tenham uma cópia das aulas em seu computador e editem adicionando comentários e códigos de forma a organizar seu estudo."
   ]
  },
  {
   "cell_type": "markdown",
   "metadata": {
    "slideshow": {
     "slide_type": "slide"
    }
   },
   "source": [
    "## ** Copiando os notebooks de aula **"
   ]
  },
  {
   "cell_type": "markdown",
   "metadata": {
    "slideshow": {
     "slide_type": "fragment"
    }
   },
   "source": [
    "#### Ao visualizar uma das aulas do curso provenientes do site: [PI-PYTHON](https://sites.google.com/site/fabricioolivetti/courses/processamento-de-informacao-em-python) aparecerá a seguinte tela na parte superior:\n",
    "\n",
    "![ipython2](images/download.jpg)\n",
    "\n",
    "#### Ao clicar na seta circulada em vermelho será feito o download desse Notebook para seu computador. Copie para a sua pasta de trabalho e execute o IPython Notebook. Você poderá abrir esse Notebook e editá-lo para adicionar conteúdos ou corrigir os existentes.\n",
    "\n",
    "#### **Nota:** pode ser necessário fazer o download clicando com o botão direito e, em seguida, \"salvar como\"."
   ]
  },
  {
   "cell_type": "code",
   "execution_count": 1,
   "metadata": {
    "collapsed": false,
    "slideshow": {
     "slide_type": "slide"
    }
   },
   "outputs": [
    {
     "name": "stdout",
     "output_type": "stream",
     "text": [
      "Bons estudos!\n"
     ]
    }
   ],
   "source": [
    "print(\"Bons estudos!\")"
   ]
  },
  {
   "cell_type": "code",
   "execution_count": null,
   "metadata": {
    "collapsed": true
   },
   "outputs": [],
   "source": []
  }
 ],
 "metadata": {
  "celltoolbar": "Slideshow",
  "kernelspec": {
   "display_name": "Python 2",
   "language": "python",
   "name": "python2"
  },
  "language_info": {
   "codemirror_mode": {
    "name": "ipython",
    "version": 2
   },
   "file_extension": ".py",
   "mimetype": "text/x-python",
   "name": "python",
   "nbconvert_exporter": "python",
   "pygments_lexer": "ipython2",
   "version": "2.7.11"
  }
 },
 "nbformat": 4,
 "nbformat_minor": 0
}
