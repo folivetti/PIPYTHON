{
 "metadata": {
  "name": "",
  "signature": "sha256:30b6d816aeec32b1e3b5cd7520ba30c7f89c3619209016c2de0525f74db1128d"
 },
 "nbformat": 3,
 "nbformat_minor": 0,
 "worksheets": [
  {
   "cells": [
    {
     "cell_type": "code",
     "collapsed": false,
     "input": [
      "# ignore esse c\u00f3digo inicial, \u00e9 apenas para preparar a p\u00e1gina\n",
      "from IPython.display import YouTubeVideo, HTML, Image, display\n",
      "css_file = './modelo.css'\n",
      "HTML(open(css_file, \"r\").read())"
     ],
     "language": "python",
     "metadata": {},
     "outputs": [
      {
       "html": [
        "<style>\n",
        "\n",
        "@font-face {\n",
        "    font-family: \"Computer Modern\";\n",
        "    src: url('http://mirrors.ctan.org/fonts/cm-unicode/fonts/otf/cmunss.otf');\n",
        "}\n",
        "\n",
        "#notebook_panel { /* main background */\n",
        "    background: #888;\n",
        "    color: #f6f6f6;\n",
        "}\n",
        "\n",
        "div.cell { /* set cell width to about 80 chars */\n",
        "    width: 900px;\n",
        "}\n",
        "\n",
        "div #notebook { /* centre the content */\n",
        "    background: #fff; /* white background for content */\n",
        "    width: 1000px;\n",
        "    margin: auto;\n",
        "    padding-left: 1em;\n",
        "}\n",
        "\n",
        "#notebook li { /* More space between bullet points */\n",
        "margin-top:0.8em;\n",
        "}\n",
        "/* draw border around running cells */\n",
        "div.cell.border-box-sizing.code_cell.running {\n",
        "    border: 3px solid #111;\n",
        "}\n",
        "/* Put a solid color box around each cell and its output, visually linking them together */\n",
        "div.cell.code_cell {\n",
        "    background-color: rgba(171,165,131,0.3); \n",
        "    border-radius: 10px; /* rounded borders */\n",
        "    padding: 1em;\n",
        "    margin-top: 1em;\n",
        "}\n",
        "div.text_cell_render{\n",
        "    font-family: 'Arvo' sans-serif;\n",
        "    line-height: 130%;\n",
        "    font-size: 115%;\n",
        "    width:700px;\n",
        "    margin-left:auto;\n",
        "    margin-right:auto;\n",
        "}\n",
        "/* Formatting for header cells */\n",
        ".text_cell_render h1 {\n",
        "    font-family: 'Philosopher', sans-serif;\n",
        "    font-weight: 400;\n",
        "    font-size: 64pt;\n",
        "    line-height: 100%;\n",
        "    color: rgb(12,85,97);\n",
        "    margin-bottom: 0.1em;\n",
        "    margin-top: 0.1em;\n",
        "    display: block;\n",
        "}\n",
        "\n",
        ".text_cell_render h2 {\n",
        "    font-family: 'Philosopher', serif;\n",
        "    font-weight: 700;\n",
        "    font-size: 24pt;\n",
        "    line-height: 100%;\n",
        "    color: rgb(171,165,131);\n",
        "    margin-bottom: 0.1em;\n",
        "    margin-top: 0.1em;\n",
        "    display: block;\n",
        "}    \n",
        "\n",
        ".text_cell_render h3 {\n",
        "    font-family: 'Philosopher', serif;\n",
        "    margin-top:12px;\n",
        "    margin-bottom: 3px;\n",
        "    font-style: italic;\n",
        "    color: rgb(95,92,72);\n",
        "}\n",
        "\n",
        ".text_cell_render h4 {\n",
        "    font-family: 'Philosopher', serif;\n",
        "}\n",
        "\n",
        ".text_cell_render h5 {\n",
        "    font-family: 'Alegreya Sans', sans-serif;\n",
        "    font-weight: 300;\n",
        "    font-size: 16pt;\n",
        "    color: grey;\n",
        "    font-style: italic;\n",
        "    margin-bottom: .1em;\n",
        "    margin-top: 0.1em;\n",
        "    display: block;\n",
        "}\n",
        "\n",
        ".text_cell_render h6 {\n",
        "    font-family: 'PT Mono', sans-serif;\n",
        "    font-weight: 300;\n",
        "    font-size: 10pt;\n",
        "    color: grey;\n",
        "    margin-bottom: 1px;\n",
        "    margin-top: 1px;\n",
        "}\n",
        ".CodeMirror{\n",
        "        font-family: \"PT Mono\";\n",
        "        font-size: 100%;\n",
        "}\n",
        "</style>\n"
       ],
       "metadata": {},
       "output_type": "pyout",
       "prompt_number": 4,
       "text": [
        "<IPython.core.display.HTML at 0x7fe09e7f9a10>"
       ]
      }
     ],
     "prompt_number": 4
    },
    {
     "cell_type": "heading",
     "level": 1,
     "metadata": {},
     "source": [
      "Introdu\u00e7\u00e3o \u00e0 Programa\u00e7\u00e3o em Python"
     ]
    },
    {
     "cell_type": "heading",
     "level": 2,
     "metadata": {},
     "source": [
      "T\u00f3picos"
     ]
    },
    {
     "cell_type": "markdown",
     "metadata": {},
     "source": [
      "* Opera\u00e7\u00f5es Aritm\u00e9ticas\n",
      "* Vari\u00e1veis e Tipos\n",
      "* Fun\u00e7\u00f5es"
     ]
    },
    {
     "cell_type": "heading",
     "level": 2,
     "metadata": {},
     "source": [
      "Opera\u00e7\u00f5es Aritm\u00e9ticas"
     ]
    },
    {
     "cell_type": "markdown",
     "metadata": {},
     "source": [
      "O computador \u00e9 essencialmente uma m\u00e1quina de calcular. Para tanto temos diversas opera\u00e7\u00f5es aritm\u00e9ticas dispon\u00edveis no Python:\n",
      "\n",
      "* soma (`+`): `1+2`\n",
      "* subtra\u00e7\u00e3o (`-`): `2-1`\n",
      "* multiplica\u00e7\u00e3o (`*`): `3*5`\n",
      "* divis\u00e3o (`/`): `7/2`\n",
      "* exponencia\u00e7\u00e3o (`**`): `2**3`\n",
      "* resto da divis\u00e3o (`%`): `5%2`\n",
      "\n",
      "Al\u00e9m disso temos dispon\u00edvel o comando `print` para mostrar na tela os resultados dessas opera\u00e7\u00f5es:\n",
      "\n",
      "`print 1+2 # imprime o valor 3 na tela`\n",
      "\n",
      "Todo texto ap\u00f3s `#` se torna um coment\u00e1rio e n\u00e3o \u00e9 interpretado pelo computador."
     ]
    },
    {
     "cell_type": "code",
     "collapsed": false,
     "input": [
      "print 1+2\n",
      "print 2-1\n",
      "print 3*5\n",
      "print 7/2\n",
      "print 2**3\n",
      "print 5%2"
     ],
     "language": "python",
     "metadata": {},
     "outputs": [
      {
       "output_type": "stream",
       "stream": "stdout",
       "text": [
        "3\n",
        "1\n",
        "15\n",
        "3\n",
        "8\n",
        "1\n"
       ]
      }
     ],
     "prompt_number": 60
    },
    {
     "cell_type": "markdown",
     "metadata": {},
     "source": [
      "Repare que a opera\u00e7\u00e3o 7/2 retorna um n\u00famero inteiro, para retornar um valor real pelo menos um dos dois n\u00fameros tamb\u00e9m deve ser real."
     ]
    },
    {
     "cell_type": "code",
     "collapsed": false,
     "input": [
      "print 7/2.0"
     ],
     "language": "python",
     "metadata": {},
     "outputs": [
      {
       "output_type": "stream",
       "stream": "stdout",
       "text": [
        "3.5\n"
       ]
      }
     ],
     "prompt_number": 6
    },
    {
     "cell_type": "markdown",
     "metadata": {},
     "source": [
      "Note que a ordem que as opera\u00e7\u00f5es s\u00e3o executadas seguem uma ordem de preced\u00eancia, primeiro as opera\u00e7\u00f5es de divis\u00e3o e multiplica\u00e7\u00e3o, em seguida adi\u00e7\u00e3o e subtra\u00e7\u00e3o. Isso pode ser definido tamb\u00e9m atrav\u00e9s do uso de par\u00eanteses."
     ]
    },
    {
     "cell_type": "code",
     "collapsed": false,
     "input": [
      "print 1 + 2 * 3\n",
      "print (1+2)*3\n",
      "print 1 + (2*3)"
     ],
     "language": "python",
     "metadata": {},
     "outputs": [
      {
       "output_type": "stream",
       "stream": "stdout",
       "text": [
        "7\n",
        "9\n",
        "7\n"
       ]
      }
     ],
     "prompt_number": 36
    },
    {
     "cell_type": "markdown",
     "metadata": {},
     "source": [
      "Al\u00e9m das opera\u00e7\u00f5es b\u00e1sicas temos algumas opera\u00e7\u00f5es mais complexas dispon\u00edveis como padr\u00e3o. Para us\u00e1-las utilizamos a biblioteca `math`. Indicamos isso para o computador com o comando `import math`.\n",
      "\n",
      "Os comandos dispon\u00edveis podem ser consultados na [documenta\u00e7\u00e3o](https://docs.python.org/2/library/math.html)."
     ]
    },
    {
     "cell_type": "code",
     "collapsed": false,
     "input": [
      "import math\n",
      "\n",
      "print math.sqrt(2.0)\n",
      "print math.exp(1.0), math.log(10)\n",
      "print math.log(math.exp(1.0))\n",
      "print math.cos(math.pi)"
     ],
     "language": "python",
     "metadata": {},
     "outputs": [
      {
       "output_type": "stream",
       "stream": "stdout",
       "text": [
        "1.41421356237\n",
        "2.71828182846 2.30258509299\n",
        "1.0\n",
        "-1.0\n"
       ]
      }
     ],
     "prompt_number": 13
    },
    {
     "cell_type": "markdown",
     "metadata": {},
     "source": [
      "Os tipos num\u00e9ricos em Python s\u00e3o chamados de `int`, para n\u00fameros inteiros, e `float` para n\u00fameros reais. \n",
      "\n",
      "Complete o c\u00f3digo abaixo no *Interactive Python* e clique em *Run* para conferir se a sa\u00edda est\u00e1 correta:"
     ]
    },
    {
     "cell_type": "code",
     "collapsed": false,
     "input": [
      "# Exerc\u00edcio 01\n",
      "HTML('<iframe src=\"https://trinket.io/embed/python/e8b89a2de1\" width=\"100%\" height=\"400\" frameborder=\"0\" marginwidth=\"0\" marginheight=\"0\" allowfullscreen></iframe>')"
     ],
     "language": "python",
     "metadata": {},
     "outputs": [
      {
       "html": [
        "<iframe src=\"https://trinket.io/embed/python/e8b89a2de1\" width=\"100%\" height=\"400\" frameborder=\"0\" marginwidth=\"0\" marginheight=\"0\" allowfullscreen></iframe>"
       ],
       "metadata": {},
       "output_type": "pyout",
       "prompt_number": 16,
       "text": [
        "<IPython.core.display.HTML at 0x7fe09d32bdd0>"
       ]
      }
     ],
     "prompt_number": 16
    },
    {
     "cell_type": "heading",
     "level": 2,
     "metadata": {},
     "source": [
      "Vari\u00e1veis"
     ]
    },
    {
     "cell_type": "markdown",
     "metadata": {},
     "source": [
      "Se quisermos fazer um programa que calcula a m\u00e9dia aritm\u00e9tica entre dois n\u00fameros precisamos seguir esses passos:\n",
      "\n",
      "* Dados dois n\u00fameros\n",
      "* Calcule a soma deles\n",
      "* Divida o resultado por 2\n",
      "\n",
      "Se soubermos os n\u00fameros iniciais, digamos que s\u00e3o 2 e 3, basta escrevermos o seguinte c\u00f3digo:\n",
      "\n",
      "`print (2+3)/2.0`\n",
      "\n",
      "Por\u00e9m n\u00e3o seria um programa muito \u00fatil se tivermos que alter\u00e1-lo para cada valor que queremos calcular. O ideal seria realizar um procedimento de entrada de valores do usu\u00e1rio e armazen\u00e1-los na mem\u00f3ria do computador para realizar as opera\u00e7\u00f5es.\n",
      "Para armazenar um valor na mem\u00f3ria utilizamos o conceito de vari\u00e1veis. Assim como vari\u00e1veis matem\u00e1ticas, as vari\u00e1veis computacionais servem para generalizar uma express\u00e3o e, ao mesmo, armazenar dados para uso posterior.\n",
      "\n",
      "Para utilizarmos vari\u00e1veis no Python basta dar um nome a ela e, em seguida, atribuir um valor utilizando o operador `=`:\n",
      "\n",
      "`x = 10  # o computador ir\u00e1 guardar o valor 10 na vari\u00e1vel de nome x`\n",
      "\n",
      "Uma vez que tal vari\u00e1vel tem um valor, podemos realizar qualquer opera\u00e7\u00e3o com ela, desde que o tipo do valor armazenado nela permita."
     ]
    },
    {
     "cell_type": "code",
     "collapsed": false,
     "input": [
      "x = 10\n",
      "print x + 2\n",
      "print x * 3"
     ],
     "language": "python",
     "metadata": {},
     "outputs": [
      {
       "output_type": "stream",
       "stream": "stdout",
       "text": [
        "12\n",
        "30\n"
       ]
      }
     ],
     "prompt_number": 41
    },
    {
     "cell_type": "markdown",
     "metadata": {},
     "source": [
      "Dessa forma o nosso programa de m\u00e9dia poderia ficar da seguinte forma:"
     ]
    },
    {
     "cell_type": "code",
     "collapsed": false,
     "input": [
      "x = 2\n",
      "y = 3\n",
      "print (x+y)/2.0"
     ],
     "language": "python",
     "metadata": {},
     "outputs": [
      {
       "output_type": "stream",
       "stream": "stdout",
       "text": [
        "2.5\n"
       ]
      }
     ],
     "prompt_number": 42
    },
    {
     "cell_type": "markdown",
     "metadata": {},
     "source": [
      "Ao alterar os valores de `x` e `y`, o programa retorna o resultado da nova m\u00e9dia.\n",
      "Podemos pedir entrada do usu\u00e1rio atrav\u00e9s do comando `input()`.\n",
      "\n",
      "Esse comando vai esperar que o usu\u00e1rio digite algum valor e atribuir\u00e1 em uma vari\u00e1vel."
     ]
    },
    {
     "cell_type": "code",
     "collapsed": false,
     "input": [
      "x = input(\"digite o primeiro valor: \")\n",
      "y = input(\"digite o segundo valor: \")\n",
      "print (x+y)/2.0"
     ],
     "language": "python",
     "metadata": {},
     "outputs": [
      {
       "name": "stdout",
       "output_type": "stream",
       "stream": "stdout",
       "text": [
        "digite o primeiro valor: 2\n"
       ]
      },
      {
       "name": "stdout",
       "output_type": "stream",
       "stream": "stdout",
       "text": [
        "digite o segundo valor: 3\n"
       ]
      },
      {
       "output_type": "stream",
       "stream": "stdout",
       "text": [
        "2.5\n"
       ]
      }
     ],
     "prompt_number": 6
    },
    {
     "cell_type": "heading",
     "level": 2,
     "metadata": {},
     "source": [
      "Outros tipos de vari\u00e1veis"
     ]
    },
    {
     "cell_type": "markdown",
     "metadata": {},
     "source": [
      "Al\u00e9m dos tipos n\u00famericos int e float tamb\u00e9m podemos escrever n\u00fameros complexos da seguinte forma:\n",
      "\n",
      "`2+3j`\n",
      "\n",
      "As opera\u00e7\u00f5es b\u00e1sicas funcionam tamb\u00e9m para esse tipo."
     ]
    },
    {
     "cell_type": "code",
     "collapsed": false,
     "input": [
      "x = 2+3j\n",
      "y = 5+2j\n",
      "print x + y\n",
      "print x*y"
     ],
     "language": "python",
     "metadata": {},
     "outputs": [
      {
       "output_type": "stream",
       "stream": "stdout",
       "text": [
        "(7+5j)\n",
        "(4+19j)\n"
       ]
      }
     ],
     "prompt_number": 7
    },
    {
     "cell_type": "markdown",
     "metadata": {},
     "source": [
      "Para as fun\u00e7\u00f5es avan\u00e7adas devemos utilizar a biblioteca [cmath](https://docs.python.org/2/library/cmath.html).:"
     ]
    },
    {
     "cell_type": "code",
     "collapsed": false,
     "input": [
      "import cmath\n",
      "cmath.sqrt(-2)"
     ],
     "language": "python",
     "metadata": {},
     "outputs": [
      {
       "metadata": {},
       "output_type": "pyout",
       "prompt_number": 17,
       "text": [
        "1.4142135623730951j"
       ]
      }
     ],
     "prompt_number": 17
    },
    {
     "cell_type": "markdown",
     "metadata": {},
     "source": [
      "Al\u00e9m dos tipos num\u00e9ricos temos tamb\u00e9m os tipos l\u00f3gicos que podem conter o valor de verdadeiro(`True`) ou falso (`False`). Esses valores s\u00e3o gerados atrav\u00e9s de operadores relacionais:\n",
      "\n",
      "* Igualdade: `1 == 2` => `False`\n",
      "* Desigualdade: `1 != 2` => `True`\n",
      "* Maior e Maior ou igual: `1 > 2`, `1 >= 2` => `False`\n",
      "* Menor e Menor ou igual: `1 < 2`, `1 <= 2` => `True`\n",
      "\n",
      "E compostos com operadores booleanos:\n",
      "\n",
      "* E: `True and False` => `False`\n",
      "* Ou: `True or False` => `True`\n",
      "* N\u00e3o: `not True` => `False`"
     ]
    },
    {
     "cell_type": "code",
     "collapsed": false,
     "input": [
      "x = 1\n",
      "y = 2\n",
      "print x == y\n",
      "print x != y\n",
      "print x > y\n",
      "print x < y\n",
      "print x >= y\n",
      "print x <= y\n",
      "print x >= y or x != y\n",
      "print x <= y and x != y # x < y?\n",
      "print x <= y and not (x != y) # x >= y e x == y ==> x == y?"
     ],
     "language": "python",
     "metadata": {},
     "outputs": [
      {
       "output_type": "stream",
       "stream": "stdout",
       "text": [
        "False\n",
        "True\n",
        "False\n",
        "True\n",
        "False\n",
        "True\n",
        "True\n",
        "True\n",
        "False\n"
       ]
      }
     ],
     "prompt_number": 54
    },
    {
     "cell_type": "markdown",
     "metadata": {},
     "source": [
      "Repare que o Python permite utilizarmos opera\u00e7\u00f5es de adi\u00e7\u00e3o e multiplica\u00e7\u00e3o em tipos l\u00f3gicos, nesse caso o valor verdadeiro representa 1 e o valor falso, 0."
     ]
    },
    {
     "cell_type": "code",
     "collapsed": false,
     "input": [
      "print True + True, True + False, True * True, True * False"
     ],
     "language": "python",
     "metadata": {},
     "outputs": [
      {
       "output_type": "stream",
       "stream": "stdout",
       "text": [
        "2 1 1 0\n"
       ]
      }
     ],
     "prompt_number": 37
    },
    {
     "cell_type": "markdown",
     "metadata": {},
     "source": [
      "Temos tamb\u00e9m a op\u00e7\u00e3o de trabalhar com textos, ou *strings*, caracterizados por aspas simples ou duplas e capazes de manipular textos de diversas formas. Podemos usar os operadores `+` e `*`, representando concatena\u00e7\u00e3o e repeti\u00e7\u00e3o:"
     ]
    },
    {
     "cell_type": "code",
     "collapsed": false,
     "input": [
      "ola = \"Ol\u00e1\"\n",
      "espaco = \" \"\n",
      "mundo = \"Mundo\"\n",
      "print ola + espaco + mundo\n",
      "print (ola + espaco) * 6 + mundo"
     ],
     "language": "python",
     "metadata": {},
     "outputs": [
      {
       "output_type": "stream",
       "stream": "stdout",
       "text": [
        "Ol\u00e1 Mundo\n",
        "Ol\u00e1 Ol\u00e1 Ol\u00e1 Ol\u00e1 Ol\u00e1 Ol\u00e1 Mundo\n"
       ]
      }
     ],
     "prompt_number": 9
    },
    {
     "cell_type": "markdown",
     "metadata": {},
     "source": [
      "Existem maneiras mais interessantes de construir uma `string` que veremos futuramente.\n",
      "\n",
      "E, finalmente, podemos criar uma lista de valores, colocando todos eles entre colchetes separados por v\u00edrgula. Nessa lista podemos colocar qualquer um dos tipos acima, inclusive misturando-os."
     ]
    },
    {
     "cell_type": "code",
     "collapsed": false,
     "input": [
      "lista = [1,2,3.0,'batata',True]\n",
      "print lista, len(lista) # len = tamanho da lista"
     ],
     "language": "python",
     "metadata": {},
     "outputs": [
      {
       "output_type": "stream",
       "stream": "stdout",
       "text": [
        "[1, 2, 3.0, 'batata', True] 5\n"
       ]
      }
     ],
     "prompt_number": 11
    },
    {
     "cell_type": "markdown",
     "metadata": {},
     "source": [
      "Para acessar um elemento da lista utilizamos `[i]` com `i` sendo o elemento que queremos acessar. A contagem do \u00edndice do elemento come\u00e7a do 0.\n",
      "Isso tamb\u00e9m funciona para strings. Adicionalmente podemos utilizar faixa de valores usando [i:j] em que retornar\u00e1 os elementos entre [i,j[, excluindo o j."
     ]
    },
    {
     "cell_type": "code",
     "collapsed": false,
     "input": [
      "print lista[0]\n",
      "print lista[0:3]\n",
      "print mundo[0:2]\n",
      "print lista[-1] # \u00faltimo elemento"
     ],
     "language": "python",
     "metadata": {},
     "outputs": [
      {
       "output_type": "stream",
       "stream": "stdout",
       "text": [
        "1\n",
        "[1, 2, 3.0]\n",
        "Mu\n",
        "True\n"
       ]
      }
     ],
     "prompt_number": 12
    },
    {
     "cell_type": "markdown",
     "metadata": {},
     "source": [
      "Existem outros tipos mais avan\u00e7ados que veremos ao longo do curso.\n",
      "\n",
      "Complete o c\u00f3digo abaixo para realizar o que \u00e9 pedido:\n"
     ]
    },
    {
     "cell_type": "code",
     "collapsed": false,
     "input": [
      "#Exerc\u00edcio 02\n",
      "HTML('<iframe src=\"https://trinket.io/embed/python/3679faf148\" width=\"100%\" height=\"400\" frameborder=\"0\" marginwidth=\"0\" marginheight=\"0\" allowfullscreen></iframe>')"
     ],
     "language": "python",
     "metadata": {},
     "outputs": [
      {
       "html": [
        "<iframe src=\"https://trinket.io/embed/python/3679faf148\" width=\"100%\" height=\"400\" frameborder=\"0\" marginwidth=\"0\" marginheight=\"0\" allowfullscreen></iframe>"
       ],
       "metadata": {},
       "output_type": "pyout",
       "prompt_number": 18,
       "text": [
        "<IPython.core.display.HTML at 0x7fe09d32bb50>"
       ]
      }
     ],
     "prompt_number": 18
    },
    {
     "cell_type": "code",
     "collapsed": false,
     "input": [
      "#Exerc\u00edcio 03\n",
      "HTML('<iframe src=\"https://trinket.io/embed/python/395e643359\" width=\"100%\" height=\"400\" frameborder=\"0\" marginwidth=\"0\" marginheight=\"0\" allowfullscreen></iframe>')"
     ],
     "language": "python",
     "metadata": {},
     "outputs": [
      {
       "html": [
        "<iframe src=\"https://trinket.io/embed/python/395e643359\" width=\"100%\" height=\"400\" frameborder=\"0\" marginwidth=\"0\" marginheight=\"0\" allowfullscreen></iframe>"
       ],
       "metadata": {},
       "output_type": "pyout",
       "prompt_number": 19,
       "text": [
        "<IPython.core.display.HTML at 0x7fe09d32bd10>"
       ]
      }
     ],
     "prompt_number": 19
    },
    {
     "cell_type": "heading",
     "level": 2,
     "metadata": {},
     "source": [
      "Fun\u00e7\u00f5es"
     ]
    },
    {
     "cell_type": "markdown",
     "metadata": {},
     "source": [
      "Imagine que queremos fazer um programa para calcular o valor da fun\u00e7\u00e3o f(x) = 3\\*x\\*\\*2 + 2\\*x - 10. Com o que aprendemos at\u00e9 agora escrever\u00edamos a express\u00e3o para cada valor de x que queremos avaliar. Ex.:\n",
      "\n",
      "`3*10**2 + 2*10 - 10`\n",
      "\n",
      "`3*5**2 + 2*5 - 10`\n",
      "\n",
      "`3*1**2 + 2*1 - 10`\n",
      "\n",
      "...\n",
      "\n",
      "Isso ficaria muito repetitivo e seria interessante podermos simplesmente criar uma fun\u00e7\u00e3o no formato f(x) que retornaria o valor dessa equa\u00e7\u00e3o para qualquer valor de x.\n",
      "\n",
      "Em Python podemos criar fun\u00e7\u00f5es utilizando a instru\u00e7\u00e3o `def`:\n",
      "\n",
      "`def minhaEq(x):\n",
      "    return 3*x**2 + 2*x - 10`\n",
      "\n",
      "A primeira linha define o nome da fun\u00e7\u00e3o e, entre par\u00eanteses, as vari\u00e1veis que ela receber\u00e1. Na segunda linha a instru\u00e7\u00e3o `return` indica qual o valor que ela retornar\u00e1. Ex.:\n",
      "\n",
      "`y = minhaEq(10)`\n",
      "\n",
      "retornar\u00e1 o valor de `3*10**2 + 2*10 - 10`\n",
      "\n",
      "NOTA: para o Python saber quais instru\u00e7\u00f5es pertencem a fun\u00e7\u00e3o ele verifica o alinhamento da instru\u00e7\u00e3o em rela\u00e7\u00e3o a declara\u00e7\u00e3o da fun\u00e7\u00e3o. Utilizamos espa\u00e7os para alinhar essas instru\u00e7\u00f5es, como conven\u00e7\u00e3o m\u00faltiplos de 4."
     ]
    },
    {
     "cell_type": "code",
     "collapsed": false,
     "input": [
      "Image('imagens/alinhamento.png')"
     ],
     "language": "python",
     "metadata": {},
     "outputs": [
      {
       "metadata": {},
       "output_type": "pyout",
       "png": "[encoded data removed]",
       "prompt_number": 21,
       "text": [
        "<IPython.core.display.Image at 0x7fe09d32bed0>"
       ]
      }
     ],
     "prompt_number": 21
    },
    {
     "cell_type": "code",
     "collapsed": false,
     "input": [
      "def minhaEq(x):\n",
      "    return 3*x**2 + 2*x - 10\n",
      "\n",
      "print minhaEq(10)\n",
      "print minhaEq(5)\n",
      "print minhaEq(1)"
     ],
     "language": "python",
     "metadata": {},
     "outputs": [
      {
       "output_type": "stream",
       "stream": "stdout",
       "text": [
        "310\n",
        "75\n",
        "-5\n"
       ]
      }
     ],
     "prompt_number": 20
    },
    {
     "cell_type": "markdown",
     "metadata": {},
     "source": [
      "As fun\u00e7\u00f5es podem ter m\u00faltiplas vari\u00e1veis se necess\u00e1rio e m\u00faltiplas instru\u00e7\u00f5es, desde que elas estejam alinhadas:\n",
      "\n",
      "`def eqGenerica(a,b,c,x):\n",
      "     y = a*x**2 + b*x + c\n",
      "     return y`\n",
      "     \n",
      "Podemos retornar mais do que uma vari\u00e1vel tamb\u00e9m se necess\u00e1rio:\n",
      "\n",
      "`def derivadaParcial(x,y):\n",
      "     dx = 2*x\n",
      "     dy = 2*y\n",
      "     return dx,dy`\n",
      "     \n",
      "E ela pode retornar qualquer um dos tipos que vimos at\u00e9 agora, at\u00e9 mesmo retornar uma fun\u00e7\u00e3o:\n",
      "\n",
      "`def geraEq(a,b,c):\n",
      "    def eq2(x):\n",
      "        return a*x**2 + b*x + c\n",
      "    return eq2`"
     ]
    },
    {
     "cell_type": "code",
     "collapsed": false,
     "input": [
      "def eqGenerica(a,b,c,x):\n",
      "     y = a*x**2 + b*x + c\n",
      "     return y\n",
      "    \n",
      "print eqGenerica(3,2,-10,10)\n",
      "\n",
      "def derivadaParcial(x,y):\n",
      "     dx = 2*x\n",
      "     dy = 2*y\n",
      "     return dx,dy\n",
      "\n",
      "d1,d2 = derivadaParcial(2,3)\n",
      "print d1,d2\n",
      "\n",
      "def geraEq(a,b,c):\n",
      "    # observem o alinhamento\n",
      "    # vou criar uma fun\u00e7\u00e3o que recebe x como entrada\n",
      "    # e retorna a eq. do segundo grau definida por\n",
      "    # a,b,c\n",
      "    def eq2(x):\n",
      "        return a*x**2 + b*x + c\n",
      "    # retorno minha fun\u00e7\u00e3o criada\n",
      "    return eq2\n",
      "\n",
      "fx = geraEq(3,2,-10)\n",
      "print fx(10)"
     ],
     "language": "python",
     "metadata": {},
     "outputs": [
      {
       "output_type": "stream",
       "stream": "stdout",
       "text": [
        "310\n",
        "4 6\n",
        "310\n"
       ]
      }
     ],
     "prompt_number": 34
    },
    {
     "cell_type": "code",
     "collapsed": false,
     "input": [
      "#Exerc\u00edcio 04\n",
      "HTML('<iframe src=\"https://trinket.io/embed/python/511db39340\" width=\"100%\" height=\"400\" frameborder=\"0\" marginwidth=\"0\" marginheight=\"0\" allowfullscreen></iframe>')"
     ],
     "language": "python",
     "metadata": {},
     "outputs": [
      {
       "html": [
        "<iframe src=\"https://trinket.io/embed/python/511db39340\" width=\"100%\" height=\"400\" frameborder=\"0\" marginwidth=\"0\" marginheight=\"0\" allowfullscreen></iframe>"
       ],
       "metadata": {},
       "output_type": "pyout",
       "prompt_number": 24,
       "text": [
        "<IPython.core.display.HTML at 0x7fe09df87c50>"
       ]
      }
     ],
     "prompt_number": 24
    },
    {
     "cell_type": "heading",
     "level": 2,
     "metadata": {},
     "source": [
      "Bibliotecas Extras"
     ]
    },
    {
     "cell_type": "markdown",
     "metadata": {},
     "source": [
      "O Python conta com diversas bibliotecas que automatizam muitas tarefas e permitem realizarmos experimentos interessantes.\n",
      "\n",
      "Para o pr\u00f3ximo exerc\u00edcio vamos utilizar a biblioteca `urlib.request` que permite obter dados de p\u00e1ginas da internet. \n",
      "Cadastre-se em http://api.yandex.com/ e obtenha um \"API KEY\" e coloque essa string na vari\u00e1vel APIKEY no c\u00f3digo abaixo.\n",
      "\n",
      "Verifique tamb\u00e9m as poss\u00edveis combina\u00e7\u00f5es de idiomas de tradu\u00e7\u00f5es na p\u00e1gina: http://api.yandex.com/translate/doc/dg/reference/getLangs.xml\n",
      "\n",
      "Para traduzir o texto 'To be or not to be' do ingl\u00eas para o portugu\u00eas, por exemplo, basta acessar a url:\n",
      "\n",
      "https://translate.yandex.net/api/v1.5/tr.json/translate?key=APIKEY&lang=en-pt&text=To+be,+or+not+to+be\n",
      "\n",
      "substituindo APIKEY pela sua chave.\n",
      "\n",
      "Repare que essa url \u00e9 composta de tr\u00eas vari\u00e1veis: \n",
      "\n",
      "* APIKEY\n",
      "* lang: representa o idioma de origem e destino\n",
      "* text: o texto a ser traduzido com os espa\u00e7os substitu\u00eddos por +\n",
      "\n",
      "Complete o programa abaixo para que:\n",
      "\n",
      "* a vari\u00e1vel APIKEY contenha a sua chave\n",
      "* ele pe\u00e7a para entrar com um texto a ser traduzido, substituindo o espa\u00e7o por + (veja a documenta\u00e7\u00e3o de [strings](https://docs.python.org/2/library/string.html)\n",
      "* crie uma lista com poss\u00edveis idiomas de tradu\u00e7\u00e3o e pe\u00e7a para o usu\u00e1rio selecionar os idiomas\n",
      "* componha a url concatenando os dados obtidos para obter a tradu\u00e7\u00e3o utilizando o comando `urlopen()` para abrir a p\u00e1gina e `read()` para ler o conte\u00fado dela."
     ]
    },
    {
     "cell_type": "code",
     "collapsed": false,
     "input": [
      "HTML('<iframe src=\"https://trinket.io/embed/python/da11824ba1\" width=\"100%\" height=\"400\" frameborder=\"0\" marginwidth=\"0\" marginheight=\"0\" allowfullscreen></iframe>')"
     ],
     "language": "python",
     "metadata": {},
     "outputs": [
      {
       "html": [
        "<iframe src=\"https://trinket.io/embed/python/da11824ba1\" width=\"100%\" height=\"400\" frameborder=\"0\" marginwidth=\"0\" marginheight=\"0\" allowfullscreen></iframe>"
       ],
       "metadata": {},
       "output_type": "pyout",
       "prompt_number": 27,
       "text": [
        "<IPython.core.display.HTML at 0x7fe09df87a50>"
       ]
      }
     ],
     "prompt_number": 27
    },
    {
     "cell_type": "code",
     "collapsed": false,
     "input": [
      "# no ipython notebook temos que usar a biblioteca requests\n",
      "import requests\n",
      "\n",
      "APIKEY = 'trnsl.1.1.20141019T153920Z.c2ea774a4c45ef4b.4d2fccbf061f8f6903690b716126f7cd8ff79345'\n",
      "saida = requests.get('https://translate.yandex.net/api/v1.5/tr.json/translate?key=%s&lang=en-pt&text=To+be,+or+not+to+be' % (APIKEY))\n",
      "print saida.text"
     ],
     "language": "python",
     "metadata": {},
     "outputs": [
      {
       "output_type": "stream",
       "stream": "stdout",
       "text": [
        "{\"code\":200,\"lang\":\"en-pt\",\"text\":[\"Ser ou n\u00e3o ser\"]}\n"
       ]
      }
     ],
     "prompt_number": 26
    },
    {
     "cell_type": "markdown",
     "metadata": {},
     "source": [
      "Outra biblioteca interessante \u00e9 a `matplotlib` que permite plotar gr\u00e1ficos diversos. Para us\u00e1-la no iPython Notebook basta executar o comando:\n",
      "\n",
      "`%pylab inline`\n",
      "\n",
      "Vamos plotar alguns pontos de nossa fun\u00e7\u00e3o quadr\u00e1tica utilizando o comando `plot(x,y)`, onde **x** e **y** s\u00e3o listas com valores correspondentes a abscissa e ordenada, respectivamente. Basicamente temos que **x** ser\u00e1 uma lista de pontos que queremos plotar e **y** a aplica\u00e7\u00e3o da fun\u00e7\u00e3o `fx()` em cada ponto de **x**.\n",
      "\n",
      "DICA:\n",
      "Podemos aplicar uma fun\u00e7\u00e3o em cada ponto de uma lista utilizando o comando \n",
      "\n",
      "`map( funcao, lista )`"
     ]
    },
    {
     "cell_type": "code",
     "collapsed": false,
     "input": [
      "%pylab inline\n",
      "x = [-5,-4,-3,-2,-1,0,1,2,3,4,5]\n",
      "y = map(fx,x) # equivalente a [fx(-5),fx(-4),fx(-3),,...]\n",
      "plot(x,y)"
     ],
     "language": "python",
     "metadata": {},
     "outputs": [
      {
       "output_type": "stream",
       "stream": "stdout",
       "text": [
        "Populating the interactive namespace from numpy and matplotlib\n"
       ]
      },
      {
       "metadata": {},
       "output_type": "pyout",
       "prompt_number": 33,
       "text": [
        "[<matplotlib.lines.Line2D at 0x7fe084f82f10>]"
       ]
      },
      {
       "metadata": {},
       "output_type": "display_data",
       "png": "[encoded data removed]",
       "text": [
        "<matplotlib.figure.Figure at 0x7fe086b18dd0>"
       ]
      }
     ],
     "prompt_number": 33
    }
   ],
   "metadata": {}
  }
 ]
}