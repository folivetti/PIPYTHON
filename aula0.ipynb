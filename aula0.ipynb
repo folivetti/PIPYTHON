{
 "metadata": {
  "celltoolbar": "Slideshow",
  "name": "",
  "signature": "sha256:62716ecfb2a112b737f1b85a520c8ace503d74f7c17fc99b43fad9e09cb372c2"
 },
 "nbformat": 3,
 "nbformat_minor": 0,
 "worksheets": [
  {
   "cells": [
    {
     "cell_type": "code",
     "collapsed": false,
     "input": [
      "# ignore esse c\u00f3digo inicial, \u00e9 apenas para preparar a p\u00e1gina\n",
      "from IPython.display import YouTubeVideo, HTML, Image, display\n",
      "css_file = './modelo.css'\n",
      "HTML(open(css_file, \"r\").read())"
     ],
     "language": "python",
     "metadata": {
      "slideshow": {
       "slide_type": "skip"
      }
     },
     "outputs": [
      {
       "html": [
        "<style>\n",
        "\n",
        "@font-face {\n",
        "    font-family: \"Computer Modern\";\n",
        "    src: url('http://mirrors.ctan.org/fonts/cm-unicode/fonts/otf/cmunss.otf');\n",
        "}\n",
        "\n",
        "#notebook_panel { /* main background */\n",
        "    background: #888;\n",
        "    color: #f6f6f6;\n",
        "}\n",
        "\n",
        "div.cell { /* set cell width to about 80 chars */\n",
        "    width: 900px;\n",
        "}\n",
        "\n",
        "div #notebook { /* centre the content */\n",
        "    background: #fff; /* white background for content */\n",
        "    width: 1000px;\n",
        "    margin: auto;\n",
        "    padding-left: 1em;\n",
        "}\n",
        "\n",
        "#notebook li { /* More space between bullet points */\n",
        "margin-top:0.8em;\n",
        "}\n",
        "/* draw border around running cells */\n",
        "div.cell.border-box-sizing.code_cell.running {\n",
        "    border: 3px solid #111;\n",
        "}\n",
        "/* Put a solid color box around each cell and its output, visually linking them together */\n",
        "div.cell.code_cell {\n",
        "    background-color: rgba(171,165,131,0.3); \n",
        "    border-radius: 10px; /* rounded borders */\n",
        "    padding: 1em;\n",
        "    margin-top: 1em;\n",
        "}\n",
        "div.text_cell_render{\n",
        "    font-family: 'Arvo' sans-serif;\n",
        "    line-height: 130%;\n",
        "    font-size: 115%;\n",
        "    width:700px;\n",
        "    margin-left:auto;\n",
        "    margin-right:auto;\n",
        "}\n",
        "/* Formatting for header cells */\n",
        ".text_cell_render h1 {\n",
        "    font-family: 'Philosopher', sans-serif;\n",
        "    font-weight: 400;\n",
        "    font-size: 40pt;\n",
        "    text-align: center;\n",
        "    line-height: 100%;\n",
        "    color: rgb(12,85,97);\n",
        "    margin-bottom: 0.1em;\n",
        "    margin-top: 0.1em;\n",
        "    display: block;\n",
        "}\n",
        "\n",
        ".text_cell_render h2 {\n",
        "    font-family: 'Philosopher', serif;\n",
        "    font-weight: 700;\n",
        "    font-size: 24pt;\n",
        "    line-height: 100%;\n",
        "    color: rgb(171,165,131);\n",
        "    margin-bottom: 0.1em;\n",
        "    margin-top: 0.1em;\n",
        "    display: block;\n",
        "}    \n",
        "\n",
        ".text_cell_render h3 {\n",
        "    font-family: 'Philosopher', serif;\n",
        "    margin-top:12px;\n",
        "    margin-bottom: 3px;\n",
        "    font-style: italic;\n",
        "    color: rgb(95,92,72);\n",
        "}\n",
        "\n",
        ".text_cell_render h4 {\n",
        "    font-family: 'Philosopher', serif;\n",
        "}\n",
        "\n",
        ".text_cell_render h5 {\n",
        "    font-family: 'Alegreya Sans', sans-serif;\n",
        "    font-weight: 300;\n",
        "    font-size: 16pt;\n",
        "    color: grey;\n",
        "    font-style: italic;\n",
        "    margin-bottom: .1em;\n",
        "    margin-top: 0.1em;\n",
        "    display: block;\n",
        "}\n",
        "\n",
        ".text_cell_render h6 {\n",
        "    font-family: 'PT Mono', sans-serif;\n",
        "    font-weight: 300;\n",
        "    font-size: 10pt;\n",
        "    color: grey;\n",
        "    margin-bottom: 1px;\n",
        "    margin-top: 1px;\n",
        "}\n",
        ".CodeMirror{\n",
        "        font-family: \"PT Mono\";\n",
        "        font-size: 100%;\n",
        "}\n",
        ".raw_input_prompt{\n",
        "\tcolor: black;\n",
        "}\n",
        "input.raw_input{\n",
        "\tcolor: black;\n",
        "}\n",
        "</style>\n"
       ],
       "metadata": {},
       "output_type": "pyout",
       "prompt_number": 2,
       "text": [
        "<IPython.core.display.HTML at 0x7f26344818d0>"
       ]
      }
     ],
     "prompt_number": 2
    },
    {
     "cell_type": "heading",
     "level": 1,
     "metadata": {
      "slideshow": {
       "slide_type": "slide"
      }
     },
     "source": [
      "Introdu\u00e7\u00e3o \u00e0 Programa\u00e7\u00e3o em Python"
     ]
    },
    {
     "cell_type": "heading",
     "level": 2,
     "metadata": {
      "slideshow": {
       "slide_type": "slide"
      }
     },
     "source": [
      "T\u00f3picos"
     ]
    },
    {
     "cell_type": "markdown",
     "metadata": {
      "slideshow": {
       "slide_type": "fragment"
      }
     },
     "source": [
      "* Instalando o Anaconda Python\n",
      "* Utilizando o IPython Notebook\n",
      "* Copiando os notebooks de aula"
     ]
    },
    {
     "cell_type": "heading",
     "level": 2,
     "metadata": {
      "slideshow": {
       "slide_type": "slide"
      }
     },
     "source": [
      "Instalando o Anaconda Python"
     ]
    },
    {
     "cell_type": "markdown",
     "metadata": {
      "slideshow": {
       "slide_type": "fragment"
      }
     },
     "source": [
      "Fa\u00e7a o download no site [Anaconda Python](https://store.continuum.io/cshop/anaconda/)\n",
      "\n",
      "![Anaconda](images/anacondaDown.png)"
     ]
    },
    {
     "cell_type": "markdown",
     "metadata": {
      "slideshow": {
       "slide_type": "slide"
      }
     },
     "source": [
      "Na tela de download clique no bot\u00e3o destacado pelo ret\u00e2ngulo vermelho e siga as instru\u00e7\u00f5es de instala\u00e7\u00e3o do quadro destacado pelo ret\u00e2ngulo azul. No windows basta executar o arquivo do download e seguir os passos.\n",
      "\n",
      "![Anaconda2](images/anacondaInstall.png)"
     ]
    },
    {
     "cell_type": "markdown",
     "metadata": {
      "slideshow": {
       "slide_type": "slide"
      }
     },
     "source": [
      "Instalando e utilizando o Anaconda Python e IPython Notebook no Linux (em ingl\u00eas):"
     ]
    },
    {
     "cell_type": "code",
     "collapsed": false,
     "input": [
      "YouTubeVideo('NwyIuWK80gQ', 640,480)"
     ],
     "language": "python",
     "metadata": {
      "slideshow": {
       "slide_type": "fragment"
      }
     },
     "outputs": [
      {
       "html": [
        "\n",
        "        <iframe\n",
        "            width=\"640\"\n",
        "            height=480\"\n",
        "            src=\"https://www.youtube.com/embed/NwyIuWK80gQ\"\n",
        "            frameborder=\"0\"\n",
        "            allowfullscreen\n",
        "        ></iframe>\n",
        "        "
       ],
       "metadata": {},
       "output_type": "pyout",
       "prompt_number": 3,
       "text": [
        "<IPython.lib.display.YouTubeVideo at 0x7f263449a350>"
       ]
      }
     ],
     "prompt_number": 3
    },
    {
     "cell_type": "markdown",
     "metadata": {
      "slideshow": {
       "slide_type": "slide"
      }
     },
     "source": [
      "Instalando e utilizando o Anaconda Python e IPython Notebook no Windows (em ingl\u00eas):"
     ]
    },
    {
     "cell_type": "code",
     "collapsed": false,
     "input": [
      "YouTubeVideo('oXnnRpTGT2M',640,480)"
     ],
     "language": "python",
     "metadata": {
      "slideshow": {
       "slide_type": "fragment"
      }
     },
     "outputs": [
      {
       "html": [
        "\n",
        "        <iframe\n",
        "            width=\"640\"\n",
        "            height=480\"\n",
        "            src=\"https://www.youtube.com/embed/oXnnRpTGT2M\"\n",
        "            frameborder=\"0\"\n",
        "            allowfullscreen\n",
        "        ></iframe>\n",
        "        "
       ],
       "metadata": {},
       "output_type": "pyout",
       "prompt_number": 4,
       "text": [
        "<IPython.lib.display.YouTubeVideo at 0x7f263449a450>"
       ]
      }
     ],
     "prompt_number": 4
    },
    {
     "cell_type": "heading",
     "level": 2,
     "metadata": {
      "slideshow": {
       "slide_type": "slide"
      }
     },
     "source": [
      "Utilizando o IPython Notebook"
     ]
    },
    {
     "cell_type": "markdown",
     "metadata": {
      "slideshow": {
       "slide_type": "fragment"
      }
     },
     "source": [
      "#No Windows:#\n",
      "\n",
      "Crie um diret\u00f3rio de trabalho para armazenar todos os Notebooks criados durante o curso. Nesse diret\u00f3rio crie um arquivo texto contendo o seguinte comando:\n",
      "\n",
      "```ipython notebook\n",
      "```\n",
      "\n",
      "e salve com o nome ipython.bat. Para utilizar o IPython Notebook, clique duas vezes nesse arquivo.\n",
      "\n",
      "#No Mac:#\n",
      "\n",
      "execute **Launcher.app** no diret\u00f3rio ~/anaconda. Em seguida, clique no bot\u00e3o Launch ao lado do texto ipython-notebook.\n",
      "\n",
      "#no Linux:\n",
      "\n",
      "execute **ipython notebook** em uma janela de terminal."
     ]
    },
    {
     "cell_type": "markdown",
     "metadata": {
      "slideshow": {
       "slide_type": "slide"
      }
     },
     "source": [
      "A seguinte p\u00e1gina abrir\u00e1 no seu navegador de internet:\n",
      "\n",
      "![ipython1](images/ipython1.png)"
     ]
    },
    {
     "cell_type": "markdown",
     "metadata": {
      "slideshow": {
       "slide_type": "slide"
      }
     },
     "source": [
      "Nessa p\u00e1gina \u00e9 poss\u00edvel navegar pelos diret\u00f3rios de seu computador em busca de Notebooks. \n",
      "\n",
      "Clicando em **New Notebook** abrir\u00e1 um novo notebook em outra aba de seu navegador.\n",
      "A tela inicial \u00e9 apresentada e descrita a seguir:\n",
      "\n",
      "![ipython2](images/ipython2.png)\n",
      "\n",
      "No ret\u00e2ngulo n\u00famero 1 temos o nome do Notebook, esse nome \u00e9 o mesmo do arquivo .ipynb encontrado no diret\u00f3rio atual. \n",
      "\n",
      "O ret\u00e2ngulo n\u00famero 2 cont\u00e9m os menus e comandos poss\u00edveis do Notebook.\n",
      "\n",
      "Finalmente, a \u00e1rea do ret\u00e2ngulo n\u00famero 3 \u00e9 a \u00e1rea de c\u00f3digo e texto do seu Notebook, chamada de c\u00e9lula. Um Notebook pode ter m\u00faltiplas c\u00e9lulas com diferentes conte\u00fados."
     ]
    },
    {
     "cell_type": "markdown",
     "metadata": {
      "slideshow": {
       "slide_type": "slide"
      }
     },
     "source": [
      "Para alterar o nome do Notebook basta clicar no nome atual (Untitled0) e digitar o novo nome.\n",
      "O tipo padr\u00e3o de c\u00e9lula \u00e9 o **Code** que permite digitar e executar c\u00f3digos em Python. Digite o seguinte c\u00f3digo nessa c\u00e9lula e aperte **Shift+Enter**:\n",
      "```python\n",
      "print 2+3\n",
      "```\n",
      "\n",
      "Em **In [??]** aparece o comando digitado, o **??** representa o n\u00famero da c\u00e9lula. Em **Out[??]** aparecer\u00e1 o resultado da sequ\u00eancia de comandos digitados, em nosso exemplo o resultado da soma de 2 com 3.\n",
      "\n",
      "O outro tipo de c\u00e9lular \u00e9 o Markdown, que permite digitar textos formatados, como o desse quadro. Algumas marca\u00e7\u00f5es poss\u00edveis s\u00e3o:\n",
      "\n",
      "\\* *Todo texto em torno de um asterisco fica em it\u00e1lico * \\*\n",
      "\\*\\* **Todo texto em torno de dois asteriscos fica em negrito** \\*\\*\n",
      "\n",
      "* \\* Sequ\u00eancias de linhas iniciando com aster\u00edsco forma uma lista\n",
      "* \\* isso pode ajudar na organiza\u00e7\u00e3o\n",
      "\n",
      "Links para p\u00e1ginas externas podem ser feitos colocando um nome entre colchetes e o link entre par\u00eanteses \\[NOMELINK\\]\\(url\\). Ex.:\n",
      "\n",
      "\\[UFABC\\]\\(www.ufabc.edu.br\\) se torna:\n",
      "\n",
      "[UFABC](www.ufabc.edu.br)\n",
      "\n",
      "Se na primeira c\u00e9lula de c\u00f3digo voc\u00ea executar o seguinte comando:\n",
      "\n",
      "```python\n",
      "from IPython.display import YouTubeVideo, HTML, Image, display\n",
      "```\n",
      "\n",
      "Nas c\u00e9lulas de c\u00f3digo subsequentes voc\u00ea poder\u00e1 inserir imagens e v\u00eddeos do Youtube com o comando:\n",
      "```python\n",
      "Image('link da imagem')\n",
      "YouTubeVideo('id do video',640,480)\n",
      "```\n",
      "\n",
      "onde **link da imagem** \u00e9 a url onde a imagem \u00e9 encontrada e **id do video** \u00e9 o ID do v\u00eddeo do youtube (c\u00f3digo no final da url).\n",
      "\n",
      "Outros tipos de c\u00e9lulas s\u00e3o os **Heading 1-6** que cria c\u00e9lulas de t\u00edtulo de se\u00e7\u00e3o, para ajudar na divis\u00e3o de seu Notebook.\n",
      "\n",
      "O intuito dos notebooks \u00e9 permitir que os alunos tenham uma c\u00f3pia das aulas em seu computador e editem adicionando coment\u00e1rios e c\u00f3digos de forma a organizar seu estudo."
     ]
    },
    {
     "cell_type": "heading",
     "level": 2,
     "metadata": {
      "slideshow": {
       "slide_type": "slide"
      }
     },
     "source": [
      "Copiando os notebooks de aula"
     ]
    },
    {
     "cell_type": "markdown",
     "metadata": {
      "slideshow": {
       "slide_type": "fragment"
      }
     },
     "source": [
      "Ao visualizar uma das aulas do curso provenientes do site: [PI-PYTHON](https://sites.google.com/site/fabricioolivetti/courses/processamento-de-informacao-em-python) aparecer\u00e1 a seguinte tela na parte superior:\n",
      "\n",
      "![ipython2](images/download.jpg)\n",
      "\n",
      "Ao clicar na seta circulada em vermelho ser\u00e1 feito o download desse Notebook para seu computador. Copie para a sua pasta de trabalho e execute o IPython Notebook. Voc\u00ea poder\u00e1 abrir esse Notebook e edit\u00e1-lo para adicionar conte\u00fados ou corrigir os existentes."
     ]
    },
    {
     "cell_type": "code",
     "collapsed": false,
     "input": [
      "print \"Bons estudos!\""
     ],
     "language": "python",
     "metadata": {
      "slideshow": {
       "slide_type": "slide"
      }
     },
     "outputs": [
      {
       "output_type": "stream",
       "stream": "stdout",
       "text": [
        "Bons estudos!\n"
       ]
      }
     ],
     "prompt_number": 5
    }
   ],
   "metadata": {}
  }
 ]
}