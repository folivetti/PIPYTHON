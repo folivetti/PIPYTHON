{
 "metadata": {
  "name": "",
  "signature": "sha256:a2edc4263911f09874a938e2392f4cde6e6736d7fba6f56874ac8709f34d7068"
 },
 "nbformat": 3,
 "nbformat_minor": 0,
 "worksheets": [
  {
   "cells": [
    {
     "cell_type": "code",
     "collapsed": false,
     "input": [
      "# ignore esse c\u00f3digo inicial, \u00e9 apenas para preparar a p\u00e1gina\n",
      "from IPython.display import YouTubeVideo, HTML, Image, display\n",
      "css_file = './modelo.css'\n",
      "HTML(open(css_file, \"r\").read())"
     ],
     "language": "python",
     "metadata": {},
     "outputs": [
      {
       "html": [
        "<style>\n",
        "\n",
        "@font-face {\n",
        "    font-family: \"Computer Modern\";\n",
        "    src: url('http://mirrors.ctan.org/fonts/cm-unicode/fonts/otf/cmunss.otf');\n",
        "}\n",
        "\n",
        "#notebook_panel { /* main background */\n",
        "    background: #888;\n",
        "    color: #f6f6f6;\n",
        "}\n",
        "\n",
        "div.cell { /* set cell width to about 80 chars */\n",
        "    width: 900px;\n",
        "}\n",
        "\n",
        "div #notebook { /* centre the content */\n",
        "    background: #fff; /* white background for content */\n",
        "    width: 1000px;\n",
        "    margin: auto;\n",
        "    padding-left: 1em;\n",
        "}\n",
        "\n",
        "#notebook li { /* More space between bullet points */\n",
        "margin-top:0.8em;\n",
        "}\n",
        "/* draw border around running cells */\n",
        "div.cell.border-box-sizing.code_cell.running {\n",
        "    border: 3px solid #111;\n",
        "}\n",
        "/* Put a solid color box around each cell and its output, visually linking them together */\n",
        "div.cell.code_cell {\n",
        "    background-color: rgba(171,165,131,0.3); \n",
        "    border-radius: 10px; /* rounded borders */\n",
        "    padding: 1em;\n",
        "    margin-top: 1em;\n",
        "}\n",
        "div.text_cell_render{\n",
        "    font-family: 'Arvo' sans-serif;\n",
        "    line-height: 130%;\n",
        "    font-size: 115%;\n",
        "    width:700px;\n",
        "    margin-left:auto;\n",
        "    margin-right:auto;\n",
        "}\n",
        "/* Formatting for header cells */\n",
        ".text_cell_render h1 {\n",
        "    font-family: 'Philosopher', sans-serif;\n",
        "    font-weight: 400;\n",
        "    font-size: 40pt;\n",
        "    text-align: center;\n",
        "    line-height: 100%;\n",
        "    color: rgb(12,85,97);\n",
        "    margin-bottom: 0.1em;\n",
        "    margin-top: 0.1em;\n",
        "    display: block;\n",
        "}\n",
        "\n",
        ".text_cell_render h2 {\n",
        "    font-family: 'Philosopher', serif;\n",
        "    font-weight: 700;\n",
        "    font-size: 24pt;\n",
        "    line-height: 100%;\n",
        "    color: rgb(171,165,131);\n",
        "    margin-bottom: 0.1em;\n",
        "    margin-top: 0.1em;\n",
        "    display: block;\n",
        "}    \n",
        "\n",
        ".text_cell_render h3 {\n",
        "    font-family: 'Philosopher', serif;\n",
        "    margin-top:12px;\n",
        "    margin-bottom: 3px;\n",
        "    font-style: italic;\n",
        "    color: rgb(95,92,72);\n",
        "}\n",
        "\n",
        ".text_cell_render h4 {\n",
        "    font-family: 'Philosopher', serif;\n",
        "}\n",
        "\n",
        ".text_cell_render h5 {\n",
        "    font-family: 'Alegreya Sans', sans-serif;\n",
        "    font-weight: 300;\n",
        "    font-size: 16pt;\n",
        "    color: grey;\n",
        "    font-style: italic;\n",
        "    margin-bottom: .1em;\n",
        "    margin-top: 0.1em;\n",
        "    display: block;\n",
        "}\n",
        "\n",
        ".text_cell_render h6 {\n",
        "    font-family: 'PT Mono', sans-serif;\n",
        "    font-weight: 300;\n",
        "    font-size: 10pt;\n",
        "    color: grey;\n",
        "    margin-bottom: 1px;\n",
        "    margin-top: 1px;\n",
        "}\n",
        ".CodeMirror{\n",
        "        font-family: \"PT Mono\";\n",
        "        font-size: 100%;\n",
        "}\n",
        ".raw_input_prompt{\n",
        "\tcolor: black;\n",
        "}\n",
        "input.raw_input{\n",
        "\tcolor: black;\n",
        "}\n",
        "</style>\n"
       ],
       "metadata": {},
       "output_type": "pyout",
       "prompt_number": 20,
       "text": [
        "<IPython.core.display.HTML at 0x7f861d264f90>"
       ]
      }
     ],
     "prompt_number": 20
    },
    {
     "cell_type": "heading",
     "level": 1,
     "metadata": {},
     "source": [
      "Introdu\u00e7\u00e3o \u00e0 Programa\u00e7\u00e3o em Python"
     ]
    },
    {
     "cell_type": "heading",
     "level": 2,
     "metadata": {},
     "source": [
      "T\u00f3picos"
     ]
    },
    {
     "cell_type": "markdown",
     "metadata": {},
     "source": [
      "* Instalando o Anaconda Python\n",
      "* Utilizando o IPython Notebook\n",
      "* Copiando os notebooks de aula"
     ]
    },
    {
     "cell_type": "heading",
     "level": 2,
     "metadata": {},
     "source": [
      "Instalando o Anaconda Python"
     ]
    },
    {
     "cell_type": "markdown",
     "metadata": {},
     "source": [
      "Fa\u00e7a o download no site [Anaconda Python](https://store.continuum.io/cshop/anaconda/)\n",
      "\n",
      "![Anaconda](images/anacondaDown.png)"
     ]
    },
    {
     "cell_type": "markdown",
     "metadata": {},
     "source": [
      "Na tela de download clique no bot\u00e3o destacado pelo ret\u00e2ngulo vermelho e siga as instru\u00e7\u00f5es de instala\u00e7\u00e3o do quadro destacado pelo ret\u00e2ngulo azul. No windows basta executar o arquivo do download e seguir os passos.\n",
      "\n",
      "![Anaconda2](images/anacondaInstall.png)"
     ]
    },
    {
     "cell_type": "markdown",
     "metadata": {},
     "source": [
      "Instalando e utilizando o Anaconda Python e IPython Notebook no Linux:"
     ]
    },
    {
     "cell_type": "code",
     "collapsed": false,
     "input": [
      "YouTubeVideo('NwyIuWK80gQ', 640,480)"
     ],
     "language": "python",
     "metadata": {},
     "outputs": [
      {
       "html": [
        "\n",
        "        <iframe\n",
        "            width=\"640\"\n",
        "            height=480\"\n",
        "            src=\"https://www.youtube.com/embed/NwyIuWK80gQ\"\n",
        "            frameborder=\"0\"\n",
        "            allowfullscreen\n",
        "        ></iframe>\n",
        "        "
       ],
       "metadata": {},
       "output_type": "pyout",
       "prompt_number": 29,
       "text": [
        "<IPython.lib.display.YouTubeVideo at 0x7f861d21b8d0>"
       ]
      }
     ],
     "prompt_number": 29
    },
    {
     "cell_type": "markdown",
     "metadata": {},
     "source": [
      "Instalando e utilizando o Anaconda Python e IPython Notebook no Windows:"
     ]
    },
    {
     "cell_type": "code",
     "collapsed": false,
     "input": [
      "YouTubeVideo('oXnnRpTGT2M',640,480)"
     ],
     "language": "python",
     "metadata": {},
     "outputs": [
      {
       "html": [
        "\n",
        "        <iframe\n",
        "            width=\"640\"\n",
        "            height=480\"\n",
        "            src=\"https://www.youtube.com/embed/oXnnRpTGT2M\"\n",
        "            frameborder=\"0\"\n",
        "            allowfullscreen\n",
        "        ></iframe>\n",
        "        "
       ],
       "metadata": {},
       "output_type": "pyout",
       "prompt_number": 30,
       "text": [
        "<IPython.lib.display.YouTubeVideo at 0x7f861d21b910>"
       ]
      }
     ],
     "prompt_number": 30
    },
    {
     "cell_type": "heading",
     "level": 2,
     "metadata": {},
     "source": [
      "Utilizando o IPython Notebook"
     ]
    },
    {
     "cell_type": "markdown",
     "metadata": {},
     "source": [
      "No Windows, execute **Anaconda Launcher** no menu iniciar, no Mac execute **Launcher.app** no diret\u00f3rio ~/anaconda, e no Linux execute **ipython notebook** em uma janela de terminal.\n",
      "Nos dois primeiros casos aparecer\u00e1 a seguinte janela:\n",
      "\n",
      "![launcher](images/launcher.png)"
     ]
    },
    {
     "cell_type": "markdown",
     "metadata": {},
     "source": [
      "Clique em **launch** ao lado do IPython Notebook e ent\u00e3o abrir\u00e1 a seguinte p\u00e1gina no seu navegador de internet:\n",
      "\n",
      "![ipython1](images/ipython1.png)"
     ]
    },
    {
     "cell_type": "markdown",
     "metadata": {},
     "source": [
      "Nessa p\u00e1gina \u00e9 poss\u00edvel navegar pelos diret\u00f3rios de seu computador em busca de Notebooks. Clicando em **New Notebook** abrir\u00e1 um novo notebook em outra aba de seu navegador.\n",
      "A tela inicial \u00e9 apresentada e descrita a seguir:\n",
      "\n",
      "![ipython2](images/ipython2.png)\n",
      "\n",
      "No ret\u00e2ngulo n\u00famero 1 temos o nome do Notebook, esse nome \u00e9 o mesmo do arquivo .ipynb encontrado no diret\u00f3rio atual. O ret\u00e2ngulo n\u00famero 2 cont\u00e9m os menus e comandos poss\u00edveis do Notebook. Finalmente, a \u00e1rea do ret\u00e2ngulo n\u00famero 3 \u00e9 a \u00e1rea de c\u00f3digo e texto do seu Notebook, chamada de c\u00e9lula. Um Notebook pode ter m\u00faltiplas c\u00e9lulas com diferentes conte\u00fados."
     ]
    },
    {
     "cell_type": "markdown",
     "metadata": {},
     "source": [
      "Para alterar o nome do Notebook basta clicar no nome atual (Untitled0) e digitar o novo nome.\n",
      "O tipo padr\u00e3o de c\u00e9lula \u00e9 o **Code** que permite digitar e executar c\u00f3digos em Python. Digite o seguinte c\u00f3digo nessa c\u00e9lula e aperte **Shift+Enter**:\n",
      "```python\n",
      "print 2+3\n",
      "```\n",
      "\n",
      "Em **In [??]** aparece o comando digitado, o **??** representa o n\u00famero da c\u00e9lula. Em **Out[??]** aparecer\u00e1 o resultado da sequ\u00eancia de comandos digitados, em nosso exemplo o resultado da soma de 2 com 3.\n",
      "\n",
      "O outro tipo de c\u00e9lular \u00e9 o Markdown, que permite digitar textos formatados, como o desse quadro. Algumas marca\u00e7\u00f5es poss\u00edveis s\u00e3o:\n",
      "\n",
      "\\* *Todo texto em torno de um asterisco fica em it\u00e1lico * \\*\n",
      "\\*\\* **Todo texto em torno de dois asteriscos fica em negrito** \\*\\*\n",
      "\n",
      "* \\* Sequ\u00eancias de linhas iniciando com aster\u00edsco forma uma lista\n",
      "* \\* isso pode ajudar na organiza\u00e7\u00e3o\n",
      "\n",
      "Links para p\u00e1ginas externas podem ser feitos colocando um nome entre colchetes e o link entre par\u00eanteses \\[NOMELINK\\]\\(url\\). Ex.:\n",
      "\n",
      "\\[UFABC\\]\\(www.ufabc.edu.br\\) se torna:\n",
      "\n",
      "[UFABC](www.ufabc.edu.br)\n",
      "\n",
      "Se na primeira c\u00e9lula de c\u00f3digo voc\u00ea executar o seguinte comando:\n",
      "\n",
      "```python\n",
      "from IPython.display import YouTubeVideo, HTML, Image, display\n",
      "```\n",
      "\n",
      "Nas c\u00e9lulas de c\u00f3digo subsequentes voc\u00ea poder\u00e1 inserir imagens e v\u00eddeos do Youtube com o comando:\n",
      "```python\n",
      "Image('link da imagem')\n",
      "YouTubeVideo('id do video',640,480)\n",
      "```\n",
      "\n",
      "onde **link da imagem** \u00e9 a url onde a imagem \u00e9 encontrada e **id do video** \u00e9 o ID do v\u00eddeo do youtube (c\u00f3digo no final da url).\n",
      "\n",
      "Outros tipos de c\u00e9lulas s\u00e3o os **Heading 1-6** que cria c\u00e9lulas de t\u00edtulo de se\u00e7\u00e3o, para ajudar na divis\u00e3o de seu Notebook.\n",
      "\n",
      "O intuito dos notebooks \u00e9 permitir que os alunos tenham uma c\u00f3pia das aulas em seu computador e editem adicionando coment\u00e1rios e c\u00f3digos de forma a organizar seu estudo. Na pr\u00f3xima se\u00e7\u00e3o aprenderemos a utilizar o Github para copiar os notebooks de aula e compartilhar na internet suas edi\u00e7\u00f5es e solu\u00e7\u00f5es dos exerc\u00edcios."
     ]
    },
    {
     "cell_type": "heading",
     "level": 2,
     "metadata": {},
     "source": [
      "Copiando os notebooks de aula"
     ]
    },
    {
     "cell_type": "markdown",
     "metadata": {},
     "source": [
      "Tutorial do github para:\n",
      "\n",
      "* cria\u00e7\u00e3o de conta\n",
      "* clonagem das aulas\n",
      "* envio de altera\u00e7\u00f5es\n",
      "* uso do nbviewer"
     ]
    },
    {
     "cell_type": "markdown",
     "metadata": {},
     "source": [
      "Nosso curso usar\u00e1 o [Github](https://github.com/) para armazenar as aulas e exerc\u00edcios no formato IPython Notebook, cada aluno criar\u00e1 um reposit\u00f3rio no Github para guardar suas pr\u00f3prias anota\u00e7\u00f5es e solu\u00e7\u00f5es para os exerc\u00edcios.\n",
      "Durante as aulas iremos explorar as diferentes solu\u00e7\u00f5es criadas pelos alunos em seus respectivos reposit\u00f3rios.\n",
      "\n",
      "No site do Github criem uma conta escolhendo um nome de usu\u00e1rio, colocando seu e-mail e escolhendo uma senha, clicando em **Sign up for GitHub**.\n",
      "\n",
      "![Github0](images/github0.png)\n",
      "\n",
      "Uma vez cadastrado, v\u00e1 no reposit\u00f3rio oficial da disciplina [PIPYTHON](https://github.com/folivetti/PIPYTHON) e clique no bot\u00e3o **fork** no canto superior direito, isso criar\u00e1 uma copia de todos os notebooks em sua pr\u00f3pria conta do GitHub.\n",
      "\n",
      "![Github1](images/github1.png)"
     ]
    },
    {
     "cell_type": "code",
     "collapsed": false,
     "input": [],
     "language": "python",
     "metadata": {},
     "outputs": []
    }
   ],
   "metadata": {}
  }
 ]
}