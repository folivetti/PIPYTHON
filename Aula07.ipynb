{
 "metadata": {
  "name": "",
  "signature": "sha256:7af4e4d7e6489386d8ca0ae441cf4d8ca3e22e2f4554a5fdad42580b2aff732b"
 },
 "nbformat": 3,
 "nbformat_minor": 0,
 "worksheets": [
  {
   "cells": [
    {
     "cell_type": "code",
     "collapsed": false,
     "input": [
      "# ignore esse c\u00f3digo inicial, \u00e9 apenas para preparar a p\u00e1gina\n",
      "from IPython.display import YouTubeVideo, HTML, Image, display\n",
      "css_file = './modelo.css'\n",
      "HTML(open(css_file, \"r\").read())"
     ],
     "language": "python",
     "metadata": {},
     "outputs": [
      {
       "html": [
        "<style>\n",
        "\n",
        "@font-face {\n",
        "    font-family: \"Computer Modern\";\n",
        "    src: url('http://mirrors.ctan.org/fonts/cm-unicode/fonts/otf/cmunss.otf');\n",
        "}\n",
        "\n",
        "#notebook_panel { /* main background */\n",
        "    background: #888;\n",
        "    color: #f6f6f6;\n",
        "}\n",
        "\n",
        "div.cell { /* set cell width to about 80 chars */\n",
        "    width: 900px;\n",
        "}\n",
        "\n",
        "div #notebook { /* centre the content */\n",
        "    background: #fff; /* white background for content */\n",
        "    width: 1000px;\n",
        "    margin: auto;\n",
        "    padding-left: 1em;\n",
        "}\n",
        "\n",
        "#notebook li { /* More space between bullet points */\n",
        "margin-top:0.8em;\n",
        "}\n",
        "/* draw border around running cells */\n",
        "div.cell.border-box-sizing.code_cell.running {\n",
        "    border: 3px solid #111;\n",
        "}\n",
        "/* Put a solid color box around each cell and its output, visually linking them together */\n",
        "div.cell.code_cell {\n",
        "    background-color: rgba(171,165,131,0.3); \n",
        "    border-radius: 10px; /* rounded borders */\n",
        "    padding: 1em;\n",
        "    margin-top: 1em;\n",
        "}\n",
        "div.text_cell_render{\n",
        "    font-family: 'Arvo' sans-serif;\n",
        "    line-height: 130%;\n",
        "    font-size: 115%;\n",
        "    width:700px;\n",
        "    margin-left:auto;\n",
        "    margin-right:auto;\n",
        "}\n",
        "/* Formatting for header cells */\n",
        ".text_cell_render h1 {\n",
        "    font-family: 'Philosopher', sans-serif;\n",
        "    font-weight: 400;\n",
        "    font-size: 40pt;\n",
        "    text-align: center;\n",
        "    line-height: 100%;\n",
        "    color: rgb(12,85,97);\n",
        "    margin-bottom: 0.1em;\n",
        "    margin-top: 0.1em;\n",
        "    display: block;\n",
        "}\n",
        "\n",
        ".text_cell_render h2 {\n",
        "    font-family: 'Philosopher', serif;\n",
        "    font-weight: 700;\n",
        "    font-size: 24pt;\n",
        "    line-height: 100%;\n",
        "    color: rgb(171,165,131);\n",
        "    margin-bottom: 0.1em;\n",
        "    margin-top: 0.1em;\n",
        "    display: block;\n",
        "}    \n",
        "\n",
        ".text_cell_render h3 {\n",
        "    font-family: 'Philosopher', serif;\n",
        "    margin-top:12px;\n",
        "    margin-bottom: 3px;\n",
        "    font-style: italic;\n",
        "    color: rgb(95,92,72);\n",
        "}\n",
        "\n",
        ".text_cell_render h4 {\n",
        "    font-family: 'Philosopher', serif;\n",
        "}\n",
        "\n",
        ".text_cell_render h5 {\n",
        "    font-family: 'Alegreya Sans', sans-serif;\n",
        "    font-weight: 300;\n",
        "    font-size: 16pt;\n",
        "    color: grey;\n",
        "    font-style: italic;\n",
        "    margin-bottom: .1em;\n",
        "    margin-top: 0.1em;\n",
        "    display: block;\n",
        "}\n",
        "\n",
        ".text_cell_render h6 {\n",
        "    font-family: 'PT Mono', sans-serif;\n",
        "    font-weight: 300;\n",
        "    font-size: 10pt;\n",
        "    color: grey;\n",
        "    margin-bottom: 1px;\n",
        "    margin-top: 1px;\n",
        "}\n",
        ".CodeMirror{\n",
        "        font-family: \"PT Mono\";\n",
        "        font-size: 100%;\n",
        "}\n",
        ".raw_input_prompt{\n",
        "\tcolor: black;\n",
        "}\n",
        "input.raw_input{\n",
        "\tcolor: black;\n",
        "}\n",
        "</style>\n"
       ],
       "metadata": {},
       "output_type": "pyout",
       "prompt_number": 1,
       "text": [
        "<IPython.core.display.HTML at 0x7f44b8a6e6d0>"
       ]
      }
     ],
     "prompt_number": 1
    },
    {
     "cell_type": "heading",
     "level": 1,
     "metadata": {},
     "source": [
      "Introdu\u00e7\u00e3o \u00e0 Programa\u00e7\u00e3o em Python"
     ]
    },
    {
     "cell_type": "heading",
     "level": 2,
     "metadata": {},
     "source": [
      "Vetores e Matrizes"
     ]
    },
    {
     "cell_type": "markdown",
     "metadata": {},
     "source": [
      "Na matem\u00e1tica, uma Matriz \u00e9 uma tabela de valores com $m$ linhas e $n$ colunas.\n",
      "\n",
      "$$\n",
      "\\left( \\begin{array}{cccc}\n",
      "1 & 2 & 3 & 4 \\\\\n",
      "5 & 6 & 7 & 8 \\\\\n",
      "9 & 10 & 11 & 12 \\end{array} \\right)\n",
      "$$\n",
      "\n",
      "Um Vetor \u00e9 uma Matriz com apenas $1$ coluna.\n",
      "\n",
      "$$\n",
      "\\left( \\begin{array}{c}\n",
      "1 \\\\\n",
      "2 \\\\\n",
      "3 \\\\ \\end{array} \\right)\n",
      "$$"
     ]
    },
    {
     "cell_type": "markdown",
     "metadata": {},
     "source": [
      "Essas estruturas matem\u00e1ticas possuem seu conjunto pr\u00f3prio de opera\u00e7\u00f5es:\n",
      "\n",
      "* **Opera\u00e7\u00f5es elemento-a-elemento:** realizar as opera\u00e7\u00f5es matem\u00e1ticas $+, -, \\times,\\div$ elemento a elemento entre duas matrizes.\n",
      "\n",
      "$$\n",
      "\\left( \\begin{array}{cc}\n",
      "1 & 2   \\\\\n",
      "3 & 4  \\\\\n",
      "\\end{array} \\right) + \\left( \\begin{array}{cc}\n",
      "4 & 5   \\\\\n",
      "6 & 7  \\\\\n",
      "\\end{array} \\right) = \\left( \\begin{array}{cc}\n",
      "5 & 7  \\\\\n",
      "9 & 11   \\\\\n",
      "\\end{array} \\right) \n",
      "$$"
     ]
    },
    {
     "cell_type": "markdown",
     "metadata": {},
     "source": [
      "* **Opera\u00e7\u00f5es com constantes:** realizar as opera\u00e7\u00f5es matem\u00e1ticas de uma constante com todos os valores da matriz.\n",
      "\n",
      "$$\n",
      "\\left( \\begin{array}{cc}\n",
      "1 & 2   \\\\\n",
      "3 & 4  \\\\\n",
      "\\end{array} \\right) + 1 = \\left( \\begin{array}{cc}\n",
      "2 & 3  \\\\\n",
      "4 & 5   \\\\\n",
      "\\end{array} \\right) \n",
      "$$"
     ]
    },
    {
     "cell_type": "markdown",
     "metadata": {},
     "source": [
      "* **Opera\u00e7\u00f5es pr\u00f3prias:** opera\u00e7\u00f5es espec\u00edficas dessas estruturas como produto interno, externo de vetores e multiplica\u00e7\u00e3o de matrizes.\n",
      "\n",
      "$$\n",
      "\\left( \\begin{array}{c}\n",
      "1 \\\\ 2 \\\\ 3 \\\\ \\end{array} \\right) \\cdot \\left( \\begin{array}{c}\n",
      "3 \\\\ 2 \\\\ 1 \\\\ \\end{array} \\right) = \n",
      "1 \\cdot 3 + 2  \\cdot 2 +  3 \\cdot 1 = 36\n",
      "$$\n",
      "\n",
      "$$\n",
      "\\left( \\begin{array}{c}\n",
      "1 \\\\ 2 \\\\ 3 \\\\ \\end{array} \\right) \\cdot \\left( \\begin{array}{ccc}\n",
      "3 & 2 & 1 \\end{array} \\right) = \n",
      "\\left(\n",
      "\\begin{array}{ccc}\n",
      "1 \\cdot 3 & 1 \\cdot 2 & 1 \\cdot 1 \\\\\n",
      "2 \\cdot 3 & 2 \\cdot 2 & 2 \\cdot 1 \\\\\n",
      "3 \\cdot 3 & 3 \\cdot 2 & 3 \\cdot 1 \\\\\n",
      "\\end{array}\n",
      "\\right)\n",
      "$$\n",
      "\n",
      "$$\n",
      "\\left( \\begin{array}{cc}\n",
      "1 & 2   \\\\\n",
      "3 & 4  \\\\\n",
      "\\end{array} \\right) \\times \\left( \\begin{array}{cc}\n",
      "4 & 5   \\\\\n",
      "6 & 7  \\\\\n",
      "\\end{array} \\right) = \\left( \\begin{array}{cc}\n",
      "1 \\cdot 4 + 2 \\cdot 6 & 1 \\cdot 5 + 2 \\cdot 7  \\\\\n",
      "3 \\cdot 4 + 4 \\cdot 6 & 3 \\cdot 5 + 4 \\cdot 7\\\\\n",
      "\\end{array} \\right) \n",
      "$$"
     ]
    },
    {
     "cell_type": "markdown",
     "metadata": {},
     "source": [
      "Com nosso conhecimento atual poder\u00edamos representar vetores e matrizes como listas, por\u00e9m tais opera\u00e7\u00f5es n\u00e3o funcionariam."
     ]
    },
    {
     "cell_type": "code",
     "collapsed": false,
     "input": [
      "u = [1,2,3]\n",
      "v = [4,5,6]\n",
      "\n",
      "print u + v\n",
      "print u + 1"
     ],
     "language": "python",
     "metadata": {},
     "outputs": [
      {
       "output_type": "stream",
       "stream": "stdout",
       "text": [
        "[1, 2, 3, 4, 5, 6]\n"
       ]
      },
      {
       "ename": "TypeError",
       "evalue": "can only concatenate list (not \"int\") to list",
       "output_type": "pyerr",
       "traceback": [
        "\u001b[1;31m---------------------------------------------------------------------------\u001b[0m\n\u001b[1;31mTypeError\u001b[0m                                 Traceback (most recent call last)",
        "\u001b[1;32m<ipython-input-1-4d201fc1e6bc>\u001b[0m in \u001b[0;36m<module>\u001b[1;34m()\u001b[0m\n\u001b[0;32m      3\u001b[0m \u001b[1;33m\u001b[0m\u001b[0m\n\u001b[0;32m      4\u001b[0m \u001b[1;32mprint\u001b[0m \u001b[0mu\u001b[0m\u001b[1;33m+\u001b[0m\u001b[0mv\u001b[0m\u001b[1;33m\u001b[0m\u001b[0m\n\u001b[1;32m----> 5\u001b[1;33m \u001b[1;32mprint\u001b[0m \u001b[0mu\u001b[0m \u001b[1;33m+\u001b[0m \u001b[1;36m1\u001b[0m\u001b[1;33m\u001b[0m\u001b[0m\n\u001b[0m",
        "\u001b[1;31mTypeError\u001b[0m: can only concatenate list (not \"int\") to list"
       ]
      }
     ],
     "prompt_number": 1
    },
    {
     "cell_type": "markdown",
     "metadata": {},
     "source": [
      "Alternativamente poder\u00edamos implementar fun\u00e7\u00f5es que realizassem tais opera\u00e7\u00f5es:"
     ]
    },
    {
     "cell_type": "code",
     "collapsed": false,
     "input": [
      "def SomaVetores(u,v):\n",
      "    z = []\n",
      "    if len(u)!=len(v):\n",
      "        return z\n",
      "    for i in range(len(u)):\n",
      "        z.append( u[i] + v[i] )\n",
      "    return z\n",
      "\n",
      "print SomaVetores(u,v)"
     ],
     "language": "python",
     "metadata": {},
     "outputs": [
      {
       "output_type": "stream",
       "stream": "stdout",
       "text": [
        "[5, 7, 9]\n"
       ]
      }
     ],
     "prompt_number": 2
    },
    {
     "cell_type": "markdown",
     "metadata": {},
     "source": [
      "Mas a biblioteca `numpy` cont\u00e9m o tipo `array` que permite trabalhar com vetores e matrizes de maneira simplificada."
     ]
    },
    {
     "cell_type": "code",
     "collapsed": false,
     "input": [
      "import numpy as np\n",
      "\n",
      "u = np.array([1,2,3])\n",
      "v = np.array([4,5,6])\n",
      "\n",
      "print u + v\n",
      "print u + 1\n",
      "print u*v # produto elemento a elemento\n",
      "print np.dot(u,v)  # produto interno\n",
      "print np.outer(u,v) # produto externo"
     ],
     "language": "python",
     "metadata": {},
     "outputs": [
      {
       "output_type": "stream",
       "stream": "stdout",
       "text": [
        "[5 7 9]\n",
        "[2 3 4]\n",
        "[ 4 10 18]\n",
        "32\n",
        "[[ 4  5  6]\n",
        " [ 8 10 12]\n",
        " [12 15 18]]\n"
       ]
      }
     ],
     "prompt_number": 8
    },
    {
     "cell_type": "markdown",
     "metadata": {},
     "source": [
      "Analogamente com matrizes:"
     ]
    },
    {
     "cell_type": "code",
     "collapsed": false,
     "input": [
      "A = np.array( [ [1,2], [3,4] ] )\n",
      "B = np.array( [ [5,6], [7,8] ] )\n",
      "\n",
      "print A+B, '\\n'\n",
      "print A*B, '\\n'  # multiplica\u00e7\u00e3o elemento a elemento\n",
      "print np.dot(A,B), '\\n' # multiplica\u00e7\u00e3o de matrizes\n",
      "print A.T, '\\n' # transposta\n",
      "print np.linalg.inv(A), '\\n'  # inversa"
     ],
     "language": "python",
     "metadata": {},
     "outputs": [
      {
       "output_type": "stream",
       "stream": "stdout",
       "text": [
        "[[ 6  8]\n",
        " [10 12]] \n",
        "\n",
        "[[ 5 12]\n",
        " [21 32]] \n",
        "\n",
        "[[19 22]\n",
        " [43 50]] \n",
        "\n",
        "[[1 3]\n",
        " [2 4]] \n",
        "\n",
        "[[-2.   1. ]\n",
        " [ 1.5 -0.5]] \n",
        "\n"
       ]
      }
     ],
     "prompt_number": 25
    },
    {
     "cell_type": "markdown",
     "metadata": {},
     "source": [
      "Para acessar os elementos utilizamos pares de colchetes exatamente como nas listas.\n",
      "\n",
      "Para matrizes colocamos os dois \u00edndices dentro dos colchetes."
     ]
    },
    {
     "cell_type": "code",
     "collapsed": false,
     "input": [
      "print u[0]\n",
      "print v[0:1]\n",
      "print A[0,0]\n",
      "print A[0,:]"
     ],
     "language": "python",
     "metadata": {},
     "outputs": [
      {
       "output_type": "stream",
       "stream": "stdout",
       "text": [
        "1\n",
        "[4]\n",
        "1\n",
        "[1 2]\n"
       ]
      }
     ],
     "prompt_number": 26
    },
    {
     "cell_type": "markdown",
     "metadata": {},
     "source": [
      "Adicionalmente podemos passar uma lista de \u00edndices que queremos acessar:"
     ]
    },
    {
     "cell_type": "code",
     "collapsed": false,
     "input": [
      "u = np.array([i*i for i in range(10)])\n",
      "print u[ [1,3,5] ]"
     ],
     "language": "python",
     "metadata": {},
     "outputs": [
      {
       "output_type": "stream",
       "stream": "stdout",
       "text": [
        "[ 1  9 25]\n"
       ]
      }
     ],
     "prompt_number": 28
    },
    {
     "cell_type": "markdown",
     "metadata": {},
     "source": [
      "O tamanho de um vetor ou matriz pode ser obtido com o comando `.shape`."
     ]
    },
    {
     "cell_type": "code",
     "collapsed": false,
     "input": [
      "print A.shape"
     ],
     "language": "python",
     "metadata": {},
     "outputs": [
      {
       "output_type": "stream",
       "stream": "stdout",
       "text": [
        "(5, 3)\n"
       ]
      }
     ],
     "prompt_number": 87
    },
    {
     "cell_type": "markdown",
     "metadata": {},
     "source": [
      "Podemos criar uma Matriz com todos elementos iguais a $0$ ou $1$ ou at\u00e9 mesmo uma constante $c$."
     ]
    },
    {
     "cell_type": "code",
     "collapsed": false,
     "input": [
      "m,n = 5,3\n",
      "A = np.zeros((m,n))  # repare no parentes duplo\n",
      "B = np.ones((m,n))\n",
      "C = np.ones((m,n))*3\n",
      "print A, '\\n'\n",
      "print B, '\\n'\n",
      "print C, '\\n'"
     ],
     "language": "python",
     "metadata": {},
     "outputs": [
      {
       "output_type": "stream",
       "stream": "stdout",
       "text": [
        "[[ 0.  0.  0.]\n",
        " [ 0.  0.  0.]\n",
        " [ 0.  0.  0.]\n",
        " [ 0.  0.  0.]\n",
        " [ 0.  0.  0.]] \n",
        "\n",
        "[[ 1.  1.  1.]\n",
        " [ 1.  1.  1.]\n",
        " [ 1.  1.  1.]\n",
        " [ 1.  1.  1.]\n",
        " [ 1.  1.  1.]] \n",
        "\n",
        "[[ 3.  3.  3.]\n",
        " [ 3.  3.  3.]\n",
        " [ 3.  3.  3.]\n",
        " [ 3.  3.  3.]\n",
        " [ 3.  3.  3.]] \n",
        "\n"
       ]
      }
     ],
     "prompt_number": 31
    },
    {
     "cell_type": "markdown",
     "metadata": {},
     "source": [
      "A biblioteca `numpy` conta com todas as fun\u00e7\u00f5es da biblioteca `math` e outras diversas fun\u00e7\u00f5es \u00fateis para c\u00e1lculo num\u00e9rico e \u00e1lgebra."
     ]
    },
    {
     "cell_type": "code",
     "collapsed": false,
     "input": [
      "print np.cos(C), '\\n'\n",
      "print np.arange(0,1,0.1), '\\n'"
     ],
     "language": "python",
     "metadata": {},
     "outputs": [
      {
       "output_type": "stream",
       "stream": "stdout",
       "text": [
        "[[-0.9899925 -0.9899925 -0.9899925]\n",
        " [-0.9899925 -0.9899925 -0.9899925]\n",
        " [-0.9899925 -0.9899925 -0.9899925]\n",
        " [-0.9899925 -0.9899925 -0.9899925]\n",
        " [-0.9899925 -0.9899925 -0.9899925]] \n",
        "\n",
        "[ 0.   0.1  0.2  0.3  0.4  0.5  0.6  0.7  0.8  0.9] \n",
        "\n"
       ]
      }
     ],
     "prompt_number": 33
    },
    {
     "cell_type": "code",
     "collapsed": false,
     "input": [
      "D = np.random.random( (m,n) )  # matriz de n\u00fameros aleat\u00f3rios de tamanho m x n\n",
      "print D"
     ],
     "language": "python",
     "metadata": {},
     "outputs": [
      {
       "output_type": "stream",
       "stream": "stdout",
       "text": [
        "[[ 0.15987449  0.99673286  0.35304893]\n",
        " [ 0.74508359  0.4566157   0.29384197]\n",
        " [ 0.68022031  0.08215233  0.2909927 ]\n",
        " [ 0.9217965   0.0392317   0.0040968 ]\n",
        " [ 0.58092057  0.82074528  0.12464987]]\n"
       ]
      }
     ],
     "prompt_number": 46
    },
    {
     "cell_type": "code",
     "collapsed": false,
     "input": [
      "print D[ D<0.5] # somente os elementos menores que 0.5"
     ],
     "language": "python",
     "metadata": {},
     "outputs": [
      {
       "output_type": "stream",
       "stream": "stdout",
       "text": [
        "[ 0.15987449  0.35304893  0.4566157   0.29384197  0.08215233  0.2909927\n",
        "  0.0392317   0.0040968   0.12464987]\n"
       ]
      }
     ],
     "prompt_number": 47
    },
    {
     "cell_type": "code",
     "collapsed": false,
     "input": [
      "idx = np.where(D<0.5)  # \u00edndices dos elementos < 0.5\n",
      "print idx, '\\n'\n",
      "print D[idx]"
     ],
     "language": "python",
     "metadata": {},
     "outputs": [
      {
       "output_type": "stream",
       "stream": "stdout",
       "text": [
        "(array([0, 0, 1, 1, 2, 2, 3, 3, 4]), array([0, 2, 1, 2, 1, 2, 1, 2, 2])) \n",
        "\n",
        "[ 0.15987449  0.35304893  0.4566157   0.29384197  0.08215233  0.2909927\n",
        "  0.0392317   0.0040968   0.12464987]\n"
       ]
      }
     ],
     "prompt_number": 48
    },
    {
     "cell_type": "code",
     "collapsed": false,
     "input": [
      "print D.max(), D.argmax()  # m\u00e1ximo valor e \u00edndice do m\u00e1ximo\n",
      "print D.min(), D.argmin() # m\u00ednimo valor e \u00edndice do m\u00ednimo"
     ],
     "language": "python",
     "metadata": {},
     "outputs": [
      {
       "output_type": "stream",
       "stream": "stdout",
       "text": [
        "0.996732863773 1\n",
        "0.00409679938793 11\n"
       ]
      }
     ],
     "prompt_number": 49
    },
    {
     "cell_type": "code",
     "collapsed": false,
     "input": [
      "print D.mean(), D.std(), D.var()  # m\u00e9dia e desvio-padr\u00e3o e vari\u00e2ncia."
     ],
     "language": "python",
     "metadata": {},
     "outputs": [
      {
       "output_type": "stream",
       "stream": "stdout",
       "text": [
        "0.436666907508 0.323060342592 0.104367984956\n"
       ]
      }
     ],
     "prompt_number": 50
    },
    {
     "cell_type": "code",
     "collapsed": false,
     "input": [
      "print D.mean( axis=0 )  # m\u00e9dia das colunas\n",
      "print D.mean(axis=1)  # m\u00e9dia das linhas\n",
      "print D.sum(axis=0) # soma das colunas"
     ],
     "language": "python",
     "metadata": {},
     "outputs": [
      {
       "output_type": "stream",
       "stream": "stdout",
       "text": [
        "[ 0.61757909  0.47909558  0.21332605]\n",
        "[ 0.50321876  0.49851375  0.35112178  0.32170833  0.50877191]\n",
        "[ 3.08789546  2.39547788  1.06663027]\n"
       ]
      }
     ],
     "prompt_number": 51
    },
    {
     "cell_type": "code",
     "collapsed": false,
     "input": [
      "# matriz aleat\u00f3ria gaussiana de m\u00e9dia 1.7 e vari\u00e2ncia 0.5\n",
      "D = np.random.normal( loc=1.7, scale=0.5, size=(m,n) )\n",
      "print D"
     ],
     "language": "python",
     "metadata": {},
     "outputs": [
      {
       "output_type": "stream",
       "stream": "stdout",
       "text": [
        "[[ 0.6431877   1.36847831  0.98300694]\n",
        " [ 0.94744887  2.34455595  1.96090225]\n",
        " [ 2.43067831  1.83693256  1.60217451]\n",
        " [ 0.97578703  1.33891685  1.15955042]\n",
        " [ 1.95414893  1.33713985  2.07959737]]\n"
       ]
      }
     ],
     "prompt_number": 55
    },
    {
     "cell_type": "code",
     "collapsed": false,
     "input": [
      "# random.choice() escolhe um elemento da lista dada a dist. de probabilidade p\n",
      "print np.random.choice( ['cara', 'coroa'], p=[0.5,0.5] ) # moeda honesta\n",
      "print np.random.choice( ['cara', 'coroa'], p=[0.8,0.2] ) # moeda desonesta"
     ],
     "language": "python",
     "metadata": {},
     "outputs": [
      {
       "output_type": "stream",
       "stream": "stdout",
       "text": [
        "cara\n",
        "cara\n"
       ]
      }
     ],
     "prompt_number": 58
    },
    {
     "cell_type": "markdown",
     "metadata": {},
     "source": [
      "Vamos estimar a entropia de uma moeda honesta e de uma moeda desonesta utilizando M\u00e9todo de Monte Carlo:"
     ]
    },
    {
     "cell_type": "code",
     "collapsed": false,
     "input": [
      "def MonteCarlo( p, maxit ):\n",
      "    \"\"\"\n",
      "    Retorna a probabilidade de cara e coroa utilizando a fun\u00e7\u00e3o random.choice com probabilidade p\n",
      "    \"\"\"\n",
      "    caras = 0\n",
      "    for it in range(maxit):\n",
      "        moeda = np.random.choice( ['cara','coroa'], p=p )\n",
      "        if moeda == 'cara':\n",
      "            caras += 1\n",
      "    return np.array( [caras/float(maxit), 1.0 - caras/float(maxit)] )\n",
      "\n",
      "def Entropia( p ):\n",
      "    \"\"\"\n",
      "    Calcula a entropia do vetor de probabilidades p\n",
      "    \"\"\"\n",
      "    return -(p*np.log2(p)).sum()\n",
      "\n",
      "honesta = np.array([0.5, 0.5])\n",
      "desonesta = np.array([0.8,0.2])\n",
      "print Entropia( MonteCarlo( honesta, 10000 ) ), Entropia( honesta )\n",
      "print Entropia( MonteCarlo( desonesta, 10000 ) ) , Entropia( desonesta)"
     ],
     "language": "python",
     "metadata": {},
     "outputs": [
      {
       "output_type": "stream",
       "stream": "stdout",
       "text": [
        "0.999896123464 1.0\n",
        "0.725513520307"
       ]
      },
      {
       "output_type": "stream",
       "stream": "stdout",
       "text": [
        " 0.721928094887\n"
       ]
      }
     ],
     "prompt_number": 65
    },
    {
     "cell_type": "markdown",
     "metadata": {},
     "source": [
      "**Simula\u00e7\u00e3o de Inc\u00eandio em Floresta**\n",
      "\n",
      "Dada uma floresta representada por uma matriz $m \\times n$ em que os elementos s\u00e3o:\n",
      "\n",
      "* $0$ caso aquele ponto esteja vazio\n",
      "* $1$ se cont\u00e9m uma \u00e1rvore\n",
      "* $2$ se a \u00e1rvore est\u00e1 pegando fogo"
     ]
    },
    {
     "cell_type": "markdown",
     "metadata": {},
     "source": [
      "Utilizando a fun\u00e7\u00e3o `random.choice()` da biblioteca `numpy`, inicialize a matriz com $0$'s e $1$'s de tal forma que uma \u00e1rvore \u00e9 criada com probabilidade $p$ para cria\u00e7\u00e3o de \u00e1rvores.\n",
      "\n",
      "Utilize a op\u00e7\u00e3o `size` para determinar o tamanho da matriz."
     ]
    },
    {
     "cell_type": "code",
     "collapsed": false,
     "input": [
      "def CriaFloresta( m,n,p ):\n",
      "    \"\"\"\n",
      "    Cria uma floresta com 0s e 1s\n",
      "    \"\"\"\n",
      "    return np.random.choice( [0,1], size=(m,n), p=[1.0-p,p])"
     ],
     "language": "python",
     "metadata": {},
     "outputs": [],
     "prompt_number": 66
    },
    {
     "cell_type": "markdown",
     "metadata": {},
     "source": [
      "Crie uma fun\u00e7\u00e3o que faz o seguinte:\n",
      "\n",
      "* Utilizando random.choice, escolha um \u00edndice da matriz que contenha \u00e1rvore\n",
      "* Altere o valor desse local para $2$\n",
      "* Repita enquanto existir algum elemento de valor $2$:\n",
      "  - Para cada elemento de valor $2$ altere todos os seus vizinhos que tenham valor $1$ para $2$\n",
      "  - Altere o valor dessa posi\u00e7\u00e3o para $0$"
     ]
    },
    {
     "cell_type": "code",
     "collapsed": false,
     "input": [
      "def SimulaIncendio( F ):\n",
      "    \"\"\"\n",
      "    Simula o inc\u00eandio em uma floresta\n",
      "    \"\"\"\n",
      "    \n",
      "    # vamos pegar todos os pares (i,j) de \u00edndices contendo o valor 1\n",
      "    i,j = np.where(F==1)\n",
      "    \n",
      "    # escolhe um deles para ser o foco de inc\u00eandio\n",
      "    quantos = len( i )\n",
      "    foco = np.random.choice( range(quantos) )\n",
      "    F[ i[foco], j[foco] ] = 2\n",
      "    \n",
      "    # queremos verificar esses vizinhos de cada ponto de inc\u00eandio\n",
      "    vizinhos = [ (-1,-1), (-1,0), (-1,1), (0,-1), (0,1), (1,-1), (1,0), (1,1) ]\n",
      "    \n",
      "    # enquanto existir um foco de inc\u00eandio\n",
      "    while len(np.where(F==2)[0]) > 0:\n",
      "        \n",
      "        # para cada ponto de inc\u00eandio\n",
      "        locais = np.where(F==2)\n",
      "        for i,j in zip(locais[0], locais[1]):\n",
      "            # para cada vizinho\n",
      "            for k,l in vizinhos:\n",
      "                # se est\u00e1 dentro do limite e for \u00e1rvore, bota fogo e avisa que botou fogo\n",
      "                if 0 <= i+k < F.shape[0] and 0 <= j+l < F.shape[1]:\n",
      "                    if F[i+k][j+l] == 1:\n",
      "                        F[i+k][j+l] = 2\n",
      "            # apaga o fogo\n",
      "            F[i,j] = 0\n",
      "    return F\n",
      "                    \n",
      "\n",
      "F = CriaFloresta( 10,10, 0.3 )\n",
      "F = SimulaIncendio(F)\n",
      "print F"
     ],
     "language": "python",
     "metadata": {},
     "outputs": [
      {
       "output_type": "stream",
       "stream": "stdout",
       "text": [
        "[[0 0 0 0 1 0 0 0 1 1]\n",
        " [0 0 0 0 1 0 1 0 0 1]\n",
        " [0 0 0 0 0 0 0 0 0 0]\n",
        " [0 0 0 1 1 0 0 1 1 0]\n",
        " [0 1 0 0 0 0 0 0 0 0]\n",
        " [0 1 1 1 0 1 1 0 0 1]\n",
        " [0 0 0 0 0 1 0 1 0 1]\n",
        " [0 0 0 1 1 0 0 0 0 1]\n",
        " [0 0 1 0 0 0 0 1 0 0]\n",
        " [0 0 1 0 0 0 0 1 0 0]]\n"
       ]
      }
     ],
     "prompt_number": 84
    },
    {
     "cell_type": "markdown",
     "metadata": {},
     "source": [
      "Finalmente realizaremos um m\u00e9todo de Monte Carlo para estimar o percentual de \u00e1rvores restantes em um inc\u00eandio em uma floresta de densidade $p$.\n",
      "\n",
      "Para cada densidade na lista `[0.1, 0.2, ..., 0.9]` e para cada repeti\u00e7\u00e3o da simula\u00e7\u00e3o, crie uma floresta com essa densidade e simule o inc\u00eandio. \n",
      "\n",
      "Calcule o percentual de \u00e1rvores sobrevientes (m\u00e9dia da matriz F) e calcule a m\u00e9dia desse percentual em rela\u00e7\u00e3o a todas as simula\u00e7\u00f5es."
     ]
    },
    {
     "cell_type": "code",
     "collapsed": false,
     "input": [
      "def MonteCarlo( m,n, maxit ):\n",
      "    \"\"\"\n",
      "    Simula\u00e7\u00e3o de Monte Carlo para verificar a maior densidade em que um inc\u00eandio n\u00e3o causa muito estrago em uma floresta\n",
      "    \"\"\"\n",
      "    # queremos verificar as probabilidades de 0.1 at\u00e9 0.9\n",
      "    P = np.arange(0.1,1.0,0.1)\n",
      "    PF = []\n",
      "    \n",
      "    # para cada probabilidade repete o processo de Monte Carlo\n",
      "    for p in P:\n",
      "        pf = 0\n",
      "        for it in range(maxit):\n",
      "            F = CriaFloresta( m,n,p )\n",
      "            F = SimulaIncendio(F)\n",
      "            pf += F.mean()\n",
      "        PF.append( (p,pf/float(maxit)) )\n",
      "    return PF\n",
      "\n",
      "PF = MonteCarlo( 50,50,500 )\n",
      "print 'Inicial \\t Final'\n",
      "for pf in PF:\n",
      "    print '%.2f \\t\\t %.2f' % (pf[0], pf[1])"
     ],
     "language": "python",
     "metadata": {},
     "outputs": [
      {
       "output_type": "stream",
       "stream": "stdout",
       "text": [
        "Inicial \t Final\n",
        "0.10 \t\t 0.10\n",
        "0.20 \t\t 0.20\n",
        "0.30 \t\t 0.29\n",
        "0.40 \t\t 0.29\n",
        "0.50 \t\t 0.04\n",
        "0.60 \t\t 0.01\n",
        "0.70 \t\t 0.00\n",
        "0.80 \t\t 0.00\n",
        "0.90 \t\t 0.00\n"
       ]
      }
     ],
     "prompt_number": 88
    },
    {
     "cell_type": "markdown",
     "metadata": {},
     "source": [
      "Esse experimento mostra que em uma floresta com at\u00e9 40% da \u00e1rea ocupada com \u00e1rvores, um inc\u00eandio danifica apenas uma pequena regi\u00e3o.\n",
      "\n",
      "Iniciando em 50%, um inc\u00eandio elimina praticamente toda a floresta. Isso \u00e9 conhecido como ponto cr\u00edtico."
     ]
    },
    {
     "cell_type": "code",
     "collapsed": false,
     "input": [],
     "language": "python",
     "metadata": {},
     "outputs": []
    }
   ],
   "metadata": {}
  }
 ]
}