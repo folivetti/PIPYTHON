{
 "cells": [
  {
   "cell_type": "code",
   "execution_count": 19,
   "metadata": {
    "collapsed": false,
    "slideshow": {
     "slide_type": "skip"
    }
   },
   "outputs": [
    {
     "data": {
      "text/html": [
       "<style>\n",
       "\n",
       "@font-face {\n",
       "    font-family: \"Computer Modern\";\n",
       "    src: url('http://mirrors.ctan.org/fonts/cm-unicode/fonts/otf/cmunss.otf');\n",
       "}\n",
       "\n",
       "#notebook_panel { /* main background */\n",
       "    background: #888;\n",
       "    color: #f6f6f6;\n",
       "}\n",
       "\n",
       "div.cell { /* set cell width to about 80 chars */\n",
       "    width: 900px;\n",
       "}\n",
       "\n",
       "div #notebook { /* centre the content */\n",
       "    background: #fff; /* white background for content */\n",
       "    width: 1000px;\n",
       "    margin: auto;\n",
       "    padding-left: 1em;\n",
       "}\n",
       "\n",
       "#notebook li { /* More space between bullet points */\n",
       "margin-top:0.8em;\n",
       "}\n",
       "/* draw border around running cells */\n",
       "div.cell.border-box-sizing.code_cell.running {\n",
       "    border: 3px solid #111;\n",
       "}\n",
       "/* Put a solid color box around each cell and its output, visually linking them together */\n",
       "div.cell.code_cell {\n",
       "    background-color: rgba(171,165,131,0.3); \n",
       "    border-radius: 10px; /* rounded borders */\n",
       "    padding: 1em;\n",
       "    margin-top: 1em;\n",
       "}\n",
       "div.text_cell_render{\n",
       "    font-family: 'Arvo' sans-serif;\n",
       "    line-height: 130%;\n",
       "    font-size: 115%;\n",
       "    width:700px;\n",
       "    margin-left:auto;\n",
       "    margin-right:auto;\n",
       "}\n",
       "/* Formatting for header cells */\n",
       ".text_cell_render h1 {\n",
       "    font-family: 'Philosopher', sans-serif;\n",
       "    font-weight: 400;\n",
       "    font-size: 40pt;\n",
       "    text-align: center;\n",
       "    line-height: 100%;\n",
       "    color: rgb(12,85,97);\n",
       "    margin-bottom: 0.1em;\n",
       "    margin-top: 0.1em;\n",
       "    display: block;\n",
       "}\n",
       "\n",
       ".text_cell_render h2 {\n",
       "    font-family: 'Philosopher', serif;\n",
       "    font-weight: 700;\n",
       "    font-size: 24pt;\n",
       "    line-height: 100%;\n",
       "    color: rgb(171,165,131);\n",
       "    margin-bottom: 0.1em;\n",
       "    margin-top: 0.1em;\n",
       "    display: block;\n",
       "}    \n",
       "\n",
       ".text_cell_render h3 {\n",
       "    font-family: 'Philosopher', serif;\n",
       "    margin-top:12px;\n",
       "    margin-bottom: 3px;\n",
       "    font-style: italic;\n",
       "    color: rgb(95,92,72);\n",
       "}\n",
       "\n",
       ".text_cell_render h4 {\n",
       "    font-family: 'Philosopher', serif;\n",
       "}\n",
       "\n",
       ".text_cell_render h5 {\n",
       "    font-family: 'Alegreya Sans', sans-serif;\n",
       "    font-weight: 300;\n",
       "    font-size: 16pt;\n",
       "    color: grey;\n",
       "    font-style: italic;\n",
       "    margin-bottom: .1em;\n",
       "    margin-top: 0.1em;\n",
       "    display: block;\n",
       "}\n",
       "\n",
       ".text_cell_render h6 {\n",
       "    font-family: 'PT Mono', sans-serif;\n",
       "    font-weight: 300;\n",
       "    font-size: 10pt;\n",
       "    color: grey;\n",
       "    margin-bottom: 1px;\n",
       "    margin-top: 1px;\n",
       "}\n",
       ".CodeMirror{\n",
       "        font-family: \"PT Mono\";\n",
       "        font-size: 100%;\n",
       "}\n",
       ".raw_input_prompt{\n",
       "\tcolor: black;\n",
       "}\n",
       "input.raw_input{\n",
       "\tcolor: black;\n",
       "}\n",
       "</style>\n"
      ],
      "text/plain": [
       "<IPython.core.display.HTML object>"
      ]
     },
     "execution_count": 19,
     "metadata": {},
     "output_type": "execute_result"
    }
   ],
   "source": [
    "# ignore esse código inicial, é apenas para preparar a página\n",
    "from IPython.display import YouTubeVideo, HTML, Image, display\n",
    "css_file = './modelo.css'\n",
    "HTML(open(css_file, \"r\").read())"
   ]
  },
  {
   "cell_type": "markdown",
   "metadata": {
    "slideshow": {
     "slide_type": "slide"
    }
   },
   "source": [
    "# Introdução à Programação em Python"
   ]
  },
  {
   "cell_type": "markdown",
   "metadata": {
    "slideshow": {
     "slide_type": "slide"
    }
   },
   "source": [
    "## Vetores e Matrizes"
   ]
  },
  {
   "cell_type": "markdown",
   "metadata": {
    "slideshow": {
     "slide_type": "slide"
    }
   },
   "source": [
    "Na matemática, uma Matriz é uma tabela de valores com $m$ linhas e $n$ colunas.\n",
    "\n",
    "$$\n",
    "\\left( \\begin{array}{cccc}\n",
    "1 & 2 & 3 & 4 \\\\\n",
    "5 & 6 & 7 & 8 \\\\\n",
    "9 & 10 & 11 & 12 \\end{array} \\right)\n",
    "$$\n",
    "\n",
    "Um Vetor é uma Matriz com apenas $1$ coluna.\n",
    "\n",
    "$$\n",
    "\\left( \\begin{array}{c}\n",
    "1 \\\\\n",
    "2 \\\\\n",
    "3 \\\\ \\end{array} \\right)\n",
    "$$"
   ]
  },
  {
   "cell_type": "markdown",
   "metadata": {
    "slideshow": {
     "slide_type": "slide"
    }
   },
   "source": [
    "Essas estruturas matemáticas possuem seu conjunto próprio de operações:\n",
    "\n",
    "* **Operações elemento-a-elemento:** realizar as operações matemáticas $+, -, \\times,\\div$ elemento a elemento entre duas matrizes.\n",
    "\n",
    "$$\n",
    "\\left( \\begin{array}{cc}\n",
    "1 & 2   \\\\\n",
    "3 & 4  \\\\\n",
    "\\end{array} \\right) + \\left( \\begin{array}{cc}\n",
    "4 & 5   \\\\\n",
    "6 & 7  \\\\\n",
    "\\end{array} \\right) = \\left( \\begin{array}{cc}\n",
    "5 & 7  \\\\\n",
    "9 & 11   \\\\\n",
    "\\end{array} \\right) \n",
    "$$"
   ]
  },
  {
   "cell_type": "markdown",
   "metadata": {
    "slideshow": {
     "slide_type": "slide"
    }
   },
   "source": [
    "* **Operações com constantes:** realizar as operações matemáticas de uma constante com todos os valores da matriz.\n",
    "\n",
    "$$\n",
    "\\left( \\begin{array}{cc}\n",
    "1 & 2   \\\\\n",
    "3 & 4  \\\\\n",
    "\\end{array} \\right) + 1 = \\left( \\begin{array}{cc}\n",
    "2 & 3  \\\\\n",
    "4 & 5   \\\\\n",
    "\\end{array} \\right) \n",
    "$$"
   ]
  },
  {
   "cell_type": "markdown",
   "metadata": {
    "slideshow": {
     "slide_type": "slide"
    }
   },
   "source": [
    "* **Operações próprias:** operações específicas dessas estruturas como produto interno, externo de vetores e multiplicação de matrizes.\n",
    "\n",
    "$$\n",
    "\\left( \\begin{array}{c}\n",
    "1 \\\\ 2 \\\\ 3 \\\\ \\end{array} \\right) \\cdot \\left( \\begin{array}{c}\n",
    "3 \\\\ 2 \\\\ 1 \\\\ \\end{array} \\right) = \n",
    "1 \\cdot 3 + 2  \\cdot 2 +  3 \\cdot 1 = 36\n",
    "$$\n",
    "\n",
    "$$\n",
    "\\left( \\begin{array}{c}\n",
    "1 \\\\ 2 \\\\ 3 \\\\ \\end{array} \\right) \\cdot \\left( \\begin{array}{ccc}\n",
    "3 & 2 & 1 \\end{array} \\right) = \n",
    "\\left(\n",
    "\\begin{array}{ccc}\n",
    "1 \\cdot 3 & 1 \\cdot 2 & 1 \\cdot 1 \\\\\n",
    "2 \\cdot 3 & 2 \\cdot 2 & 2 \\cdot 1 \\\\\n",
    "3 \\cdot 3 & 3 \\cdot 2 & 3 \\cdot 1 \\\\\n",
    "\\end{array}\n",
    "\\right)\n",
    "$$\n",
    "\n",
    "$$\n",
    "\\left( \\begin{array}{cc}\n",
    "1 & 2   \\\\\n",
    "3 & 4  \\\\\n",
    "\\end{array} \\right) \\times \\left( \\begin{array}{cc}\n",
    "4 & 5   \\\\\n",
    "6 & 7  \\\\\n",
    "\\end{array} \\right) = \\left( \\begin{array}{cc}\n",
    "1 \\cdot 4 + 2 \\cdot 6 & 1 \\cdot 5 + 2 \\cdot 7  \\\\\n",
    "3 \\cdot 4 + 4 \\cdot 6 & 3 \\cdot 5 + 4 \\cdot 7\\\\\n",
    "\\end{array} \\right) \n",
    "$$"
   ]
  },
  {
   "cell_type": "markdown",
   "metadata": {
    "slideshow": {
     "slide_type": "slide"
    }
   },
   "source": [
    "Com nosso conhecimento atual poderíamos representar vetores e matrizes como listas, porém tais operações não funcionariam."
   ]
  },
  {
   "cell_type": "code",
   "execution_count": 1,
   "metadata": {
    "collapsed": false,
    "slideshow": {
     "slide_type": "slide"
    }
   },
   "outputs": [
    {
     "name": "stdout",
     "output_type": "stream",
     "text": [
      "[1, 2, 3, 4, 5, 6]\n"
     ]
    },
    {
     "ename": "TypeError",
     "evalue": "can only concatenate list (not \"int\") to list",
     "output_type": "error",
     "traceback": [
      "\u001b[1;31m---------------------------------------------------------------------------\u001b[0m",
      "\u001b[1;31mTypeError\u001b[0m                                 Traceback (most recent call last)",
      "\u001b[1;32m<ipython-input-1-bf91b75f2584>\u001b[0m in \u001b[0;36m<module>\u001b[1;34m()\u001b[0m\n\u001b[0;32m      3\u001b[0m \u001b[1;33m\u001b[0m\u001b[0m\n\u001b[0;32m      4\u001b[0m \u001b[0mprint\u001b[0m\u001b[1;33m(\u001b[0m\u001b[0mu\u001b[0m \u001b[1;33m+\u001b[0m \u001b[0mv\u001b[0m\u001b[1;33m)\u001b[0m\u001b[1;33m\u001b[0m\u001b[0m\n\u001b[1;32m----> 5\u001b[1;33m \u001b[0mprint\u001b[0m\u001b[1;33m(\u001b[0m\u001b[0mu\u001b[0m \u001b[1;33m+\u001b[0m \u001b[1;36m1\u001b[0m\u001b[1;33m)\u001b[0m\u001b[1;33m\u001b[0m\u001b[0m\n\u001b[0m",
      "\u001b[1;31mTypeError\u001b[0m: can only concatenate list (not \"int\") to list"
     ]
    }
   ],
   "source": [
    "u = [1,2,3]\n",
    "v = [4,5,6]\n",
    "\n",
    "print(u + v)\n",
    "print(u + 1)"
   ]
  },
  {
   "cell_type": "markdown",
   "metadata": {
    "slideshow": {
     "slide_type": "slide"
    }
   },
   "source": [
    "Alternativamente poderíamos implementar funções que realizassem tais operações:"
   ]
  },
  {
   "cell_type": "code",
   "execution_count": 2,
   "metadata": {
    "collapsed": false,
    "slideshow": {
     "slide_type": "fragment"
    }
   },
   "outputs": [
    {
     "name": "stdout",
     "output_type": "stream",
     "text": [
      "[5, 7, 9]\n"
     ]
    }
   ],
   "source": [
    "def SomaVetores(u,v):\n",
    "    z = []\n",
    "    if len(u)!=len(v):\n",
    "        return z\n",
    "    for i in range(len(u)):\n",
    "        z.append( u[i] + v[i] )\n",
    "    return z\n",
    "\n",
    "print (SomaVetores(u,v))"
   ]
  },
  {
   "cell_type": "markdown",
   "metadata": {
    "slideshow": {
     "slide_type": "slide"
    }
   },
   "source": [
    "Mas a biblioteca `numpy` contém o tipo `array` que permite trabalhar com vetores e matrizes de maneira simplificada."
   ]
  },
  {
   "cell_type": "code",
   "execution_count": 4,
   "metadata": {
    "collapsed": false,
    "slideshow": {
     "slide_type": "slide"
    }
   },
   "outputs": [
    {
     "name": "stdout",
     "output_type": "stream",
     "text": [
      "[5 7 9]\n",
      "[2 3 4]\n",
      "[ 4 10 18]\n",
      "32\n",
      "[[ 4  5  6]\n",
      " [ 8 10 12]\n",
      " [12 15 18]]\n"
     ]
    }
   ],
   "source": [
    "import numpy as np\n",
    "\n",
    "u = np.array([1,2,3])\n",
    "v = np.array([4,5,6])\n",
    "\n",
    "print (u + v)\n",
    "print (u + 1)\n",
    "print (u*v )# produto elemento a elemento\n",
    "print (np.dot(u,v))  # produto interno\n",
    "print (np.outer(u,v) )# produto externo"
   ]
  },
  {
   "cell_type": "markdown",
   "metadata": {
    "slideshow": {
     "slide_type": "slide"
    }
   },
   "source": [
    "Analogamente com matrizes:"
   ]
  },
  {
   "cell_type": "code",
   "execution_count": 4,
   "metadata": {
    "collapsed": false,
    "slideshow": {
     "slide_type": "subslide"
    }
   },
   "outputs": [
    {
     "name": "stdout",
     "output_type": "stream",
     "text": [
      "[[ 6  8]\n",
      " [10 12]] \n",
      "\n",
      "[[ 5 12]\n",
      " [21 32]] \n",
      "\n",
      "[[19 22]\n",
      " [43 50]] \n",
      "\n",
      "[[1 3]\n",
      " [2 4]] \n",
      "\n",
      "[[-2.   1. ]\n",
      " [ 1.5 -0.5]] \n",
      "\n"
     ]
    }
   ],
   "source": [
    "A = np.array( [ [1,2], [3,4] ] )\n",
    "B = np.array( [ [5,6], [7,8] ] )\n",
    "\n",
    "print (A+B, '\\n')\n",
    "print (A*B, '\\n' ) # multiplicação elemento a elemento\n",
    "print (np.dot(A,B), '\\n' )# multiplicação de matrizes\n",
    "print (A.T, '\\n') # transposta\n",
    "print (np.linalg.inv(A), '\\n' ) # inversa"
   ]
  },
  {
   "cell_type": "markdown",
   "metadata": {
    "slideshow": {
     "slide_type": "slide"
    }
   },
   "source": [
    "Para acessar os elementos utilizamos pares de colchetes exatamente como nas listas.\n",
    "\n",
    "Para matrizes colocamos os dois índices dentro dos colchetes."
   ]
  },
  {
   "cell_type": "code",
   "execution_count": 5,
   "metadata": {
    "collapsed": false,
    "slideshow": {
     "slide_type": "slide"
    }
   },
   "outputs": [
    {
     "name": "stdout",
     "output_type": "stream",
     "text": [
      "1\n",
      "[4]\n",
      "1\n",
      "[1 2]\n"
     ]
    }
   ],
   "source": [
    "print (u[0])\n",
    "print (v[0:1])\n",
    "print (A[0,0])\n",
    "print (A[0,:])"
   ]
  },
  {
   "cell_type": "markdown",
   "metadata": {
    "slideshow": {
     "slide_type": "slide"
    }
   },
   "source": [
    "Adicionalmente podemos passar uma lista de índices que queremos acessar:"
   ]
  },
  {
   "cell_type": "code",
   "execution_count": 6,
   "metadata": {
    "collapsed": false,
    "slideshow": {
     "slide_type": "fragment"
    }
   },
   "outputs": [
    {
     "name": "stdout",
     "output_type": "stream",
     "text": [
      "[ 1  9 25]\n"
     ]
    }
   ],
   "source": [
    "u = np.array([i*i for i in range(10)])\n",
    "print (u[ [1,3,5] ])"
   ]
  },
  {
   "cell_type": "markdown",
   "metadata": {
    "slideshow": {
     "slide_type": "slide"
    }
   },
   "source": [
    "O tamanho de um vetor ou matriz pode ser obtido com o comando `.shape`."
   ]
  },
  {
   "cell_type": "code",
   "execution_count": 7,
   "metadata": {
    "collapsed": false,
    "slideshow": {
     "slide_type": "fragment"
    }
   },
   "outputs": [
    {
     "name": "stdout",
     "output_type": "stream",
     "text": [
      "(2, 2)\n"
     ]
    }
   ],
   "source": [
    "print (A.shape)"
   ]
  },
  {
   "cell_type": "markdown",
   "metadata": {
    "slideshow": {
     "slide_type": "slide"
    }
   },
   "source": [
    "Podemos criar uma Matriz com todos elementos iguais a $0$ ou $1$ ou até mesmo uma constante $c$."
   ]
  },
  {
   "cell_type": "code",
   "execution_count": 8,
   "metadata": {
    "collapsed": false,
    "slideshow": {
     "slide_type": "slide"
    }
   },
   "outputs": [
    {
     "name": "stdout",
     "output_type": "stream",
     "text": [
      "[[ 0.  0.  0.]\n",
      " [ 0.  0.  0.]\n",
      " [ 0.  0.  0.]\n",
      " [ 0.  0.  0.]\n",
      " [ 0.  0.  0.]] \n",
      "\n",
      "[[ 1.  1.  1.]\n",
      " [ 1.  1.  1.]\n",
      " [ 1.  1.  1.]\n",
      " [ 1.  1.  1.]\n",
      " [ 1.  1.  1.]] \n",
      "\n",
      "[[ 3.  3.  3.]\n",
      " [ 3.  3.  3.]\n",
      " [ 3.  3.  3.]\n",
      " [ 3.  3.  3.]\n",
      " [ 3.  3.  3.]] \n",
      "\n"
     ]
    }
   ],
   "source": [
    "m,n = 5,3\n",
    "A = np.zeros((m,n))  # repare no parentes duplo\n",
    "B = np.ones((m,n))\n",
    "C = np.ones((m,n))*3\n",
    "print (A, '\\n')\n",
    "print (B, '\\n')\n",
    "print (C, '\\n')"
   ]
  },
  {
   "cell_type": "markdown",
   "metadata": {
    "slideshow": {
     "slide_type": "slide"
    }
   },
   "source": [
    "A biblioteca `numpy` conta com todas as funções da biblioteca `math` e outras diversas funções úteis para cálculo numérico e álgebra."
   ]
  },
  {
   "cell_type": "code",
   "execution_count": 9,
   "metadata": {
    "collapsed": false,
    "slideshow": {
     "slide_type": "slide"
    }
   },
   "outputs": [
    {
     "name": "stdout",
     "output_type": "stream",
     "text": [
      "[[-0.9899925 -0.9899925 -0.9899925]\n",
      " [-0.9899925 -0.9899925 -0.9899925]\n",
      " [-0.9899925 -0.9899925 -0.9899925]\n",
      " [-0.9899925 -0.9899925 -0.9899925]\n",
      " [-0.9899925 -0.9899925 -0.9899925]] \n",
      "\n",
      "[ 0.   0.1  0.2  0.3  0.4  0.5  0.6  0.7  0.8  0.9] \n",
      "\n"
     ]
    }
   ],
   "source": [
    "print (np.cos(C), '\\n')\n",
    "print (np.arange(0,1,0.1), '\\n')"
   ]
  },
  {
   "cell_type": "code",
   "execution_count": 10,
   "metadata": {
    "collapsed": false,
    "slideshow": {
     "slide_type": "slide"
    }
   },
   "outputs": [
    {
     "name": "stdout",
     "output_type": "stream",
     "text": [
      "[[ 0.42936658  0.00176999  0.83445449]\n",
      " [ 0.1543233   0.60055682  0.36499686]\n",
      " [ 0.03323521  0.34690896  0.9212895 ]\n",
      " [ 0.5856121   0.11608086  0.16013763]\n",
      " [ 0.89589308  0.47155694  0.35064673]]\n"
     ]
    }
   ],
   "source": [
    "D = np.random.random( (m,n) )  # matriz de números aleatórios de tamanho m x n\n",
    "print (D)"
   ]
  },
  {
   "cell_type": "code",
   "execution_count": 11,
   "metadata": {
    "collapsed": false,
    "slideshow": {
     "slide_type": "slide"
    }
   },
   "outputs": [
    {
     "name": "stdout",
     "output_type": "stream",
     "text": [
      "[ 0.42936658  0.00176999  0.1543233   0.36499686  0.03323521  0.34690896\n",
      "  0.11608086  0.16013763  0.47155694  0.35064673]\n"
     ]
    }
   ],
   "source": [
    "print (D[ D<0.5]) # somente os elementos menores que 0.5"
   ]
  },
  {
   "cell_type": "code",
   "execution_count": 12,
   "metadata": {
    "collapsed": false,
    "slideshow": {
     "slide_type": "slide"
    }
   },
   "outputs": [
    {
     "name": "stdout",
     "output_type": "stream",
     "text": [
      "(array([0, 0, 1, 1, 2, 2, 3, 3, 4, 4]), array([0, 1, 0, 2, 0, 1, 1, 2, 1, 2])) \n",
      "\n",
      "[ 0.42936658  0.00176999  0.1543233   0.36499686  0.03323521  0.34690896\n",
      "  0.11608086  0.16013763  0.47155694  0.35064673]\n"
     ]
    }
   ],
   "source": [
    "idx = np.where(D<0.5)  # índices dos elementos < 0.5\n",
    "print (idx, '\\n')\n",
    "print (D[idx])"
   ]
  },
  {
   "cell_type": "code",
   "execution_count": 13,
   "metadata": {
    "collapsed": false,
    "slideshow": {
     "slide_type": "slide"
    }
   },
   "outputs": [
    {
     "name": "stdout",
     "output_type": "stream",
     "text": [
      "0.921289498375 8\n",
      "0.00176999058044 1\n"
     ]
    }
   ],
   "source": [
    "print (D.max(), D.argmax())  # máximo valor e índice do máximo\n",
    "print (D.min(), D.argmin()) # mínimo valor e índice do mínimo"
   ]
  },
  {
   "cell_type": "code",
   "execution_count": 14,
   "metadata": {
    "collapsed": false,
    "slideshow": {
     "slide_type": "slide"
    }
   },
   "outputs": [
    {
     "name": "stdout",
     "output_type": "stream",
     "text": [
      "0.417788603356 0.292164200309 0.085359919942\n"
     ]
    }
   ],
   "source": [
    "print( D.mean(), D.std(), D.var())  # média e desvio-padrão e variância."
   ]
  },
  {
   "cell_type": "code",
   "execution_count": 16,
   "metadata": {
    "collapsed": false,
    "slideshow": {
     "slide_type": "slide"
    }
   },
   "outputs": [
    {
     "name": "stdout",
     "output_type": "stream",
     "text": [
      "[ 0.41968605  0.30737471  0.52630504]\n",
      "[ 0.42186369  0.37329233  0.43381122  0.28727687  0.57269891]\n",
      "[ 2.09843027  1.53687357  2.63152521]\n"
     ]
    }
   ],
   "source": [
    "print (D.mean( axis=0 ))  # média das colunas\n",
    "print (D.mean(axis=1) ) # média das linhas\n",
    "print (D.sum(axis=0)) # soma das colunas"
   ]
  },
  {
   "cell_type": "code",
   "execution_count": 17,
   "metadata": {
    "collapsed": false,
    "slideshow": {
     "slide_type": "slide"
    }
   },
   "outputs": [
    {
     "name": "stdout",
     "output_type": "stream",
     "text": [
      "[[ 1.7633429   1.38219555  1.74789632]\n",
      " [ 2.60312133  1.54624984  2.29513453]\n",
      " [ 1.33308137  2.37208959  2.5403377 ]\n",
      " [ 1.20453268  1.65651101  1.47135703]\n",
      " [ 2.01487223  0.95460317  2.33654059]]\n"
     ]
    }
   ],
   "source": [
    "# matriz aleatória gaussiana de média 1.7 e variância 0.5\n",
    "D = np.random.normal( loc=1.7, scale=0.5, size=(m,n) )\n",
    "print (D)"
   ]
  },
  {
   "cell_type": "code",
   "execution_count": 18,
   "metadata": {
    "collapsed": false,
    "slideshow": {
     "slide_type": "slide"
    }
   },
   "outputs": [
    {
     "name": "stdout",
     "output_type": "stream",
     "text": [
      "coroa\n",
      "cara\n"
     ]
    }
   ],
   "source": [
    "# random.choice() escolhe um elemento da lista dada a dist. de probabilidade p\n",
    "print (np.random.choice( ['cara', 'coroa'], p=[0.5,0.5] )) # moeda honesta\n",
    "print (np.random.choice( ['cara', 'coroa'], p=[0.8,0.2] )) # moeda desonesta"
   ]
  },
  {
   "cell_type": "markdown",
   "metadata": {
    "slideshow": {
     "slide_type": "slide"
    }
   },
   "source": [
    "Vamos estimar a entropia de uma moeda honesta e de uma moeda desonesta utilizando Método de Monte Carlo:"
   ]
  },
  {
   "cell_type": "code",
   "execution_count": 19,
   "metadata": {
    "collapsed": false,
    "slideshow": {
     "slide_type": "slide"
    }
   },
   "outputs": [
    {
     "name": "stdout",
     "output_type": "stream",
     "text": [
      "0.999997114608 1.0\n",
      "0.725315093108 0.721928094887\n"
     ]
    }
   ],
   "source": [
    "def MonteCarlo( p, maxit ):\n",
    "    \"\"\"\n",
    "    Retorna a probabilidade de cara e coroa utilizando a função random.choice com probabilidade p\n",
    "    \"\"\"\n",
    "    caras = 0\n",
    "    for it in range(maxit):\n",
    "        moeda = np.random.choice( ['cara','coroa'], p=p )\n",
    "        if moeda == 'cara':\n",
    "            caras += 1\n",
    "    return np.array( [caras/float(maxit), 1.0 - caras/float(maxit)] )\n",
    "\n",
    "def Entropia( p ):\n",
    "    \"\"\"\n",
    "    Calcula a entropia do vetor de probabilidades p\n",
    "    \"\"\"\n",
    "    return -(p*np.log2(p)).sum()\n",
    "\n",
    "honesta = np.array([0.5, 0.5])\n",
    "desonesta = np.array([0.8,0.2])\n",
    "print( Entropia( MonteCarlo( honesta, 10000 ) ), Entropia( honesta ))\n",
    "print (Entropia( MonteCarlo( desonesta, 10000 ) ) , Entropia( desonesta))"
   ]
  },
  {
   "cell_type": "markdown",
   "metadata": {
    "slideshow": {
     "slide_type": "slide"
    }
   },
   "source": [
    "**Simulação de Incêndio em Floresta**\n",
    "\n",
    "Dada uma floresta representada por uma matriz $m \\times n$ em que os elementos são:\n",
    "\n",
    "* $0$ caso aquele ponto esteja vazio\n",
    "* $1$ se contém uma árvore\n",
    "* $2$ se a árvore está pegando fogo"
   ]
  },
  {
   "cell_type": "markdown",
   "metadata": {
    "slideshow": {
     "slide_type": "slide"
    }
   },
   "source": [
    "Utilizando a função `random.choice()` da biblioteca `numpy`, inicialize a matriz com $0$'s e $1$'s de tal forma que uma árvore é criada com probabilidade $p$ para criação de árvores.\n",
    "\n",
    "Utilize a opção `size` para determinar o tamanho da matriz."
   ]
  },
  {
   "cell_type": "code",
   "execution_count": 2,
   "metadata": {
    "collapsed": false,
    "slideshow": {
     "slide_type": "slide"
    }
   },
   "outputs": [],
   "source": [
    "def CriaFloresta( m,n,p ):\n",
    "    \"\"\"\n",
    "    Cria uma floresta com 0s e 1s\n",
    "    \"\"\"\n",
    "    return np.random.choice( [0,1], size=(m,n), p=[1.0-p,p])"
   ]
  },
  {
   "cell_type": "markdown",
   "metadata": {
    "slideshow": {
     "slide_type": "slide"
    }
   },
   "source": [
    "Crie uma função que faz o seguinte:\n",
    "\n",
    "* Bota fogo em um ponto aleatório da floresta\n",
    "* Repita enquanto existir fogo:\n",
    "  - Para cada árvore pegando fogo, espalha fogo para as árvores vizinhas, apagando o fogo dessa árvore em seguida"
   ]
  },
  {
   "cell_type": "markdown",
   "metadata": {
    "slideshow": {
     "slide_type": "slide"
    }
   },
   "source": [
    "Podemos imaginar o código da seguinte maneira:"
   ]
  },
  {
   "cell_type": "code",
   "execution_count": 9,
   "metadata": {
    "collapsed": true,
    "slideshow": {
     "slide_type": "fragment"
    }
   },
   "outputs": [],
   "source": [
    "def SimulaIncendio( F ):\n",
    "    \"\"\"\n",
    "    Simula o incêndio em uma floresta\n",
    "    \"\"\"    \n",
    "    FocoIncendio(F)\n",
    "    \n",
    "    while temFogo(F):\n",
    "        AtualizaFloresta(F)\n",
    "    \n",
    "    return F"
   ]
  },
  {
   "cell_type": "markdown",
   "metadata": {
    "slideshow": {
     "slide_type": "slide"
    }
   },
   "source": [
    "Agora vamos fazer cada uma dessas funções em separado. Começando pela `FocoIncendio(F)`."
   ]
  },
  {
   "cell_type": "code",
   "execution_count": 11,
   "metadata": {
    "collapsed": false,
    "scrolled": true,
    "slideshow": {
     "slide_type": "fragment"
    }
   },
   "outputs": [],
   "source": [
    "def FocoIncendio(F): \n",
    "    # vamos pegar todos os pares (i,j) de índices contendo o valor 1\n",
    "    i,j = np.where(F==1)\n",
    "    \n",
    "    # escolhe um deles para ser o foco de incêndio\n",
    "    quantos = len( i )\n",
    "    foco = np.random.choice( range(quantos) )\n",
    "    F[ i[foco], j[foco] ] = 2"
   ]
  },
  {
   "cell_type": "markdown",
   "metadata": {
    "slideshow": {
     "slide_type": "slide"
    }
   },
   "source": [
    "Agora vamos implementar a função que verifica se ainda tem fogo na floresta:"
   ]
  },
  {
   "cell_type": "code",
   "execution_count": 12,
   "metadata": {
    "collapsed": true,
    "slideshow": {
     "slide_type": "fragment"
    }
   },
   "outputs": [],
   "source": [
    "def temFogo(F):\n",
    "    return len(np.where(F==2)[0]) > 0"
   ]
  },
  {
   "cell_type": "markdown",
   "metadata": {
    "slideshow": {
     "slide_type": "slide"
    }
   },
   "source": [
    "Finalmente implementamos a função `AtualizaFloresta(F)`:"
   ]
  },
  {
   "cell_type": "code",
   "execution_count": 13,
   "metadata": {
    "collapsed": true,
    "slideshow": {
     "slide_type": "fragment"
    }
   },
   "outputs": [],
   "source": [
    "def AtualizaFloresta(F):\n",
    "    # verifica os pontos de incêndio\n",
    "    I, J = np.where(F==2)\n",
    "    \n",
    "    # para cada foco de incêndio\n",
    "    for i,j in zip(I, J):        \n",
    "        EspalhaFogo(F, i, j)        \n",
    "        ApagaFogo(F, i, j)"
   ]
  },
  {
   "cell_type": "code",
   "execution_count": 14,
   "metadata": {
    "collapsed": true,
    "slideshow": {
     "slide_type": "slide"
    }
   },
   "outputs": [],
   "source": [
    "def EspalhaFogo(F, i, j):\n",
    "    # queremos verificar esses vizinhos de cada ponto de incêndio\n",
    "    vizinhos = [ (-1,-1), (-1,0), (-1,1), (0,-1), (0,1), (1,-1), (1,0), (1,1) ]\n",
    "    for k,l in vizinhos:\n",
    "        # se está dentro do limite e for árvore, bota fogo e avisa que botou fogo\n",
    "        if DentroFloresta(F, i+k, j+l) and temArvore(F, i+k, j+l):\n",
    "                F[i+k][j+l] = 2"
   ]
  },
  {
   "cell_type": "code",
   "execution_count": 15,
   "metadata": {
    "collapsed": true,
    "slideshow": {
     "slide_type": "slide"
    }
   },
   "outputs": [],
   "source": [
    "def temArvore(F, i, j):\n",
    "    return F[i][j] == 1\n",
    "\n",
    "def DentroFloresta(F, i, j):\n",
    "    return 0 <= i < F.shape[0] and 0 <= j < F.shape[1]"
   ]
  },
  {
   "cell_type": "code",
   "execution_count": 16,
   "metadata": {
    "collapsed": true,
    "slideshow": {
     "slide_type": "slide"
    }
   },
   "outputs": [],
   "source": [
    "def ApagaFogo(F, i, j):\n",
    "    F[i,j] = 0  # apaga o fogo"
   ]
  },
  {
   "cell_type": "code",
   "execution_count": 17,
   "metadata": {
    "collapsed": false,
    "slideshow": {
     "slide_type": "slide"
    }
   },
   "outputs": [
    {
     "name": "stdout",
     "output_type": "stream",
     "text": [
      "[[1 1 0 0 0 0 0 0 1 0]\n",
      " [0 1 0 0 0 0 0 0 0 0]\n",
      " [0 0 0 0 0 0 0 0 0 1]\n",
      " [0 0 0 0 0 0 0 0 0 0]\n",
      " [0 0 0 0 0 0 0 0 0 0]\n",
      " [0 1 0 0 0 0 0 0 0 0]\n",
      " [1 1 0 0 0 0 0 0 0 0]\n",
      " [1 1 0 0 0 0 0 0 0 0]\n",
      " [0 1 0 0 0 1 1 0 0 0]\n",
      " [0 0 0 0 0 0 0 0 1 0]]\n"
     ]
    }
   ],
   "source": [
    "F = CriaFloresta( 10,10, 0.3 )\n",
    "F = SimulaIncendio(F)\n",
    "print (F)"
   ]
  },
  {
   "cell_type": "code",
   "execution_count": 18,
   "metadata": {
    "collapsed": false,
    "slideshow": {
     "slide_type": "slide"
    }
   },
   "outputs": [
    {
     "name": "stdout",
     "output_type": "stream",
     "text": [
      "Populating the interactive namespace from numpy and matplotlib\n"
     ]
    },
    {
     "data": {
      "image/png": "[encoded data removed]",
      "text/plain": [
       "<matplotlib.figure.Figure at 0x7fdd6c163cf8>"
      ]
     },
     "metadata": {},
     "output_type": "display_data"
    }
   ],
   "source": [
    "# Vamos plotar a floresta\n",
    "%pylab inline\n",
    "import matplotlib.pyplot as plt\n",
    "\n",
    "plt.imshow(F, cmap=\"hot\") # o comando imshow plota uma matriz de valores entre 0 e 1 com tonalidades de cores\n",
    "plt.show();"
   ]
  },
  {
   "cell_type": "markdown",
   "metadata": {
    "slideshow": {
     "slide_type": "slide"
    }
   },
   "source": [
    "Finalmente realizaremos um método de Monte Carlo para estimar o percentual de árvores restantes em um incêndio em uma floresta de densidade $p$.\n",
    "\n",
    "Para cada densidade na lista `[0.1, 0.2, ..., 0.9]` e para cada repetição da simulação, crie uma floresta com essa densidade e simule o incêndio. \n",
    "\n",
    "Calcule o percentual de árvores sobrevientes (média da matriz F) e calcule a média desse percentual em relação a todas as simulações."
   ]
  },
  {
   "cell_type": "code",
   "execution_count": 19,
   "metadata": {
    "collapsed": true,
    "slideshow": {
     "slide_type": "slide"
    }
   },
   "outputs": [],
   "source": [
    "def MonteCarlo( m, n, N ):\n",
    "    \"\"\"\n",
    "    Simulação de Monte Carlo para verificar a maior densidade em que um incêndio não causa muito estrago em uma floresta\n",
    "    \"\"\"\n",
    "    # queremos verificar as probabilidades de 0.1 até 0.9\n",
    "    Probabilidades = np.arange(0.1,1.0,0.1)\n",
    "    PF = []\n",
    "    \n",
    "    # para cada probabilidade repete o processo de Monte Carlo\n",
    "    for p in Probabilidades:\n",
    "        media = Simula(p, m, n, N)\n",
    "        PF.append( (p, media) )\n",
    "    return PF"
   ]
  },
  {
   "cell_type": "code",
   "execution_count": 22,
   "metadata": {
    "collapsed": false,
    "slideshow": {
     "slide_type": "slide"
    }
   },
   "outputs": [],
   "source": [
    "def Simula(p, m, n, N):\n",
    "    pf = 0\n",
    "    for it in range(N):\n",
    "        F = CriaFloresta( m,n,p )\n",
    "        F = SimulaIncendio(F)\n",
    "        pf += F.mean()\n",
    "    return pf/N"
   ]
  },
  {
   "cell_type": "code",
   "execution_count": 23,
   "metadata": {
    "collapsed": false,
    "slideshow": {
     "slide_type": "slide"
    }
   },
   "outputs": [
    {
     "name": "stdout",
     "output_type": "stream",
     "text": [
      "Inicial \t Final\n",
      "0.10 \t\t 0.10\n",
      "0.20 \t\t 0.20\n",
      "0.30 \t\t 0.29\n",
      "0.40 \t\t 0.29\n",
      "0.50 \t\t 0.04\n",
      "0.60 \t\t 0.01\n",
      "0.70 \t\t 0.00\n",
      "0.80 \t\t 0.00\n",
      "0.90 \t\t 0.00\n"
     ]
    }
   ],
   "source": [
    "PF = MonteCarlo( 50,50,500 )\n",
    "print ('Inicial \\t Final')\n",
    "for pf in PF:\n",
    "    print( '%.2f \\t\\t %.2f' % (pf[0], pf[1]))"
   ]
  },
  {
   "cell_type": "markdown",
   "metadata": {
    "slideshow": {
     "slide_type": "slide"
    }
   },
   "source": [
    "Esse experimento mostra que em uma floresta com até 40% da área ocupada com árvores, um incêndio danifica apenas uma pequena região.\n",
    "\n",
    "Iniciando em 50%, um incêndio elimina praticamente toda a floresta. Isso é conhecido como ponto crítico."
   ]
  },
  {
   "cell_type": "markdown",
   "metadata": {
    "slideshow": {
     "slide_type": "slide"
    }
   },
   "source": [
    "## Análise da valorização do dólar\n",
    "\n",
    "Vamos realizar algumas análises estátisticas da valorização diária do dólar no período de 19/09/2014 até 17/03/2015 em relação ao Real e ao Euro."
   ]
  },
  {
   "cell_type": "markdown",
   "metadata": {
    "slideshow": {
     "slide_type": "slide"
    }
   },
   "source": [
    "Para isso, vamos utilizar o arquivo **dolar.csv** contendo as informações do câmbio. Vejamos o formato desse arquivo."
   ]
  },
  {
   "cell_type": "code",
   "execution_count": 36,
   "metadata": {
    "collapsed": false,
    "slideshow": {
     "slide_type": "fragment"
    }
   },
   "outputs": [
    {
     "name": "stdout",
     "output_type": "stream",
     "text": [
      "0;0.7763;2.3643\r\n",
      "1;0.7765;2.3711\r\n",
      "2;0.7795;2.3762\r\n",
      "3;0.7795;2.3750\r\n",
      "4;0.7785;2.3849\r\n",
      "5;0.7776;2.4041\r\n",
      "6;0.7796;2.4113\r\n",
      "7;0.7843;2.3989\r\n",
      "8;0.7857;2.4297\r\n",
      "9;0.7886;2.4449\r\n"
     ]
    }
   ],
   "source": [
    "!head dolar.csv"
   ]
  },
  {
   "cell_type": "markdown",
   "metadata": {
    "slideshow": {
     "slide_type": "slide"
    }
   },
   "source": [
    "Cada linha representa uma das datas analisadas, a primeira coluna indica qual é data (sendo 0 a primeira data), a segunda coluna é o valor do Euro em relação ao Dólar e a terceira coluna o valor do Real em função do Dólar.\n",
    "\n",
    "Notem que as colunas estão separadas por ';'"
   ]
  },
  {
   "cell_type": "markdown",
   "metadata": {
    "slideshow": {
     "slide_type": "slide"
    }
   },
   "source": [
    "A leitura de um arquivo nesse formato para uma Matriz do numpy é feita com o comando `genfromtxt`.\n",
    "\n",
    "Essa função pode receber diversos parâmetros, porém apenas dois são de nosso interesse:\n",
    "\n",
    "`genfromtxt( nome_do_arquivo,  delimiter = 'delimitardor')`\n",
    "\n",
    "Nosso delimitador é o ';'"
   ]
  },
  {
   "cell_type": "code",
   "execution_count": 37,
   "metadata": {
    "collapsed": false,
    "slideshow": {
     "slide_type": "slide"
    }
   },
   "outputs": [
    {
     "name": "stdout",
     "output_type": "stream",
     "text": [
      "[[ 0.      0.7763  2.3643]\n",
      " [ 1.      0.7765  2.3711]\n",
      " [ 2.      0.7795  2.3762]\n",
      " [ 3.      0.7795  2.375 ]\n",
      " [ 4.      0.7785  2.3849]\n",
      " [ 5.      0.7776  2.4041]\n",
      " [ 6.      0.7796  2.4113]\n",
      " [ 7.      0.7843  2.3989]\n",
      " [ 8.      0.7857  2.4297]\n",
      " [ 9.      0.7886  2.4449]]\n",
      "180 registros\n"
     ]
    }
   ],
   "source": [
    "import numpy as np\n",
    "data = np.genfromtxt('dolar.csv', delimiter=';')\n",
    "print (data[:10,:]) # imprime os 10 primeiros registros\n",
    "print (data.shape[0], \"registros\")"
   ]
  },
  {
   "cell_type": "code",
   "execution_count": 38,
   "metadata": {
    "collapsed": false,
    "slideshow": {
     "slide_type": "slide"
    }
   },
   "outputs": [
    {
     "name": "stdout",
     "output_type": "stream",
     "text": [
      "Média:  0.833282222222 2.64417\n",
      "Desvio-padrão:  0.0457504185234 0.189823865699\n"
     ]
    }
   ],
   "source": [
    "# As médias do US$/EURO e US$/R$ são:\n",
    "print (\"Média: \", data[:,1].mean(), data[:,2].mean())\n",
    "\n",
    "# E o desvio-padrão:\n",
    "print (\"Desvio-padrão: \", data[:,1].std(), data[:,2].std())"
   ]
  },
  {
   "cell_type": "code",
   "execution_count": 44,
   "metadata": {
    "collapsed": false,
    "slideshow": {
     "slide_type": "slide"
    }
   },
   "outputs": [
    {
     "data": {
      "image/png": "[encoded data removed]",
      "text/plain": [
       "<matplotlib.figure.Figure at 0x7fd56ed94940>"
      ]
     },
     "metadata": {},
     "output_type": "display_data"
    }
   ],
   "source": [
    "# Vamos plotar a tendência de cada um\n",
    "# O eixo x é a primeira coluna [0,1,2...] e o y serão a segunda e terceira colunas\n",
    "plt.figure(figsize=(10,10))\n",
    "plt.style.use('fivethirtyeight')\n",
    "plt.title(\"Valorização do Dólar\")\n",
    "plt.plot(data[:,0], data[:,1], color='green', label=\"Euro\")\n",
    "plt.plot(data[:,0], data[:,2], color='blue', label=\"Real\")\n",
    "plt.legend()\n",
    "plt.show()"
   ]
  },
  {
   "cell_type": "code",
   "execution_count": 45,
   "metadata": {
    "collapsed": false,
    "slideshow": {
     "slide_type": "slide"
    }
   },
   "outputs": [
    {
     "name": "stdout",
     "output_type": "stream",
     "text": [
      "[  2.20522302e-11  -1.00078124e-08   1.61703707e-06  -1.05307809e-04\n",
      "   2.78981598e-03   7.69061303e-01]\n",
      "[  2.58771263e-11  -4.59533374e-09  -2.42156114e-07   6.92502196e-05\n",
      "  -5.45654947e-05   2.40654929e+00]\n"
     ]
    }
   ],
   "source": [
    "polyEUR = np.polyfit( data[:,0], data[:,1], 5 )\n",
    "polyR = np.polyfit( data[:,0], data[:,2], 5 )\n",
    "\n",
    "print (polyEUR)\n",
    "print( polyR)"
   ]
  },
  {
   "cell_type": "code",
   "execution_count": 57,
   "metadata": {
    "collapsed": false,
    "slideshow": {
     "slide_type": "slide"
    }
   },
   "outputs": [
    {
     "data": {
      "image/png": "[encoded data removed]",
      "text/plain": [
       "<matplotlib.figure.Figure at 0x7fd56ec2d710>"
      ]
     },
     "metadata": {},
     "output_type": "display_data"
    }
   ],
   "source": [
    "polyEURf = np.poly1d(polyEUR)\n",
    "polyRf = np.poly1d(polyR)\n",
    "\n",
    "plt.figure(figsize=(10,10))\n",
    "plt.style.use('fivethirtyeight')\n",
    "plt.title(\"Valorização do Dólar\")\n",
    "\n",
    "plt.plot(data[:,0], polyEURf(data[:,0]), color='green', label=\"Euro fit\", linewidth=5)\n",
    "plt.plot(data[:,0], polyRf(data[:,0]), color='blue', label=\"Real fit\", linewidth=5)\n",
    "\n",
    "plt.plot(data[:,0], data[:,1], 'o', color='green', label=\"Euro\", markersize=10, fillstyle='none')\n",
    "plt.plot(data[:,0], data[:,2], 'o', color='blue', label=\"Real\", markersize=10, fillstyle='none')\n",
    "\n",
    "plt.legend()\n",
    "plt.show()"
   ]
  },
  {
   "cell_type": "code",
   "execution_count": 58,
   "metadata": {
    "collapsed": false,
    "scrolled": true,
    "slideshow": {
     "slide_type": "slide"
    }
   },
   "outputs": [
    {
     "name": "stdout",
     "output_type": "stream",
     "text": [
      "Próximos dez dias do Real:  [ 3.29384159  3.3243626   3.35602149  3.38884794  3.42287207  3.45812448\n",
      "  3.49463621  3.53243879  3.57156419  3.61204487]\n",
      "\n",
      "Próximos dez dias do Euro:  [ 0.95093308  0.95538362  0.96006054  0.96497356  0.97013261  0.97554786\n",
      "  0.98122976  0.98718896  0.99343641  0.99998329]\n"
     ]
    }
   ],
   "source": [
    "# Vamos ver o que nos aguarda:\n",
    "print (\"Próximos dez dias do Real: \", polyRf(range(180,190)))\n",
    "print()\n",
    "print( \"Próximos dez dias do Euro: \", polyEURf(range(180,190)))"
   ]
  },
  {
   "cell_type": "markdown",
   "metadata": {
    "slideshow": {
     "slide_type": "slide"
    }
   },
   "source": [
    "Vamos salvar a projeção para os próximos 60 dias!\n",
    "\n",
    "Para isso temos que criar uma matriz chamada `proj` de tamanho 60x3.\n",
    "\n",
    "Na primeira coluna vamos inserir os valores de 180 até 240; na segunda coluna a projeção para o Euro e na terceira coluna a projeção para o Real."
   ]
  },
  {
   "cell_type": "markdown",
   "metadata": {
    "slideshow": {
     "slide_type": "slide"
    }
   },
   "source": [
    "Para salvar um arquivo csv usando o numpy utilizamos o comando `savetxt`:\n",
    "\n",
    "`savetxt( nome_arquivo, matriz, delimiter='delimitador', fmt=[ lista_formato ])`\n",
    "\n",
    "A lista de formatos é referente ao tipo de dado de cada coluna da matriz, no nosso caso a primeira coluna é inteiro ( `%d`) e as duas colunas seguintes são floats padronizados com 4 casas decimais ( `%.4f`)."
   ]
  },
  {
   "cell_type": "code",
   "execution_count": 59,
   "metadata": {
    "collapsed": true,
    "slideshow": {
     "slide_type": "slide"
    }
   },
   "outputs": [],
   "source": [
    "# Vamos gravar as projeções:\n",
    "proj = np.zeros( (60,3) )\n",
    "proj[:,0] = range(180,180+60)\n",
    "proj[:,1] = polyEURf(proj[:,0])\n",
    "proj[:,2] = polyRf(proj[:,0])\n",
    "\n",
    "np.savetxt('dolarProj60.csv', proj, delimiter=';', fmt=['%d', '%.4f', '%.4f'])"
   ]
  },
  {
   "cell_type": "code",
   "execution_count": 60,
   "metadata": {
    "collapsed": false,
    "slideshow": {
     "slide_type": "slide"
    }
   },
   "outputs": [
    {
     "name": "stdout",
     "output_type": "stream",
     "text": [
      "180;0.9509;3.2938\r\n",
      "181;0.9554;3.3244\r\n",
      "182;0.9601;3.3560\r\n",
      "183;0.9650;3.3888\r\n",
      "184;0.9701;3.4229\r\n",
      "185;0.9755;3.4581\r\n",
      "186;0.9812;3.4946\r\n",
      "187;0.9872;3.5324\r\n",
      "188;0.9934;3.5716\r\n",
      "189;1.0000;3.6120\r\n"
     ]
    }
   ],
   "source": [
    "!head dolarProj60.csv"
   ]
  }
 ],
 "metadata": {
  "celltoolbar": "Slideshow",
  "kernelspec": {
   "display_name": "Python 3",
   "language": "python",
   "name": "python3"
  },
  "language_info": {
   "codemirror_mode": {
    "name": "ipython",
    "version": 3
   },
   "file_extension": ".py",
   "mimetype": "text/x-python",
   "name": "python",
   "nbconvert_exporter": "python",
   "pygments_lexer": "ipython3",
   "version": "3.5.1"
  }
 },
 "nbformat": 4,
 "nbformat_minor": 0
}
