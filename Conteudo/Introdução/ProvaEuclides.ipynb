{
 "cells": [
  {
   "cell_type": "markdown",
   "metadata": {},
   "source": [
    "# Prova do Algoritmo de Euclides\n",
    "\n",
    "Como ter certeza que o algoritmo de Euclides funciona? Vamos definir:\n",
    "\n",
    "$m = q \\cdot n + r$,\n",
    "\n",
    "onde $q$ é o quociente e $r$ é o resto."
   ]
  },
  {
   "cell_type": "markdown",
   "metadata": {},
   "source": [
    "Se $r = 0$, temos que $m$ é divisível por $n$ e não existe um número maior do que $n$ que divida $m, n$."
   ]
  },
  {
   "cell_type": "markdown",
   "metadata": {},
   "source": [
    "Se $r \\neq 0$ podemos dizer então:\n",
    "\n",
    "$m - q \\cdot n = r$\n",
    "\n",
    "e um mesmo número $g$ que divide $m$ e $n$, também divide $r$. Logo o máximo divisor de $n$ e $r$ é igual ao máximo divisor de $m$ e $n$."
   ]
  },
  {
   "cell_type": "code",
   "execution_count": null,
   "metadata": {
    "collapsed": true
   },
   "outputs": [],
   "source": []
  }
 ],
 "metadata": {
  "kernelspec": {
   "display_name": "Python [py3]",
   "language": "python",
   "name": "Python [py3]"
  },
  "language_info": {
   "codemirror_mode": {
    "name": "ipython",
    "version": 3
   },
   "file_extension": ".py",
   "mimetype": "text/x-python",
   "name": "python",
   "nbconvert_exporter": "python",
   "pygments_lexer": "ipython3",
   "version": "3.5.1"
  }
 },
 "nbformat": 4,
 "nbformat_minor": 0
}
