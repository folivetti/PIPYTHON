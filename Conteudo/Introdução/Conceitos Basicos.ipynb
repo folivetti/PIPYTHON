{
 "cells": [
  {
   "cell_type": "markdown",
   "metadata": {},
   "source": [
    "# Processamento da Informação\n",
    "\n",
    "* Motivação\n",
    "\n",
    "* Algoritmos e Linguagem de Programação\n",
    "\n",
    "* Operações básicas e Variáveis\n",
    "\n",
    "* Tipos básicos de variáveis"
   ]
  },
  {
   "cell_type": "markdown",
   "metadata": {},
   "source": [
    "# Motivação\n",
    "\n",
    "## Informação\n",
    "\n",
    "> ### Informação: do latim, *informatio onis*, conceber ideia.\n",
    "\n",
    "![ordem](../../images/engenheiroordem.jpg)"
   ]
  },
  {
   "cell_type": "markdown",
   "metadata": {},
   "source": [
    "Muitas tarefas demandam um processamento de informação que não podem ser feitas utilizando papel, lápis e uma calculadora científica. Mas contamos com o auxílio do computador:\n",
    "\n",
    "![computador](../../images/computador.jpg)\n",
    "\n",
    "Porém, não falamos o mesmo idioma que o computador..."
   ]
  },
  {
   "cell_type": "markdown",
   "metadata": {},
   "source": [
    "Em Natureza da Informação aprendemos que os computadores utilizam o **código binário** para codificar a informação armazenada em sua memória.  Uma sequência de valores binários pode ser entendida como o código DNA do computador que contém as instruções que devem ser feitas.\n",
    "\n",
    "Como fazer para nos comunicarmos com o computador de tal forma que ele entenda o que queremos realizar mas que não seja necessário aprender a linguagem binária?\n",
    "\n",
    "Para resolver esse problema foram criadas as **Linguagens de Programação**, com o intuito de definir uma linguagem intermediaria que fosse ao mesmo tempo compreendida pelo ser humano e fácil de traduzir para o código binário."
   ]
  },
  {
   "cell_type": "markdown",
   "metadata": {},
   "source": [
    "## Computação\n",
    "\n",
    "> ### Do latim, *computare*, calcular.\n",
    "\n",
    "Cálculo para a solução de um problema através de um procedimento bem definido.\n",
    "\n",
    "Não necessariamente utilizando o computador. Ex.:\n",
    "\n",
    "Resolva $x^2 + 10x - 5 = 0$"
   ]
  },
  {
   "cell_type": "markdown",
   "metadata": {},
   "source": [
    "# Algoritmos e Linguagem de Programação\n",
    "\n",
    "Procedimento bem definido para realizar a computação. Ex.:\n",
    "\n",
    "* Identifique $a$, $b$, $c$ da equação\n",
    "* Calcule $x_0 = -b - \\sqrt{b^2 - 4ac}$\n",
    "* Calcule $x_1 = -b + \\sqrt{b^2 - 4ac}$"
   ]
  },
  {
   "cell_type": "markdown",
   "metadata": {},
   "source": [
    "> ### Algoritmo, do grego, *algiros arithmos*, números dolorosos."
   ]
  },
  {
   "cell_type": "markdown",
   "metadata": {},
   "source": [
    "![notsure](../../images/notsure.jpg)"
   ]
  },
  {
   "cell_type": "markdown",
   "metadata": {},
   "source": [
    "O termo foi criado em homenagem a **Abū ʿAbdallāh Muḥammad ibn Mūsā al-Khwārizmī**, matemático persa autor do livro **Kitab al-jabr wa’l-muqabala**, que estudou soluções de equações lineares e quadráticas.\n",
    "\n",
    "![algoritmo](../../images/algoritmo.jpg)\n",
    "\n",
    "Desse livro vem o termo **álgebra**."
   ]
  },
  {
   "cell_type": "markdown",
   "metadata": {},
   "source": [
    "## Algoritmo de Euclides\n",
    "\n",
    "Conhecido como o primeiro algoritmo da história contido no livro **Os Elementos de Euclides** publicado no ano 300 AC.\n",
    "\n",
    "> ### Dados dois números inteiros não primos entre si, encontrar o máximo divisor comum"
   ]
  },
  {
   "cell_type": "markdown",
   "metadata": {},
   "source": [
    "1. [Encontre o resto] Divida $m$ por $n$ e guarde o resto $r$\n",
    "\n",
    "2. [É zero?] Se $r = 0$, o algoritmo termina e a resposta é $n$\n",
    "\n",
    "3. [Reduzir] Faça $m=n$, $n=r$ e retorne ao passo 1"
   ]
  },
  {
   "cell_type": "markdown",
   "metadata": {},
   "source": [
    "**NOTA:** a ordem dos passos descritas no algoritmo acima são importantes!\n",
    "\n",
    "$m = n$, $n = r$ é diferente de $n = r$, $m = n$"
   ]
  },
  {
   "cell_type": "markdown",
   "metadata": {},
   "source": [
    "Dado $m = 68$ e $n = 119$, vamos verificar o algoritmo de Euclides:\n",
    "\n",
    "|m|n|r|r=0?|Passo|\n",
    "|--|--|--|--|--|\n",
    "|68|119|68|?|1|\n",
    "|68|119|68|F|2|\n",
    "|119|68|68|F|3|\n",
    "|119|68|51|?|1|\n",
    "|119|68|51|F|2|\n",
    "|68|51|51|F|3|\n",
    "|68|51|17|?|1|\n",
    "|68|51|17|F|1|\n",
    "|51|17|17|F|3|\n",
    "|51|17|0|?|1|\n",
    "|51|17|0|V|2|\n",
    "\n",
    "Resposta: $17$"
   ]
  },
  {
   "cell_type": "markdown",
   "metadata": {},
   "source": [
    "## Propriedades dos Algoritmos\n",
    "\n",
    "1. Finitude: o algoritmo SEMPRE deve terminar em um período finito de tempo.\n",
    "2. Desambiguidade: cada passo do algoritmo deve ser descrito de forma desambígua.\n",
    "3. Entrada: um algoritmo pode ter $0$ ou mais entradas (condições iniciais).\n",
    "4. Saída: um algoritmo deve ter uma ou mais saídas (respostas do problema)."
   ]
  },
  {
   "cell_type": "markdown",
   "metadata": {
    "collapsed": true
   },
   "source": [
    "## Linguagem de Programação\n",
    "\n",
    "Para utilizarmos o computador para calcular o resultado de algoritmos precisamos saber nos comunicarmos com ele.\n",
    "\n",
    "As **Linguagens de Programação** foram inventadas como um *meio termo* entre o nosso idioma e o idioma compreendido pelo computador. Elas são definidas como um conjunto de instruções e sintaxes que nos permitem instruir o computador de forma desambígua.\n",
    "\n",
    "Essas instruções são traduzidas para a linguagem do computador através de um **compilador** ou **interpretador**."
   ]
  },
  {
   "cell_type": "markdown",
   "metadata": {},
   "source": [
    "**Compilador:** traduz o código para a linguagem de máquina e armazena essa interpretação em um arquivo executável.\n",
    "\n",
    "**Interpretador:** traduz em tempo real o código escrito na linguagem especificada."
   ]
  },
  {
   "cell_type": "code",
   "execution_count": 3,
   "metadata": {
    "collapsed": false
   },
   "outputs": [
    {
     "name": "stdout",
     "output_type": "stream",
     "text": [
      "MDC de 68 e 199 é:  17\n"
     ]
    }
   ],
   "source": [
    "def Euclides(m, n):\n",
    "    r = m % n        # resto da divisão de m por n\n",
    "    while r != 0:    # enquanto o resto não for zero\n",
    "        m, n = n, r  # m recebe o valor de n, n recebe o valor de r\n",
    "        r = m % n    # calcula o novo resto\n",
    "    return n\n",
    "\n",
    "print('MDC de 68 e 199 é: ', Euclides(68,119))"
   ]
  },
  {
   "cell_type": "markdown",
   "metadata": {},
   "source": [
    "# Operações Básicas e Variáveis\n",
    "\n",
    "Assim como uma calculadora, o computador permite realizar operações artiméticas básicas e avançadas."
   ]
  },
  {
   "cell_type": "code",
   "execution_count": 12,
   "metadata": {
    "collapsed": false
   },
   "outputs": [
    {
     "name": "stdout",
     "output_type": "stream",
     "text": [
      "3\n",
      "1\n",
      "15\n",
      "3.5\n",
      "3\n",
      "8\n",
      "1\n"
     ]
    }
   ],
   "source": [
    "print(1+2)  # adição\n",
    "print(2-1)  # subtração\n",
    "print(3*5)  # multiplicação\n",
    "print(7/2)  # divisão\n",
    "print(7//2) # divisão inteira\n",
    "print(2**3) # exponenciação\n",
    "print(5%2)  # resto da divisão"
   ]
  },
  {
   "cell_type": "markdown",
   "metadata": {},
   "source": [
    "O *comando* `print()` imprime o resultado da operação contida entre os parênteses. O símbolo `#` representa comentários."
   ]
  },
  {
   "cell_type": "markdown",
   "metadata": {},
   "source": [
    "A ordem que as operações são executadas seguem uma ordem de precedência para evitar ambiguidade:\n",
    "\n",
    "1. Potência\n",
    "2. Multiplicação e Divisão (da esquerda para direita)\n",
    "3. Soma e Subtração (da esquerda para direita)"
   ]
  },
  {
   "cell_type": "code",
   "execution_count": 34,
   "metadata": {
    "collapsed": false
   },
   "outputs": [
    {
     "data": {
      "text/plain": [
       "(19, 19)"
      ]
     },
     "execution_count": 34,
     "metadata": {},
     "output_type": "execute_result"
    }
   ],
   "source": [
    "1 + 2*3**2, (1 + (2*(3**2)))"
   ]
  },
  {
   "cell_type": "markdown",
   "metadata": {},
   "source": [
    "A ordem de precedência pode ser alterada utilizando `()`."
   ]
  },
  {
   "cell_type": "code",
   "execution_count": 35,
   "metadata": {
    "collapsed": false
   },
   "outputs": [
    {
     "data": {
      "text/plain": [
       "(19, 27)"
      ]
     },
     "execution_count": 35,
     "metadata": {},
     "output_type": "execute_result"
    }
   ],
   "source": [
    "(1 + (2*(3**2))), (1 + 2)*(3**2)"
   ]
  },
  {
   "cell_type": "markdown",
   "metadata": {},
   "source": [
    "Além das operações básicas temos algumas operações mais complexas disponíveis.\n",
    "\n",
    "Precisamos indicar que queremos usar tais funções com o comando:\n",
    "\n",
    "```python\n",
    "import math\n",
    "```\n",
    "\n",
    "*Nota:* As funções matemáticas disponíveis podem ser consultadas na [documentação](https://docs.python.org/2/library/math.html)."
   ]
  },
  {
   "cell_type": "code",
   "execution_count": 38,
   "metadata": {
    "collapsed": false
   },
   "outputs": [
    {
     "name": "stdout",
     "output_type": "stream",
     "text": [
      "1.4142135623730951\n",
      "2.302585092994046\n",
      "2.718281828459045\n",
      "1.0\n",
      "-1.0\n"
     ]
    }
   ],
   "source": [
    "import math\n",
    "\n",
    "print(math.sqrt(2.0))           # raiz quadrada de 2\n",
    "print(math.log(10))             # ln(10)\n",
    "print(math.exp(1.0))            # e^1 \n",
    "print(math.log(math.exp(1.0)))  # ln(e)\n",
    "print(math.cos(math.pi))        # cos(pi)"
   ]
  },
  {
   "cell_type": "markdown",
   "metadata": {},
   "source": [
    "## **Exercício 01:** Calcule a razão áurea dada pela equação:\n",
    "\n",
    "$$ \\frac{1 + \\sqrt{5}}{2} $$"
   ]
  },
  {
   "cell_type": "code",
   "execution_count": 39,
   "metadata": {
    "collapsed": true
   },
   "outputs": [],
   "source": [
    "# Escreva o código nessa célula\n",
    "\n",
    "\n"
   ]
  },
  {
   "cell_type": "markdown",
   "metadata": {},
   "source": [
    "## **Exercício 02:** Calcule a entropia dada pela equação:\n",
    "\n",
    "$$ -p \\cdot \\log{p} - (1 - p) \\cdot \\log{1-p} $$\n",
    "\n",
    "## para $p = 0.5$"
   ]
  },
  {
   "cell_type": "code",
   "execution_count": null,
   "metadata": {
    "collapsed": true
   },
   "outputs": [],
   "source": [
    "# Escreva o código nessa célula\n",
    "\n",
    "\n"
   ]
  },
  {
   "cell_type": "markdown",
   "metadata": {},
   "source": [
    "## **Exercício 03:** Calcule a entropia dada pela equação:\n",
    "\n",
    "$$ -p \\cdot \\log{p} - (1 - p) \\cdot \\log{1-p} $$\n",
    "\n",
    "## para $p = 0.4$"
   ]
  },
  {
   "cell_type": "code",
   "execution_count": null,
   "metadata": {
    "collapsed": true
   },
   "outputs": [],
   "source": [
    "# Escreva o código nessa célula\n",
    "\n",
    "\n"
   ]
  },
  {
   "cell_type": "markdown",
   "metadata": {},
   "source": [
    "## **Exercício 04:** Calcule a entropia dada pela equação:\n",
    "\n",
    "$$ -p \\cdot \\log{p} - (1 - p) \\cdot \\log{1-p} $$\n",
    "\n",
    "## para $p = 0.0$"
   ]
  },
  {
   "cell_type": "code",
   "execution_count": null,
   "metadata": {
    "collapsed": true
   },
   "outputs": [],
   "source": [
    "# Escreva o código nessa célula\n",
    "\n",
    "\n"
   ]
  }
 ],
 "metadata": {
  "kernelspec": {
   "display_name": "Python [py3]",
   "language": "python",
   "name": "Python [py3]"
  },
  "language_info": {
   "codemirror_mode": {
    "name": "ipython",
    "version": 3
   },
   "file_extension": ".py",
   "mimetype": "text/x-python",
   "name": "python",
   "nbconvert_exporter": "python",
   "pygments_lexer": "ipython3",
   "version": "3.5.1"
  }
 },
 "nbformat": 4,
 "nbformat_minor": 0
}
